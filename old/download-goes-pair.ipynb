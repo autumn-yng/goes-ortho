{
 "cells": [
  {
   "cell_type": "markdown",
   "metadata": {},
   "source": [
    "***"
   ]
  },
  {
   "cell_type": "code",
   "execution_count": 1,
   "metadata": {},
   "outputs": [
    {
     "name": "stdout",
     "output_type": "stream",
     "text": [
      "\n",
      "======================================== goes-py =========================================\n",
      " A Python package can be useful to download dataset from goes satellite on AWS  0.2.1v\n",
      "==========================================================================================\n"
     ]
    }
   ],
   "source": [
    "import os\n",
    "from goespy.Downloader import ABI_Downloader # https://github.com/palexandremello/goes-py"
   ]
  },
  {
   "cell_type": "markdown",
   "metadata": {},
   "source": [
    "#### Set up AWS S3 bucket, date, time, product, and bands we want to download:\n",
    "* Download using goespy downloader utility\n",
    "* Band 14, infrared (~11.2um)"
   ]
  },
  {
   "cell_type": "code",
   "execution_count": 16,
   "metadata": {},
   "outputs": [],
   "source": [
    "# AWS S3 Buckets to search for GOES-16 and -17\n",
    "buckets = ['noaa-goes17']#['noaa-goes16','noaa-goes17']\n",
    "# Specify date, time, product, band (channel)\n",
    "year='2019'\n",
    "month='03'\n",
    "day='17'\n",
    "hour='21'\n",
    "product='ABI-L1b-RadC'\n",
    "channel='C01'\n",
    "# Local paths where data will be stored\n",
    "paths = [r'C:\\Users\\steve\\goes16']#['/home/jovyan/goes16', '/home/jovyan/goes17']\n",
    "filepath = []; # store filepaths of the files we download"
   ]
  },
  {
   "cell_type": "code",
   "execution_count": 17,
   "metadata": {},
   "outputs": [
    {
     "name": "stdout",
     "output_type": "stream",
     "text": [
      "Downloading... the product ABI-L1b-RadC \n",
      "Downloading dataset to... 21 UTC\n",
      "OR_ABI-L1b-RadC-M3C01_G17_s20190762157189_e20190762159502_c20190762159535.nc: [##########] 100%  14.269295 MB/14.269295 MB"
     ]
    }
   ],
   "source": [
    "# For each S3 bucket, download the corresponding observations\n",
    "for i in range(len(buckets)):\n",
    "    filepath.append('{}/{}/{}/{}/{}/{}/{}/'.format(paths[i],year,month,day,product,hour,channel))\n",
    "    if not os.path.exists(filepath[i]):\n",
    "        ABI = ABI_Downloader(buckets[i],year,month,day,hour,product,channel)"
   ]
  },
  {
   "cell_type": "code",
   "execution_count": null,
   "metadata": {},
   "outputs": [],
   "source": []
  }
 ],
 "metadata": {
  "kernelspec": {
   "display_name": "Python 3",
   "language": "python",
   "name": "python3"
  },
  "language_info": {
   "codemirror_mode": {
    "name": "ipython",
    "version": 3
   },
   "file_extension": ".py",
   "mimetype": "text/x-python",
   "name": "python",
   "nbconvert_exporter": "python",
   "pygments_lexer": "ipython3",
   "version": "3.6.7"
  }
 },
 "nbformat": 4,
 "nbformat_minor": 2
}
