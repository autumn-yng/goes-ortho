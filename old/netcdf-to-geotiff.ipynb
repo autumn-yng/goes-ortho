{
 "cells": [
  {
   "cell_type": "code",
   "execution_count": 1,
   "metadata": {},
   "outputs": [],
   "source": [
    "import rasterio as rio\n",
    "import numpy as np\n",
    "import numpy.ma as ma\n",
    "import xarray as xr\n",
    "import os\n",
    "from datetime import datetime, timedelta\n",
    "from pyproj import Proj"
   ]
  },
  {
   "cell_type": "markdown",
   "metadata": {},
   "source": [
    "#### Point to the directories with ABI data from each satellite and each band we want"
   ]
  },
  {
   "cell_type": "code",
   "execution_count": 55,
   "metadata": {},
   "outputs": [
    {
     "data": {
      "text/plain": [
       "['OR_ABI-L1b-RadC-M3C03_G16_s20183461857178_e20183461859551_c20183461859592.nc',\n",
       " 'OR_ABI-L1b-RadC-M3C03_G16_s20183461842178_e20183461844551_c20183461844594.nc',\n",
       " 'OR_ABI-L1b-RadC-M3C03_G16_s20183461827178_e20183461829551_c20183461829591.nc',\n",
       " 'OR_ABI-L1b-RadC-M3C03_G16_s20183461832178_e20183461834551_c20183461834595.nc',\n",
       " '.ipynb_checkpoints',\n",
       " 'OR_ABI-L1b-RadC-M3C03_G16_s20183461852178_e20183461854551_c20183461854593.nc',\n",
       " 'OR_ABI-L1b-RadC-M3C03_G16_s20183461807178_e20183461809551_c20183461809596.nc',\n",
       " 'OR_ABI-L1b-RadC-M3C03_G16_s20183461837178_e20183461839551_c20183461839595.nc',\n",
       " 'OR_ABI-L1b-RadC-M3C03_G16_s20183461822178_e20183461824551_c20183461824593.nc',\n",
       " 'OR_ABI-L1b-RadC-M3C03_G16_s20183461817178_e20183461819551_c20183461819595.nc',\n",
       " 'OR_ABI-L1b-RadC-M3C03_G16_s20183461812178_e20183461814551_c20183461814594.nc',\n",
       " 'OR_ABI-L1b-RadC-M3C03_G16_s20183461847178_e20183461849551_c20183461849594.nc',\n",
       " 'OR_ABI-L1b-RadC-M3C03_G16_s20183461802178_e20183461804551_c20183461804593.nc']"
      ]
     },
     "execution_count": 55,
     "metadata": {},
     "output_type": "execute_result"
    }
   ],
   "source": [
    "filepaths = ['/home/jovyan/goes16/2018/12/12/ABI-L1b-RadC/18/C02/','/home/jovyan/goes17/2018/12/12/ABI-L1b-RadC/18/C02/',\n",
    "             '/home/jovyan/goes16/2018/12/12/ABI-L1b-RadC/18/C03/','/home/jovyan/goes17/2018/12/12/ABI-L1b-RadC/18/C03/']\n",
    "file_list = os.listdir(filepaths[2])\n",
    "\n",
    "# listing the files for GOES-16, band 2 (red)\n",
    "file_list"
   ]
  },
  {
   "cell_type": "markdown",
   "metadata": {},
   "source": [
    "#### Open NetCDF dataset using xarray"
   ]
  },
  {
   "cell_type": "code",
   "execution_count": 56,
   "metadata": {},
   "outputs": [],
   "source": [
    "nc_file = filepaths[2] + file_list[2]\n",
    "conus = xr.open_dataset(nc_file)"
   ]
  },
  {
   "cell_type": "markdown",
   "metadata": {},
   "source": [
    "#### Look at the GOES Imager Projection information"
   ]
  },
  {
   "cell_type": "code",
   "execution_count": 57,
   "metadata": {},
   "outputs": [
    {
     "data": {
      "text/plain": [
       "<xarray.DataArray 'goes_imager_projection' ()>\n",
       "array(-2147483647, dtype=int32)\n",
       "Coordinates:\n",
       "    t        datetime64[ns] ...\n",
       "    y_image  float32 ...\n",
       "    x_image  float32 ...\n",
       "Attributes:\n",
       "    long_name:                       GOES-R ABI fixed grid projection\n",
       "    grid_mapping_name:               geostationary\n",
       "    perspective_point_height:        35786023.0\n",
       "    semi_major_axis:                 6378137.0\n",
       "    semi_minor_axis:                 6356752.31414\n",
       "    inverse_flattening:              298.2572221\n",
       "    latitude_of_projection_origin:   0.0\n",
       "    longitude_of_projection_origin:  -75.0\n",
       "    sweep_angle_axis:                x"
      ]
     },
     "execution_count": 57,
     "metadata": {},
     "output_type": "execute_result"
    }
   ],
   "source": [
    "conus.goes_imager_projection"
   ]
  },
  {
   "cell_type": "markdown",
   "metadata": {},
   "source": [
    "***\n",
    "#### Function for generating a pyproj object (and proj4 string):"
   ]
  },
  {
   "cell_type": "code",
   "execution_count": 58,
   "metadata": {},
   "outputs": [],
   "source": [
    "def getProj4string(goes_imager_projection):\n",
    "    '''make a proj4 string  and a pyproj geostationary map object from goes imager projection information'''\n",
    "    \n",
    "    h=goes_imager_projection.perspective_point_height #          Satellite height above ellipsoid\n",
    "    a=goes_imager_projection.semi_major_axis #                   Ellipsoid semi-major axis\n",
    "    rf=goes_imager_projection.inverse_flattening #               Ellipsoid flattening (describes semi-minor axis)\n",
    "    lon0=goes_imager_projection.longitude_of_projection_origin # Center longitude (GOES-East ~ -75.5)\n",
    "    lat0=goes_imager_projection.latitude_of_projection_origin #  Center latitude (0.0)\n",
    "    sweep=goes_imager_projection.sweep_angle_axis #              \"Sweep angle\" axis (x)\n",
    "    \n",
    "    # Make proj4 string\n",
    "    proj_string = '\"+proj=geos +ellps=GRS80 +h={h} +a={a} +rf={rf} +lon_0={lon0} +lat_0={lat0} +sweep={sweep}\"'.format(\n",
    "        h=h,a=a,rf=rf,lon0=lon0,lat0=lat0,sweep=sweep)\n",
    "    \n",
    "    # Use pyproj to define\n",
    "    p = Proj(proj='geos', h=h, lon_0=lon0, sweep=sweep)\n",
    "    \n",
    "    return proj_string, p"
   ]
  },
  {
   "cell_type": "code",
   "execution_count": 59,
   "metadata": {},
   "outputs": [
    {
     "name": "stdout",
     "output_type": "stream",
     "text": [
      "\"+proj=geos +ellps=GRS80 +h=35786023.0 +a=6378137.0 +rf=298.2572221 +lon_0=-75.0 +lat_0=0.0 +sweep=x\"\n",
      "pyproj.Proj('+units=m +proj=geos +h=35786023.0 +lon_0=-75.0 +sweep=x ', preserve_units=True)\n"
     ]
    }
   ],
   "source": [
    "# make a proj4 string and a pyproj geostationary map object from this file's projection information\n",
    "proj_string, p = getProj4string(conus.goes_imager_projection)\n",
    "print(proj_string)\n",
    "print(p)"
   ]
  },
  {
   "cell_type": "code",
   "execution_count": 60,
   "metadata": {},
   "outputs": [],
   "source": [
    "# Define a window around the Sierras containing Tuolumne Meadows:\n",
    "# (in degrees latitude and longitude)\n",
    "xmin = -120\n",
    "ymax = 38.4\n",
    "xmax = -118\n",
    "ymin = 37.4"
   ]
  },
  {
   "cell_type": "code",
   "execution_count": 61,
   "metadata": {},
   "outputs": [
    {
     "name": "stdout",
     "output_type": "stream",
     "text": [
      "Input file size is 5000, 3000\n",
      "0...10...20...30...40...50...60...70...80...90...100 - done.\n"
     ]
    }
   ],
   "source": [
    "# use gdal_translate to convert to a GeoTiff including this projection information\n",
    "tif_file = '{}.tif'.format(nc_file[:-3])\n",
    "!gdal_translate -of GTiff -a_srs $proj_string NETCDF:$nc_file:Rad  $tif_file"
   ]
  },
  {
   "cell_type": "code",
   "execution_count": 62,
   "metadata": {},
   "outputs": [
    {
     "name": "stdout",
     "output_type": "stream",
     "text": [
      "Creating output file that is 154P x 87L.\n",
      "Processing /home/jovyan/goes16/2018/12/12/ABI-L1b-RadC/18/C03/OR_ABI-L1b-RadC-M3C03_G16_s20183461827178_e20183461829551_c20183461829591.tif [1/1] : 0Using internal nodata values (e.g. 1023) for image /home/jovyan/goes16/2018/12/12/ABI-L1b-RadC/18/C03/OR_ABI-L1b-RadC-M3C03_G16_s20183461827178_e20183461829551_c20183461829591.tif.\n",
      "Copying nodata values from source /home/jovyan/goes16/2018/12/12/ABI-L1b-RadC/18/C03/OR_ABI-L1b-RadC-M3C03_G16_s20183461827178_e20183461829551_c20183461829591.tif to destination /home/jovyan/goes16/2018/12/12/ABI-L1b-RadC/18/C03/OR_ABI-L1b-RadC-M3C03_G16_s20183461827178_e20183461829551_c20183461829591_tuolumne.tif.\n",
      "...10...20...30...40...50...60...70...80...90...100 - done.\n"
     ]
    }
   ],
   "source": [
    "tif_file_cropped = '{}_tuolumne.tif'.format(tif_file[:-4])\n",
    "!gdalwarp -of GTiff -te $xmin $ymin $xmax $ymax -te_srs EPSG:4326 $tif_file $tif_file_cropped"
   ]
  },
  {
   "cell_type": "code",
   "execution_count": null,
   "metadata": {},
   "outputs": [],
   "source": []
  }
 ],
 "metadata": {
  "kernelspec": {
   "display_name": "Python 3",
   "language": "python",
   "name": "python3"
  },
  "language_info": {
   "codemirror_mode": {
    "name": "ipython",
    "version": 3
   },
   "file_extension": ".py",
   "mimetype": "text/x-python",
   "name": "python",
   "nbconvert_exporter": "python",
   "pygments_lexer": "ipython3",
   "version": "3.6.7"
  }
 },
 "nbformat": 4,
 "nbformat_minor": 2
}
