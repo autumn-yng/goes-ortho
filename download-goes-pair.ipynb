{
 "cells": [
  {
   "cell_type": "markdown",
   "metadata": {},
   "source": [
    "***"
   ]
  },
  {
   "cell_type": "code",
   "execution_count": 3,
   "metadata": {},
   "outputs": [
    {
     "name": "stdout",
     "output_type": "stream",
     "text": [
      "\n",
      "======================================== goes-py =========================================\n",
      " A Python package can be useful to download dataset from goes satellite on AWS  0.2.1v\n",
      "==========================================================================================\n"
     ]
    }
   ],
   "source": [
    "import os\n",
    "from goespy.Downloader import ABI_Downloader # https://github.com/palexandremello/goes-py"
   ]
  },
  {
   "cell_type": "markdown",
   "metadata": {},
   "source": [
    "#### Set up AWS S3 bucket, date, time, product, and bands we want to download:\n",
    "* Download using goespy downloader utility\n",
    "* Band 14, infrared (~11.2um)"
   ]
  },
  {
   "cell_type": "code",
   "execution_count": 6,
   "metadata": {},
   "outputs": [],
   "source": [
    "# AWS S3 Buckets to search for GOES-16 and -17\n",
    "buckets = ['noaa-goes16','noaa-goes17']\n",
    "# Specify date, time, product, band (channel)\n",
    "year='2018'\n",
    "month='12'\n",
    "day='12'\n",
    "hour='18'\n",
    "product='ABI-L1b-RadC'\n",
    "channel='C02'\n",
    "# Local paths where data will be stored\n",
    "paths = ['/home/jovyan/goes16', '/home/jovyan/goes17']\n",
    "filepath = []; # store filepaths of the files we download"
   ]
  },
  {
   "cell_type": "code",
   "execution_count": 7,
   "metadata": {},
   "outputs": [
    {
     "name": "stdout",
     "output_type": "stream",
     "text": [
      "Downloading... the product ABI-L1b-RadC \n",
      "Downloading dataset to... 18 UTC\n",
      "OR_ABI-L1b-RadC-M3C02_G16_s20183461857178_e20183461859551_c20183461859585.nc: [##########] 100%  79.232375 MB/79.232375 MBDownloading... the product ABI-L1b-RadC \n",
      "Downloading dataset to... 18 UTC\n",
      "OR_ABI-L1b-RadC-M3C02_G17_s20183461857189_e20183461859502_c20183461859525.nc: [##########] 100%  79.670031 MB/79.670031 MB"
     ]
    }
   ],
   "source": [
    "# For each S3 bucket, download the corresponding observations\n",
    "for i in range(len(buckets)):\n",
    "    filepath.append('{}/{}/{}/{}/{}/{}/{}/'.format(paths[i],year,month,day,product,hour,channel))\n",
    "    if not os.path.exists(filepath[i]):\n",
    "        ABI = ABI_Downloader(buckets[i],year,month,day,hour,product,channel)"
   ]
  },
  {
   "cell_type": "code",
   "execution_count": null,
   "metadata": {},
   "outputs": [],
   "source": []
  }
 ],
 "metadata": {
  "kernelspec": {
   "display_name": "Python [conda env:goes]",
   "language": "python",
   "name": "conda-env-goes-py"
  },
  "language_info": {
   "codemirror_mode": {
    "name": "ipython",
    "version": 3
   },
   "file_extension": ".py",
   "mimetype": "text/x-python",
   "name": "python",
   "nbconvert_exporter": "python",
   "pygments_lexer": "ipython3",
   "version": "3.6.7"
  }
 },
 "nbformat": 4,
 "nbformat_minor": 2
}
