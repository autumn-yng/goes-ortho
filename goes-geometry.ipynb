{
 "cells": [
  {
   "cell_type": "code",
   "execution_count": 1,
   "metadata": {},
   "outputs": [],
   "source": [
    "import numpy as np\n",
    "import pandas as pd\n",
    "import matplotlib.pyplot as plt\n",
    "import xarray as xr\n",
    "import rasterio as rio\n",
    "\n",
    "import warnings\n",
    "warnings.filterwarnings('ignore')"
   ]
  },
  {
   "cell_type": "code",
   "execution_count": 2,
   "metadata": {},
   "outputs": [],
   "source": [
    "# Set Plot font sizes\n",
    "SMALL_SIZE = 24\n",
    "MEDIUM_SIZE = 28\n",
    "BIGGER_SIZE = 36\n",
    "\n",
    "plt.rc('font', size=SMALL_SIZE)          # controls default text sizes\n",
    "plt.rc('axes', titlesize=BIGGER_SIZE)     # fontsize of the axes title\n",
    "plt.rc('axes', labelsize=MEDIUM_SIZE)    # fontsize of the x and y labels\n",
    "plt.rc('xtick', labelsize=SMALL_SIZE)    # fontsize of the tick labels\n",
    "plt.rc('ytick', labelsize=SMALL_SIZE)    # fontsize of the tick labels\n",
    "plt.rc('legend', fontsize=SMALL_SIZE)    # legend fontsize\n",
    "plt.rc('figure', titlesize=BIGGER_SIZE)  # fontsize of the figure title"
   ]
  },
  {
   "cell_type": "markdown",
   "metadata": {},
   "source": [
    "![grs-80.png](grs-80.png)"
   ]
  },
  {
   "cell_type": "code",
   "execution_count": 3,
   "metadata": {},
   "outputs": [],
   "source": [
    "def ABIangle2LonLat(x, y, H, req, rpol, lon_0_deg):\n",
    "    '''Find the latitude and longitude (degrees) of point P given x and y, ABI elevation and scanning angle (radians)'''\n",
    "    \n",
    "    # intermediate calculations\n",
    "    a = np.sin(x)**2 + ( np.cos(x)**2 * ( np.cos(y)**2 + ( req**2 / rpol**2 ) * np.sin(y)**2 ) )\n",
    "    b = -2 * H * np.cos(x) * np.cos(y)\n",
    "    c = H**2 - req**2\n",
    "\n",
    "    rs = ( -b - np.sqrt( b**2 - 4*a*c ) ) / ( 2 * a ) # distance from satellite point (S) to P\n",
    "    \n",
    "    # solve for rc on the ellipsoid\n",
    "    #_rc = c*cos(A) ± √[ a2 - c2 sin2 (A) ]\n",
    "    # add elevation z to rc\n",
    "    # compute new rs value\n",
    "    \n",
    "    Sx = rs * np.cos(x) * np.cos(y)\n",
    "    Sy = -rs * np.sin(x)\n",
    "    Sz = rs * np.cos(x) * np.sin(y)\n",
    "    \n",
    "    # calculate lat and lon\n",
    "    lat = np.arctan( ( req**2 / rpol**2 ) * ( Sz / np.sqrt( ( H - Sx )**2 + Sy**2 ) ) )\n",
    "    lat = np.degrees(lat) #*\n",
    "    lon = lon_0_deg - np.degrees( np.arctan( Sy / ( H - Sx )) )\n",
    "    \n",
    "    return (lon,lat)\n"
   ]
  },
  {
   "cell_type": "code",
   "execution_count": 4,
   "metadata": {},
   "outputs": [],
   "source": [
    "def LonLat2ABIangle(lon_deg, lat_deg, z, H, req, rpol, e, lon_0_deg):\n",
    "    '''Find the ABI elevation (y) and scanning (x) angles (radians) of point P , given a latitude and longitude (degrees)'''\n",
    "    \n",
    "    # convert lat and lon from degrees to radians\n",
    "    lon = np.radians(lon_deg)\n",
    "    lat = np.radians(lat_deg)\n",
    "    lon_0 = np.radians(lon_0_deg)\n",
    "      \n",
    "    # geocentric latitude\n",
    "    lat_geo = np.arctan( (rpol**2 / req**2) * np.tan(lat) )\n",
    "\n",
    "    # geocentric distance to point on the ellipsoid\n",
    "    _rc = rpol / np.sqrt(1 - (e**2)*(np.cos(lat_geo)**2)) # this is rc if point is on the ellipsoid\n",
    "    rc = _rc + z # this is rc if the point is offset from the ellipsoid by z (meters)\n",
    "\n",
    "    # intermediate calculations\n",
    "    Sx = H - rc * np.cos(lat_geo) * np.cos(lon - lon_0)\n",
    "    Sy = -rc * np.cos(lat_geo) * np.sin(lon - lon_0)\n",
    "    Sz = rc * np.sin(lat_geo)\n",
    "    \n",
    "    # calculate x and y scan angles\n",
    "    y = np.arctan( Sz / Sx )\n",
    "    x = np.arcsin( -Sy / np.sqrt( Sx**2 + Sy**2 + Sz**2 ) )\n",
    "    \n",
    "    ## determine if this point is visible to the satellite\n",
    "    #condition = ( H * (H-Sx) ) < ( Sy**2 + (req**2 / rpol**2)*Sz**2 )\n",
    "    #if condition == True:\n",
    "    #    print('Point at {},{} not visible to satellite.'.format(lon_deg,lat_deg))\n",
    "    #    return (np.nan, np.nan)\n",
    "    #else:\n",
    "    #    return (x,y)\n",
    "    return (x,y)\n",
    "    "
   ]
  },
  {
   "cell_type": "markdown",
   "metadata": {},
   "source": [
    "\n",
    "***\n",
    "#### Demonstrate these functions\n",
    "To begin, specify the ellipsoid model:"
   ]
  },
  {
   "cell_type": "code",
   "execution_count": 5,
   "metadata": {},
   "outputs": [],
   "source": [
    "# Values needed for geometry calculations\n",
    "req = 6378137 #g16_b02.goes_imager_projection.semi_major_axis\n",
    "rpol = 6356752.31414 #g16_b02.goes_imager_projection.semi_minor_axis\n",
    "H = 42164160 #g16_b02.goes_imager_projection.perspective_point_height + g16_b02.goes_imager_projection.semi_major_axis\n",
    "lon_0 = -137.2 #g16_b02.goes_imager_projection.longitude_of_projection_origin\n",
    "e = 0.0818191910435 # GRS-80 eccentricity"
   ]
  },
  {
   "cell_type": "markdown",
   "metadata": {},
   "source": [
    "#### Grand Mesa West:\n",
    "39.0339, -108.2140, 3033 m"
   ]
  },
  {
   "cell_type": "code",
   "execution_count": 6,
   "metadata": {},
   "outputs": [
    {
     "name": "stdout",
     "output_type": "stream",
     "text": [
      "Starting point lon, lat, z: -108.214 39.0339 3033\n",
      "Scan angle x, y: 0.06315553867134631 0.10529065601281326\n",
      "Erroneous lon, lat: -108.18184331290851 39.06227990426048\n",
      "Offset (km) (E-W, N-S): 3.5693922671549956 3.150169372912785\n"
     ]
    }
   ],
   "source": [
    "lat = 39.0339\n",
    "lon = -108.2140\n",
    "z = 3033\n",
    "print('Starting point lon, lat, z:',lon, lat, z)\n",
    "\n",
    "# find corresponding angles\n",
    "x, y = LonLat2ABIangle(lon,lat,z,H,req,rpol,e,lon_0)\n",
    "print('Scan angle x, y:',x, y)\n",
    "\n",
    "# use these to go back to our original lon and lat without taking elevation into account\n",
    "_lon, _lat = ABIangle2LonLat(x,y,H,req,rpol,lon_0)\n",
    "print('Erroneous lon, lat:',_lon, _lat)\n",
    "\n",
    "print('Offset (km) (E-W, N-S):',(_lon-lon)*111, (_lat-lat)*111)"
   ]
  },
  {
   "cell_type": "markdown",
   "metadata": {},
   "source": [
    "Determine what pixel we're in (\"2 km\" IR pixels are 56 micro-radians across):\n",
    "![pixel_coords.png](pixel_coords.png)"
   ]
  },
  {
   "cell_type": "code",
   "execution_count": 7,
   "metadata": {},
   "outputs": [
    {
     "name": "stdout",
     "output_type": "stream",
     "text": [
      "Pixel coords relative to origin (x,y): 1127.0 1881.0\n",
      "\n",
      "The center of this pixel is at (x,y): 0.063084 0.105364\n"
     ]
    }
   ],
   "source": [
    "x_px = x / (56e-6)\n",
    "y_px = y / (56e-6)\n",
    "\n",
    "\n",
    "print('Pixel coords relative to origin (x,y):',np.floor(x_px),np.ceil(y_px))\n",
    "\n",
    "\n",
    "center_x = (np.floor(x_px)-0.5)*(56e-6)\n",
    "center_y = (np.ceil(y_px)+0.5)*(56e-6)\n",
    "print('\\nThe center of this pixel is at (x,y):',center_x,center_y)"
   ]
  },
  {
   "cell_type": "markdown",
   "metadata": {},
   "source": [
    "#### Gaylor Pit, Tuolumne\n",
    "37.88175, -119.31212, 2811 m"
   ]
  },
  {
   "cell_type": "code",
   "execution_count": 8,
   "metadata": {},
   "outputs": [
    {
     "name": "stdout",
     "output_type": "stream",
     "text": [
      "Starting point lon, lat, z: -119.31212 37.88175 2811\n",
      "Scan angle x, y: 0.041206043100924364 0.10391420176004901\n",
      "Erroneous lon, lat: -119.29575228202233 37.906318006573315\n",
      "Offset (km) (E-W, N-S): 1.8168166955200888 2.7270487296383266\n"
     ]
    }
   ],
   "source": [
    "lat = 37.88175\n",
    "lon = -119.31212\n",
    "z = 2811\n",
    "print('Starting point lon, lat, z:',lon, lat, z)\n",
    "\n",
    "# find corresponding angles\n",
    "x, y = LonLat2ABIangle(lon,lat,z,H,req,rpol,e,lon_0)\n",
    "print('Scan angle x, y:',x, y)\n",
    "\n",
    "# use these to go back to our original lon and lat without taking elevation into account\n",
    "_lon, _lat = ABIangle2LonLat(x,y,H,req,rpol,lon_0)\n",
    "print('Erroneous lon, lat:',_lon, _lat)\n",
    "\n",
    "print('Offset (km) (E-W, N-S):',(_lon-lon)*111, (_lat-lat)*111)"
   ]
  },
  {
   "cell_type": "code",
   "execution_count": 9,
   "metadata": {},
   "outputs": [
    {
     "name": "stdout",
     "output_type": "stream",
     "text": [
      "Pixel coords relative to origin (x,y): 735.0 1856.0\n",
      "\n",
      "The center of this pixel is at (x,y): 0.041132 0.103964\n"
     ]
    }
   ],
   "source": [
    "x_px = x / (56e-6)\n",
    "y_px = y / (56e-6)\n",
    "\n",
    "\n",
    "print('Pixel coords relative to origin (x,y):',np.floor(x_px),np.ceil(y_px))\n",
    "\n",
    "\n",
    "center_x = (np.floor(x_px)-0.5)*(56e-6)\n",
    "center_y = (np.ceil(y_px)+0.5)*(56e-6)\n",
    "print('\\nThe center of this pixel is at (x,y):',center_x,center_y)"
   ]
  },
  {
   "cell_type": "markdown",
   "metadata": {},
   "source": [
    "#### Load a 30m DEM of Tuolumne"
   ]
  },
  {
   "cell_type": "code",
   "execution_count": 10,
   "metadata": {},
   "outputs": [],
   "source": [
    "dem = xr.open_rasterio('dem.tif')\n",
    "dem = dem.where(dem!=dem.nodatavals[0])[0,:,:] # replace nodata with nans\n"
   ]
  },
  {
   "cell_type": "code",
   "execution_count": 12,
   "metadata": {},
   "outputs": [
    {
     "name": "stdout",
     "output_type": "stream",
     "text": [
      "Starting point lon, lat, z: -119.31212 37.88175 2811\n",
      "Scan angle x, y: -0.09035872257477835 0.10075904750779954\n",
      "Erroneous lon, lat: -119.36570903570059 37.90851741595954\n",
      "Offset (km) (E-W, N-S): -5.948382962766246 2.9711831715089545\n",
      "Pixel coords relative to origin (x,y): -1614.0 1800.0\n",
      "\n",
      "The center of this pixel is at (x,y): -0.09041199999999999 0.100828\n",
      "Starting point lon, lat, z: -119.31212 37.88175 2811\n",
      "Scan angle x, y: 0.041206043100924364 0.10391420176004901\n",
      "Erroneous lon, lat: -119.29575228202233 37.906318006573315\n",
      "Offset (km) (E-W, N-S): 1.8168166955200888 2.7270487296383266\n",
      "Pixel coords relative to origin (x,y): 735.0 1856.0\n",
      "\n",
      "The center of this pixel is at (x,y): 0.041132 0.103964\n"
     ]
    }
   ],
   "source": [
    "for lon_0 in [-75.2, -137.2]:#-80, -90, -100, -110, -120, -130, -137.2]:\n",
    "    sat = 'Geostationary Orbit at {} Longitude'.format(lon_0)\n",
    "    if lon_0 == -75.2:\n",
    "        sat = 'GOES-East'\n",
    "    if lon_0 == -137.2:\n",
    "        sat = 'GOES-West'\n",
    "        \n",
    "    \n",
    "    lat = 37.88175\n",
    "    lon = -119.31212\n",
    "    z = 2811\n",
    "    print('Starting point lon, lat, z:',lon, lat, z)\n",
    "\n",
    "    # find corresponding angles\n",
    "    x, y = LonLat2ABIangle(lon,lat,z,H,req,rpol,e,lon_0)\n",
    "    print('Scan angle x, y:',x, y)\n",
    "\n",
    "    # use these to go back to our original lon and lat without taking elevation into account\n",
    "    _lon, _lat = ABIangle2LonLat(x,y,H,req,rpol,lon_0)\n",
    "    print('Erroneous lon, lat:',_lon, _lat)\n",
    "\n",
    "    print('Offset (km) (E-W, N-S):',(_lon-lon)*111, (_lat-lat)*111)\n",
    "    \n",
    "    \n",
    "    x_px = x / (56e-6)\n",
    "    y_px = y / (56e-6)\n",
    "\n",
    "\n",
    "    print('Pixel coords relative to origin (x,y):',np.floor(x_px),np.ceil(y_px))\n",
    "\n",
    "\n",
    "    center_x = (np.floor(x_px)-0.5)*(56e-6)\n",
    "    center_y = (np.ceil(y_px)+0.5)*(56e-6)\n",
    "    print('\\nThe center of this pixel is at (x,y):',center_x,center_y)\n",
    "    \n",
    "    X, Y = np.meshgrid(dem.x,dem.y)\n",
    "    Z = dem.values\n",
    "    abi_grid_x, abi_grid_y = LonLat2ABIangle(X,Y,Z,H,req,rpol,e,lon_0)\n",
    "\n",
    "\n",
    "    plt.figure(figsize=(15,10))\n",
    "    plt.plot(abi_grid_x,abi_grid_y,'.',c='k',alpha=0.003)\n",
    "    plt.plot(x,y,'^',c='k',markersize=23) # location of gaylor pit\n",
    "    plt.plot(x,y,'^',c='#eaec2c',markersize=20) # location of gaylor pit\n",
    "    #plt.plot([center_x-28e-6, center_x+28e-6,center_x+28e-6, center_x-28e-6, center_x-28e-6],\n",
    "    #         [center_y+28e-6, center_y+28e-6,center_y-28e-6, center_y-28e-6, center_y+28e-6],':r') # the pixel we're in\n",
    "    plt.xlim((x-0.0012,x+0.0004))\n",
    "    plt.ylim((y-0.0004,y+0.0007))\n",
    "    plt.title('View of the Tuolumne River Basin from {}'.format(sat))\n",
    "    plt.xlabel('ABI Azimuth Scan Angle (rad)')\n",
    "    plt.ylabel('ABI Elevation Scan Angle (rad)')\n",
    "    plt.savefig('tuolumne_GOES-R_ABI_parallax_30m_{}_GaylorPit_poster.png'.format(str(lon_0)),dpi=300,bbox_inches='tight')\n",
    "    plt.close()"
   ]
  },
  {
   "cell_type": "code",
   "execution_count": null,
   "metadata": {},
   "outputs": [],
   "source": [
    "def draw_px_footprint(dem,xs,ys):\n",
    "    \n",
    "    # Make a nan array of the same shape\n",
    "    dem_array = np.full([dem.shape[0], dem.shape[1]], np.nan)\n",
    "\n",
    "    # Find upper and lower value of the elevation band we want\n",
    "    half_width = band_width / 2\n",
    "    lower = elev_band - half_width\n",
    "    upper = elev_band + half_width\n",
    "\n",
    "    # Find the indices in the DEM data that correspond to our elevation band\n",
    "    elev_idx = np.where( (dem.x > lower) & (dem.x < upper) )\n",
    "\n",
    "    # Wherever our elevation band criteria is met, set that value to 1 in our elevation band array\n",
    "    elev_band_array[elev_idx] = 1\n",
    "    \n",
    "    # Return the elevation band array\n",
    "    return elev_band_array"
   ]
  },
  {
   "cell_type": "code",
   "execution_count": null,
   "metadata": {},
   "outputs": [],
   "source": [
    "elev_band_array = draw_elev_band(dem_,xs,ys)"
   ]
  },
  {
   "cell_type": "code",
   "execution_count": 138,
   "metadata": {},
   "outputs": [],
   "source": [
    "center_x = -0.090692\n",
    "center_y = 0.100772"
   ]
  },
  {
   "cell_type": "code",
   "execution_count": 136,
   "metadata": {},
   "outputs": [
    {
     "data": {
      "text/plain": [
       "<matplotlib.image.AxesImage at 0x1dc0ad0f400>"
      ]
     },
     "execution_count": 136,
     "metadata": {},
     "output_type": "execute_result"
    },
    {
     "data": {
      "image/png": "[encoded data removed]",
      "text/plain": [
       "<Figure size 432x288 with 1 Axes>"
      ]
     },
     "metadata": {
      "needs_background": "light"
     },
     "output_type": "display_data"
    }
   ],
   "source": [
    "x_cond = (abi_grid_x >= (center_x-(0.5*56e-6))) & (abi_grid_x <= (center_x+(0.5*56e-6)))\n",
    "y_cond = (abi_grid_y >= (center_y-(0.5*56e-6))) & (abi_grid_y <= (center_y+(0.5*56e-6)))\n",
    "pixel_of_interest = (x_cond & y_cond)\n",
    "plt.imshow(pixel_of_interest)"
   ]
  },
  {
   "cell_type": "code",
   "execution_count": 123,
   "metadata": {},
   "outputs": [
    {
     "data": {
      "text/plain": [
       "(0.0003115924696741881, 0.0003115924696868757)"
      ]
     },
     "execution_count": 123,
     "metadata": {},
     "output_type": "execute_result"
    }
   ],
   "source": [
    "dem.res"
   ]
  },
  {
   "cell_type": "code",
   "execution_count": 137,
   "metadata": {},
   "outputs": [],
   "source": [
    "# Open and write to this new file\n",
    "with rio.open('goes-pixel-footprint_30m_goeseast.tif', \n",
    "              'w', \n",
    "              driver='GTiff',\n",
    "              height=pixel_of_interest.shape[0],\n",
    "              width=pixel_of_interest.shape[1],\n",
    "              count=1, \n",
    "              dtype='int32',\n",
    "              nodata=-9999,\n",
    "              crs=dem.crs, \n",
    "              transform=dem.transform) as dst:\n",
    "\n",
    "    dst.write(pixel_of_interest.astype(int), 1)"
   ]
  },
  {
   "cell_type": "code",
   "execution_count": 138,
   "metadata": {},
   "outputs": [
    {
     "data": {
      "text/plain": [
       "-75.2"
      ]
     },
     "execution_count": 138,
     "metadata": {},
     "output_type": "execute_result"
    }
   ],
   "source": [
    "lon_0"
   ]
  },
  {
   "cell_type": "code",
   "execution_count": null,
   "metadata": {},
   "outputs": [],
   "source": []
  },
  {
   "cell_type": "code",
   "execution_count": null,
   "metadata": {},
   "outputs": [],
   "source": []
  },
  {
   "cell_type": "code",
   "execution_count": null,
   "metadata": {},
   "outputs": [],
   "source": []
  },
  {
   "cell_type": "code",
   "execution_count": null,
   "metadata": {},
   "outputs": [],
   "source": []
  },
  {
   "cell_type": "code",
   "execution_count": null,
   "metadata": {},
   "outputs": [],
   "source": []
  },
  {
   "cell_type": "code",
   "execution_count": null,
   "metadata": {},
   "outputs": [],
   "source": []
  }
 ],
 "metadata": {
  "kernelspec": {
   "display_name": "Python 3",
   "language": "python",
   "name": "python3"
  },
  "language_info": {
   "codemirror_mode": {
    "name": "ipython",
    "version": 3
   },
   "file_extension": ".py",
   "mimetype": "text/x-python",
   "name": "python",
   "nbconvert_exporter": "python",
   "pygments_lexer": "ipython3",
   "version": "3.6.7"
  }
 },
 "nbformat": 4,
 "nbformat_minor": 2
}
