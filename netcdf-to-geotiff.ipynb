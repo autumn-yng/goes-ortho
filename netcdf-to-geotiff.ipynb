{
 "cells": [
  {
   "cell_type": "code",
   "execution_count": 24,
   "metadata": {},
   "outputs": [],
   "source": [
    "import rasterio as rio\n",
    "import numpy as np\n",
    "import numpy.ma as ma\n",
    "import xarray as xr\n",
    "import os\n",
    "from datetime import datetime, timedelta\n",
    "from pyproj import Proj"
   ]
  },
  {
   "cell_type": "markdown",
   "metadata": {},
   "source": [
    "#### Point to the directories with ABI data from each satellite and each band we want"
   ]
  },
  {
   "cell_type": "code",
   "execution_count": 44,
   "metadata": {},
   "outputs": [
    {
     "data": {
      "text/plain": [
       "['OR_ABI-L1b-RadC-M3C02_G17_s20190131842190_e20190131844503_c20190131844528.nc',\n",
       " 'OR_ABI-L1b-RadC-M3C02_G17_s20190131802190_e20190131804562_c20190131804589.nc',\n",
       " 'OR_ABI-L1b-RadC-M3C02_G17_s20190131857190_e20190131859502_c20190131859527.nc',\n",
       " 'OR_ABI-L1b-RadC-M3C02_G17_s20190131822190_e20190131824562_c20190131824587.nc',\n",
       " 'OR_ABI-L1b-RadC-M3C02_G17_s20190131812190_e20190131814502_c20190131814526.nc',\n",
       " 'OR_ABI-L1b-RadC-M3C02_G17_s20190131852190_e20190131854562_c20190131854588.nc',\n",
       " 'OR_ABI-L1b-RadC-M3C02_G17_s20190131837190_e20190131839562_c20190131839587.nc',\n",
       " 'OR_ABI-L1b-RadC-M3C02_G17_s20190131832190_e20190131834562_c20190131834590.nc',\n",
       " 'OR_ABI-L1b-RadC-M3C02_G17_s20190131817190_e20190131819562_c20190131819588.nc',\n",
       " 'OR_ABI-L1b-RadC-M3C02_G17_s20190131807190_e20190131809562_c20190131809587.nc',\n",
       " 'OR_ABI-L1b-RadC-M3C02_G17_s20190131847190_e20190131849562_c20190131849589.nc',\n",
       " 'OR_ABI-L1b-RadC-M3C02_G17_s20190131827190_e20190131829502_c20190131829527.nc']"
      ]
     },
     "execution_count": 44,
     "metadata": {},
     "output_type": "execute_result"
    }
   ],
   "source": [
    "filepaths = ['/home/jovyan/goes16/2018/12/12/ABI-L1b-RadC/18/C02/','/home/jovyan/goes17/2018/12/12/ABI-L1b-RadC/18/C02/',\n",
    "             '/home/jovyan/goes16/2018/12/12/ABI-L1b-RadC/18/C03/','/home/jovyan/goes17/2018/12/12/ABI-L1b-RadC/18/C03/']\n",
    "file_list = os.listdir(filepaths[1])\n",
    "\n",
    "# listing the files for GOES-16, band 2 (red)\n",
    "file_list"
   ]
  },
  {
   "cell_type": "markdown",
   "metadata": {},
   "source": [
    "#### Open NetCDF dataset using xarray"
   ]
  },
  {
   "cell_type": "code",
   "execution_count": 50,
   "metadata": {},
   "outputs": [],
   "source": [
    "nc_file = filepaths[1] + file_list[3]\n",
    "conus = xr.open_dataset(nc_file)"
   ]
  },
  {
   "cell_type": "markdown",
   "metadata": {},
   "source": [
    "#### Look at the GOES Imager Projection information"
   ]
  },
  {
   "cell_type": "code",
   "execution_count": 51,
   "metadata": {},
   "outputs": [
    {
     "data": {
      "text/plain": [
       "<xarray.DataArray 'goes_imager_projection' ()>\n",
       "array(-2147483647, dtype=int32)\n",
       "Coordinates:\n",
       "    t        datetime64[ns] ...\n",
       "    y_image  float32 ...\n",
       "    x_image  float32 ...\n",
       "Attributes:\n",
       "    long_name:                       GOES-R ABI fixed grid projection\n",
       "    grid_mapping_name:               geostationary\n",
       "    perspective_point_height:        35786023.0\n",
       "    semi_major_axis:                 6378137.0\n",
       "    semi_minor_axis:                 6356752.31414\n",
       "    inverse_flattening:              298.2572221\n",
       "    latitude_of_projection_origin:   0.0\n",
       "    longitude_of_projection_origin:  -137.0\n",
       "    sweep_angle_axis:                x"
      ]
     },
     "execution_count": 51,
     "metadata": {},
     "output_type": "execute_result"
    }
   ],
   "source": [
    "conus.goes_imager_projection"
   ]
  },
  {
   "cell_type": "markdown",
   "metadata": {},
   "source": [
    "***\n",
    "#### Function for generating a pyproj object (and proj4 string):"
   ]
  },
  {
   "cell_type": "code",
   "execution_count": 52,
   "metadata": {},
   "outputs": [],
   "source": [
    "def getProj4string(goes_imager_projection):\n",
    "    '''make a proj4 string  and a pyproj geostationary map object from goes imager projection information'''\n",
    "    \n",
    "    h=goes_imager_projection.perspective_point_height #          Satellite height above ellipsoid\n",
    "    a=goes_imager_projection.semi_major_axis #                   Ellipsoid semi-major axis\n",
    "    rf=goes_imager_projection.inverse_flattening #               Ellipsoid flattening (describes semi-minor axis)\n",
    "    lon0=goes_imager_projection.longitude_of_projection_origin # Center longitude (GOES-East ~ -75.5)\n",
    "    lat0=goes_imager_projection.latitude_of_projection_origin #  Center latitude (0.0)\n",
    "    sweep=goes_imager_projection.sweep_angle_axis #              \"Sweep angle\" axis (x)\n",
    "    \n",
    "    # Make proj4 string\n",
    "    proj_string = '\"+proj=geos +ellps=GRS80 +h={h} +a={a} +rf={rf} +lon_0={lon0} +lat_0={lat0} +sweep={sweep}\"'.format(\n",
    "        h=h,a=a,rf=rf,lon0=lon0,lat0=lat0,sweep=sweep)\n",
    "    \n",
    "    # Use pyproj to define\n",
    "    p = Proj(proj='geos', h=h, lon_0=lon0, sweep=sweep)\n",
    "    \n",
    "    return proj_string, p"
   ]
  },
  {
   "cell_type": "code",
   "execution_count": 53,
   "metadata": {},
   "outputs": [
    {
     "name": "stdout",
     "output_type": "stream",
     "text": [
      "\"+proj=geos +ellps=GRS80 +h=35786023.0 +a=6378137.0 +rf=298.2572221 +lon_0=-137.0 +lat_0=0.0 +sweep=x\"\n",
      "pyproj.Proj('+units=m +proj=geos +h=35786023.0 +lon_0=-137.0 +sweep=x ', preserve_units=True)\n"
     ]
    }
   ],
   "source": [
    "# make a proj4 string and a pyproj geostationary map object from this file's projection information\n",
    "proj_string, p = getProj4string(conus.goes_imager_projection)\n",
    "print(proj_string)\n",
    "print(p)"
   ]
  },
  {
   "cell_type": "code",
   "execution_count": 55,
   "metadata": {},
   "outputs": [
    {
     "name": "stdout",
     "output_type": "stream",
     "text": [
      "Input file size is 10000, 6000\n",
      "0...10...20...30...40...50...60...70...80...90...100 - done.\n"
     ]
    }
   ],
   "source": [
    "# use gdal_translate to convert to a GeoTiff including this projection information\n",
    "tif_file = '{}.tif'.format(nc_file[:-3])\n",
    "!gdal_translate -of GTiff -a_srs $proj_string NETCDF:$nc_file:Rad  $tif_file"
   ]
  },
  {
   "cell_type": "code",
   "execution_count": null,
   "metadata": {},
   "outputs": [],
   "source": []
  },
  {
   "cell_type": "code",
   "execution_count": null,
   "metadata": {},
   "outputs": [],
   "source": []
  }
 ],
 "metadata": {
  "kernelspec": {
   "display_name": "Python 3",
   "language": "python",
   "name": "python3"
  },
  "language_info": {
   "codemirror_mode": {
    "name": "ipython",
    "version": 3
   },
   "file_extension": ".py",
   "mimetype": "text/x-python",
   "name": "python",
   "nbconvert_exporter": "python",
   "pygments_lexer": "ipython3",
   "version": "3.6.7"
  }
 },
 "nbformat": 4,
 "nbformat_minor": 2
}
