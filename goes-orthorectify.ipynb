{
 "cells": [
  {
   "cell_type": "markdown",
   "metadata": {},
   "source": [
    "# goes-orthorectify\n",
    "\n",
    "Orthorectify and clip a GOES ABI image using the mapping created by goes-make-orth-map"
   ]
  },
  {
   "cell_type": "code",
   "execution_count": 153,
   "metadata": {},
   "outputs": [],
   "source": [
    "import numpy as np\n",
    "import pandas as pd\n",
    "import matplotlib.pyplot as plt\n",
    "import xarray as xr\n",
    "import os\n",
    "\n",
    "#import warnings\n",
    "#warnings.filterwarnings('ignore')"
   ]
  },
  {
   "cell_type": "markdown",
   "metadata": {},
   "source": [
    "#### Open a GOES-16 image"
   ]
  },
  {
   "cell_type": "code",
   "execution_count": 156,
   "metadata": {},
   "outputs": [],
   "source": [
    "#image_path = r'\\\\j-lundquist-3.ce.washington.edu\\storage\\GOES\\21\\ABI-L1b-RadC\\15\\C02\\OR_ABI-L1b-RadC-M4C02_G16_s20171111520224_e20171111525027_c20171111525034.nc'\n",
    "image_path =  r'\\\\j-lundquist-3.ce.washington.edu\\storage\\GOES\\goes16\\2017\\04\\21\\ABI-L1b-RadC\\17\\C14\\OR_ABI-L1b-RadC-M4C14_G16_s20171111750224_e20171111755027_c20171111755074.nc'\n",
    "#image_path = r'\\\\j-lundquist-3.ce.washington.edu\\storage\\GOES\\goes16\\2019\\04\\16\\ABI-L1b-RadC\\18\\C02\\OR_ABI-L1b-RadC-M6C02_G16_s20191061801182_e20191061803555_c20191061803598.nc'"
   ]
  },
  {
   "cell_type": "code",
   "execution_count": 157,
   "metadata": {},
   "outputs": [],
   "source": [
    "image = xr.open_dataset(image_path)\n",
    "#print(image)"
   ]
  },
  {
   "cell_type": "markdown",
   "metadata": {},
   "source": [
    "#### Open the ortho mapping:"
   ]
  },
  {
   "cell_type": "code",
   "execution_count": 158,
   "metadata": {},
   "outputs": [],
   "source": [
    "tuol_test = xr.open_dataset('test_map_tuol_2017.nc')\n",
    "#print(tuol_test)"
   ]
  },
  {
   "cell_type": "markdown",
   "metadata": {},
   "source": [
    "#### Does the projection info in the image match our mapping?"
   ]
  },
  {
   "cell_type": "code",
   "execution_count": 159,
   "metadata": {},
   "outputs": [
    {
     "name": "stdout",
     "output_type": "stream",
     "text": [
      "-89.5\n",
      "-89.5\n"
     ]
    }
   ],
   "source": [
    "print(image.goes_imager_projection.longitude_of_projection_origin)\n",
    "print(tuol_test.longitude_of_projection_origin)"
   ]
  },
  {
   "cell_type": "markdown",
   "metadata": {},
   "source": [
    "#### Map and clip the image to the pixel map"
   ]
  },
  {
   "cell_type": "code",
   "execution_count": 160,
   "metadata": {},
   "outputs": [
    {
     "name": "stderr",
     "output_type": "stream",
     "text": [
      "C:\\Users\\steve\\Anaconda3\\envs\\rasterenv\\lib\\site-packages\\pandas\\core\\indexes\\base.py:2825: RuntimeWarning: invalid value encountered in less\n",
      "  indexer = np.where(op(left_distances, right_distances) |\n",
      "C:\\Users\\steve\\Anaconda3\\envs\\rasterenv\\lib\\site-packages\\pandas\\core\\indexes\\base.py:2825: RuntimeWarning: invalid value encountered in less_equal\n",
      "  indexer = np.where(op(left_distances, right_distances) |\n"
     ]
    },
    {
     "name": "stdout",
     "output_type": "stream",
     "text": [
      "(1501, 1995)\n"
     ]
    },
    {
     "data": {
      "text/plain": [
       "<matplotlib.colorbar.Colorbar at 0x1d4f3987a90>"
      ]
     },
     "execution_count": 160,
     "metadata": {},
     "output_type": "execute_result"
    },
    {
     "data": {
      "image/png": "[encoded data removed]",
      "text/plain": [
       "<Figure size 432x288 with 2 Axes>"
      ]
     },
     "metadata": {
      "needs_background": "light"
     },
     "output_type": "display_data"
    }
   ],
   "source": [
    "# this finds the nearest x and y in the GOES ABI image for each DEM grid cell and returns the Rad values\n",
    "# in the same shape and size as the original DEM\n",
    "rad_values = image.sel(x=tuol_test.dem_px_angle_x, y=tuol_test.dem_px_angle_y, method='nearest').Rad.values\n",
    "print(rad_values.shape)\n",
    "plt.imshow(rad_values, cmap='Greys_r')\n",
    "plt.colorbar()"
   ]
  },
  {
   "cell_type": "markdown",
   "metadata": {},
   "source": [
    "#### Save this out as a GeoTIFF for now"
   ]
  },
  {
   "cell_type": "code",
   "execution_count": 161,
   "metadata": {},
   "outputs": [],
   "source": [
    "dem_filename = 'dem.tif'\n",
    "dem = rio.open(dem_filename)\n",
    "\n",
    "import rasterio as rio\n",
    "# Open and write to this new file\n",
    "with rio.open('test_ortho3.tif', \n",
    "              'w', \n",
    "              driver='GTiff',\n",
    "              height=rad_values.shape[0],\n",
    "              width=rad_values.shape[1],\n",
    "              count=1, \n",
    "              dtype='float32',\n",
    "              nodata=-9999,\n",
    "              crs=dem.crs, \n",
    "              transform=dem.transform) as dst:\n",
    "\n",
    "    dst.write(rad_values, 1)"
   ]
  },
  {
   "cell_type": "markdown",
   "metadata": {},
   "source": [
    "Function for making a quick elevation versus radiance plot for the IR channels"
   ]
  },
  {
   "cell_type": "code",
   "execution_count": 148,
   "metadata": {},
   "outputs": [],
   "source": [
    "def make_elev_rad_plot(fname,rad_values):\n",
    "    rad_da = xr.DataArray(rad_values, \n",
    "                      dims=('y','x'),\n",
    "                      coords={'longitude': (['x'], tuol_test.longitude),\n",
    "                              'latitude': (['y'], tuol_test.latitude)})\n",
    "    #rad_da.plot(x='longitude', y='latitude')\n",
    "    tuol_test['rad'] = rad_da\n",
    "    plt.plot(tuol_test.rad,tuol_test.elevation,'.',c='tab:blue',alpha=0.01);\n",
    "    plt.xlabel('Radiance')\n",
    "    plt.ylabel('Elevation')\n",
    "    plt.xlim((50,100))\n",
    "    plt.savefig(fname+'_elev_vs_radiance.jpg')\n",
    "    plt.close()"
   ]
  },
  {
   "cell_type": "markdown",
   "metadata": {},
   "source": [
    "***\n",
    "\n",
    "## Orthorectify a time series of GOES images"
   ]
  },
  {
   "cell_type": "code",
   "execution_count": 149,
   "metadata": {},
   "outputs": [],
   "source": [
    "def getListOfFiles(dirName):\n",
    "    # create a list of file and sub directories \n",
    "    # names in the given directory \n",
    "    # https://thispointer.com/python-how-to-get-list-of-files-in-directory-and-sub-directories/\n",
    "    listOfFile = os.listdir(dirName)\n",
    "    allFiles = list()\n",
    "    # Iterate over all the entries\n",
    "    for entry in listOfFile:\n",
    "        # Create full path\n",
    "        fullPath = os.path.join(dirName, entry)\n",
    "        # If entry is a directory then get the list of files in this directory \n",
    "        if os.path.isdir(fullPath):\n",
    "            allFiles = allFiles + getListOfFiles(fullPath)\n",
    "        else:\n",
    "            allFiles.append(fullPath)\n",
    "                \n",
    "    return allFiles "
   ]
  },
  {
   "cell_type": "code",
   "execution_count": 150,
   "metadata": {},
   "outputs": [
    {
     "name": "stdout",
     "output_type": "stream",
     "text": [
      "Load all observations from the directory provided\n"
     ]
    }
   ],
   "source": [
    "#  all the observations from a directory path\n",
    "path = r'\\\\j-lundquist-3.ce.washington.edu\\storage\\GOES\\goes16\\2017\\04\\21'\n",
    "print('Load all observations from the directory provided')\n",
    "file_list = []\n",
    "try:\n",
    "    file_list.append(getListOfFiles(path))\n",
    "except FileNotFoundError:\n",
    "    print('Could not find files at {}'.format(path))"
   ]
  },
  {
   "cell_type": "code",
   "execution_count": 151,
   "metadata": {},
   "outputs": [],
   "source": [
    "file_list = file_list[0]"
   ]
  },
  {
   "cell_type": "code",
   "execution_count": 152,
   "metadata": {},
   "outputs": [
    {
     "name": "stdout",
     "output_type": "stream",
     "text": [
      "For each file, orthorectify and output a thumbnail image\n"
     ]
    },
    {
     "name": "stderr",
     "output_type": "stream",
     "text": [
      "C:\\Users\\steve\\Anaconda3\\envs\\rasterenv\\lib\\site-packages\\pandas\\core\\indexes\\base.py:2825: RuntimeWarning: invalid value encountered in less\n",
      "  indexer = np.where(op(left_distances, right_distances) |\n",
      "C:\\Users\\steve\\Anaconda3\\envs\\rasterenv\\lib\\site-packages\\pandas\\core\\indexes\\base.py:2825: RuntimeWarning: invalid value encountered in less_equal\n",
      "  indexer = np.where(op(left_distances, right_distances) |\n"
     ]
    },
    {
     "name": "stdout",
     "output_type": "stream",
     "text": [
      "(1501, 1995)\n"
     ]
    },
    {
     "name": "stderr",
     "output_type": "stream",
     "text": [
      "C:\\Users\\steve\\Anaconda3\\envs\\rasterenv\\lib\\site-packages\\ipykernel_launcher.py:14: UserWarning: Tight layout not applied. The left and right margins cannot be made large enough to accommodate all axes decorations. \n",
      "  \n",
      "C:\\Users\\steve\\Anaconda3\\envs\\rasterenv\\lib\\site-packages\\pandas\\core\\indexes\\base.py:2825: RuntimeWarning: invalid value encountered in less\n",
      "  indexer = np.where(op(left_distances, right_distances) |\n",
      "C:\\Users\\steve\\Anaconda3\\envs\\rasterenv\\lib\\site-packages\\pandas\\core\\indexes\\base.py:2825: RuntimeWarning: invalid value encountered in less_equal\n",
      "  indexer = np.where(op(left_distances, right_distances) |\n"
     ]
    },
    {
     "name": "stdout",
     "output_type": "stream",
     "text": [
      "(1501, 1995)\n"
     ]
    },
    {
     "name": "stderr",
     "output_type": "stream",
     "text": [
      "C:\\Users\\steve\\Anaconda3\\envs\\rasterenv\\lib\\site-packages\\ipykernel_launcher.py:14: UserWarning: Tight layout not applied. The left and right margins cannot be made large enough to accommodate all axes decorations. \n",
      "  \n",
      "C:\\Users\\steve\\Anaconda3\\envs\\rasterenv\\lib\\site-packages\\pandas\\core\\indexes\\base.py:2825: RuntimeWarning: invalid value encountered in less\n",
      "  indexer = np.where(op(left_distances, right_distances) |\n",
      "C:\\Users\\steve\\Anaconda3\\envs\\rasterenv\\lib\\site-packages\\pandas\\core\\indexes\\base.py:2825: RuntimeWarning: invalid value encountered in less_equal\n",
      "  indexer = np.where(op(left_distances, right_distances) |\n"
     ]
    },
    {
     "name": "stdout",
     "output_type": "stream",
     "text": [
      "(1501, 1995)\n"
     ]
    },
    {
     "name": "stderr",
     "output_type": "stream",
     "text": [
      "C:\\Users\\steve\\Anaconda3\\envs\\rasterenv\\lib\\site-packages\\ipykernel_launcher.py:14: UserWarning: Tight layout not applied. The left and right margins cannot be made large enough to accommodate all axes decorations. \n",
      "  \n",
      "C:\\Users\\steve\\Anaconda3\\envs\\rasterenv\\lib\\site-packages\\pandas\\core\\indexes\\base.py:2825: RuntimeWarning: invalid value encountered in less\n",
      "  indexer = np.where(op(left_distances, right_distances) |\n",
      "C:\\Users\\steve\\Anaconda3\\envs\\rasterenv\\lib\\site-packages\\pandas\\core\\indexes\\base.py:2825: RuntimeWarning: invalid value encountered in less_equal\n",
      "  indexer = np.where(op(left_distances, right_distances) |\n"
     ]
    },
    {
     "name": "stdout",
     "output_type": "stream",
     "text": [
      "(1501, 1995)\n"
     ]
    },
    {
     "name": "stderr",
     "output_type": "stream",
     "text": [
      "C:\\Users\\steve\\Anaconda3\\envs\\rasterenv\\lib\\site-packages\\ipykernel_launcher.py:14: UserWarning: Tight layout not applied. The left and right margins cannot be made large enough to accommodate all axes decorations. \n",
      "  \n",
      "C:\\Users\\steve\\Anaconda3\\envs\\rasterenv\\lib\\site-packages\\pandas\\core\\indexes\\base.py:2825: RuntimeWarning: invalid value encountered in less\n",
      "  indexer = np.where(op(left_distances, right_distances) |\n",
      "C:\\Users\\steve\\Anaconda3\\envs\\rasterenv\\lib\\site-packages\\pandas\\core\\indexes\\base.py:2825: RuntimeWarning: invalid value encountered in less_equal\n",
      "  indexer = np.where(op(left_distances, right_distances) |\n"
     ]
    },
    {
     "name": "stdout",
     "output_type": "stream",
     "text": [
      "(1501, 1995)\n"
     ]
    },
    {
     "name": "stderr",
     "output_type": "stream",
     "text": [
      "C:\\Users\\steve\\Anaconda3\\envs\\rasterenv\\lib\\site-packages\\ipykernel_launcher.py:14: UserWarning: Tight layout not applied. The left and right margins cannot be made large enough to accommodate all axes decorations. \n",
      "  \n",
      "C:\\Users\\steve\\Anaconda3\\envs\\rasterenv\\lib\\site-packages\\pandas\\core\\indexes\\base.py:2825: RuntimeWarning: invalid value encountered in less\n",
      "  indexer = np.where(op(left_distances, right_distances) |\n",
      "C:\\Users\\steve\\Anaconda3\\envs\\rasterenv\\lib\\site-packages\\pandas\\core\\indexes\\base.py:2825: RuntimeWarning: invalid value encountered in less_equal\n",
      "  indexer = np.where(op(left_distances, right_distances) |\n"
     ]
    },
    {
     "name": "stdout",
     "output_type": "stream",
     "text": [
      "(1501, 1995)\n"
     ]
    },
    {
     "name": "stderr",
     "output_type": "stream",
     "text": [
      "C:\\Users\\steve\\Anaconda3\\envs\\rasterenv\\lib\\site-packages\\ipykernel_launcher.py:14: UserWarning: Tight layout not applied. The left and right margins cannot be made large enough to accommodate all axes decorations. \n",
      "  \n",
      "C:\\Users\\steve\\Anaconda3\\envs\\rasterenv\\lib\\site-packages\\pandas\\core\\indexes\\base.py:2825: RuntimeWarning: invalid value encountered in less\n",
      "  indexer = np.where(op(left_distances, right_distances) |\n",
      "C:\\Users\\steve\\Anaconda3\\envs\\rasterenv\\lib\\site-packages\\pandas\\core\\indexes\\base.py:2825: RuntimeWarning: invalid value encountered in less_equal\n",
      "  indexer = np.where(op(left_distances, right_distances) |\n"
     ]
    },
    {
     "name": "stdout",
     "output_type": "stream",
     "text": [
      "(1501, 1995)\n"
     ]
    },
    {
     "name": "stderr",
     "output_type": "stream",
     "text": [
      "C:\\Users\\steve\\Anaconda3\\envs\\rasterenv\\lib\\site-packages\\ipykernel_launcher.py:14: UserWarning: Tight layout not applied. The left and right margins cannot be made large enough to accommodate all axes decorations. \n",
      "  \n",
      "C:\\Users\\steve\\Anaconda3\\envs\\rasterenv\\lib\\site-packages\\pandas\\core\\indexes\\base.py:2825: RuntimeWarning: invalid value encountered in less\n",
      "  indexer = np.where(op(left_distances, right_distances) |\n",
      "C:\\Users\\steve\\Anaconda3\\envs\\rasterenv\\lib\\site-packages\\pandas\\core\\indexes\\base.py:2825: RuntimeWarning: invalid value encountered in less_equal\n",
      "  indexer = np.where(op(left_distances, right_distances) |\n"
     ]
    },
    {
     "name": "stdout",
     "output_type": "stream",
     "text": [
      "(1501, 1995)\n"
     ]
    },
    {
     "name": "stderr",
     "output_type": "stream",
     "text": [
      "C:\\Users\\steve\\Anaconda3\\envs\\rasterenv\\lib\\site-packages\\ipykernel_launcher.py:14: UserWarning: Tight layout not applied. The left and right margins cannot be made large enough to accommodate all axes decorations. \n",
      "  \n",
      "C:\\Users\\steve\\Anaconda3\\envs\\rasterenv\\lib\\site-packages\\pandas\\core\\indexes\\base.py:2825: RuntimeWarning: invalid value encountered in less\n",
      "  indexer = np.where(op(left_distances, right_distances) |\n",
      "C:\\Users\\steve\\Anaconda3\\envs\\rasterenv\\lib\\site-packages\\pandas\\core\\indexes\\base.py:2825: RuntimeWarning: invalid value encountered in less_equal\n",
      "  indexer = np.where(op(left_distances, right_distances) |\n"
     ]
    },
    {
     "name": "stdout",
     "output_type": "stream",
     "text": [
      "(1501, 1995)\n"
     ]
    },
    {
     "name": "stderr",
     "output_type": "stream",
     "text": [
      "C:\\Users\\steve\\Anaconda3\\envs\\rasterenv\\lib\\site-packages\\ipykernel_launcher.py:14: UserWarning: Tight layout not applied. The left and right margins cannot be made large enough to accommodate all axes decorations. \n",
      "  \n",
      "C:\\Users\\steve\\Anaconda3\\envs\\rasterenv\\lib\\site-packages\\pandas\\core\\indexes\\base.py:2825: RuntimeWarning: invalid value encountered in less\n",
      "  indexer = np.where(op(left_distances, right_distances) |\n",
      "C:\\Users\\steve\\Anaconda3\\envs\\rasterenv\\lib\\site-packages\\pandas\\core\\indexes\\base.py:2825: RuntimeWarning: invalid value encountered in less_equal\n",
      "  indexer = np.where(op(left_distances, right_distances) |\n"
     ]
    },
    {
     "name": "stdout",
     "output_type": "stream",
     "text": [
      "(1501, 1995)\n"
     ]
    },
    {
     "name": "stderr",
     "output_type": "stream",
     "text": [
      "C:\\Users\\steve\\Anaconda3\\envs\\rasterenv\\lib\\site-packages\\ipykernel_launcher.py:14: UserWarning: Tight layout not applied. The left and right margins cannot be made large enough to accommodate all axes decorations. \n",
      "  \n",
      "C:\\Users\\steve\\Anaconda3\\envs\\rasterenv\\lib\\site-packages\\pandas\\core\\indexes\\base.py:2825: RuntimeWarning: invalid value encountered in less\n",
      "  indexer = np.where(op(left_distances, right_distances) |\n",
      "C:\\Users\\steve\\Anaconda3\\envs\\rasterenv\\lib\\site-packages\\pandas\\core\\indexes\\base.py:2825: RuntimeWarning: invalid value encountered in less_equal\n",
      "  indexer = np.where(op(left_distances, right_distances) |\n"
     ]
    },
    {
     "name": "stdout",
     "output_type": "stream",
     "text": [
      "(1501, 1995)\n"
     ]
    },
    {
     "name": "stderr",
     "output_type": "stream",
     "text": [
      "C:\\Users\\steve\\Anaconda3\\envs\\rasterenv\\lib\\site-packages\\ipykernel_launcher.py:14: UserWarning: Tight layout not applied. The left and right margins cannot be made large enough to accommodate all axes decorations. \n",
      "  \n",
      "C:\\Users\\steve\\Anaconda3\\envs\\rasterenv\\lib\\site-packages\\pandas\\core\\indexes\\base.py:2825: RuntimeWarning: invalid value encountered in less\n",
      "  indexer = np.where(op(left_distances, right_distances) |\n",
      "C:\\Users\\steve\\Anaconda3\\envs\\rasterenv\\lib\\site-packages\\pandas\\core\\indexes\\base.py:2825: RuntimeWarning: invalid value encountered in less_equal\n",
      "  indexer = np.where(op(left_distances, right_distances) |\n"
     ]
    },
    {
     "name": "stdout",
     "output_type": "stream",
     "text": [
      "(1501, 1995)\n"
     ]
    },
    {
     "name": "stderr",
     "output_type": "stream",
     "text": [
      "C:\\Users\\steve\\Anaconda3\\envs\\rasterenv\\lib\\site-packages\\ipykernel_launcher.py:14: UserWarning: Tight layout not applied. The left and right margins cannot be made large enough to accommodate all axes decorations. \n",
      "  \n",
      "C:\\Users\\steve\\Anaconda3\\envs\\rasterenv\\lib\\site-packages\\pandas\\core\\indexes\\base.py:2825: RuntimeWarning: invalid value encountered in less\n",
      "  indexer = np.where(op(left_distances, right_distances) |\n",
      "C:\\Users\\steve\\Anaconda3\\envs\\rasterenv\\lib\\site-packages\\pandas\\core\\indexes\\base.py:2825: RuntimeWarning: invalid value encountered in less_equal\n",
      "  indexer = np.where(op(left_distances, right_distances) |\n"
     ]
    },
    {
     "name": "stdout",
     "output_type": "stream",
     "text": [
      "(1501, 1995)\n"
     ]
    },
    {
     "name": "stderr",
     "output_type": "stream",
     "text": [
      "C:\\Users\\steve\\Anaconda3\\envs\\rasterenv\\lib\\site-packages\\ipykernel_launcher.py:14: UserWarning: Tight layout not applied. The left and right margins cannot be made large enough to accommodate all axes decorations. \n",
      "  \n",
      "C:\\Users\\steve\\Anaconda3\\envs\\rasterenv\\lib\\site-packages\\pandas\\core\\indexes\\base.py:2825: RuntimeWarning: invalid value encountered in less\n",
      "  indexer = np.where(op(left_distances, right_distances) |\n",
      "C:\\Users\\steve\\Anaconda3\\envs\\rasterenv\\lib\\site-packages\\pandas\\core\\indexes\\base.py:2825: RuntimeWarning: invalid value encountered in less_equal\n",
      "  indexer = np.where(op(left_distances, right_distances) |\n"
     ]
    },
    {
     "name": "stdout",
     "output_type": "stream",
     "text": [
      "(1501, 1995)\n"
     ]
    },
    {
     "name": "stderr",
     "output_type": "stream",
     "text": [
      "C:\\Users\\steve\\Anaconda3\\envs\\rasterenv\\lib\\site-packages\\ipykernel_launcher.py:14: UserWarning: Tight layout not applied. The left and right margins cannot be made large enough to accommodate all axes decorations. \n",
      "  \n",
      "C:\\Users\\steve\\Anaconda3\\envs\\rasterenv\\lib\\site-packages\\pandas\\core\\indexes\\base.py:2825: RuntimeWarning: invalid value encountered in less\n",
      "  indexer = np.where(op(left_distances, right_distances) |\n",
      "C:\\Users\\steve\\Anaconda3\\envs\\rasterenv\\lib\\site-packages\\pandas\\core\\indexes\\base.py:2825: RuntimeWarning: invalid value encountered in less_equal\n",
      "  indexer = np.where(op(left_distances, right_distances) |\n"
     ]
    },
    {
     "name": "stdout",
     "output_type": "stream",
     "text": [
      "(1501, 1995)\n"
     ]
    },
    {
     "name": "stderr",
     "output_type": "stream",
     "text": [
      "C:\\Users\\steve\\Anaconda3\\envs\\rasterenv\\lib\\site-packages\\ipykernel_launcher.py:14: UserWarning: Tight layout not applied. The left and right margins cannot be made large enough to accommodate all axes decorations. \n",
      "  \n",
      "C:\\Users\\steve\\Anaconda3\\envs\\rasterenv\\lib\\site-packages\\pandas\\core\\indexes\\base.py:2825: RuntimeWarning: invalid value encountered in less\n",
      "  indexer = np.where(op(left_distances, right_distances) |\n",
      "C:\\Users\\steve\\Anaconda3\\envs\\rasterenv\\lib\\site-packages\\pandas\\core\\indexes\\base.py:2825: RuntimeWarning: invalid value encountered in less_equal\n",
      "  indexer = np.where(op(left_distances, right_distances) |\n"
     ]
    },
    {
     "name": "stdout",
     "output_type": "stream",
     "text": [
      "(1501, 1995)\n"
     ]
    },
    {
     "name": "stderr",
     "output_type": "stream",
     "text": [
      "C:\\Users\\steve\\Anaconda3\\envs\\rasterenv\\lib\\site-packages\\ipykernel_launcher.py:14: UserWarning: Tight layout not applied. The left and right margins cannot be made large enough to accommodate all axes decorations. \n",
      "  \n",
      "C:\\Users\\steve\\Anaconda3\\envs\\rasterenv\\lib\\site-packages\\pandas\\core\\indexes\\base.py:2825: RuntimeWarning: invalid value encountered in less\n",
      "  indexer = np.where(op(left_distances, right_distances) |\n",
      "C:\\Users\\steve\\Anaconda3\\envs\\rasterenv\\lib\\site-packages\\pandas\\core\\indexes\\base.py:2825: RuntimeWarning: invalid value encountered in less_equal\n",
      "  indexer = np.where(op(left_distances, right_distances) |\n"
     ]
    },
    {
     "name": "stdout",
     "output_type": "stream",
     "text": [
      "(1501, 1995)\n"
     ]
    },
    {
     "name": "stderr",
     "output_type": "stream",
     "text": [
      "C:\\Users\\steve\\Anaconda3\\envs\\rasterenv\\lib\\site-packages\\ipykernel_launcher.py:14: UserWarning: Tight layout not applied. The left and right margins cannot be made large enough to accommodate all axes decorations. \n",
      "  \n",
      "C:\\Users\\steve\\Anaconda3\\envs\\rasterenv\\lib\\site-packages\\pandas\\core\\indexes\\base.py:2825: RuntimeWarning: invalid value encountered in less\n",
      "  indexer = np.where(op(left_distances, right_distances) |\n",
      "C:\\Users\\steve\\Anaconda3\\envs\\rasterenv\\lib\\site-packages\\pandas\\core\\indexes\\base.py:2825: RuntimeWarning: invalid value encountered in less_equal\n",
      "  indexer = np.where(op(left_distances, right_distances) |\n"
     ]
    },
    {
     "name": "stdout",
     "output_type": "stream",
     "text": [
      "(1501, 1995)\n"
     ]
    },
    {
     "name": "stderr",
     "output_type": "stream",
     "text": [
      "C:\\Users\\steve\\Anaconda3\\envs\\rasterenv\\lib\\site-packages\\ipykernel_launcher.py:14: UserWarning: Tight layout not applied. The left and right margins cannot be made large enough to accommodate all axes decorations. \n",
      "  \n",
      "C:\\Users\\steve\\Anaconda3\\envs\\rasterenv\\lib\\site-packages\\pandas\\core\\indexes\\base.py:2825: RuntimeWarning: invalid value encountered in less\n",
      "  indexer = np.where(op(left_distances, right_distances) |\n",
      "C:\\Users\\steve\\Anaconda3\\envs\\rasterenv\\lib\\site-packages\\pandas\\core\\indexes\\base.py:2825: RuntimeWarning: invalid value encountered in less_equal\n",
      "  indexer = np.where(op(left_distances, right_distances) |\n"
     ]
    },
    {
     "name": "stdout",
     "output_type": "stream",
     "text": [
      "(1501, 1995)\n"
     ]
    },
    {
     "name": "stderr",
     "output_type": "stream",
     "text": [
      "C:\\Users\\steve\\Anaconda3\\envs\\rasterenv\\lib\\site-packages\\ipykernel_launcher.py:14: UserWarning: Tight layout not applied. The left and right margins cannot be made large enough to accommodate all axes decorations. \n",
      "  \n",
      "C:\\Users\\steve\\Anaconda3\\envs\\rasterenv\\lib\\site-packages\\pandas\\core\\indexes\\base.py:2825: RuntimeWarning: invalid value encountered in less\n",
      "  indexer = np.where(op(left_distances, right_distances) |\n",
      "C:\\Users\\steve\\Anaconda3\\envs\\rasterenv\\lib\\site-packages\\pandas\\core\\indexes\\base.py:2825: RuntimeWarning: invalid value encountered in less_equal\n",
      "  indexer = np.where(op(left_distances, right_distances) |\n"
     ]
    },
    {
     "name": "stdout",
     "output_type": "stream",
     "text": [
      "(1501, 1995)\n"
     ]
    },
    {
     "name": "stderr",
     "output_type": "stream",
     "text": [
      "C:\\Users\\steve\\Anaconda3\\envs\\rasterenv\\lib\\site-packages\\ipykernel_launcher.py:14: UserWarning: Tight layout not applied. The left and right margins cannot be made large enough to accommodate all axes decorations. \n",
      "  \n",
      "C:\\Users\\steve\\Anaconda3\\envs\\rasterenv\\lib\\site-packages\\pandas\\core\\indexes\\base.py:2825: RuntimeWarning: invalid value encountered in less\n",
      "  indexer = np.where(op(left_distances, right_distances) |\n",
      "C:\\Users\\steve\\Anaconda3\\envs\\rasterenv\\lib\\site-packages\\pandas\\core\\indexes\\base.py:2825: RuntimeWarning: invalid value encountered in less_equal\n",
      "  indexer = np.where(op(left_distances, right_distances) |\n"
     ]
    },
    {
     "name": "stdout",
     "output_type": "stream",
     "text": [
      "(1501, 1995)\n"
     ]
    },
    {
     "name": "stderr",
     "output_type": "stream",
     "text": [
      "C:\\Users\\steve\\Anaconda3\\envs\\rasterenv\\lib\\site-packages\\ipykernel_launcher.py:14: UserWarning: Tight layout not applied. The left and right margins cannot be made large enough to accommodate all axes decorations. \n",
      "  \n",
      "C:\\Users\\steve\\Anaconda3\\envs\\rasterenv\\lib\\site-packages\\pandas\\core\\indexes\\base.py:2825: RuntimeWarning: invalid value encountered in less\n",
      "  indexer = np.where(op(left_distances, right_distances) |\n",
      "C:\\Users\\steve\\Anaconda3\\envs\\rasterenv\\lib\\site-packages\\pandas\\core\\indexes\\base.py:2825: RuntimeWarning: invalid value encountered in less_equal\n",
      "  indexer = np.where(op(left_distances, right_distances) |\n"
     ]
    },
    {
     "name": "stdout",
     "output_type": "stream",
     "text": [
      "(1501, 1995)\n"
     ]
    },
    {
     "name": "stderr",
     "output_type": "stream",
     "text": [
      "C:\\Users\\steve\\Anaconda3\\envs\\rasterenv\\lib\\site-packages\\ipykernel_launcher.py:14: UserWarning: Tight layout not applied. The left and right margins cannot be made large enough to accommodate all axes decorations. \n",
      "  \n",
      "C:\\Users\\steve\\Anaconda3\\envs\\rasterenv\\lib\\site-packages\\pandas\\core\\indexes\\base.py:2825: RuntimeWarning: invalid value encountered in less\n",
      "  indexer = np.where(op(left_distances, right_distances) |\n",
      "C:\\Users\\steve\\Anaconda3\\envs\\rasterenv\\lib\\site-packages\\pandas\\core\\indexes\\base.py:2825: RuntimeWarning: invalid value encountered in less_equal\n",
      "  indexer = np.where(op(left_distances, right_distances) |\n"
     ]
    },
    {
     "name": "stdout",
     "output_type": "stream",
     "text": [
      "(1501, 1995)\n"
     ]
    },
    {
     "name": "stderr",
     "output_type": "stream",
     "text": [
      "C:\\Users\\steve\\Anaconda3\\envs\\rasterenv\\lib\\site-packages\\ipykernel_launcher.py:14: UserWarning: Tight layout not applied. The left and right margins cannot be made large enough to accommodate all axes decorations. \n",
      "  \n",
      "C:\\Users\\steve\\Anaconda3\\envs\\rasterenv\\lib\\site-packages\\pandas\\core\\indexes\\base.py:2825: RuntimeWarning: invalid value encountered in less\n",
      "  indexer = np.where(op(left_distances, right_distances) |\n",
      "C:\\Users\\steve\\Anaconda3\\envs\\rasterenv\\lib\\site-packages\\pandas\\core\\indexes\\base.py:2825: RuntimeWarning: invalid value encountered in less_equal\n",
      "  indexer = np.where(op(left_distances, right_distances) |\n"
     ]
    },
    {
     "name": "stdout",
     "output_type": "stream",
     "text": [
      "(1501, 1995)\n"
     ]
    },
    {
     "name": "stderr",
     "output_type": "stream",
     "text": [
      "C:\\Users\\steve\\Anaconda3\\envs\\rasterenv\\lib\\site-packages\\ipykernel_launcher.py:14: UserWarning: Tight layout not applied. The left and right margins cannot be made large enough to accommodate all axes decorations. \n",
      "  \n",
      "C:\\Users\\steve\\Anaconda3\\envs\\rasterenv\\lib\\site-packages\\pandas\\core\\indexes\\base.py:2825: RuntimeWarning: invalid value encountered in less\n",
      "  indexer = np.where(op(left_distances, right_distances) |\n",
      "C:\\Users\\steve\\Anaconda3\\envs\\rasterenv\\lib\\site-packages\\pandas\\core\\indexes\\base.py:2825: RuntimeWarning: invalid value encountered in less_equal\n",
      "  indexer = np.where(op(left_distances, right_distances) |\n"
     ]
    },
    {
     "name": "stdout",
     "output_type": "stream",
     "text": [
      "(1501, 1995)\n"
     ]
    },
    {
     "name": "stderr",
     "output_type": "stream",
     "text": [
      "C:\\Users\\steve\\Anaconda3\\envs\\rasterenv\\lib\\site-packages\\ipykernel_launcher.py:14: UserWarning: Tight layout not applied. The left and right margins cannot be made large enough to accommodate all axes decorations. \n",
      "  \n",
      "C:\\Users\\steve\\Anaconda3\\envs\\rasterenv\\lib\\site-packages\\pandas\\core\\indexes\\base.py:2825: RuntimeWarning: invalid value encountered in less\n",
      "  indexer = np.where(op(left_distances, right_distances) |\n",
      "C:\\Users\\steve\\Anaconda3\\envs\\rasterenv\\lib\\site-packages\\pandas\\core\\indexes\\base.py:2825: RuntimeWarning: invalid value encountered in less_equal\n",
      "  indexer = np.where(op(left_distances, right_distances) |\n"
     ]
    },
    {
     "name": "stdout",
     "output_type": "stream",
     "text": [
      "(1501, 1995)\n"
     ]
    },
    {
     "name": "stderr",
     "output_type": "stream",
     "text": [
      "C:\\Users\\steve\\Anaconda3\\envs\\rasterenv\\lib\\site-packages\\ipykernel_launcher.py:14: UserWarning: Tight layout not applied. The left and right margins cannot be made large enough to accommodate all axes decorations. \n",
      "  \n",
      "C:\\Users\\steve\\Anaconda3\\envs\\rasterenv\\lib\\site-packages\\pandas\\core\\indexes\\base.py:2825: RuntimeWarning: invalid value encountered in less\n",
      "  indexer = np.where(op(left_distances, right_distances) |\n",
      "C:\\Users\\steve\\Anaconda3\\envs\\rasterenv\\lib\\site-packages\\pandas\\core\\indexes\\base.py:2825: RuntimeWarning: invalid value encountered in less_equal\n",
      "  indexer = np.where(op(left_distances, right_distances) |\n"
     ]
    },
    {
     "name": "stdout",
     "output_type": "stream",
     "text": [
      "(1501, 1995)\n"
     ]
    },
    {
     "name": "stderr",
     "output_type": "stream",
     "text": [
      "C:\\Users\\steve\\Anaconda3\\envs\\rasterenv\\lib\\site-packages\\ipykernel_launcher.py:14: UserWarning: Tight layout not applied. The left and right margins cannot be made large enough to accommodate all axes decorations. \n",
      "  \n",
      "C:\\Users\\steve\\Anaconda3\\envs\\rasterenv\\lib\\site-packages\\pandas\\core\\indexes\\base.py:2825: RuntimeWarning: invalid value encountered in less\n",
      "  indexer = np.where(op(left_distances, right_distances) |\n",
      "C:\\Users\\steve\\Anaconda3\\envs\\rasterenv\\lib\\site-packages\\pandas\\core\\indexes\\base.py:2825: RuntimeWarning: invalid value encountered in less_equal\n",
      "  indexer = np.where(op(left_distances, right_distances) |\n"
     ]
    },
    {
     "name": "stdout",
     "output_type": "stream",
     "text": [
      "(1501, 1995)\n"
     ]
    },
    {
     "name": "stderr",
     "output_type": "stream",
     "text": [
      "C:\\Users\\steve\\Anaconda3\\envs\\rasterenv\\lib\\site-packages\\ipykernel_launcher.py:14: UserWarning: Tight layout not applied. The left and right margins cannot be made large enough to accommodate all axes decorations. \n",
      "  \n",
      "C:\\Users\\steve\\Anaconda3\\envs\\rasterenv\\lib\\site-packages\\pandas\\core\\indexes\\base.py:2825: RuntimeWarning: invalid value encountered in less\n",
      "  indexer = np.where(op(left_distances, right_distances) |\n",
      "C:\\Users\\steve\\Anaconda3\\envs\\rasterenv\\lib\\site-packages\\pandas\\core\\indexes\\base.py:2825: RuntimeWarning: invalid value encountered in less_equal\n",
      "  indexer = np.where(op(left_distances, right_distances) |\n"
     ]
    },
    {
     "name": "stdout",
     "output_type": "stream",
     "text": [
      "(1501, 1995)\n"
     ]
    },
    {
     "name": "stderr",
     "output_type": "stream",
     "text": [
      "C:\\Users\\steve\\Anaconda3\\envs\\rasterenv\\lib\\site-packages\\ipykernel_launcher.py:14: UserWarning: Tight layout not applied. The left and right margins cannot be made large enough to accommodate all axes decorations. \n",
      "  \n",
      "C:\\Users\\steve\\Anaconda3\\envs\\rasterenv\\lib\\site-packages\\pandas\\core\\indexes\\base.py:2825: RuntimeWarning: invalid value encountered in less\n",
      "  indexer = np.where(op(left_distances, right_distances) |\n",
      "C:\\Users\\steve\\Anaconda3\\envs\\rasterenv\\lib\\site-packages\\pandas\\core\\indexes\\base.py:2825: RuntimeWarning: invalid value encountered in less_equal\n",
      "  indexer = np.where(op(left_distances, right_distances) |\n"
     ]
    },
    {
     "name": "stdout",
     "output_type": "stream",
     "text": [
      "(1501, 1995)\n"
     ]
    },
    {
     "name": "stderr",
     "output_type": "stream",
     "text": [
      "C:\\Users\\steve\\Anaconda3\\envs\\rasterenv\\lib\\site-packages\\ipykernel_launcher.py:14: UserWarning: Tight layout not applied. The left and right margins cannot be made large enough to accommodate all axes decorations. \n",
      "  \n",
      "C:\\Users\\steve\\Anaconda3\\envs\\rasterenv\\lib\\site-packages\\pandas\\core\\indexes\\base.py:2825: RuntimeWarning: invalid value encountered in less\n",
      "  indexer = np.where(op(left_distances, right_distances) |\n",
      "C:\\Users\\steve\\Anaconda3\\envs\\rasterenv\\lib\\site-packages\\pandas\\core\\indexes\\base.py:2825: RuntimeWarning: invalid value encountered in less_equal\n",
      "  indexer = np.where(op(left_distances, right_distances) |\n"
     ]
    },
    {
     "name": "stdout",
     "output_type": "stream",
     "text": [
      "(1501, 1995)\n"
     ]
    },
    {
     "name": "stderr",
     "output_type": "stream",
     "text": [
      "C:\\Users\\steve\\Anaconda3\\envs\\rasterenv\\lib\\site-packages\\ipykernel_launcher.py:14: UserWarning: Tight layout not applied. The left and right margins cannot be made large enough to accommodate all axes decorations. \n",
      "  \n",
      "C:\\Users\\steve\\Anaconda3\\envs\\rasterenv\\lib\\site-packages\\pandas\\core\\indexes\\base.py:2825: RuntimeWarning: invalid value encountered in less\n",
      "  indexer = np.where(op(left_distances, right_distances) |\n",
      "C:\\Users\\steve\\Anaconda3\\envs\\rasterenv\\lib\\site-packages\\pandas\\core\\indexes\\base.py:2825: RuntimeWarning: invalid value encountered in less_equal\n",
      "  indexer = np.where(op(left_distances, right_distances) |\n"
     ]
    },
    {
     "name": "stdout",
     "output_type": "stream",
     "text": [
      "(1501, 1995)\n"
     ]
    },
    {
     "name": "stderr",
     "output_type": "stream",
     "text": [
      "C:\\Users\\steve\\Anaconda3\\envs\\rasterenv\\lib\\site-packages\\ipykernel_launcher.py:14: UserWarning: Tight layout not applied. The left and right margins cannot be made large enough to accommodate all axes decorations. \n",
      "  \n",
      "C:\\Users\\steve\\Anaconda3\\envs\\rasterenv\\lib\\site-packages\\pandas\\core\\indexes\\base.py:2825: RuntimeWarning: invalid value encountered in less\n",
      "  indexer = np.where(op(left_distances, right_distances) |\n",
      "C:\\Users\\steve\\Anaconda3\\envs\\rasterenv\\lib\\site-packages\\pandas\\core\\indexes\\base.py:2825: RuntimeWarning: invalid value encountered in less_equal\n",
      "  indexer = np.where(op(left_distances, right_distances) |\n"
     ]
    },
    {
     "name": "stdout",
     "output_type": "stream",
     "text": [
      "(1501, 1995)\n"
     ]
    },
    {
     "name": "stderr",
     "output_type": "stream",
     "text": [
      "C:\\Users\\steve\\Anaconda3\\envs\\rasterenv\\lib\\site-packages\\ipykernel_launcher.py:14: UserWarning: Tight layout not applied. The left and right margins cannot be made large enough to accommodate all axes decorations. \n",
      "  \n",
      "C:\\Users\\steve\\Anaconda3\\envs\\rasterenv\\lib\\site-packages\\pandas\\core\\indexes\\base.py:2825: RuntimeWarning: invalid value encountered in less\n",
      "  indexer = np.where(op(left_distances, right_distances) |\n",
      "C:\\Users\\steve\\Anaconda3\\envs\\rasterenv\\lib\\site-packages\\pandas\\core\\indexes\\base.py:2825: RuntimeWarning: invalid value encountered in less_equal\n",
      "  indexer = np.where(op(left_distances, right_distances) |\n"
     ]
    },
    {
     "name": "stdout",
     "output_type": "stream",
     "text": [
      "(1501, 1995)\n"
     ]
    },
    {
     "name": "stderr",
     "output_type": "stream",
     "text": [
      "C:\\Users\\steve\\Anaconda3\\envs\\rasterenv\\lib\\site-packages\\ipykernel_launcher.py:14: UserWarning: Tight layout not applied. The left and right margins cannot be made large enough to accommodate all axes decorations. \n",
      "  \n",
      "C:\\Users\\steve\\Anaconda3\\envs\\rasterenv\\lib\\site-packages\\pandas\\core\\indexes\\base.py:2825: RuntimeWarning: invalid value encountered in less\n",
      "  indexer = np.where(op(left_distances, right_distances) |\n",
      "C:\\Users\\steve\\Anaconda3\\envs\\rasterenv\\lib\\site-packages\\pandas\\core\\indexes\\base.py:2825: RuntimeWarning: invalid value encountered in less_equal\n",
      "  indexer = np.where(op(left_distances, right_distances) |\n"
     ]
    },
    {
     "name": "stdout",
     "output_type": "stream",
     "text": [
      "(1501, 1995)\n"
     ]
    },
    {
     "name": "stderr",
     "output_type": "stream",
     "text": [
      "C:\\Users\\steve\\Anaconda3\\envs\\rasterenv\\lib\\site-packages\\ipykernel_launcher.py:14: UserWarning: Tight layout not applied. The left and right margins cannot be made large enough to accommodate all axes decorations. \n",
      "  \n",
      "C:\\Users\\steve\\Anaconda3\\envs\\rasterenv\\lib\\site-packages\\pandas\\core\\indexes\\base.py:2825: RuntimeWarning: invalid value encountered in less\n",
      "  indexer = np.where(op(left_distances, right_distances) |\n",
      "C:\\Users\\steve\\Anaconda3\\envs\\rasterenv\\lib\\site-packages\\pandas\\core\\indexes\\base.py:2825: RuntimeWarning: invalid value encountered in less_equal\n",
      "  indexer = np.where(op(left_distances, right_distances) |\n"
     ]
    },
    {
     "name": "stdout",
     "output_type": "stream",
     "text": [
      "(1501, 1995)\n"
     ]
    },
    {
     "name": "stderr",
     "output_type": "stream",
     "text": [
      "C:\\Users\\steve\\Anaconda3\\envs\\rasterenv\\lib\\site-packages\\ipykernel_launcher.py:14: UserWarning: Tight layout not applied. The left and right margins cannot be made large enough to accommodate all axes decorations. \n",
      "  \n",
      "C:\\Users\\steve\\Anaconda3\\envs\\rasterenv\\lib\\site-packages\\pandas\\core\\indexes\\base.py:2825: RuntimeWarning: invalid value encountered in less\n",
      "  indexer = np.where(op(left_distances, right_distances) |\n",
      "C:\\Users\\steve\\Anaconda3\\envs\\rasterenv\\lib\\site-packages\\pandas\\core\\indexes\\base.py:2825: RuntimeWarning: invalid value encountered in less_equal\n",
      "  indexer = np.where(op(left_distances, right_distances) |\n"
     ]
    },
    {
     "name": "stdout",
     "output_type": "stream",
     "text": [
      "(1501, 1995)\n"
     ]
    },
    {
     "name": "stderr",
     "output_type": "stream",
     "text": [
      "C:\\Users\\steve\\Anaconda3\\envs\\rasterenv\\lib\\site-packages\\ipykernel_launcher.py:14: UserWarning: Tight layout not applied. The left and right margins cannot be made large enough to accommodate all axes decorations. \n",
      "  \n",
      "C:\\Users\\steve\\Anaconda3\\envs\\rasterenv\\lib\\site-packages\\pandas\\core\\indexes\\base.py:2825: RuntimeWarning: invalid value encountered in less\n",
      "  indexer = np.where(op(left_distances, right_distances) |\n",
      "C:\\Users\\steve\\Anaconda3\\envs\\rasterenv\\lib\\site-packages\\pandas\\core\\indexes\\base.py:2825: RuntimeWarning: invalid value encountered in less_equal\n",
      "  indexer = np.where(op(left_distances, right_distances) |\n"
     ]
    },
    {
     "name": "stdout",
     "output_type": "stream",
     "text": [
      "(1501, 1995)\n"
     ]
    },
    {
     "name": "stderr",
     "output_type": "stream",
     "text": [
      "C:\\Users\\steve\\Anaconda3\\envs\\rasterenv\\lib\\site-packages\\ipykernel_launcher.py:14: UserWarning: Tight layout not applied. The left and right margins cannot be made large enough to accommodate all axes decorations. \n",
      "  \n",
      "C:\\Users\\steve\\Anaconda3\\envs\\rasterenv\\lib\\site-packages\\pandas\\core\\indexes\\base.py:2825: RuntimeWarning: invalid value encountered in less\n",
      "  indexer = np.where(op(left_distances, right_distances) |\n",
      "C:\\Users\\steve\\Anaconda3\\envs\\rasterenv\\lib\\site-packages\\pandas\\core\\indexes\\base.py:2825: RuntimeWarning: invalid value encountered in less_equal\n",
      "  indexer = np.where(op(left_distances, right_distances) |\n"
     ]
    },
    {
     "name": "stdout",
     "output_type": "stream",
     "text": [
      "(1501, 1995)\n"
     ]
    },
    {
     "name": "stderr",
     "output_type": "stream",
     "text": [
      "C:\\Users\\steve\\Anaconda3\\envs\\rasterenv\\lib\\site-packages\\ipykernel_launcher.py:14: UserWarning: Tight layout not applied. The left and right margins cannot be made large enough to accommodate all axes decorations. \n",
      "  \n",
      "C:\\Users\\steve\\Anaconda3\\envs\\rasterenv\\lib\\site-packages\\pandas\\core\\indexes\\base.py:2825: RuntimeWarning: invalid value encountered in less\n",
      "  indexer = np.where(op(left_distances, right_distances) |\n",
      "C:\\Users\\steve\\Anaconda3\\envs\\rasterenv\\lib\\site-packages\\pandas\\core\\indexes\\base.py:2825: RuntimeWarning: invalid value encountered in less_equal\n",
      "  indexer = np.where(op(left_distances, right_distances) |\n"
     ]
    },
    {
     "name": "stdout",
     "output_type": "stream",
     "text": [
      "(1501, 1995)\n"
     ]
    },
    {
     "name": "stderr",
     "output_type": "stream",
     "text": [
      "C:\\Users\\steve\\Anaconda3\\envs\\rasterenv\\lib\\site-packages\\ipykernel_launcher.py:14: UserWarning: Tight layout not applied. The left and right margins cannot be made large enough to accommodate all axes decorations. \n",
      "  \n",
      "C:\\Users\\steve\\Anaconda3\\envs\\rasterenv\\lib\\site-packages\\pandas\\core\\indexes\\base.py:2825: RuntimeWarning: invalid value encountered in less\n",
      "  indexer = np.where(op(left_distances, right_distances) |\n",
      "C:\\Users\\steve\\Anaconda3\\envs\\rasterenv\\lib\\site-packages\\pandas\\core\\indexes\\base.py:2825: RuntimeWarning: invalid value encountered in less_equal\n",
      "  indexer = np.where(op(left_distances, right_distances) |\n"
     ]
    },
    {
     "name": "stdout",
     "output_type": "stream",
     "text": [
      "(1501, 1995)\n"
     ]
    },
    {
     "name": "stderr",
     "output_type": "stream",
     "text": [
      "C:\\Users\\steve\\Anaconda3\\envs\\rasterenv\\lib\\site-packages\\ipykernel_launcher.py:14: UserWarning: Tight layout not applied. The left and right margins cannot be made large enough to accommodate all axes decorations. \n",
      "  \n",
      "C:\\Users\\steve\\Anaconda3\\envs\\rasterenv\\lib\\site-packages\\pandas\\core\\indexes\\base.py:2825: RuntimeWarning: invalid value encountered in less\n",
      "  indexer = np.where(op(left_distances, right_distances) |\n",
      "C:\\Users\\steve\\Anaconda3\\envs\\rasterenv\\lib\\site-packages\\pandas\\core\\indexes\\base.py:2825: RuntimeWarning: invalid value encountered in less_equal\n",
      "  indexer = np.where(op(left_distances, right_distances) |\n"
     ]
    },
    {
     "name": "stdout",
     "output_type": "stream",
     "text": [
      "(1501, 1995)\n"
     ]
    },
    {
     "name": "stderr",
     "output_type": "stream",
     "text": [
      "C:\\Users\\steve\\Anaconda3\\envs\\rasterenv\\lib\\site-packages\\ipykernel_launcher.py:14: UserWarning: Tight layout not applied. The left and right margins cannot be made large enough to accommodate all axes decorations. \n",
      "  \n",
      "C:\\Users\\steve\\Anaconda3\\envs\\rasterenv\\lib\\site-packages\\pandas\\core\\indexes\\base.py:2825: RuntimeWarning: invalid value encountered in less\n",
      "  indexer = np.where(op(left_distances, right_distances) |\n",
      "C:\\Users\\steve\\Anaconda3\\envs\\rasterenv\\lib\\site-packages\\pandas\\core\\indexes\\base.py:2825: RuntimeWarning: invalid value encountered in less_equal\n",
      "  indexer = np.where(op(left_distances, right_distances) |\n"
     ]
    },
    {
     "name": "stdout",
     "output_type": "stream",
     "text": [
      "(1501, 1995)\n"
     ]
    },
    {
     "name": "stderr",
     "output_type": "stream",
     "text": [
      "C:\\Users\\steve\\Anaconda3\\envs\\rasterenv\\lib\\site-packages\\ipykernel_launcher.py:14: UserWarning: Tight layout not applied. The left and right margins cannot be made large enough to accommodate all axes decorations. \n",
      "  \n",
      "C:\\Users\\steve\\Anaconda3\\envs\\rasterenv\\lib\\site-packages\\pandas\\core\\indexes\\base.py:2825: RuntimeWarning: invalid value encountered in less\n",
      "  indexer = np.where(op(left_distances, right_distances) |\n",
      "C:\\Users\\steve\\Anaconda3\\envs\\rasterenv\\lib\\site-packages\\pandas\\core\\indexes\\base.py:2825: RuntimeWarning: invalid value encountered in less_equal\n",
      "  indexer = np.where(op(left_distances, right_distances) |\n"
     ]
    },
    {
     "name": "stdout",
     "output_type": "stream",
     "text": [
      "(1501, 1995)\n"
     ]
    },
    {
     "name": "stderr",
     "output_type": "stream",
     "text": [
      "C:\\Users\\steve\\Anaconda3\\envs\\rasterenv\\lib\\site-packages\\ipykernel_launcher.py:14: UserWarning: Tight layout not applied. The left and right margins cannot be made large enough to accommodate all axes decorations. \n",
      "  \n",
      "C:\\Users\\steve\\Anaconda3\\envs\\rasterenv\\lib\\site-packages\\pandas\\core\\indexes\\base.py:2825: RuntimeWarning: invalid value encountered in less\n",
      "  indexer = np.where(op(left_distances, right_distances) |\n",
      "C:\\Users\\steve\\Anaconda3\\envs\\rasterenv\\lib\\site-packages\\pandas\\core\\indexes\\base.py:2825: RuntimeWarning: invalid value encountered in less_equal\n",
      "  indexer = np.where(op(left_distances, right_distances) |\n"
     ]
    },
    {
     "name": "stdout",
     "output_type": "stream",
     "text": [
      "(1501, 1995)\n"
     ]
    },
    {
     "name": "stderr",
     "output_type": "stream",
     "text": [
      "C:\\Users\\steve\\Anaconda3\\envs\\rasterenv\\lib\\site-packages\\ipykernel_launcher.py:14: UserWarning: Tight layout not applied. The left and right margins cannot be made large enough to accommodate all axes decorations. \n",
      "  \n",
      "C:\\Users\\steve\\Anaconda3\\envs\\rasterenv\\lib\\site-packages\\pandas\\core\\indexes\\base.py:2825: RuntimeWarning: invalid value encountered in less\n",
      "  indexer = np.where(op(left_distances, right_distances) |\n",
      "C:\\Users\\steve\\Anaconda3\\envs\\rasterenv\\lib\\site-packages\\pandas\\core\\indexes\\base.py:2825: RuntimeWarning: invalid value encountered in less_equal\n",
      "  indexer = np.where(op(left_distances, right_distances) |\n"
     ]
    },
    {
     "name": "stdout",
     "output_type": "stream",
     "text": [
      "(1501, 1995)\n"
     ]
    },
    {
     "name": "stderr",
     "output_type": "stream",
     "text": [
      "C:\\Users\\steve\\Anaconda3\\envs\\rasterenv\\lib\\site-packages\\ipykernel_launcher.py:14: UserWarning: Tight layout not applied. The left and right margins cannot be made large enough to accommodate all axes decorations. \n",
      "  \n",
      "C:\\Users\\steve\\Anaconda3\\envs\\rasterenv\\lib\\site-packages\\pandas\\core\\indexes\\base.py:2825: RuntimeWarning: invalid value encountered in less\n",
      "  indexer = np.where(op(left_distances, right_distances) |\n",
      "C:\\Users\\steve\\Anaconda3\\envs\\rasterenv\\lib\\site-packages\\pandas\\core\\indexes\\base.py:2825: RuntimeWarning: invalid value encountered in less_equal\n",
      "  indexer = np.where(op(left_distances, right_distances) |\n"
     ]
    },
    {
     "name": "stdout",
     "output_type": "stream",
     "text": [
      "(1501, 1995)\n"
     ]
    },
    {
     "name": "stderr",
     "output_type": "stream",
     "text": [
      "C:\\Users\\steve\\Anaconda3\\envs\\rasterenv\\lib\\site-packages\\ipykernel_launcher.py:14: UserWarning: Tight layout not applied. The left and right margins cannot be made large enough to accommodate all axes decorations. \n",
      "  \n",
      "C:\\Users\\steve\\Anaconda3\\envs\\rasterenv\\lib\\site-packages\\pandas\\core\\indexes\\base.py:2825: RuntimeWarning: invalid value encountered in less\n",
      "  indexer = np.where(op(left_distances, right_distances) |\n",
      "C:\\Users\\steve\\Anaconda3\\envs\\rasterenv\\lib\\site-packages\\pandas\\core\\indexes\\base.py:2825: RuntimeWarning: invalid value encountered in less_equal\n",
      "  indexer = np.where(op(left_distances, right_distances) |\n"
     ]
    },
    {
     "name": "stdout",
     "output_type": "stream",
     "text": [
      "(1501, 1995)\n"
     ]
    },
    {
     "name": "stderr",
     "output_type": "stream",
     "text": [
      "C:\\Users\\steve\\Anaconda3\\envs\\rasterenv\\lib\\site-packages\\ipykernel_launcher.py:14: UserWarning: Tight layout not applied. The left and right margins cannot be made large enough to accommodate all axes decorations. \n",
      "  \n",
      "C:\\Users\\steve\\Anaconda3\\envs\\rasterenv\\lib\\site-packages\\pandas\\core\\indexes\\base.py:2825: RuntimeWarning: invalid value encountered in less\n",
      "  indexer = np.where(op(left_distances, right_distances) |\n",
      "C:\\Users\\steve\\Anaconda3\\envs\\rasterenv\\lib\\site-packages\\pandas\\core\\indexes\\base.py:2825: RuntimeWarning: invalid value encountered in less_equal\n",
      "  indexer = np.where(op(left_distances, right_distances) |\n"
     ]
    },
    {
     "name": "stdout",
     "output_type": "stream",
     "text": [
      "(1501, 1995)\n"
     ]
    },
    {
     "name": "stderr",
     "output_type": "stream",
     "text": [
      "C:\\Users\\steve\\Anaconda3\\envs\\rasterenv\\lib\\site-packages\\ipykernel_launcher.py:14: UserWarning: Tight layout not applied. The left and right margins cannot be made large enough to accommodate all axes decorations. \n",
      "  \n",
      "C:\\Users\\steve\\Anaconda3\\envs\\rasterenv\\lib\\site-packages\\pandas\\core\\indexes\\base.py:2825: RuntimeWarning: invalid value encountered in less\n",
      "  indexer = np.where(op(left_distances, right_distances) |\n",
      "C:\\Users\\steve\\Anaconda3\\envs\\rasterenv\\lib\\site-packages\\pandas\\core\\indexes\\base.py:2825: RuntimeWarning: invalid value encountered in less_equal\n",
      "  indexer = np.where(op(left_distances, right_distances) |\n"
     ]
    },
    {
     "name": "stdout",
     "output_type": "stream",
     "text": [
      "(1501, 1995)\n"
     ]
    },
    {
     "name": "stderr",
     "output_type": "stream",
     "text": [
      "C:\\Users\\steve\\Anaconda3\\envs\\rasterenv\\lib\\site-packages\\ipykernel_launcher.py:14: UserWarning: Tight layout not applied. The left and right margins cannot be made large enough to accommodate all axes decorations. \n",
      "  \n",
      "C:\\Users\\steve\\Anaconda3\\envs\\rasterenv\\lib\\site-packages\\pandas\\core\\indexes\\base.py:2825: RuntimeWarning: invalid value encountered in less\n",
      "  indexer = np.where(op(left_distances, right_distances) |\n",
      "C:\\Users\\steve\\Anaconda3\\envs\\rasterenv\\lib\\site-packages\\pandas\\core\\indexes\\base.py:2825: RuntimeWarning: invalid value encountered in less_equal\n",
      "  indexer = np.where(op(left_distances, right_distances) |\n"
     ]
    },
    {
     "name": "stdout",
     "output_type": "stream",
     "text": [
      "(1501, 1995)\n"
     ]
    },
    {
     "name": "stderr",
     "output_type": "stream",
     "text": [
      "C:\\Users\\steve\\Anaconda3\\envs\\rasterenv\\lib\\site-packages\\ipykernel_launcher.py:14: UserWarning: Tight layout not applied. The left and right margins cannot be made large enough to accommodate all axes decorations. \n",
      "  \n",
      "C:\\Users\\steve\\Anaconda3\\envs\\rasterenv\\lib\\site-packages\\pandas\\core\\indexes\\base.py:2825: RuntimeWarning: invalid value encountered in less\n",
      "  indexer = np.where(op(left_distances, right_distances) |\n",
      "C:\\Users\\steve\\Anaconda3\\envs\\rasterenv\\lib\\site-packages\\pandas\\core\\indexes\\base.py:2825: RuntimeWarning: invalid value encountered in less_equal\n",
      "  indexer = np.where(op(left_distances, right_distances) |\n"
     ]
    },
    {
     "name": "stdout",
     "output_type": "stream",
     "text": [
      "(1501, 1995)\n"
     ]
    },
    {
     "name": "stderr",
     "output_type": "stream",
     "text": [
      "C:\\Users\\steve\\Anaconda3\\envs\\rasterenv\\lib\\site-packages\\ipykernel_launcher.py:14: UserWarning: Tight layout not applied. The left and right margins cannot be made large enough to accommodate all axes decorations. \n",
      "  \n",
      "C:\\Users\\steve\\Anaconda3\\envs\\rasterenv\\lib\\site-packages\\pandas\\core\\indexes\\base.py:2825: RuntimeWarning: invalid value encountered in less\n",
      "  indexer = np.where(op(left_distances, right_distances) |\n",
      "C:\\Users\\steve\\Anaconda3\\envs\\rasterenv\\lib\\site-packages\\pandas\\core\\indexes\\base.py:2825: RuntimeWarning: invalid value encountered in less_equal\n",
      "  indexer = np.where(op(left_distances, right_distances) |\n"
     ]
    },
    {
     "name": "stdout",
     "output_type": "stream",
     "text": [
      "(1501, 1995)\n"
     ]
    },
    {
     "name": "stderr",
     "output_type": "stream",
     "text": [
      "C:\\Users\\steve\\Anaconda3\\envs\\rasterenv\\lib\\site-packages\\ipykernel_launcher.py:14: UserWarning: Tight layout not applied. The left and right margins cannot be made large enough to accommodate all axes decorations. \n",
      "  \n",
      "C:\\Users\\steve\\Anaconda3\\envs\\rasterenv\\lib\\site-packages\\pandas\\core\\indexes\\base.py:2825: RuntimeWarning: invalid value encountered in less\n",
      "  indexer = np.where(op(left_distances, right_distances) |\n",
      "C:\\Users\\steve\\Anaconda3\\envs\\rasterenv\\lib\\site-packages\\pandas\\core\\indexes\\base.py:2825: RuntimeWarning: invalid value encountered in less_equal\n",
      "  indexer = np.where(op(left_distances, right_distances) |\n"
     ]
    },
    {
     "name": "stdout",
     "output_type": "stream",
     "text": [
      "(1501, 1995)\n"
     ]
    },
    {
     "name": "stderr",
     "output_type": "stream",
     "text": [
      "C:\\Users\\steve\\Anaconda3\\envs\\rasterenv\\lib\\site-packages\\ipykernel_launcher.py:14: UserWarning: Tight layout not applied. The left and right margins cannot be made large enough to accommodate all axes decorations. \n",
      "  \n",
      "C:\\Users\\steve\\Anaconda3\\envs\\rasterenv\\lib\\site-packages\\pandas\\core\\indexes\\base.py:2825: RuntimeWarning: invalid value encountered in less\n",
      "  indexer = np.where(op(left_distances, right_distances) |\n",
      "C:\\Users\\steve\\Anaconda3\\envs\\rasterenv\\lib\\site-packages\\pandas\\core\\indexes\\base.py:2825: RuntimeWarning: invalid value encountered in less_equal\n",
      "  indexer = np.where(op(left_distances, right_distances) |\n"
     ]
    },
    {
     "name": "stdout",
     "output_type": "stream",
     "text": [
      "(1501, 1995)\n"
     ]
    },
    {
     "name": "stderr",
     "output_type": "stream",
     "text": [
      "C:\\Users\\steve\\Anaconda3\\envs\\rasterenv\\lib\\site-packages\\ipykernel_launcher.py:14: UserWarning: Tight layout not applied. The left and right margins cannot be made large enough to accommodate all axes decorations. \n",
      "  \n",
      "C:\\Users\\steve\\Anaconda3\\envs\\rasterenv\\lib\\site-packages\\pandas\\core\\indexes\\base.py:2825: RuntimeWarning: invalid value encountered in less\n",
      "  indexer = np.where(op(left_distances, right_distances) |\n",
      "C:\\Users\\steve\\Anaconda3\\envs\\rasterenv\\lib\\site-packages\\pandas\\core\\indexes\\base.py:2825: RuntimeWarning: invalid value encountered in less_equal\n",
      "  indexer = np.where(op(left_distances, right_distances) |\n"
     ]
    },
    {
     "name": "stdout",
     "output_type": "stream",
     "text": [
      "(1501, 1995)\n"
     ]
    },
    {
     "name": "stderr",
     "output_type": "stream",
     "text": [
      "C:\\Users\\steve\\Anaconda3\\envs\\rasterenv\\lib\\site-packages\\ipykernel_launcher.py:14: UserWarning: Tight layout not applied. The left and right margins cannot be made large enough to accommodate all axes decorations. \n",
      "  \n",
      "C:\\Users\\steve\\Anaconda3\\envs\\rasterenv\\lib\\site-packages\\pandas\\core\\indexes\\base.py:2825: RuntimeWarning: invalid value encountered in less\n",
      "  indexer = np.where(op(left_distances, right_distances) |\n",
      "C:\\Users\\steve\\Anaconda3\\envs\\rasterenv\\lib\\site-packages\\pandas\\core\\indexes\\base.py:2825: RuntimeWarning: invalid value encountered in less_equal\n",
      "  indexer = np.where(op(left_distances, right_distances) |\n"
     ]
    },
    {
     "name": "stdout",
     "output_type": "stream",
     "text": [
      "(1501, 1995)\n"
     ]
    },
    {
     "name": "stderr",
     "output_type": "stream",
     "text": [
      "C:\\Users\\steve\\Anaconda3\\envs\\rasterenv\\lib\\site-packages\\ipykernel_launcher.py:14: UserWarning: Tight layout not applied. The left and right margins cannot be made large enough to accommodate all axes decorations. \n",
      "  \n",
      "C:\\Users\\steve\\Anaconda3\\envs\\rasterenv\\lib\\site-packages\\pandas\\core\\indexes\\base.py:2825: RuntimeWarning: invalid value encountered in less\n",
      "  indexer = np.where(op(left_distances, right_distances) |\n",
      "C:\\Users\\steve\\Anaconda3\\envs\\rasterenv\\lib\\site-packages\\pandas\\core\\indexes\\base.py:2825: RuntimeWarning: invalid value encountered in less_equal\n",
      "  indexer = np.where(op(left_distances, right_distances) |\n"
     ]
    },
    {
     "name": "stdout",
     "output_type": "stream",
     "text": [
      "(1501, 1995)\n"
     ]
    },
    {
     "name": "stderr",
     "output_type": "stream",
     "text": [
      "C:\\Users\\steve\\Anaconda3\\envs\\rasterenv\\lib\\site-packages\\ipykernel_launcher.py:14: UserWarning: Tight layout not applied. The left and right margins cannot be made large enough to accommodate all axes decorations. \n",
      "  \n",
      "C:\\Users\\steve\\Anaconda3\\envs\\rasterenv\\lib\\site-packages\\pandas\\core\\indexes\\base.py:2825: RuntimeWarning: invalid value encountered in less\n",
      "  indexer = np.where(op(left_distances, right_distances) |\n",
      "C:\\Users\\steve\\Anaconda3\\envs\\rasterenv\\lib\\site-packages\\pandas\\core\\indexes\\base.py:2825: RuntimeWarning: invalid value encountered in less_equal\n",
      "  indexer = np.where(op(left_distances, right_distances) |\n"
     ]
    },
    {
     "name": "stdout",
     "output_type": "stream",
     "text": [
      "(1501, 1995)\n"
     ]
    },
    {
     "name": "stderr",
     "output_type": "stream",
     "text": [
      "C:\\Users\\steve\\Anaconda3\\envs\\rasterenv\\lib\\site-packages\\ipykernel_launcher.py:14: UserWarning: Tight layout not applied. The left and right margins cannot be made large enough to accommodate all axes decorations. \n",
      "  \n",
      "C:\\Users\\steve\\Anaconda3\\envs\\rasterenv\\lib\\site-packages\\pandas\\core\\indexes\\base.py:2825: RuntimeWarning: invalid value encountered in less\n",
      "  indexer = np.where(op(left_distances, right_distances) |\n",
      "C:\\Users\\steve\\Anaconda3\\envs\\rasterenv\\lib\\site-packages\\pandas\\core\\indexes\\base.py:2825: RuntimeWarning: invalid value encountered in less_equal\n",
      "  indexer = np.where(op(left_distances, right_distances) |\n"
     ]
    },
    {
     "name": "stdout",
     "output_type": "stream",
     "text": [
      "(1501, 1995)\n"
     ]
    },
    {
     "name": "stderr",
     "output_type": "stream",
     "text": [
      "C:\\Users\\steve\\Anaconda3\\envs\\rasterenv\\lib\\site-packages\\ipykernel_launcher.py:14: UserWarning: Tight layout not applied. The left and right margins cannot be made large enough to accommodate all axes decorations. \n",
      "  \n",
      "C:\\Users\\steve\\Anaconda3\\envs\\rasterenv\\lib\\site-packages\\pandas\\core\\indexes\\base.py:2825: RuntimeWarning: invalid value encountered in less\n",
      "  indexer = np.where(op(left_distances, right_distances) |\n",
      "C:\\Users\\steve\\Anaconda3\\envs\\rasterenv\\lib\\site-packages\\pandas\\core\\indexes\\base.py:2825: RuntimeWarning: invalid value encountered in less_equal\n",
      "  indexer = np.where(op(left_distances, right_distances) |\n"
     ]
    },
    {
     "name": "stdout",
     "output_type": "stream",
     "text": [
      "(1501, 1995)\n"
     ]
    },
    {
     "name": "stderr",
     "output_type": "stream",
     "text": [
      "C:\\Users\\steve\\Anaconda3\\envs\\rasterenv\\lib\\site-packages\\ipykernel_launcher.py:14: UserWarning: Tight layout not applied. The left and right margins cannot be made large enough to accommodate all axes decorations. \n",
      "  \n",
      "C:\\Users\\steve\\Anaconda3\\envs\\rasterenv\\lib\\site-packages\\pandas\\core\\indexes\\base.py:2825: RuntimeWarning: invalid value encountered in less\n",
      "  indexer = np.where(op(left_distances, right_distances) |\n",
      "C:\\Users\\steve\\Anaconda3\\envs\\rasterenv\\lib\\site-packages\\pandas\\core\\indexes\\base.py:2825: RuntimeWarning: invalid value encountered in less_equal\n",
      "  indexer = np.where(op(left_distances, right_distances) |\n"
     ]
    },
    {
     "name": "stdout",
     "output_type": "stream",
     "text": [
      "(1501, 1995)\n"
     ]
    },
    {
     "name": "stderr",
     "output_type": "stream",
     "text": [
      "C:\\Users\\steve\\Anaconda3\\envs\\rasterenv\\lib\\site-packages\\ipykernel_launcher.py:14: UserWarning: Tight layout not applied. The left and right margins cannot be made large enough to accommodate all axes decorations. \n",
      "  \n",
      "C:\\Users\\steve\\Anaconda3\\envs\\rasterenv\\lib\\site-packages\\pandas\\core\\indexes\\base.py:2825: RuntimeWarning: invalid value encountered in less\n",
      "  indexer = np.where(op(left_distances, right_distances) |\n",
      "C:\\Users\\steve\\Anaconda3\\envs\\rasterenv\\lib\\site-packages\\pandas\\core\\indexes\\base.py:2825: RuntimeWarning: invalid value encountered in less_equal\n",
      "  indexer = np.where(op(left_distances, right_distances) |\n"
     ]
    },
    {
     "name": "stdout",
     "output_type": "stream",
     "text": [
      "(1501, 1995)\n"
     ]
    },
    {
     "name": "stderr",
     "output_type": "stream",
     "text": [
      "C:\\Users\\steve\\Anaconda3\\envs\\rasterenv\\lib\\site-packages\\ipykernel_launcher.py:14: UserWarning: Tight layout not applied. The left and right margins cannot be made large enough to accommodate all axes decorations. \n",
      "  \n",
      "C:\\Users\\steve\\Anaconda3\\envs\\rasterenv\\lib\\site-packages\\pandas\\core\\indexes\\base.py:2825: RuntimeWarning: invalid value encountered in less\n",
      "  indexer = np.where(op(left_distances, right_distances) |\n",
      "C:\\Users\\steve\\Anaconda3\\envs\\rasterenv\\lib\\site-packages\\pandas\\core\\indexes\\base.py:2825: RuntimeWarning: invalid value encountered in less_equal\n",
      "  indexer = np.where(op(left_distances, right_distances) |\n"
     ]
    },
    {
     "name": "stdout",
     "output_type": "stream",
     "text": [
      "(1501, 1995)\n"
     ]
    },
    {
     "name": "stderr",
     "output_type": "stream",
     "text": [
      "C:\\Users\\steve\\Anaconda3\\envs\\rasterenv\\lib\\site-packages\\ipykernel_launcher.py:14: UserWarning: Tight layout not applied. The left and right margins cannot be made large enough to accommodate all axes decorations. \n",
      "  \n",
      "C:\\Users\\steve\\Anaconda3\\envs\\rasterenv\\lib\\site-packages\\pandas\\core\\indexes\\base.py:2825: RuntimeWarning: invalid value encountered in less\n",
      "  indexer = np.where(op(left_distances, right_distances) |\n",
      "C:\\Users\\steve\\Anaconda3\\envs\\rasterenv\\lib\\site-packages\\pandas\\core\\indexes\\base.py:2825: RuntimeWarning: invalid value encountered in less_equal\n",
      "  indexer = np.where(op(left_distances, right_distances) |\n"
     ]
    },
    {
     "name": "stdout",
     "output_type": "stream",
     "text": [
      "(1501, 1995)\n"
     ]
    },
    {
     "name": "stderr",
     "output_type": "stream",
     "text": [
      "C:\\Users\\steve\\Anaconda3\\envs\\rasterenv\\lib\\site-packages\\ipykernel_launcher.py:14: UserWarning: Tight layout not applied. The left and right margins cannot be made large enough to accommodate all axes decorations. \n",
      "  \n",
      "C:\\Users\\steve\\Anaconda3\\envs\\rasterenv\\lib\\site-packages\\pandas\\core\\indexes\\base.py:2825: RuntimeWarning: invalid value encountered in less\n",
      "  indexer = np.where(op(left_distances, right_distances) |\n",
      "C:\\Users\\steve\\Anaconda3\\envs\\rasterenv\\lib\\site-packages\\pandas\\core\\indexes\\base.py:2825: RuntimeWarning: invalid value encountered in less_equal\n",
      "  indexer = np.where(op(left_distances, right_distances) |\n"
     ]
    },
    {
     "name": "stdout",
     "output_type": "stream",
     "text": [
      "(1501, 1995)\n"
     ]
    },
    {
     "name": "stderr",
     "output_type": "stream",
     "text": [
      "C:\\Users\\steve\\Anaconda3\\envs\\rasterenv\\lib\\site-packages\\ipykernel_launcher.py:14: UserWarning: Tight layout not applied. The left and right margins cannot be made large enough to accommodate all axes decorations. \n",
      "  \n",
      "C:\\Users\\steve\\Anaconda3\\envs\\rasterenv\\lib\\site-packages\\pandas\\core\\indexes\\base.py:2825: RuntimeWarning: invalid value encountered in less\n",
      "  indexer = np.where(op(left_distances, right_distances) |\n",
      "C:\\Users\\steve\\Anaconda3\\envs\\rasterenv\\lib\\site-packages\\pandas\\core\\indexes\\base.py:2825: RuntimeWarning: invalid value encountered in less_equal\n",
      "  indexer = np.where(op(left_distances, right_distances) |\n"
     ]
    },
    {
     "name": "stdout",
     "output_type": "stream",
     "text": [
      "(1501, 1995)\n"
     ]
    },
    {
     "name": "stderr",
     "output_type": "stream",
     "text": [
      "C:\\Users\\steve\\Anaconda3\\envs\\rasterenv\\lib\\site-packages\\ipykernel_launcher.py:14: UserWarning: Tight layout not applied. The left and right margins cannot be made large enough to accommodate all axes decorations. \n",
      "  \n",
      "C:\\Users\\steve\\Anaconda3\\envs\\rasterenv\\lib\\site-packages\\pandas\\core\\indexes\\base.py:2825: RuntimeWarning: invalid value encountered in less\n",
      "  indexer = np.where(op(left_distances, right_distances) |\n",
      "C:\\Users\\steve\\Anaconda3\\envs\\rasterenv\\lib\\site-packages\\pandas\\core\\indexes\\base.py:2825: RuntimeWarning: invalid value encountered in less_equal\n",
      "  indexer = np.where(op(left_distances, right_distances) |\n"
     ]
    },
    {
     "name": "stdout",
     "output_type": "stream",
     "text": [
      "(1501, 1995)\n"
     ]
    },
    {
     "name": "stderr",
     "output_type": "stream",
     "text": [
      "C:\\Users\\steve\\Anaconda3\\envs\\rasterenv\\lib\\site-packages\\ipykernel_launcher.py:14: UserWarning: Tight layout not applied. The left and right margins cannot be made large enough to accommodate all axes decorations. \n",
      "  \n",
      "C:\\Users\\steve\\Anaconda3\\envs\\rasterenv\\lib\\site-packages\\pandas\\core\\indexes\\base.py:2825: RuntimeWarning: invalid value encountered in less\n",
      "  indexer = np.where(op(left_distances, right_distances) |\n",
      "C:\\Users\\steve\\Anaconda3\\envs\\rasterenv\\lib\\site-packages\\pandas\\core\\indexes\\base.py:2825: RuntimeWarning: invalid value encountered in less_equal\n",
      "  indexer = np.where(op(left_distances, right_distances) |\n"
     ]
    },
    {
     "name": "stdout",
     "output_type": "stream",
     "text": [
      "(1501, 1995)\n"
     ]
    },
    {
     "name": "stderr",
     "output_type": "stream",
     "text": [
      "C:\\Users\\steve\\Anaconda3\\envs\\rasterenv\\lib\\site-packages\\ipykernel_launcher.py:14: UserWarning: Tight layout not applied. The left and right margins cannot be made large enough to accommodate all axes decorations. \n",
      "  \n",
      "C:\\Users\\steve\\Anaconda3\\envs\\rasterenv\\lib\\site-packages\\pandas\\core\\indexes\\base.py:2825: RuntimeWarning: invalid value encountered in less\n",
      "  indexer = np.where(op(left_distances, right_distances) |\n",
      "C:\\Users\\steve\\Anaconda3\\envs\\rasterenv\\lib\\site-packages\\pandas\\core\\indexes\\base.py:2825: RuntimeWarning: invalid value encountered in less_equal\n",
      "  indexer = np.where(op(left_distances, right_distances) |\n"
     ]
    },
    {
     "name": "stdout",
     "output_type": "stream",
     "text": [
      "(1501, 1995)\n"
     ]
    },
    {
     "name": "stderr",
     "output_type": "stream",
     "text": [
      "C:\\Users\\steve\\Anaconda3\\envs\\rasterenv\\lib\\site-packages\\ipykernel_launcher.py:14: UserWarning: Tight layout not applied. The left and right margins cannot be made large enough to accommodate all axes decorations. \n",
      "  \n",
      "C:\\Users\\steve\\Anaconda3\\envs\\rasterenv\\lib\\site-packages\\pandas\\core\\indexes\\base.py:2825: RuntimeWarning: invalid value encountered in less\n",
      "  indexer = np.where(op(left_distances, right_distances) |\n",
      "C:\\Users\\steve\\Anaconda3\\envs\\rasterenv\\lib\\site-packages\\pandas\\core\\indexes\\base.py:2825: RuntimeWarning: invalid value encountered in less_equal\n",
      "  indexer = np.where(op(left_distances, right_distances) |\n"
     ]
    },
    {
     "name": "stdout",
     "output_type": "stream",
     "text": [
      "(1501, 1995)\n"
     ]
    },
    {
     "name": "stderr",
     "output_type": "stream",
     "text": [
      "C:\\Users\\steve\\Anaconda3\\envs\\rasterenv\\lib\\site-packages\\ipykernel_launcher.py:14: UserWarning: Tight layout not applied. The left and right margins cannot be made large enough to accommodate all axes decorations. \n",
      "  \n",
      "C:\\Users\\steve\\Anaconda3\\envs\\rasterenv\\lib\\site-packages\\pandas\\core\\indexes\\base.py:2825: RuntimeWarning: invalid value encountered in less\n",
      "  indexer = np.where(op(left_distances, right_distances) |\n",
      "C:\\Users\\steve\\Anaconda3\\envs\\rasterenv\\lib\\site-packages\\pandas\\core\\indexes\\base.py:2825: RuntimeWarning: invalid value encountered in less_equal\n",
      "  indexer = np.where(op(left_distances, right_distances) |\n"
     ]
    },
    {
     "name": "stdout",
     "output_type": "stream",
     "text": [
      "(1501, 1995)\n"
     ]
    },
    {
     "name": "stderr",
     "output_type": "stream",
     "text": [
      "C:\\Users\\steve\\Anaconda3\\envs\\rasterenv\\lib\\site-packages\\ipykernel_launcher.py:14: UserWarning: Tight layout not applied. The left and right margins cannot be made large enough to accommodate all axes decorations. \n",
      "  \n",
      "C:\\Users\\steve\\Anaconda3\\envs\\rasterenv\\lib\\site-packages\\pandas\\core\\indexes\\base.py:2825: RuntimeWarning: invalid value encountered in less\n",
      "  indexer = np.where(op(left_distances, right_distances) |\n",
      "C:\\Users\\steve\\Anaconda3\\envs\\rasterenv\\lib\\site-packages\\pandas\\core\\indexes\\base.py:2825: RuntimeWarning: invalid value encountered in less_equal\n",
      "  indexer = np.where(op(left_distances, right_distances) |\n"
     ]
    },
    {
     "name": "stdout",
     "output_type": "stream",
     "text": [
      "(1501, 1995)\n"
     ]
    },
    {
     "name": "stderr",
     "output_type": "stream",
     "text": [
      "C:\\Users\\steve\\Anaconda3\\envs\\rasterenv\\lib\\site-packages\\ipykernel_launcher.py:14: UserWarning: Tight layout not applied. The left and right margins cannot be made large enough to accommodate all axes decorations. \n",
      "  \n",
      "C:\\Users\\steve\\Anaconda3\\envs\\rasterenv\\lib\\site-packages\\pandas\\core\\indexes\\base.py:2825: RuntimeWarning: invalid value encountered in less\n",
      "  indexer = np.where(op(left_distances, right_distances) |\n",
      "C:\\Users\\steve\\Anaconda3\\envs\\rasterenv\\lib\\site-packages\\pandas\\core\\indexes\\base.py:2825: RuntimeWarning: invalid value encountered in less_equal\n",
      "  indexer = np.where(op(left_distances, right_distances) |\n"
     ]
    },
    {
     "name": "stdout",
     "output_type": "stream",
     "text": [
      "(1501, 1995)\n"
     ]
    },
    {
     "name": "stderr",
     "output_type": "stream",
     "text": [
      "C:\\Users\\steve\\Anaconda3\\envs\\rasterenv\\lib\\site-packages\\ipykernel_launcher.py:14: UserWarning: Tight layout not applied. The left and right margins cannot be made large enough to accommodate all axes decorations. \n",
      "  \n",
      "C:\\Users\\steve\\Anaconda3\\envs\\rasterenv\\lib\\site-packages\\pandas\\core\\indexes\\base.py:2825: RuntimeWarning: invalid value encountered in less\n",
      "  indexer = np.where(op(left_distances, right_distances) |\n",
      "C:\\Users\\steve\\Anaconda3\\envs\\rasterenv\\lib\\site-packages\\pandas\\core\\indexes\\base.py:2825: RuntimeWarning: invalid value encountered in less_equal\n",
      "  indexer = np.where(op(left_distances, right_distances) |\n"
     ]
    },
    {
     "name": "stdout",
     "output_type": "stream",
     "text": [
      "(1501, 1995)\n"
     ]
    },
    {
     "name": "stderr",
     "output_type": "stream",
     "text": [
      "C:\\Users\\steve\\Anaconda3\\envs\\rasterenv\\lib\\site-packages\\ipykernel_launcher.py:14: UserWarning: Tight layout not applied. The left and right margins cannot be made large enough to accommodate all axes decorations. \n",
      "  \n",
      "C:\\Users\\steve\\Anaconda3\\envs\\rasterenv\\lib\\site-packages\\pandas\\core\\indexes\\base.py:2825: RuntimeWarning: invalid value encountered in less\n",
      "  indexer = np.where(op(left_distances, right_distances) |\n",
      "C:\\Users\\steve\\Anaconda3\\envs\\rasterenv\\lib\\site-packages\\pandas\\core\\indexes\\base.py:2825: RuntimeWarning: invalid value encountered in less_equal\n",
      "  indexer = np.where(op(left_distances, right_distances) |\n"
     ]
    },
    {
     "name": "stdout",
     "output_type": "stream",
     "text": [
      "(1501, 1995)\n"
     ]
    },
    {
     "name": "stderr",
     "output_type": "stream",
     "text": [
      "C:\\Users\\steve\\Anaconda3\\envs\\rasterenv\\lib\\site-packages\\ipykernel_launcher.py:14: UserWarning: Tight layout not applied. The left and right margins cannot be made large enough to accommodate all axes decorations. \n",
      "  \n",
      "C:\\Users\\steve\\Anaconda3\\envs\\rasterenv\\lib\\site-packages\\pandas\\core\\indexes\\base.py:2825: RuntimeWarning: invalid value encountered in less\n",
      "  indexer = np.where(op(left_distances, right_distances) |\n",
      "C:\\Users\\steve\\Anaconda3\\envs\\rasterenv\\lib\\site-packages\\pandas\\core\\indexes\\base.py:2825: RuntimeWarning: invalid value encountered in less_equal\n",
      "  indexer = np.where(op(left_distances, right_distances) |\n"
     ]
    },
    {
     "name": "stdout",
     "output_type": "stream",
     "text": [
      "(1501, 1995)\n"
     ]
    },
    {
     "name": "stderr",
     "output_type": "stream",
     "text": [
      "C:\\Users\\steve\\Anaconda3\\envs\\rasterenv\\lib\\site-packages\\ipykernel_launcher.py:14: UserWarning: Tight layout not applied. The left and right margins cannot be made large enough to accommodate all axes decorations. \n",
      "  \n",
      "C:\\Users\\steve\\Anaconda3\\envs\\rasterenv\\lib\\site-packages\\pandas\\core\\indexes\\base.py:2825: RuntimeWarning: invalid value encountered in less\n",
      "  indexer = np.where(op(left_distances, right_distances) |\n",
      "C:\\Users\\steve\\Anaconda3\\envs\\rasterenv\\lib\\site-packages\\pandas\\core\\indexes\\base.py:2825: RuntimeWarning: invalid value encountered in less_equal\n",
      "  indexer = np.where(op(left_distances, right_distances) |\n"
     ]
    },
    {
     "name": "stdout",
     "output_type": "stream",
     "text": [
      "(1501, 1995)\n"
     ]
    },
    {
     "name": "stderr",
     "output_type": "stream",
     "text": [
      "C:\\Users\\steve\\Anaconda3\\envs\\rasterenv\\lib\\site-packages\\ipykernel_launcher.py:14: UserWarning: Tight layout not applied. The left and right margins cannot be made large enough to accommodate all axes decorations. \n",
      "  \n",
      "C:\\Users\\steve\\Anaconda3\\envs\\rasterenv\\lib\\site-packages\\pandas\\core\\indexes\\base.py:2825: RuntimeWarning: invalid value encountered in less\n",
      "  indexer = np.where(op(left_distances, right_distances) |\n",
      "C:\\Users\\steve\\Anaconda3\\envs\\rasterenv\\lib\\site-packages\\pandas\\core\\indexes\\base.py:2825: RuntimeWarning: invalid value encountered in less_equal\n",
      "  indexer = np.where(op(left_distances, right_distances) |\n"
     ]
    },
    {
     "name": "stdout",
     "output_type": "stream",
     "text": [
      "(1501, 1995)\n"
     ]
    },
    {
     "name": "stderr",
     "output_type": "stream",
     "text": [
      "C:\\Users\\steve\\Anaconda3\\envs\\rasterenv\\lib\\site-packages\\ipykernel_launcher.py:14: UserWarning: Tight layout not applied. The left and right margins cannot be made large enough to accommodate all axes decorations. \n",
      "  \n",
      "C:\\Users\\steve\\Anaconda3\\envs\\rasterenv\\lib\\site-packages\\pandas\\core\\indexes\\base.py:2825: RuntimeWarning: invalid value encountered in less\n",
      "  indexer = np.where(op(left_distances, right_distances) |\n",
      "C:\\Users\\steve\\Anaconda3\\envs\\rasterenv\\lib\\site-packages\\pandas\\core\\indexes\\base.py:2825: RuntimeWarning: invalid value encountered in less_equal\n",
      "  indexer = np.where(op(left_distances, right_distances) |\n"
     ]
    },
    {
     "name": "stdout",
     "output_type": "stream",
     "text": [
      "(1501, 1995)\n"
     ]
    },
    {
     "name": "stderr",
     "output_type": "stream",
     "text": [
      "C:\\Users\\steve\\Anaconda3\\envs\\rasterenv\\lib\\site-packages\\ipykernel_launcher.py:14: UserWarning: Tight layout not applied. The left and right margins cannot be made large enough to accommodate all axes decorations. \n",
      "  \n",
      "C:\\Users\\steve\\Anaconda3\\envs\\rasterenv\\lib\\site-packages\\pandas\\core\\indexes\\base.py:2825: RuntimeWarning: invalid value encountered in less\n",
      "  indexer = np.where(op(left_distances, right_distances) |\n",
      "C:\\Users\\steve\\Anaconda3\\envs\\rasterenv\\lib\\site-packages\\pandas\\core\\indexes\\base.py:2825: RuntimeWarning: invalid value encountered in less_equal\n",
      "  indexer = np.where(op(left_distances, right_distances) |\n"
     ]
    },
    {
     "name": "stdout",
     "output_type": "stream",
     "text": [
      "(1501, 1995)\n"
     ]
    },
    {
     "name": "stderr",
     "output_type": "stream",
     "text": [
      "C:\\Users\\steve\\Anaconda3\\envs\\rasterenv\\lib\\site-packages\\ipykernel_launcher.py:14: UserWarning: Tight layout not applied. The left and right margins cannot be made large enough to accommodate all axes decorations. \n",
      "  \n",
      "C:\\Users\\steve\\Anaconda3\\envs\\rasterenv\\lib\\site-packages\\pandas\\core\\indexes\\base.py:2825: RuntimeWarning: invalid value encountered in less\n",
      "  indexer = np.where(op(left_distances, right_distances) |\n",
      "C:\\Users\\steve\\Anaconda3\\envs\\rasterenv\\lib\\site-packages\\pandas\\core\\indexes\\base.py:2825: RuntimeWarning: invalid value encountered in less_equal\n",
      "  indexer = np.where(op(left_distances, right_distances) |\n"
     ]
    },
    {
     "name": "stdout",
     "output_type": "stream",
     "text": [
      "(1501, 1995)\n"
     ]
    },
    {
     "name": "stderr",
     "output_type": "stream",
     "text": [
      "C:\\Users\\steve\\Anaconda3\\envs\\rasterenv\\lib\\site-packages\\ipykernel_launcher.py:14: UserWarning: Tight layout not applied. The left and right margins cannot be made large enough to accommodate all axes decorations. \n",
      "  \n",
      "C:\\Users\\steve\\Anaconda3\\envs\\rasterenv\\lib\\site-packages\\pandas\\core\\indexes\\base.py:2825: RuntimeWarning: invalid value encountered in less\n",
      "  indexer = np.where(op(left_distances, right_distances) |\n",
      "C:\\Users\\steve\\Anaconda3\\envs\\rasterenv\\lib\\site-packages\\pandas\\core\\indexes\\base.py:2825: RuntimeWarning: invalid value encountered in less_equal\n",
      "  indexer = np.where(op(left_distances, right_distances) |\n"
     ]
    },
    {
     "name": "stdout",
     "output_type": "stream",
     "text": [
      "(1501, 1995)\n"
     ]
    },
    {
     "name": "stderr",
     "output_type": "stream",
     "text": [
      "C:\\Users\\steve\\Anaconda3\\envs\\rasterenv\\lib\\site-packages\\ipykernel_launcher.py:14: UserWarning: Tight layout not applied. The left and right margins cannot be made large enough to accommodate all axes decorations. \n",
      "  \n",
      "C:\\Users\\steve\\Anaconda3\\envs\\rasterenv\\lib\\site-packages\\pandas\\core\\indexes\\base.py:2825: RuntimeWarning: invalid value encountered in less\n",
      "  indexer = np.where(op(left_distances, right_distances) |\n",
      "C:\\Users\\steve\\Anaconda3\\envs\\rasterenv\\lib\\site-packages\\pandas\\core\\indexes\\base.py:2825: RuntimeWarning: invalid value encountered in less_equal\n",
      "  indexer = np.where(op(left_distances, right_distances) |\n"
     ]
    },
    {
     "name": "stdout",
     "output_type": "stream",
     "text": [
      "(1501, 1995)\n"
     ]
    },
    {
     "name": "stderr",
     "output_type": "stream",
     "text": [
      "C:\\Users\\steve\\Anaconda3\\envs\\rasterenv\\lib\\site-packages\\ipykernel_launcher.py:14: UserWarning: Tight layout not applied. The left and right margins cannot be made large enough to accommodate all axes decorations. \n",
      "  \n",
      "C:\\Users\\steve\\Anaconda3\\envs\\rasterenv\\lib\\site-packages\\pandas\\core\\indexes\\base.py:2825: RuntimeWarning: invalid value encountered in less\n",
      "  indexer = np.where(op(left_distances, right_distances) |\n",
      "C:\\Users\\steve\\Anaconda3\\envs\\rasterenv\\lib\\site-packages\\pandas\\core\\indexes\\base.py:2825: RuntimeWarning: invalid value encountered in less_equal\n",
      "  indexer = np.where(op(left_distances, right_distances) |\n"
     ]
    },
    {
     "name": "stdout",
     "output_type": "stream",
     "text": [
      "(1501, 1995)\n"
     ]
    },
    {
     "name": "stderr",
     "output_type": "stream",
     "text": [
      "C:\\Users\\steve\\Anaconda3\\envs\\rasterenv\\lib\\site-packages\\ipykernel_launcher.py:14: UserWarning: Tight layout not applied. The left and right margins cannot be made large enough to accommodate all axes decorations. \n",
      "  \n",
      "C:\\Users\\steve\\Anaconda3\\envs\\rasterenv\\lib\\site-packages\\pandas\\core\\indexes\\base.py:2825: RuntimeWarning: invalid value encountered in less\n",
      "  indexer = np.where(op(left_distances, right_distances) |\n",
      "C:\\Users\\steve\\Anaconda3\\envs\\rasterenv\\lib\\site-packages\\pandas\\core\\indexes\\base.py:2825: RuntimeWarning: invalid value encountered in less_equal\n",
      "  indexer = np.where(op(left_distances, right_distances) |\n"
     ]
    },
    {
     "name": "stdout",
     "output_type": "stream",
     "text": [
      "(1501, 1995)\n"
     ]
    },
    {
     "name": "stderr",
     "output_type": "stream",
     "text": [
      "C:\\Users\\steve\\Anaconda3\\envs\\rasterenv\\lib\\site-packages\\ipykernel_launcher.py:14: UserWarning: Tight layout not applied. The left and right margins cannot be made large enough to accommodate all axes decorations. \n",
      "  \n",
      "C:\\Users\\steve\\Anaconda3\\envs\\rasterenv\\lib\\site-packages\\pandas\\core\\indexes\\base.py:2825: RuntimeWarning: invalid value encountered in less\n",
      "  indexer = np.where(op(left_distances, right_distances) |\n",
      "C:\\Users\\steve\\Anaconda3\\envs\\rasterenv\\lib\\site-packages\\pandas\\core\\indexes\\base.py:2825: RuntimeWarning: invalid value encountered in less_equal\n",
      "  indexer = np.where(op(left_distances, right_distances) |\n"
     ]
    },
    {
     "name": "stdout",
     "output_type": "stream",
     "text": [
      "(1501, 1995)\n"
     ]
    },
    {
     "name": "stderr",
     "output_type": "stream",
     "text": [
      "C:\\Users\\steve\\Anaconda3\\envs\\rasterenv\\lib\\site-packages\\ipykernel_launcher.py:14: UserWarning: Tight layout not applied. The left and right margins cannot be made large enough to accommodate all axes decorations. \n",
      "  \n",
      "C:\\Users\\steve\\Anaconda3\\envs\\rasterenv\\lib\\site-packages\\pandas\\core\\indexes\\base.py:2825: RuntimeWarning: invalid value encountered in less\n",
      "  indexer = np.where(op(left_distances, right_distances) |\n",
      "C:\\Users\\steve\\Anaconda3\\envs\\rasterenv\\lib\\site-packages\\pandas\\core\\indexes\\base.py:2825: RuntimeWarning: invalid value encountered in less_equal\n",
      "  indexer = np.where(op(left_distances, right_distances) |\n"
     ]
    },
    {
     "name": "stdout",
     "output_type": "stream",
     "text": [
      "(1501, 1995)\n"
     ]
    },
    {
     "name": "stderr",
     "output_type": "stream",
     "text": [
      "C:\\Users\\steve\\Anaconda3\\envs\\rasterenv\\lib\\site-packages\\ipykernel_launcher.py:14: UserWarning: Tight layout not applied. The left and right margins cannot be made large enough to accommodate all axes decorations. \n",
      "  \n",
      "C:\\Users\\steve\\Anaconda3\\envs\\rasterenv\\lib\\site-packages\\pandas\\core\\indexes\\base.py:2825: RuntimeWarning: invalid value encountered in less\n",
      "  indexer = np.where(op(left_distances, right_distances) |\n",
      "C:\\Users\\steve\\Anaconda3\\envs\\rasterenv\\lib\\site-packages\\pandas\\core\\indexes\\base.py:2825: RuntimeWarning: invalid value encountered in less_equal\n",
      "  indexer = np.where(op(left_distances, right_distances) |\n"
     ]
    },
    {
     "name": "stdout",
     "output_type": "stream",
     "text": [
      "(1501, 1995)\n"
     ]
    },
    {
     "name": "stderr",
     "output_type": "stream",
     "text": [
      "C:\\Users\\steve\\Anaconda3\\envs\\rasterenv\\lib\\site-packages\\ipykernel_launcher.py:14: UserWarning: Tight layout not applied. The left and right margins cannot be made large enough to accommodate all axes decorations. \n",
      "  \n",
      "C:\\Users\\steve\\Anaconda3\\envs\\rasterenv\\lib\\site-packages\\pandas\\core\\indexes\\base.py:2825: RuntimeWarning: invalid value encountered in less\n",
      "  indexer = np.where(op(left_distances, right_distances) |\n",
      "C:\\Users\\steve\\Anaconda3\\envs\\rasterenv\\lib\\site-packages\\pandas\\core\\indexes\\base.py:2825: RuntimeWarning: invalid value encountered in less_equal\n",
      "  indexer = np.where(op(left_distances, right_distances) |\n"
     ]
    },
    {
     "name": "stdout",
     "output_type": "stream",
     "text": [
      "(1501, 1995)\n"
     ]
    },
    {
     "name": "stderr",
     "output_type": "stream",
     "text": [
      "C:\\Users\\steve\\Anaconda3\\envs\\rasterenv\\lib\\site-packages\\ipykernel_launcher.py:14: UserWarning: Tight layout not applied. The left and right margins cannot be made large enough to accommodate all axes decorations. \n",
      "  \n",
      "C:\\Users\\steve\\Anaconda3\\envs\\rasterenv\\lib\\site-packages\\pandas\\core\\indexes\\base.py:2825: RuntimeWarning: invalid value encountered in less\n",
      "  indexer = np.where(op(left_distances, right_distances) |\n",
      "C:\\Users\\steve\\Anaconda3\\envs\\rasterenv\\lib\\site-packages\\pandas\\core\\indexes\\base.py:2825: RuntimeWarning: invalid value encountered in less_equal\n",
      "  indexer = np.where(op(left_distances, right_distances) |\n"
     ]
    },
    {
     "name": "stdout",
     "output_type": "stream",
     "text": [
      "(1501, 1995)\n"
     ]
    },
    {
     "name": "stderr",
     "output_type": "stream",
     "text": [
      "C:\\Users\\steve\\Anaconda3\\envs\\rasterenv\\lib\\site-packages\\ipykernel_launcher.py:14: UserWarning: Tight layout not applied. The left and right margins cannot be made large enough to accommodate all axes decorations. \n",
      "  \n",
      "C:\\Users\\steve\\Anaconda3\\envs\\rasterenv\\lib\\site-packages\\pandas\\core\\indexes\\base.py:2825: RuntimeWarning: invalid value encountered in less\n",
      "  indexer = np.where(op(left_distances, right_distances) |\n",
      "C:\\Users\\steve\\Anaconda3\\envs\\rasterenv\\lib\\site-packages\\pandas\\core\\indexes\\base.py:2825: RuntimeWarning: invalid value encountered in less_equal\n",
      "  indexer = np.where(op(left_distances, right_distances) |\n"
     ]
    },
    {
     "name": "stdout",
     "output_type": "stream",
     "text": [
      "(1501, 1995)\n"
     ]
    },
    {
     "name": "stderr",
     "output_type": "stream",
     "text": [
      "C:\\Users\\steve\\Anaconda3\\envs\\rasterenv\\lib\\site-packages\\ipykernel_launcher.py:14: UserWarning: Tight layout not applied. The left and right margins cannot be made large enough to accommodate all axes decorations. \n",
      "  \n",
      "C:\\Users\\steve\\Anaconda3\\envs\\rasterenv\\lib\\site-packages\\pandas\\core\\indexes\\base.py:2825: RuntimeWarning: invalid value encountered in less\n",
      "  indexer = np.where(op(left_distances, right_distances) |\n",
      "C:\\Users\\steve\\Anaconda3\\envs\\rasterenv\\lib\\site-packages\\pandas\\core\\indexes\\base.py:2825: RuntimeWarning: invalid value encountered in less_equal\n",
      "  indexer = np.where(op(left_distances, right_distances) |\n"
     ]
    },
    {
     "name": "stdout",
     "output_type": "stream",
     "text": [
      "(1501, 1995)\n"
     ]
    },
    {
     "name": "stderr",
     "output_type": "stream",
     "text": [
      "C:\\Users\\steve\\Anaconda3\\envs\\rasterenv\\lib\\site-packages\\ipykernel_launcher.py:14: UserWarning: Tight layout not applied. The left and right margins cannot be made large enough to accommodate all axes decorations. \n",
      "  \n",
      "C:\\Users\\steve\\Anaconda3\\envs\\rasterenv\\lib\\site-packages\\pandas\\core\\indexes\\base.py:2825: RuntimeWarning: invalid value encountered in less\n",
      "  indexer = np.where(op(left_distances, right_distances) |\n",
      "C:\\Users\\steve\\Anaconda3\\envs\\rasterenv\\lib\\site-packages\\pandas\\core\\indexes\\base.py:2825: RuntimeWarning: invalid value encountered in less_equal\n",
      "  indexer = np.where(op(left_distances, right_distances) |\n"
     ]
    },
    {
     "name": "stdout",
     "output_type": "stream",
     "text": [
      "(1501, 1995)\n"
     ]
    },
    {
     "name": "stderr",
     "output_type": "stream",
     "text": [
      "C:\\Users\\steve\\Anaconda3\\envs\\rasterenv\\lib\\site-packages\\ipykernel_launcher.py:14: UserWarning: Tight layout not applied. The left and right margins cannot be made large enough to accommodate all axes decorations. \n",
      "  \n",
      "C:\\Users\\steve\\Anaconda3\\envs\\rasterenv\\lib\\site-packages\\pandas\\core\\indexes\\base.py:2825: RuntimeWarning: invalid value encountered in less\n",
      "  indexer = np.where(op(left_distances, right_distances) |\n",
      "C:\\Users\\steve\\Anaconda3\\envs\\rasterenv\\lib\\site-packages\\pandas\\core\\indexes\\base.py:2825: RuntimeWarning: invalid value encountered in less_equal\n",
      "  indexer = np.where(op(left_distances, right_distances) |\n"
     ]
    },
    {
     "name": "stdout",
     "output_type": "stream",
     "text": [
      "(1501, 1995)\n"
     ]
    },
    {
     "name": "stderr",
     "output_type": "stream",
     "text": [
      "C:\\Users\\steve\\Anaconda3\\envs\\rasterenv\\lib\\site-packages\\ipykernel_launcher.py:14: UserWarning: Tight layout not applied. The left and right margins cannot be made large enough to accommodate all axes decorations. \n",
      "  \n",
      "C:\\Users\\steve\\Anaconda3\\envs\\rasterenv\\lib\\site-packages\\pandas\\core\\indexes\\base.py:2825: RuntimeWarning: invalid value encountered in less\n",
      "  indexer = np.where(op(left_distances, right_distances) |\n",
      "C:\\Users\\steve\\Anaconda3\\envs\\rasterenv\\lib\\site-packages\\pandas\\core\\indexes\\base.py:2825: RuntimeWarning: invalid value encountered in less_equal\n",
      "  indexer = np.where(op(left_distances, right_distances) |\n"
     ]
    },
    {
     "name": "stdout",
     "output_type": "stream",
     "text": [
      "(1501, 1995)\n"
     ]
    },
    {
     "name": "stderr",
     "output_type": "stream",
     "text": [
      "C:\\Users\\steve\\Anaconda3\\envs\\rasterenv\\lib\\site-packages\\ipykernel_launcher.py:14: UserWarning: Tight layout not applied. The left and right margins cannot be made large enough to accommodate all axes decorations. \n",
      "  \n",
      "C:\\Users\\steve\\Anaconda3\\envs\\rasterenv\\lib\\site-packages\\pandas\\core\\indexes\\base.py:2825: RuntimeWarning: invalid value encountered in less\n",
      "  indexer = np.where(op(left_distances, right_distances) |\n",
      "C:\\Users\\steve\\Anaconda3\\envs\\rasterenv\\lib\\site-packages\\pandas\\core\\indexes\\base.py:2825: RuntimeWarning: invalid value encountered in less_equal\n",
      "  indexer = np.where(op(left_distances, right_distances) |\n"
     ]
    },
    {
     "name": "stdout",
     "output_type": "stream",
     "text": [
      "(1501, 1995)\n"
     ]
    },
    {
     "name": "stderr",
     "output_type": "stream",
     "text": [
      "C:\\Users\\steve\\Anaconda3\\envs\\rasterenv\\lib\\site-packages\\ipykernel_launcher.py:14: UserWarning: Tight layout not applied. The left and right margins cannot be made large enough to accommodate all axes decorations. \n",
      "  \n",
      "C:\\Users\\steve\\Anaconda3\\envs\\rasterenv\\lib\\site-packages\\pandas\\core\\indexes\\base.py:2825: RuntimeWarning: invalid value encountered in less\n",
      "  indexer = np.where(op(left_distances, right_distances) |\n",
      "C:\\Users\\steve\\Anaconda3\\envs\\rasterenv\\lib\\site-packages\\pandas\\core\\indexes\\base.py:2825: RuntimeWarning: invalid value encountered in less_equal\n",
      "  indexer = np.where(op(left_distances, right_distances) |\n"
     ]
    },
    {
     "name": "stdout",
     "output_type": "stream",
     "text": [
      "(1501, 1995)\n"
     ]
    },
    {
     "name": "stderr",
     "output_type": "stream",
     "text": [
      "C:\\Users\\steve\\Anaconda3\\envs\\rasterenv\\lib\\site-packages\\ipykernel_launcher.py:14: UserWarning: Tight layout not applied. The left and right margins cannot be made large enough to accommodate all axes decorations. \n",
      "  \n",
      "C:\\Users\\steve\\Anaconda3\\envs\\rasterenv\\lib\\site-packages\\pandas\\core\\indexes\\base.py:2825: RuntimeWarning: invalid value encountered in less\n",
      "  indexer = np.where(op(left_distances, right_distances) |\n",
      "C:\\Users\\steve\\Anaconda3\\envs\\rasterenv\\lib\\site-packages\\pandas\\core\\indexes\\base.py:2825: RuntimeWarning: invalid value encountered in less_equal\n",
      "  indexer = np.where(op(left_distances, right_distances) |\n"
     ]
    },
    {
     "name": "stdout",
     "output_type": "stream",
     "text": [
      "(1501, 1995)\n"
     ]
    },
    {
     "name": "stderr",
     "output_type": "stream",
     "text": [
      "C:\\Users\\steve\\Anaconda3\\envs\\rasterenv\\lib\\site-packages\\ipykernel_launcher.py:14: UserWarning: Tight layout not applied. The left and right margins cannot be made large enough to accommodate all axes decorations. \n",
      "  \n",
      "C:\\Users\\steve\\Anaconda3\\envs\\rasterenv\\lib\\site-packages\\pandas\\core\\indexes\\base.py:2825: RuntimeWarning: invalid value encountered in less\n",
      "  indexer = np.where(op(left_distances, right_distances) |\n",
      "C:\\Users\\steve\\Anaconda3\\envs\\rasterenv\\lib\\site-packages\\pandas\\core\\indexes\\base.py:2825: RuntimeWarning: invalid value encountered in less_equal\n",
      "  indexer = np.where(op(left_distances, right_distances) |\n"
     ]
    },
    {
     "name": "stdout",
     "output_type": "stream",
     "text": [
      "(1501, 1995)\n"
     ]
    },
    {
     "name": "stderr",
     "output_type": "stream",
     "text": [
      "C:\\Users\\steve\\Anaconda3\\envs\\rasterenv\\lib\\site-packages\\ipykernel_launcher.py:14: UserWarning: Tight layout not applied. The left and right margins cannot be made large enough to accommodate all axes decorations. \n",
      "  \n",
      "C:\\Users\\steve\\Anaconda3\\envs\\rasterenv\\lib\\site-packages\\pandas\\core\\indexes\\base.py:2825: RuntimeWarning: invalid value encountered in less\n",
      "  indexer = np.where(op(left_distances, right_distances) |\n",
      "C:\\Users\\steve\\Anaconda3\\envs\\rasterenv\\lib\\site-packages\\pandas\\core\\indexes\\base.py:2825: RuntimeWarning: invalid value encountered in less_equal\n",
      "  indexer = np.where(op(left_distances, right_distances) |\n"
     ]
    },
    {
     "name": "stdout",
     "output_type": "stream",
     "text": [
      "(1501, 1995)\n"
     ]
    },
    {
     "name": "stderr",
     "output_type": "stream",
     "text": [
      "C:\\Users\\steve\\Anaconda3\\envs\\rasterenv\\lib\\site-packages\\ipykernel_launcher.py:14: UserWarning: Tight layout not applied. The left and right margins cannot be made large enough to accommodate all axes decorations. \n",
      "  \n",
      "C:\\Users\\steve\\Anaconda3\\envs\\rasterenv\\lib\\site-packages\\pandas\\core\\indexes\\base.py:2825: RuntimeWarning: invalid value encountered in less\n",
      "  indexer = np.where(op(left_distances, right_distances) |\n",
      "C:\\Users\\steve\\Anaconda3\\envs\\rasterenv\\lib\\site-packages\\pandas\\core\\indexes\\base.py:2825: RuntimeWarning: invalid value encountered in less_equal\n",
      "  indexer = np.where(op(left_distances, right_distances) |\n"
     ]
    },
    {
     "name": "stdout",
     "output_type": "stream",
     "text": [
      "(1501, 1995)\n"
     ]
    },
    {
     "name": "stderr",
     "output_type": "stream",
     "text": [
      "C:\\Users\\steve\\Anaconda3\\envs\\rasterenv\\lib\\site-packages\\ipykernel_launcher.py:14: UserWarning: Tight layout not applied. The left and right margins cannot be made large enough to accommodate all axes decorations. \n",
      "  \n",
      "C:\\Users\\steve\\Anaconda3\\envs\\rasterenv\\lib\\site-packages\\pandas\\core\\indexes\\base.py:2825: RuntimeWarning: invalid value encountered in less\n",
      "  indexer = np.where(op(left_distances, right_distances) |\n",
      "C:\\Users\\steve\\Anaconda3\\envs\\rasterenv\\lib\\site-packages\\pandas\\core\\indexes\\base.py:2825: RuntimeWarning: invalid value encountered in less_equal\n",
      "  indexer = np.where(op(left_distances, right_distances) |\n"
     ]
    },
    {
     "name": "stdout",
     "output_type": "stream",
     "text": [
      "(1501, 1995)\n"
     ]
    },
    {
     "name": "stderr",
     "output_type": "stream",
     "text": [
      "C:\\Users\\steve\\Anaconda3\\envs\\rasterenv\\lib\\site-packages\\ipykernel_launcher.py:14: UserWarning: Tight layout not applied. The left and right margins cannot be made large enough to accommodate all axes decorations. \n",
      "  \n",
      "C:\\Users\\steve\\Anaconda3\\envs\\rasterenv\\lib\\site-packages\\pandas\\core\\indexes\\base.py:2825: RuntimeWarning: invalid value encountered in less\n",
      "  indexer = np.where(op(left_distances, right_distances) |\n",
      "C:\\Users\\steve\\Anaconda3\\envs\\rasterenv\\lib\\site-packages\\pandas\\core\\indexes\\base.py:2825: RuntimeWarning: invalid value encountered in less_equal\n",
      "  indexer = np.where(op(left_distances, right_distances) |\n"
     ]
    },
    {
     "name": "stdout",
     "output_type": "stream",
     "text": [
      "(1501, 1995)\n"
     ]
    },
    {
     "name": "stderr",
     "output_type": "stream",
     "text": [
      "C:\\Users\\steve\\Anaconda3\\envs\\rasterenv\\lib\\site-packages\\ipykernel_launcher.py:14: UserWarning: Tight layout not applied. The left and right margins cannot be made large enough to accommodate all axes decorations. \n",
      "  \n",
      "C:\\Users\\steve\\Anaconda3\\envs\\rasterenv\\lib\\site-packages\\pandas\\core\\indexes\\base.py:2825: RuntimeWarning: invalid value encountered in less\n",
      "  indexer = np.where(op(left_distances, right_distances) |\n",
      "C:\\Users\\steve\\Anaconda3\\envs\\rasterenv\\lib\\site-packages\\pandas\\core\\indexes\\base.py:2825: RuntimeWarning: invalid value encountered in less_equal\n",
      "  indexer = np.where(op(left_distances, right_distances) |\n"
     ]
    },
    {
     "name": "stdout",
     "output_type": "stream",
     "text": [
      "(1501, 1995)\n"
     ]
    },
    {
     "name": "stderr",
     "output_type": "stream",
     "text": [
      "C:\\Users\\steve\\Anaconda3\\envs\\rasterenv\\lib\\site-packages\\ipykernel_launcher.py:14: UserWarning: Tight layout not applied. The left and right margins cannot be made large enough to accommodate all axes decorations. \n",
      "  \n",
      "C:\\Users\\steve\\Anaconda3\\envs\\rasterenv\\lib\\site-packages\\pandas\\core\\indexes\\base.py:2825: RuntimeWarning: invalid value encountered in less\n",
      "  indexer = np.where(op(left_distances, right_distances) |\n",
      "C:\\Users\\steve\\Anaconda3\\envs\\rasterenv\\lib\\site-packages\\pandas\\core\\indexes\\base.py:2825: RuntimeWarning: invalid value encountered in less_equal\n",
      "  indexer = np.where(op(left_distances, right_distances) |\n"
     ]
    },
    {
     "name": "stdout",
     "output_type": "stream",
     "text": [
      "(1501, 1995)\n"
     ]
    },
    {
     "name": "stderr",
     "output_type": "stream",
     "text": [
      "C:\\Users\\steve\\Anaconda3\\envs\\rasterenv\\lib\\site-packages\\ipykernel_launcher.py:14: UserWarning: Tight layout not applied. The left and right margins cannot be made large enough to accommodate all axes decorations. \n",
      "  \n",
      "C:\\Users\\steve\\Anaconda3\\envs\\rasterenv\\lib\\site-packages\\pandas\\core\\indexes\\base.py:2825: RuntimeWarning: invalid value encountered in less\n",
      "  indexer = np.where(op(left_distances, right_distances) |\n",
      "C:\\Users\\steve\\Anaconda3\\envs\\rasterenv\\lib\\site-packages\\pandas\\core\\indexes\\base.py:2825: RuntimeWarning: invalid value encountered in less_equal\n",
      "  indexer = np.where(op(left_distances, right_distances) |\n"
     ]
    },
    {
     "name": "stdout",
     "output_type": "stream",
     "text": [
      "(1501, 1995)\n"
     ]
    },
    {
     "name": "stderr",
     "output_type": "stream",
     "text": [
      "C:\\Users\\steve\\Anaconda3\\envs\\rasterenv\\lib\\site-packages\\ipykernel_launcher.py:14: UserWarning: Tight layout not applied. The left and right margins cannot be made large enough to accommodate all axes decorations. \n",
      "  \n",
      "C:\\Users\\steve\\Anaconda3\\envs\\rasterenv\\lib\\site-packages\\pandas\\core\\indexes\\base.py:2825: RuntimeWarning: invalid value encountered in less\n",
      "  indexer = np.where(op(left_distances, right_distances) |\n",
      "C:\\Users\\steve\\Anaconda3\\envs\\rasterenv\\lib\\site-packages\\pandas\\core\\indexes\\base.py:2825: RuntimeWarning: invalid value encountered in less_equal\n",
      "  indexer = np.where(op(left_distances, right_distances) |\n"
     ]
    },
    {
     "name": "stdout",
     "output_type": "stream",
     "text": [
      "(1501, 1995)\n"
     ]
    },
    {
     "name": "stderr",
     "output_type": "stream",
     "text": [
      "C:\\Users\\steve\\Anaconda3\\envs\\rasterenv\\lib\\site-packages\\ipykernel_launcher.py:14: UserWarning: Tight layout not applied. The left and right margins cannot be made large enough to accommodate all axes decorations. \n",
      "  \n",
      "C:\\Users\\steve\\Anaconda3\\envs\\rasterenv\\lib\\site-packages\\pandas\\core\\indexes\\base.py:2825: RuntimeWarning: invalid value encountered in less\n",
      "  indexer = np.where(op(left_distances, right_distances) |\n",
      "C:\\Users\\steve\\Anaconda3\\envs\\rasterenv\\lib\\site-packages\\pandas\\core\\indexes\\base.py:2825: RuntimeWarning: invalid value encountered in less_equal\n",
      "  indexer = np.where(op(left_distances, right_distances) |\n"
     ]
    },
    {
     "name": "stdout",
     "output_type": "stream",
     "text": [
      "(1501, 1995)\n"
     ]
    },
    {
     "name": "stderr",
     "output_type": "stream",
     "text": [
      "C:\\Users\\steve\\Anaconda3\\envs\\rasterenv\\lib\\site-packages\\ipykernel_launcher.py:14: UserWarning: Tight layout not applied. The left and right margins cannot be made large enough to accommodate all axes decorations. \n",
      "  \n",
      "C:\\Users\\steve\\Anaconda3\\envs\\rasterenv\\lib\\site-packages\\pandas\\core\\indexes\\base.py:2825: RuntimeWarning: invalid value encountered in less\n",
      "  indexer = np.where(op(left_distances, right_distances) |\n",
      "C:\\Users\\steve\\Anaconda3\\envs\\rasterenv\\lib\\site-packages\\pandas\\core\\indexes\\base.py:2825: RuntimeWarning: invalid value encountered in less_equal\n",
      "  indexer = np.where(op(left_distances, right_distances) |\n"
     ]
    },
    {
     "name": "stdout",
     "output_type": "stream",
     "text": [
      "(1501, 1995)\n"
     ]
    },
    {
     "name": "stderr",
     "output_type": "stream",
     "text": [
      "C:\\Users\\steve\\Anaconda3\\envs\\rasterenv\\lib\\site-packages\\ipykernel_launcher.py:14: UserWarning: Tight layout not applied. The left and right margins cannot be made large enough to accommodate all axes decorations. \n",
      "  \n",
      "C:\\Users\\steve\\Anaconda3\\envs\\rasterenv\\lib\\site-packages\\pandas\\core\\indexes\\base.py:2825: RuntimeWarning: invalid value encountered in less\n",
      "  indexer = np.where(op(left_distances, right_distances) |\n",
      "C:\\Users\\steve\\Anaconda3\\envs\\rasterenv\\lib\\site-packages\\pandas\\core\\indexes\\base.py:2825: RuntimeWarning: invalid value encountered in less_equal\n",
      "  indexer = np.where(op(left_distances, right_distances) |\n"
     ]
    },
    {
     "name": "stdout",
     "output_type": "stream",
     "text": [
      "(1501, 1995)\n"
     ]
    },
    {
     "name": "stderr",
     "output_type": "stream",
     "text": [
      "C:\\Users\\steve\\Anaconda3\\envs\\rasterenv\\lib\\site-packages\\ipykernel_launcher.py:14: UserWarning: Tight layout not applied. The left and right margins cannot be made large enough to accommodate all axes decorations. \n",
      "  \n",
      "C:\\Users\\steve\\Anaconda3\\envs\\rasterenv\\lib\\site-packages\\pandas\\core\\indexes\\base.py:2825: RuntimeWarning: invalid value encountered in less\n",
      "  indexer = np.where(op(left_distances, right_distances) |\n",
      "C:\\Users\\steve\\Anaconda3\\envs\\rasterenv\\lib\\site-packages\\pandas\\core\\indexes\\base.py:2825: RuntimeWarning: invalid value encountered in less_equal\n",
      "  indexer = np.where(op(left_distances, right_distances) |\n"
     ]
    },
    {
     "name": "stdout",
     "output_type": "stream",
     "text": [
      "(1501, 1995)\n"
     ]
    },
    {
     "name": "stderr",
     "output_type": "stream",
     "text": [
      "C:\\Users\\steve\\Anaconda3\\envs\\rasterenv\\lib\\site-packages\\ipykernel_launcher.py:14: UserWarning: Tight layout not applied. The left and right margins cannot be made large enough to accommodate all axes decorations. \n",
      "  \n",
      "C:\\Users\\steve\\Anaconda3\\envs\\rasterenv\\lib\\site-packages\\pandas\\core\\indexes\\base.py:2825: RuntimeWarning: invalid value encountered in less\n",
      "  indexer = np.where(op(left_distances, right_distances) |\n",
      "C:\\Users\\steve\\Anaconda3\\envs\\rasterenv\\lib\\site-packages\\pandas\\core\\indexes\\base.py:2825: RuntimeWarning: invalid value encountered in less_equal\n",
      "  indexer = np.where(op(left_distances, right_distances) |\n"
     ]
    },
    {
     "name": "stdout",
     "output_type": "stream",
     "text": [
      "(1501, 1995)\n"
     ]
    },
    {
     "name": "stderr",
     "output_type": "stream",
     "text": [
      "C:\\Users\\steve\\Anaconda3\\envs\\rasterenv\\lib\\site-packages\\ipykernel_launcher.py:14: UserWarning: Tight layout not applied. The left and right margins cannot be made large enough to accommodate all axes decorations. \n",
      "  \n",
      "C:\\Users\\steve\\Anaconda3\\envs\\rasterenv\\lib\\site-packages\\pandas\\core\\indexes\\base.py:2825: RuntimeWarning: invalid value encountered in less\n",
      "  indexer = np.where(op(left_distances, right_distances) |\n",
      "C:\\Users\\steve\\Anaconda3\\envs\\rasterenv\\lib\\site-packages\\pandas\\core\\indexes\\base.py:2825: RuntimeWarning: invalid value encountered in less_equal\n",
      "  indexer = np.where(op(left_distances, right_distances) |\n"
     ]
    },
    {
     "name": "stdout",
     "output_type": "stream",
     "text": [
      "(1501, 1995)\n"
     ]
    },
    {
     "name": "stderr",
     "output_type": "stream",
     "text": [
      "C:\\Users\\steve\\Anaconda3\\envs\\rasterenv\\lib\\site-packages\\ipykernel_launcher.py:14: UserWarning: Tight layout not applied. The left and right margins cannot be made large enough to accommodate all axes decorations. \n",
      "  \n",
      "C:\\Users\\steve\\Anaconda3\\envs\\rasterenv\\lib\\site-packages\\pandas\\core\\indexes\\base.py:2825: RuntimeWarning: invalid value encountered in less\n",
      "  indexer = np.where(op(left_distances, right_distances) |\n",
      "C:\\Users\\steve\\Anaconda3\\envs\\rasterenv\\lib\\site-packages\\pandas\\core\\indexes\\base.py:2825: RuntimeWarning: invalid value encountered in less_equal\n",
      "  indexer = np.where(op(left_distances, right_distances) |\n"
     ]
    },
    {
     "name": "stdout",
     "output_type": "stream",
     "text": [
      "(1501, 1995)\n"
     ]
    },
    {
     "name": "stderr",
     "output_type": "stream",
     "text": [
      "C:\\Users\\steve\\Anaconda3\\envs\\rasterenv\\lib\\site-packages\\ipykernel_launcher.py:14: UserWarning: Tight layout not applied. The left and right margins cannot be made large enough to accommodate all axes decorations. \n",
      "  \n",
      "C:\\Users\\steve\\Anaconda3\\envs\\rasterenv\\lib\\site-packages\\pandas\\core\\indexes\\base.py:2825: RuntimeWarning: invalid value encountered in less\n",
      "  indexer = np.where(op(left_distances, right_distances) |\n",
      "C:\\Users\\steve\\Anaconda3\\envs\\rasterenv\\lib\\site-packages\\pandas\\core\\indexes\\base.py:2825: RuntimeWarning: invalid value encountered in less_equal\n",
      "  indexer = np.where(op(left_distances, right_distances) |\n"
     ]
    },
    {
     "name": "stdout",
     "output_type": "stream",
     "text": [
      "(1501, 1995)\n"
     ]
    },
    {
     "name": "stderr",
     "output_type": "stream",
     "text": [
      "C:\\Users\\steve\\Anaconda3\\envs\\rasterenv\\lib\\site-packages\\ipykernel_launcher.py:14: UserWarning: Tight layout not applied. The left and right margins cannot be made large enough to accommodate all axes decorations. \n",
      "  \n",
      "C:\\Users\\steve\\Anaconda3\\envs\\rasterenv\\lib\\site-packages\\pandas\\core\\indexes\\base.py:2825: RuntimeWarning: invalid value encountered in less\n",
      "  indexer = np.where(op(left_distances, right_distances) |\n",
      "C:\\Users\\steve\\Anaconda3\\envs\\rasterenv\\lib\\site-packages\\pandas\\core\\indexes\\base.py:2825: RuntimeWarning: invalid value encountered in less_equal\n",
      "  indexer = np.where(op(left_distances, right_distances) |\n"
     ]
    },
    {
     "name": "stdout",
     "output_type": "stream",
     "text": [
      "(1501, 1995)\n"
     ]
    },
    {
     "name": "stderr",
     "output_type": "stream",
     "text": [
      "C:\\Users\\steve\\Anaconda3\\envs\\rasterenv\\lib\\site-packages\\ipykernel_launcher.py:14: UserWarning: Tight layout not applied. The left and right margins cannot be made large enough to accommodate all axes decorations. \n",
      "  \n",
      "C:\\Users\\steve\\Anaconda3\\envs\\rasterenv\\lib\\site-packages\\pandas\\core\\indexes\\base.py:2825: RuntimeWarning: invalid value encountered in less\n",
      "  indexer = np.where(op(left_distances, right_distances) |\n",
      "C:\\Users\\steve\\Anaconda3\\envs\\rasterenv\\lib\\site-packages\\pandas\\core\\indexes\\base.py:2825: RuntimeWarning: invalid value encountered in less_equal\n",
      "  indexer = np.where(op(left_distances, right_distances) |\n"
     ]
    },
    {
     "name": "stdout",
     "output_type": "stream",
     "text": [
      "(1501, 1995)\n"
     ]
    },
    {
     "name": "stderr",
     "output_type": "stream",
     "text": [
      "C:\\Users\\steve\\Anaconda3\\envs\\rasterenv\\lib\\site-packages\\ipykernel_launcher.py:14: UserWarning: Tight layout not applied. The left and right margins cannot be made large enough to accommodate all axes decorations. \n",
      "  \n",
      "C:\\Users\\steve\\Anaconda3\\envs\\rasterenv\\lib\\site-packages\\pandas\\core\\indexes\\base.py:2825: RuntimeWarning: invalid value encountered in less\n",
      "  indexer = np.where(op(left_distances, right_distances) |\n",
      "C:\\Users\\steve\\Anaconda3\\envs\\rasterenv\\lib\\site-packages\\pandas\\core\\indexes\\base.py:2825: RuntimeWarning: invalid value encountered in less_equal\n",
      "  indexer = np.where(op(left_distances, right_distances) |\n"
     ]
    },
    {
     "name": "stdout",
     "output_type": "stream",
     "text": [
      "(1501, 1995)\n"
     ]
    },
    {
     "name": "stderr",
     "output_type": "stream",
     "text": [
      "C:\\Users\\steve\\Anaconda3\\envs\\rasterenv\\lib\\site-packages\\ipykernel_launcher.py:14: UserWarning: Tight layout not applied. The left and right margins cannot be made large enough to accommodate all axes decorations. \n",
      "  \n",
      "C:\\Users\\steve\\Anaconda3\\envs\\rasterenv\\lib\\site-packages\\pandas\\core\\indexes\\base.py:2825: RuntimeWarning: invalid value encountered in less\n",
      "  indexer = np.where(op(left_distances, right_distances) |\n",
      "C:\\Users\\steve\\Anaconda3\\envs\\rasterenv\\lib\\site-packages\\pandas\\core\\indexes\\base.py:2825: RuntimeWarning: invalid value encountered in less_equal\n",
      "  indexer = np.where(op(left_distances, right_distances) |\n"
     ]
    },
    {
     "name": "stdout",
     "output_type": "stream",
     "text": [
      "(1501, 1995)\n"
     ]
    },
    {
     "name": "stderr",
     "output_type": "stream",
     "text": [
      "C:\\Users\\steve\\Anaconda3\\envs\\rasterenv\\lib\\site-packages\\ipykernel_launcher.py:14: UserWarning: Tight layout not applied. The left and right margins cannot be made large enough to accommodate all axes decorations. \n",
      "  \n",
      "C:\\Users\\steve\\Anaconda3\\envs\\rasterenv\\lib\\site-packages\\pandas\\core\\indexes\\base.py:2825: RuntimeWarning: invalid value encountered in less\n",
      "  indexer = np.where(op(left_distances, right_distances) |\n",
      "C:\\Users\\steve\\Anaconda3\\envs\\rasterenv\\lib\\site-packages\\pandas\\core\\indexes\\base.py:2825: RuntimeWarning: invalid value encountered in less_equal\n",
      "  indexer = np.where(op(left_distances, right_distances) |\n"
     ]
    },
    {
     "name": "stdout",
     "output_type": "stream",
     "text": [
      "(1501, 1995)\n"
     ]
    },
    {
     "name": "stderr",
     "output_type": "stream",
     "text": [
      "C:\\Users\\steve\\Anaconda3\\envs\\rasterenv\\lib\\site-packages\\ipykernel_launcher.py:14: UserWarning: Tight layout not applied. The left and right margins cannot be made large enough to accommodate all axes decorations. \n",
      "  \n",
      "C:\\Users\\steve\\Anaconda3\\envs\\rasterenv\\lib\\site-packages\\pandas\\core\\indexes\\base.py:2825: RuntimeWarning: invalid value encountered in less\n",
      "  indexer = np.where(op(left_distances, right_distances) |\n",
      "C:\\Users\\steve\\Anaconda3\\envs\\rasterenv\\lib\\site-packages\\pandas\\core\\indexes\\base.py:2825: RuntimeWarning: invalid value encountered in less_equal\n",
      "  indexer = np.where(op(left_distances, right_distances) |\n"
     ]
    },
    {
     "name": "stdout",
     "output_type": "stream",
     "text": [
      "(1501, 1995)\n"
     ]
    },
    {
     "name": "stderr",
     "output_type": "stream",
     "text": [
      "C:\\Users\\steve\\Anaconda3\\envs\\rasterenv\\lib\\site-packages\\ipykernel_launcher.py:14: UserWarning: Tight layout not applied. The left and right margins cannot be made large enough to accommodate all axes decorations. \n",
      "  \n",
      "C:\\Users\\steve\\Anaconda3\\envs\\rasterenv\\lib\\site-packages\\pandas\\core\\indexes\\base.py:2825: RuntimeWarning: invalid value encountered in less\n",
      "  indexer = np.where(op(left_distances, right_distances) |\n",
      "C:\\Users\\steve\\Anaconda3\\envs\\rasterenv\\lib\\site-packages\\pandas\\core\\indexes\\base.py:2825: RuntimeWarning: invalid value encountered in less_equal\n",
      "  indexer = np.where(op(left_distances, right_distances) |\n"
     ]
    },
    {
     "name": "stdout",
     "output_type": "stream",
     "text": [
      "(1501, 1995)\n"
     ]
    },
    {
     "name": "stderr",
     "output_type": "stream",
     "text": [
      "C:\\Users\\steve\\Anaconda3\\envs\\rasterenv\\lib\\site-packages\\ipykernel_launcher.py:14: UserWarning: Tight layout not applied. The left and right margins cannot be made large enough to accommodate all axes decorations. \n",
      "  \n",
      "C:\\Users\\steve\\Anaconda3\\envs\\rasterenv\\lib\\site-packages\\pandas\\core\\indexes\\base.py:2825: RuntimeWarning: invalid value encountered in less\n",
      "  indexer = np.where(op(left_distances, right_distances) |\n",
      "C:\\Users\\steve\\Anaconda3\\envs\\rasterenv\\lib\\site-packages\\pandas\\core\\indexes\\base.py:2825: RuntimeWarning: invalid value encountered in less_equal\n",
      "  indexer = np.where(op(left_distances, right_distances) |\n"
     ]
    },
    {
     "name": "stdout",
     "output_type": "stream",
     "text": [
      "(1501, 1995)\n"
     ]
    },
    {
     "name": "stderr",
     "output_type": "stream",
     "text": [
      "C:\\Users\\steve\\Anaconda3\\envs\\rasterenv\\lib\\site-packages\\ipykernel_launcher.py:14: UserWarning: Tight layout not applied. The left and right margins cannot be made large enough to accommodate all axes decorations. \n",
      "  \n",
      "C:\\Users\\steve\\Anaconda3\\envs\\rasterenv\\lib\\site-packages\\pandas\\core\\indexes\\base.py:2825: RuntimeWarning: invalid value encountered in less\n",
      "  indexer = np.where(op(left_distances, right_distances) |\n",
      "C:\\Users\\steve\\Anaconda3\\envs\\rasterenv\\lib\\site-packages\\pandas\\core\\indexes\\base.py:2825: RuntimeWarning: invalid value encountered in less_equal\n",
      "  indexer = np.where(op(left_distances, right_distances) |\n"
     ]
    },
    {
     "name": "stdout",
     "output_type": "stream",
     "text": [
      "(1501, 1995)\n"
     ]
    },
    {
     "name": "stderr",
     "output_type": "stream",
     "text": [
      "C:\\Users\\steve\\Anaconda3\\envs\\rasterenv\\lib\\site-packages\\ipykernel_launcher.py:14: UserWarning: Tight layout not applied. The left and right margins cannot be made large enough to accommodate all axes decorations. \n",
      "  \n",
      "C:\\Users\\steve\\Anaconda3\\envs\\rasterenv\\lib\\site-packages\\pandas\\core\\indexes\\base.py:2825: RuntimeWarning: invalid value encountered in less\n",
      "  indexer = np.where(op(left_distances, right_distances) |\n",
      "C:\\Users\\steve\\Anaconda3\\envs\\rasterenv\\lib\\site-packages\\pandas\\core\\indexes\\base.py:2825: RuntimeWarning: invalid value encountered in less_equal\n",
      "  indexer = np.where(op(left_distances, right_distances) |\n"
     ]
    },
    {
     "name": "stdout",
     "output_type": "stream",
     "text": [
      "(1501, 1995)\n"
     ]
    },
    {
     "name": "stderr",
     "output_type": "stream",
     "text": [
      "C:\\Users\\steve\\Anaconda3\\envs\\rasterenv\\lib\\site-packages\\ipykernel_launcher.py:14: UserWarning: Tight layout not applied. The left and right margins cannot be made large enough to accommodate all axes decorations. \n",
      "  \n",
      "C:\\Users\\steve\\Anaconda3\\envs\\rasterenv\\lib\\site-packages\\pandas\\core\\indexes\\base.py:2825: RuntimeWarning: invalid value encountered in less\n",
      "  indexer = np.where(op(left_distances, right_distances) |\n",
      "C:\\Users\\steve\\Anaconda3\\envs\\rasterenv\\lib\\site-packages\\pandas\\core\\indexes\\base.py:2825: RuntimeWarning: invalid value encountered in less_equal\n",
      "  indexer = np.where(op(left_distances, right_distances) |\n"
     ]
    },
    {
     "name": "stdout",
     "output_type": "stream",
     "text": [
      "(1501, 1995)\n"
     ]
    },
    {
     "name": "stderr",
     "output_type": "stream",
     "text": [
      "C:\\Users\\steve\\Anaconda3\\envs\\rasterenv\\lib\\site-packages\\ipykernel_launcher.py:14: UserWarning: Tight layout not applied. The left and right margins cannot be made large enough to accommodate all axes decorations. \n",
      "  \n",
      "C:\\Users\\steve\\Anaconda3\\envs\\rasterenv\\lib\\site-packages\\pandas\\core\\indexes\\base.py:2825: RuntimeWarning: invalid value encountered in less\n",
      "  indexer = np.where(op(left_distances, right_distances) |\n",
      "C:\\Users\\steve\\Anaconda3\\envs\\rasterenv\\lib\\site-packages\\pandas\\core\\indexes\\base.py:2825: RuntimeWarning: invalid value encountered in less_equal\n",
      "  indexer = np.where(op(left_distances, right_distances) |\n"
     ]
    },
    {
     "name": "stdout",
     "output_type": "stream",
     "text": [
      "(1501, 1995)\n"
     ]
    },
    {
     "name": "stderr",
     "output_type": "stream",
     "text": [
      "C:\\Users\\steve\\Anaconda3\\envs\\rasterenv\\lib\\site-packages\\ipykernel_launcher.py:14: UserWarning: Tight layout not applied. The left and right margins cannot be made large enough to accommodate all axes decorations. \n",
      "  \n",
      "C:\\Users\\steve\\Anaconda3\\envs\\rasterenv\\lib\\site-packages\\pandas\\core\\indexes\\base.py:2825: RuntimeWarning: invalid value encountered in less\n",
      "  indexer = np.where(op(left_distances, right_distances) |\n",
      "C:\\Users\\steve\\Anaconda3\\envs\\rasterenv\\lib\\site-packages\\pandas\\core\\indexes\\base.py:2825: RuntimeWarning: invalid value encountered in less_equal\n",
      "  indexer = np.where(op(left_distances, right_distances) |\n"
     ]
    },
    {
     "name": "stdout",
     "output_type": "stream",
     "text": [
      "(1501, 1995)\n"
     ]
    },
    {
     "name": "stderr",
     "output_type": "stream",
     "text": [
      "C:\\Users\\steve\\Anaconda3\\envs\\rasterenv\\lib\\site-packages\\ipykernel_launcher.py:14: UserWarning: Tight layout not applied. The left and right margins cannot be made large enough to accommodate all axes decorations. \n",
      "  \n",
      "C:\\Users\\steve\\Anaconda3\\envs\\rasterenv\\lib\\site-packages\\pandas\\core\\indexes\\base.py:2825: RuntimeWarning: invalid value encountered in less\n",
      "  indexer = np.where(op(left_distances, right_distances) |\n",
      "C:\\Users\\steve\\Anaconda3\\envs\\rasterenv\\lib\\site-packages\\pandas\\core\\indexes\\base.py:2825: RuntimeWarning: invalid value encountered in less_equal\n",
      "  indexer = np.where(op(left_distances, right_distances) |\n"
     ]
    },
    {
     "name": "stdout",
     "output_type": "stream",
     "text": [
      "(1501, 1995)\n"
     ]
    },
    {
     "name": "stderr",
     "output_type": "stream",
     "text": [
      "C:\\Users\\steve\\Anaconda3\\envs\\rasterenv\\lib\\site-packages\\ipykernel_launcher.py:14: UserWarning: Tight layout not applied. The left and right margins cannot be made large enough to accommodate all axes decorations. \n",
      "  \n",
      "C:\\Users\\steve\\Anaconda3\\envs\\rasterenv\\lib\\site-packages\\pandas\\core\\indexes\\base.py:2825: RuntimeWarning: invalid value encountered in less\n",
      "  indexer = np.where(op(left_distances, right_distances) |\n",
      "C:\\Users\\steve\\Anaconda3\\envs\\rasterenv\\lib\\site-packages\\pandas\\core\\indexes\\base.py:2825: RuntimeWarning: invalid value encountered in less_equal\n",
      "  indexer = np.where(op(left_distances, right_distances) |\n"
     ]
    },
    {
     "name": "stdout",
     "output_type": "stream",
     "text": [
      "(1501, 1995)\n"
     ]
    },
    {
     "name": "stderr",
     "output_type": "stream",
     "text": [
      "C:\\Users\\steve\\Anaconda3\\envs\\rasterenv\\lib\\site-packages\\ipykernel_launcher.py:14: UserWarning: Tight layout not applied. The left and right margins cannot be made large enough to accommodate all axes decorations. \n",
      "  \n",
      "C:\\Users\\steve\\Anaconda3\\envs\\rasterenv\\lib\\site-packages\\pandas\\core\\indexes\\base.py:2825: RuntimeWarning: invalid value encountered in less\n",
      "  indexer = np.where(op(left_distances, right_distances) |\n",
      "C:\\Users\\steve\\Anaconda3\\envs\\rasterenv\\lib\\site-packages\\pandas\\core\\indexes\\base.py:2825: RuntimeWarning: invalid value encountered in less_equal\n",
      "  indexer = np.where(op(left_distances, right_distances) |\n"
     ]
    },
    {
     "name": "stdout",
     "output_type": "stream",
     "text": [
      "(1501, 1995)\n"
     ]
    },
    {
     "name": "stderr",
     "output_type": "stream",
     "text": [
      "C:\\Users\\steve\\Anaconda3\\envs\\rasterenv\\lib\\site-packages\\ipykernel_launcher.py:14: UserWarning: Tight layout not applied. The left and right margins cannot be made large enough to accommodate all axes decorations. \n",
      "  \n",
      "C:\\Users\\steve\\Anaconda3\\envs\\rasterenv\\lib\\site-packages\\pandas\\core\\indexes\\base.py:2825: RuntimeWarning: invalid value encountered in less\n",
      "  indexer = np.where(op(left_distances, right_distances) |\n",
      "C:\\Users\\steve\\Anaconda3\\envs\\rasterenv\\lib\\site-packages\\pandas\\core\\indexes\\base.py:2825: RuntimeWarning: invalid value encountered in less_equal\n",
      "  indexer = np.where(op(left_distances, right_distances) |\n"
     ]
    },
    {
     "name": "stdout",
     "output_type": "stream",
     "text": [
      "(1501, 1995)\n"
     ]
    },
    {
     "name": "stderr",
     "output_type": "stream",
     "text": [
      "C:\\Users\\steve\\Anaconda3\\envs\\rasterenv\\lib\\site-packages\\ipykernel_launcher.py:14: UserWarning: Tight layout not applied. The left and right margins cannot be made large enough to accommodate all axes decorations. \n",
      "  \n",
      "C:\\Users\\steve\\Anaconda3\\envs\\rasterenv\\lib\\site-packages\\pandas\\core\\indexes\\base.py:2825: RuntimeWarning: invalid value encountered in less\n",
      "  indexer = np.where(op(left_distances, right_distances) |\n",
      "C:\\Users\\steve\\Anaconda3\\envs\\rasterenv\\lib\\site-packages\\pandas\\core\\indexes\\base.py:2825: RuntimeWarning: invalid value encountered in less_equal\n",
      "  indexer = np.where(op(left_distances, right_distances) |\n"
     ]
    },
    {
     "name": "stdout",
     "output_type": "stream",
     "text": [
      "(1501, 1995)\n"
     ]
    },
    {
     "name": "stderr",
     "output_type": "stream",
     "text": [
      "C:\\Users\\steve\\Anaconda3\\envs\\rasterenv\\lib\\site-packages\\ipykernel_launcher.py:14: UserWarning: Tight layout not applied. The left and right margins cannot be made large enough to accommodate all axes decorations. \n",
      "  \n",
      "C:\\Users\\steve\\Anaconda3\\envs\\rasterenv\\lib\\site-packages\\pandas\\core\\indexes\\base.py:2825: RuntimeWarning: invalid value encountered in less\n",
      "  indexer = np.where(op(left_distances, right_distances) |\n",
      "C:\\Users\\steve\\Anaconda3\\envs\\rasterenv\\lib\\site-packages\\pandas\\core\\indexes\\base.py:2825: RuntimeWarning: invalid value encountered in less_equal\n",
      "  indexer = np.where(op(left_distances, right_distances) |\n"
     ]
    },
    {
     "name": "stdout",
     "output_type": "stream",
     "text": [
      "(1501, 1995)\n"
     ]
    },
    {
     "name": "stderr",
     "output_type": "stream",
     "text": [
      "C:\\Users\\steve\\Anaconda3\\envs\\rasterenv\\lib\\site-packages\\ipykernel_launcher.py:14: UserWarning: Tight layout not applied. The left and right margins cannot be made large enough to accommodate all axes decorations. \n",
      "  \n",
      "C:\\Users\\steve\\Anaconda3\\envs\\rasterenv\\lib\\site-packages\\pandas\\core\\indexes\\base.py:2825: RuntimeWarning: invalid value encountered in less\n",
      "  indexer = np.where(op(left_distances, right_distances) |\n",
      "C:\\Users\\steve\\Anaconda3\\envs\\rasterenv\\lib\\site-packages\\pandas\\core\\indexes\\base.py:2825: RuntimeWarning: invalid value encountered in less_equal\n",
      "  indexer = np.where(op(left_distances, right_distances) |\n"
     ]
    },
    {
     "name": "stdout",
     "output_type": "stream",
     "text": [
      "(1501, 1995)\n"
     ]
    },
    {
     "name": "stderr",
     "output_type": "stream",
     "text": [
      "C:\\Users\\steve\\Anaconda3\\envs\\rasterenv\\lib\\site-packages\\ipykernel_launcher.py:14: UserWarning: Tight layout not applied. The left and right margins cannot be made large enough to accommodate all axes decorations. \n",
      "  \n",
      "C:\\Users\\steve\\Anaconda3\\envs\\rasterenv\\lib\\site-packages\\pandas\\core\\indexes\\base.py:2825: RuntimeWarning: invalid value encountered in less\n",
      "  indexer = np.where(op(left_distances, right_distances) |\n",
      "C:\\Users\\steve\\Anaconda3\\envs\\rasterenv\\lib\\site-packages\\pandas\\core\\indexes\\base.py:2825: RuntimeWarning: invalid value encountered in less_equal\n",
      "  indexer = np.where(op(left_distances, right_distances) |\n"
     ]
    },
    {
     "name": "stdout",
     "output_type": "stream",
     "text": [
      "(1501, 1995)\n"
     ]
    },
    {
     "name": "stderr",
     "output_type": "stream",
     "text": [
      "C:\\Users\\steve\\Anaconda3\\envs\\rasterenv\\lib\\site-packages\\ipykernel_launcher.py:14: UserWarning: Tight layout not applied. The left and right margins cannot be made large enough to accommodate all axes decorations. \n",
      "  \n",
      "C:\\Users\\steve\\Anaconda3\\envs\\rasterenv\\lib\\site-packages\\pandas\\core\\indexes\\base.py:2825: RuntimeWarning: invalid value encountered in less\n",
      "  indexer = np.where(op(left_distances, right_distances) |\n",
      "C:\\Users\\steve\\Anaconda3\\envs\\rasterenv\\lib\\site-packages\\pandas\\core\\indexes\\base.py:2825: RuntimeWarning: invalid value encountered in less_equal\n",
      "  indexer = np.where(op(left_distances, right_distances) |\n"
     ]
    },
    {
     "name": "stdout",
     "output_type": "stream",
     "text": [
      "(1501, 1995)\n"
     ]
    },
    {
     "name": "stderr",
     "output_type": "stream",
     "text": [
      "C:\\Users\\steve\\Anaconda3\\envs\\rasterenv\\lib\\site-packages\\ipykernel_launcher.py:14: UserWarning: Tight layout not applied. The left and right margins cannot be made large enough to accommodate all axes decorations. \n",
      "  \n",
      "C:\\Users\\steve\\Anaconda3\\envs\\rasterenv\\lib\\site-packages\\pandas\\core\\indexes\\base.py:2825: RuntimeWarning: invalid value encountered in less\n",
      "  indexer = np.where(op(left_distances, right_distances) |\n",
      "C:\\Users\\steve\\Anaconda3\\envs\\rasterenv\\lib\\site-packages\\pandas\\core\\indexes\\base.py:2825: RuntimeWarning: invalid value encountered in less_equal\n",
      "  indexer = np.where(op(left_distances, right_distances) |\n"
     ]
    },
    {
     "name": "stdout",
     "output_type": "stream",
     "text": [
      "(1501, 1995)\n"
     ]
    },
    {
     "name": "stderr",
     "output_type": "stream",
     "text": [
      "C:\\Users\\steve\\Anaconda3\\envs\\rasterenv\\lib\\site-packages\\ipykernel_launcher.py:14: UserWarning: Tight layout not applied. The left and right margins cannot be made large enough to accommodate all axes decorations. \n",
      "  \n",
      "C:\\Users\\steve\\Anaconda3\\envs\\rasterenv\\lib\\site-packages\\pandas\\core\\indexes\\base.py:2825: RuntimeWarning: invalid value encountered in less\n",
      "  indexer = np.where(op(left_distances, right_distances) |\n",
      "C:\\Users\\steve\\Anaconda3\\envs\\rasterenv\\lib\\site-packages\\pandas\\core\\indexes\\base.py:2825: RuntimeWarning: invalid value encountered in less_equal\n",
      "  indexer = np.where(op(left_distances, right_distances) |\n"
     ]
    },
    {
     "name": "stdout",
     "output_type": "stream",
     "text": [
      "(1501, 1995)\n"
     ]
    },
    {
     "name": "stderr",
     "output_type": "stream",
     "text": [
      "C:\\Users\\steve\\Anaconda3\\envs\\rasterenv\\lib\\site-packages\\ipykernel_launcher.py:14: UserWarning: Tight layout not applied. The left and right margins cannot be made large enough to accommodate all axes decorations. \n",
      "  \n",
      "C:\\Users\\steve\\Anaconda3\\envs\\rasterenv\\lib\\site-packages\\pandas\\core\\indexes\\base.py:2825: RuntimeWarning: invalid value encountered in less\n",
      "  indexer = np.where(op(left_distances, right_distances) |\n",
      "C:\\Users\\steve\\Anaconda3\\envs\\rasterenv\\lib\\site-packages\\pandas\\core\\indexes\\base.py:2825: RuntimeWarning: invalid value encountered in less_equal\n",
      "  indexer = np.where(op(left_distances, right_distances) |\n"
     ]
    },
    {
     "name": "stdout",
     "output_type": "stream",
     "text": [
      "(1501, 1995)\n"
     ]
    },
    {
     "name": "stderr",
     "output_type": "stream",
     "text": [
      "C:\\Users\\steve\\Anaconda3\\envs\\rasterenv\\lib\\site-packages\\ipykernel_launcher.py:14: UserWarning: Tight layout not applied. The left and right margins cannot be made large enough to accommodate all axes decorations. \n",
      "  \n",
      "C:\\Users\\steve\\Anaconda3\\envs\\rasterenv\\lib\\site-packages\\pandas\\core\\indexes\\base.py:2825: RuntimeWarning: invalid value encountered in less\n",
      "  indexer = np.where(op(left_distances, right_distances) |\n",
      "C:\\Users\\steve\\Anaconda3\\envs\\rasterenv\\lib\\site-packages\\pandas\\core\\indexes\\base.py:2825: RuntimeWarning: invalid value encountered in less_equal\n",
      "  indexer = np.where(op(left_distances, right_distances) |\n"
     ]
    },
    {
     "name": "stdout",
     "output_type": "stream",
     "text": [
      "(1501, 1995)\n"
     ]
    },
    {
     "name": "stderr",
     "output_type": "stream",
     "text": [
      "C:\\Users\\steve\\Anaconda3\\envs\\rasterenv\\lib\\site-packages\\ipykernel_launcher.py:14: UserWarning: Tight layout not applied. The left and right margins cannot be made large enough to accommodate all axes decorations. \n",
      "  \n",
      "C:\\Users\\steve\\Anaconda3\\envs\\rasterenv\\lib\\site-packages\\pandas\\core\\indexes\\base.py:2825: RuntimeWarning: invalid value encountered in less\n",
      "  indexer = np.where(op(left_distances, right_distances) |\n",
      "C:\\Users\\steve\\Anaconda3\\envs\\rasterenv\\lib\\site-packages\\pandas\\core\\indexes\\base.py:2825: RuntimeWarning: invalid value encountered in less_equal\n",
      "  indexer = np.where(op(left_distances, right_distances) |\n"
     ]
    },
    {
     "name": "stdout",
     "output_type": "stream",
     "text": [
      "(1501, 1995)\n"
     ]
    },
    {
     "name": "stderr",
     "output_type": "stream",
     "text": [
      "C:\\Users\\steve\\Anaconda3\\envs\\rasterenv\\lib\\site-packages\\ipykernel_launcher.py:14: UserWarning: Tight layout not applied. The left and right margins cannot be made large enough to accommodate all axes decorations. \n",
      "  \n",
      "C:\\Users\\steve\\Anaconda3\\envs\\rasterenv\\lib\\site-packages\\pandas\\core\\indexes\\base.py:2825: RuntimeWarning: invalid value encountered in less\n",
      "  indexer = np.where(op(left_distances, right_distances) |\n",
      "C:\\Users\\steve\\Anaconda3\\envs\\rasterenv\\lib\\site-packages\\pandas\\core\\indexes\\base.py:2825: RuntimeWarning: invalid value encountered in less_equal\n",
      "  indexer = np.where(op(left_distances, right_distances) |\n"
     ]
    },
    {
     "name": "stdout",
     "output_type": "stream",
     "text": [
      "(1501, 1995)\n"
     ]
    },
    {
     "name": "stderr",
     "output_type": "stream",
     "text": [
      "C:\\Users\\steve\\Anaconda3\\envs\\rasterenv\\lib\\site-packages\\ipykernel_launcher.py:14: UserWarning: Tight layout not applied. The left and right margins cannot be made large enough to accommodate all axes decorations. \n",
      "  \n",
      "C:\\Users\\steve\\Anaconda3\\envs\\rasterenv\\lib\\site-packages\\pandas\\core\\indexes\\base.py:2825: RuntimeWarning: invalid value encountered in less\n",
      "  indexer = np.where(op(left_distances, right_distances) |\n",
      "C:\\Users\\steve\\Anaconda3\\envs\\rasterenv\\lib\\site-packages\\pandas\\core\\indexes\\base.py:2825: RuntimeWarning: invalid value encountered in less_equal\n",
      "  indexer = np.where(op(left_distances, right_distances) |\n"
     ]
    },
    {
     "name": "stdout",
     "output_type": "stream",
     "text": [
      "(1501, 1995)\n"
     ]
    },
    {
     "name": "stderr",
     "output_type": "stream",
     "text": [
      "C:\\Users\\steve\\Anaconda3\\envs\\rasterenv\\lib\\site-packages\\ipykernel_launcher.py:14: UserWarning: Tight layout not applied. The left and right margins cannot be made large enough to accommodate all axes decorations. \n",
      "  \n",
      "C:\\Users\\steve\\Anaconda3\\envs\\rasterenv\\lib\\site-packages\\pandas\\core\\indexes\\base.py:2825: RuntimeWarning: invalid value encountered in less\n",
      "  indexer = np.where(op(left_distances, right_distances) |\n",
      "C:\\Users\\steve\\Anaconda3\\envs\\rasterenv\\lib\\site-packages\\pandas\\core\\indexes\\base.py:2825: RuntimeWarning: invalid value encountered in less_equal\n",
      "  indexer = np.where(op(left_distances, right_distances) |\n"
     ]
    },
    {
     "name": "stdout",
     "output_type": "stream",
     "text": [
      "(1501, 1995)\n"
     ]
    },
    {
     "name": "stderr",
     "output_type": "stream",
     "text": [
      "C:\\Users\\steve\\Anaconda3\\envs\\rasterenv\\lib\\site-packages\\ipykernel_launcher.py:14: UserWarning: Tight layout not applied. The left and right margins cannot be made large enough to accommodate all axes decorations. \n",
      "  \n",
      "C:\\Users\\steve\\Anaconda3\\envs\\rasterenv\\lib\\site-packages\\pandas\\core\\indexes\\base.py:2825: RuntimeWarning: invalid value encountered in less\n",
      "  indexer = np.where(op(left_distances, right_distances) |\n",
      "C:\\Users\\steve\\Anaconda3\\envs\\rasterenv\\lib\\site-packages\\pandas\\core\\indexes\\base.py:2825: RuntimeWarning: invalid value encountered in less_equal\n",
      "  indexer = np.where(op(left_distances, right_distances) |\n"
     ]
    },
    {
     "name": "stdout",
     "output_type": "stream",
     "text": [
      "(1501, 1995)\n"
     ]
    },
    {
     "name": "stderr",
     "output_type": "stream",
     "text": [
      "C:\\Users\\steve\\Anaconda3\\envs\\rasterenv\\lib\\site-packages\\ipykernel_launcher.py:14: UserWarning: Tight layout not applied. The left and right margins cannot be made large enough to accommodate all axes decorations. \n",
      "  \n",
      "C:\\Users\\steve\\Anaconda3\\envs\\rasterenv\\lib\\site-packages\\pandas\\core\\indexes\\base.py:2825: RuntimeWarning: invalid value encountered in less\n",
      "  indexer = np.where(op(left_distances, right_distances) |\n",
      "C:\\Users\\steve\\Anaconda3\\envs\\rasterenv\\lib\\site-packages\\pandas\\core\\indexes\\base.py:2825: RuntimeWarning: invalid value encountered in less_equal\n",
      "  indexer = np.where(op(left_distances, right_distances) |\n"
     ]
    },
    {
     "name": "stdout",
     "output_type": "stream",
     "text": [
      "(1501, 1995)\n"
     ]
    },
    {
     "name": "stderr",
     "output_type": "stream",
     "text": [
      "C:\\Users\\steve\\Anaconda3\\envs\\rasterenv\\lib\\site-packages\\ipykernel_launcher.py:14: UserWarning: Tight layout not applied. The left and right margins cannot be made large enough to accommodate all axes decorations. \n",
      "  \n",
      "C:\\Users\\steve\\Anaconda3\\envs\\rasterenv\\lib\\site-packages\\pandas\\core\\indexes\\base.py:2825: RuntimeWarning: invalid value encountered in less\n",
      "  indexer = np.where(op(left_distances, right_distances) |\n",
      "C:\\Users\\steve\\Anaconda3\\envs\\rasterenv\\lib\\site-packages\\pandas\\core\\indexes\\base.py:2825: RuntimeWarning: invalid value encountered in less_equal\n",
      "  indexer = np.where(op(left_distances, right_distances) |\n"
     ]
    },
    {
     "name": "stdout",
     "output_type": "stream",
     "text": [
      "(1501, 1995)\n"
     ]
    },
    {
     "name": "stderr",
     "output_type": "stream",
     "text": [
      "C:\\Users\\steve\\Anaconda3\\envs\\rasterenv\\lib\\site-packages\\ipykernel_launcher.py:14: UserWarning: Tight layout not applied. The left and right margins cannot be made large enough to accommodate all axes decorations. \n",
      "  \n",
      "C:\\Users\\steve\\Anaconda3\\envs\\rasterenv\\lib\\site-packages\\pandas\\core\\indexes\\base.py:2825: RuntimeWarning: invalid value encountered in less\n",
      "  indexer = np.where(op(left_distances, right_distances) |\n",
      "C:\\Users\\steve\\Anaconda3\\envs\\rasterenv\\lib\\site-packages\\pandas\\core\\indexes\\base.py:2825: RuntimeWarning: invalid value encountered in less_equal\n",
      "  indexer = np.where(op(left_distances, right_distances) |\n"
     ]
    },
    {
     "name": "stdout",
     "output_type": "stream",
     "text": [
      "(1501, 1995)\n"
     ]
    },
    {
     "name": "stderr",
     "output_type": "stream",
     "text": [
      "C:\\Users\\steve\\Anaconda3\\envs\\rasterenv\\lib\\site-packages\\ipykernel_launcher.py:14: UserWarning: Tight layout not applied. The left and right margins cannot be made large enough to accommodate all axes decorations. \n",
      "  \n",
      "C:\\Users\\steve\\Anaconda3\\envs\\rasterenv\\lib\\site-packages\\pandas\\core\\indexes\\base.py:2825: RuntimeWarning: invalid value encountered in less\n",
      "  indexer = np.where(op(left_distances, right_distances) |\n",
      "C:\\Users\\steve\\Anaconda3\\envs\\rasterenv\\lib\\site-packages\\pandas\\core\\indexes\\base.py:2825: RuntimeWarning: invalid value encountered in less_equal\n",
      "  indexer = np.where(op(left_distances, right_distances) |\n"
     ]
    },
    {
     "name": "stdout",
     "output_type": "stream",
     "text": [
      "(1501, 1995)\n"
     ]
    },
    {
     "name": "stderr",
     "output_type": "stream",
     "text": [
      "C:\\Users\\steve\\Anaconda3\\envs\\rasterenv\\lib\\site-packages\\ipykernel_launcher.py:14: UserWarning: Tight layout not applied. The left and right margins cannot be made large enough to accommodate all axes decorations. \n",
      "  \n",
      "C:\\Users\\steve\\Anaconda3\\envs\\rasterenv\\lib\\site-packages\\pandas\\core\\indexes\\base.py:2825: RuntimeWarning: invalid value encountered in less\n",
      "  indexer = np.where(op(left_distances, right_distances) |\n",
      "C:\\Users\\steve\\Anaconda3\\envs\\rasterenv\\lib\\site-packages\\pandas\\core\\indexes\\base.py:2825: RuntimeWarning: invalid value encountered in less_equal\n",
      "  indexer = np.where(op(left_distances, right_distances) |\n"
     ]
    },
    {
     "name": "stdout",
     "output_type": "stream",
     "text": [
      "(1501, 1995)\n"
     ]
    },
    {
     "name": "stderr",
     "output_type": "stream",
     "text": [
      "C:\\Users\\steve\\Anaconda3\\envs\\rasterenv\\lib\\site-packages\\ipykernel_launcher.py:14: UserWarning: Tight layout not applied. The left and right margins cannot be made large enough to accommodate all axes decorations. \n",
      "  \n",
      "C:\\Users\\steve\\Anaconda3\\envs\\rasterenv\\lib\\site-packages\\pandas\\core\\indexes\\base.py:2825: RuntimeWarning: invalid value encountered in less\n",
      "  indexer = np.where(op(left_distances, right_distances) |\n",
      "C:\\Users\\steve\\Anaconda3\\envs\\rasterenv\\lib\\site-packages\\pandas\\core\\indexes\\base.py:2825: RuntimeWarning: invalid value encountered in less_equal\n",
      "  indexer = np.where(op(left_distances, right_distances) |\n"
     ]
    },
    {
     "name": "stdout",
     "output_type": "stream",
     "text": [
      "(1501, 1995)\n"
     ]
    },
    {
     "name": "stderr",
     "output_type": "stream",
     "text": [
      "C:\\Users\\steve\\Anaconda3\\envs\\rasterenv\\lib\\site-packages\\ipykernel_launcher.py:14: UserWarning: Tight layout not applied. The left and right margins cannot be made large enough to accommodate all axes decorations. \n",
      "  \n",
      "C:\\Users\\steve\\Anaconda3\\envs\\rasterenv\\lib\\site-packages\\pandas\\core\\indexes\\base.py:2825: RuntimeWarning: invalid value encountered in less\n",
      "  indexer = np.where(op(left_distances, right_distances) |\n",
      "C:\\Users\\steve\\Anaconda3\\envs\\rasterenv\\lib\\site-packages\\pandas\\core\\indexes\\base.py:2825: RuntimeWarning: invalid value encountered in less_equal\n",
      "  indexer = np.where(op(left_distances, right_distances) |\n"
     ]
    },
    {
     "name": "stdout",
     "output_type": "stream",
     "text": [
      "(1501, 1995)\n"
     ]
    },
    {
     "name": "stderr",
     "output_type": "stream",
     "text": [
      "C:\\Users\\steve\\Anaconda3\\envs\\rasterenv\\lib\\site-packages\\ipykernel_launcher.py:14: UserWarning: Tight layout not applied. The left and right margins cannot be made large enough to accommodate all axes decorations. \n",
      "  \n",
      "C:\\Users\\steve\\Anaconda3\\envs\\rasterenv\\lib\\site-packages\\pandas\\core\\indexes\\base.py:2825: RuntimeWarning: invalid value encountered in less\n",
      "  indexer = np.where(op(left_distances, right_distances) |\n",
      "C:\\Users\\steve\\Anaconda3\\envs\\rasterenv\\lib\\site-packages\\pandas\\core\\indexes\\base.py:2825: RuntimeWarning: invalid value encountered in less_equal\n",
      "  indexer = np.where(op(left_distances, right_distances) |\n"
     ]
    },
    {
     "name": "stdout",
     "output_type": "stream",
     "text": [
      "(1501, 1995)\n"
     ]
    },
    {
     "name": "stderr",
     "output_type": "stream",
     "text": [
      "C:\\Users\\steve\\Anaconda3\\envs\\rasterenv\\lib\\site-packages\\ipykernel_launcher.py:14: UserWarning: Tight layout not applied. The left and right margins cannot be made large enough to accommodate all axes decorations. \n",
      "  \n",
      "C:\\Users\\steve\\Anaconda3\\envs\\rasterenv\\lib\\site-packages\\pandas\\core\\indexes\\base.py:2825: RuntimeWarning: invalid value encountered in less\n",
      "  indexer = np.where(op(left_distances, right_distances) |\n",
      "C:\\Users\\steve\\Anaconda3\\envs\\rasterenv\\lib\\site-packages\\pandas\\core\\indexes\\base.py:2825: RuntimeWarning: invalid value encountered in less_equal\n",
      "  indexer = np.where(op(left_distances, right_distances) |\n"
     ]
    },
    {
     "name": "stdout",
     "output_type": "stream",
     "text": [
      "(1501, 1995)\n"
     ]
    },
    {
     "name": "stderr",
     "output_type": "stream",
     "text": [
      "C:\\Users\\steve\\Anaconda3\\envs\\rasterenv\\lib\\site-packages\\ipykernel_launcher.py:14: UserWarning: Tight layout not applied. The left and right margins cannot be made large enough to accommodate all axes decorations. \n",
      "  \n",
      "C:\\Users\\steve\\Anaconda3\\envs\\rasterenv\\lib\\site-packages\\pandas\\core\\indexes\\base.py:2825: RuntimeWarning: invalid value encountered in less\n",
      "  indexer = np.where(op(left_distances, right_distances) |\n",
      "C:\\Users\\steve\\Anaconda3\\envs\\rasterenv\\lib\\site-packages\\pandas\\core\\indexes\\base.py:2825: RuntimeWarning: invalid value encountered in less_equal\n",
      "  indexer = np.where(op(left_distances, right_distances) |\n"
     ]
    },
    {
     "name": "stdout",
     "output_type": "stream",
     "text": [
      "(1501, 1995)\n"
     ]
    },
    {
     "name": "stderr",
     "output_type": "stream",
     "text": [
      "C:\\Users\\steve\\Anaconda3\\envs\\rasterenv\\lib\\site-packages\\ipykernel_launcher.py:14: UserWarning: Tight layout not applied. The left and right margins cannot be made large enough to accommodate all axes decorations. \n",
      "  \n",
      "C:\\Users\\steve\\Anaconda3\\envs\\rasterenv\\lib\\site-packages\\pandas\\core\\indexes\\base.py:2825: RuntimeWarning: invalid value encountered in less\n",
      "  indexer = np.where(op(left_distances, right_distances) |\n",
      "C:\\Users\\steve\\Anaconda3\\envs\\rasterenv\\lib\\site-packages\\pandas\\core\\indexes\\base.py:2825: RuntimeWarning: invalid value encountered in less_equal\n",
      "  indexer = np.where(op(left_distances, right_distances) |\n"
     ]
    },
    {
     "name": "stdout",
     "output_type": "stream",
     "text": [
      "(1501, 1995)\n"
     ]
    },
    {
     "name": "stderr",
     "output_type": "stream",
     "text": [
      "C:\\Users\\steve\\Anaconda3\\envs\\rasterenv\\lib\\site-packages\\ipykernel_launcher.py:14: UserWarning: Tight layout not applied. The left and right margins cannot be made large enough to accommodate all axes decorations. \n",
      "  \n",
      "C:\\Users\\steve\\Anaconda3\\envs\\rasterenv\\lib\\site-packages\\pandas\\core\\indexes\\base.py:2825: RuntimeWarning: invalid value encountered in less\n",
      "  indexer = np.where(op(left_distances, right_distances) |\n",
      "C:\\Users\\steve\\Anaconda3\\envs\\rasterenv\\lib\\site-packages\\pandas\\core\\indexes\\base.py:2825: RuntimeWarning: invalid value encountered in less_equal\n",
      "  indexer = np.where(op(left_distances, right_distances) |\n"
     ]
    },
    {
     "name": "stdout",
     "output_type": "stream",
     "text": [
      "(1501, 1995)\n"
     ]
    },
    {
     "name": "stderr",
     "output_type": "stream",
     "text": [
      "C:\\Users\\steve\\Anaconda3\\envs\\rasterenv\\lib\\site-packages\\ipykernel_launcher.py:14: UserWarning: Tight layout not applied. The left and right margins cannot be made large enough to accommodate all axes decorations. \n",
      "  \n",
      "C:\\Users\\steve\\Anaconda3\\envs\\rasterenv\\lib\\site-packages\\pandas\\core\\indexes\\base.py:2825: RuntimeWarning: invalid value encountered in less\n",
      "  indexer = np.where(op(left_distances, right_distances) |\n",
      "C:\\Users\\steve\\Anaconda3\\envs\\rasterenv\\lib\\site-packages\\pandas\\core\\indexes\\base.py:2825: RuntimeWarning: invalid value encountered in less_equal\n",
      "  indexer = np.where(op(left_distances, right_distances) |\n"
     ]
    },
    {
     "name": "stdout",
     "output_type": "stream",
     "text": [
      "(1501, 1995)\n"
     ]
    },
    {
     "name": "stderr",
     "output_type": "stream",
     "text": [
      "C:\\Users\\steve\\Anaconda3\\envs\\rasterenv\\lib\\site-packages\\ipykernel_launcher.py:14: UserWarning: Tight layout not applied. The left and right margins cannot be made large enough to accommodate all axes decorations. \n",
      "  \n",
      "C:\\Users\\steve\\Anaconda3\\envs\\rasterenv\\lib\\site-packages\\pandas\\core\\indexes\\base.py:2825: RuntimeWarning: invalid value encountered in less\n",
      "  indexer = np.where(op(left_distances, right_distances) |\n",
      "C:\\Users\\steve\\Anaconda3\\envs\\rasterenv\\lib\\site-packages\\pandas\\core\\indexes\\base.py:2825: RuntimeWarning: invalid value encountered in less_equal\n",
      "  indexer = np.where(op(left_distances, right_distances) |\n"
     ]
    },
    {
     "name": "stdout",
     "output_type": "stream",
     "text": [
      "(1501, 1995)\n"
     ]
    },
    {
     "name": "stderr",
     "output_type": "stream",
     "text": [
      "C:\\Users\\steve\\Anaconda3\\envs\\rasterenv\\lib\\site-packages\\ipykernel_launcher.py:14: UserWarning: Tight layout not applied. The left and right margins cannot be made large enough to accommodate all axes decorations. \n",
      "  \n",
      "C:\\Users\\steve\\Anaconda3\\envs\\rasterenv\\lib\\site-packages\\pandas\\core\\indexes\\base.py:2825: RuntimeWarning: invalid value encountered in less\n",
      "  indexer = np.where(op(left_distances, right_distances) |\n",
      "C:\\Users\\steve\\Anaconda3\\envs\\rasterenv\\lib\\site-packages\\pandas\\core\\indexes\\base.py:2825: RuntimeWarning: invalid value encountered in less_equal\n",
      "  indexer = np.where(op(left_distances, right_distances) |\n"
     ]
    },
    {
     "name": "stdout",
     "output_type": "stream",
     "text": [
      "(1501, 1995)\n"
     ]
    },
    {
     "name": "stderr",
     "output_type": "stream",
     "text": [
      "C:\\Users\\steve\\Anaconda3\\envs\\rasterenv\\lib\\site-packages\\ipykernel_launcher.py:14: UserWarning: Tight layout not applied. The left and right margins cannot be made large enough to accommodate all axes decorations. \n",
      "  \n",
      "C:\\Users\\steve\\Anaconda3\\envs\\rasterenv\\lib\\site-packages\\pandas\\core\\indexes\\base.py:2825: RuntimeWarning: invalid value encountered in less\n",
      "  indexer = np.where(op(left_distances, right_distances) |\n",
      "C:\\Users\\steve\\Anaconda3\\envs\\rasterenv\\lib\\site-packages\\pandas\\core\\indexes\\base.py:2825: RuntimeWarning: invalid value encountered in less_equal\n",
      "  indexer = np.where(op(left_distances, right_distances) |\n"
     ]
    },
    {
     "name": "stdout",
     "output_type": "stream",
     "text": [
      "(1501, 1995)\n"
     ]
    },
    {
     "name": "stderr",
     "output_type": "stream",
     "text": [
      "C:\\Users\\steve\\Anaconda3\\envs\\rasterenv\\lib\\site-packages\\ipykernel_launcher.py:14: UserWarning: Tight layout not applied. The left and right margins cannot be made large enough to accommodate all axes decorations. \n",
      "  \n",
      "C:\\Users\\steve\\Anaconda3\\envs\\rasterenv\\lib\\site-packages\\pandas\\core\\indexes\\base.py:2825: RuntimeWarning: invalid value encountered in less\n",
      "  indexer = np.where(op(left_distances, right_distances) |\n",
      "C:\\Users\\steve\\Anaconda3\\envs\\rasterenv\\lib\\site-packages\\pandas\\core\\indexes\\base.py:2825: RuntimeWarning: invalid value encountered in less_equal\n",
      "  indexer = np.where(op(left_distances, right_distances) |\n"
     ]
    },
    {
     "name": "stdout",
     "output_type": "stream",
     "text": [
      "(1501, 1995)\n"
     ]
    },
    {
     "name": "stderr",
     "output_type": "stream",
     "text": [
      "C:\\Users\\steve\\Anaconda3\\envs\\rasterenv\\lib\\site-packages\\ipykernel_launcher.py:14: UserWarning: Tight layout not applied. The left and right margins cannot be made large enough to accommodate all axes decorations. \n",
      "  \n",
      "C:\\Users\\steve\\Anaconda3\\envs\\rasterenv\\lib\\site-packages\\pandas\\core\\indexes\\base.py:2825: RuntimeWarning: invalid value encountered in less\n",
      "  indexer = np.where(op(left_distances, right_distances) |\n",
      "C:\\Users\\steve\\Anaconda3\\envs\\rasterenv\\lib\\site-packages\\pandas\\core\\indexes\\base.py:2825: RuntimeWarning: invalid value encountered in less_equal\n",
      "  indexer = np.where(op(left_distances, right_distances) |\n"
     ]
    },
    {
     "name": "stdout",
     "output_type": "stream",
     "text": [
      "(1501, 1995)\n"
     ]
    },
    {
     "name": "stderr",
     "output_type": "stream",
     "text": [
      "C:\\Users\\steve\\Anaconda3\\envs\\rasterenv\\lib\\site-packages\\ipykernel_launcher.py:14: UserWarning: Tight layout not applied. The left and right margins cannot be made large enough to accommodate all axes decorations. \n",
      "  \n",
      "C:\\Users\\steve\\Anaconda3\\envs\\rasterenv\\lib\\site-packages\\pandas\\core\\indexes\\base.py:2825: RuntimeWarning: invalid value encountered in less\n",
      "  indexer = np.where(op(left_distances, right_distances) |\n",
      "C:\\Users\\steve\\Anaconda3\\envs\\rasterenv\\lib\\site-packages\\pandas\\core\\indexes\\base.py:2825: RuntimeWarning: invalid value encountered in less_equal\n",
      "  indexer = np.where(op(left_distances, right_distances) |\n"
     ]
    },
    {
     "name": "stdout",
     "output_type": "stream",
     "text": [
      "(1501, 1995)\n"
     ]
    },
    {
     "name": "stderr",
     "output_type": "stream",
     "text": [
      "C:\\Users\\steve\\Anaconda3\\envs\\rasterenv\\lib\\site-packages\\ipykernel_launcher.py:14: UserWarning: Tight layout not applied. The left and right margins cannot be made large enough to accommodate all axes decorations. \n",
      "  \n",
      "C:\\Users\\steve\\Anaconda3\\envs\\rasterenv\\lib\\site-packages\\pandas\\core\\indexes\\base.py:2825: RuntimeWarning: invalid value encountered in less\n",
      "  indexer = np.where(op(left_distances, right_distances) |\n",
      "C:\\Users\\steve\\Anaconda3\\envs\\rasterenv\\lib\\site-packages\\pandas\\core\\indexes\\base.py:2825: RuntimeWarning: invalid value encountered in less_equal\n",
      "  indexer = np.where(op(left_distances, right_distances) |\n"
     ]
    },
    {
     "name": "stdout",
     "output_type": "stream",
     "text": [
      "(1501, 1995)\n"
     ]
    },
    {
     "name": "stderr",
     "output_type": "stream",
     "text": [
      "C:\\Users\\steve\\Anaconda3\\envs\\rasterenv\\lib\\site-packages\\ipykernel_launcher.py:14: UserWarning: Tight layout not applied. The left and right margins cannot be made large enough to accommodate all axes decorations. \n",
      "  \n",
      "C:\\Users\\steve\\Anaconda3\\envs\\rasterenv\\lib\\site-packages\\pandas\\core\\indexes\\base.py:2825: RuntimeWarning: invalid value encountered in less\n",
      "  indexer = np.where(op(left_distances, right_distances) |\n",
      "C:\\Users\\steve\\Anaconda3\\envs\\rasterenv\\lib\\site-packages\\pandas\\core\\indexes\\base.py:2825: RuntimeWarning: invalid value encountered in less_equal\n",
      "  indexer = np.where(op(left_distances, right_distances) |\n"
     ]
    },
    {
     "name": "stdout",
     "output_type": "stream",
     "text": [
      "(1501, 1995)\n"
     ]
    },
    {
     "name": "stderr",
     "output_type": "stream",
     "text": [
      "C:\\Users\\steve\\Anaconda3\\envs\\rasterenv\\lib\\site-packages\\ipykernel_launcher.py:14: UserWarning: Tight layout not applied. The left and right margins cannot be made large enough to accommodate all axes decorations. \n",
      "  \n",
      "C:\\Users\\steve\\Anaconda3\\envs\\rasterenv\\lib\\site-packages\\pandas\\core\\indexes\\base.py:2825: RuntimeWarning: invalid value encountered in less\n",
      "  indexer = np.where(op(left_distances, right_distances) |\n",
      "C:\\Users\\steve\\Anaconda3\\envs\\rasterenv\\lib\\site-packages\\pandas\\core\\indexes\\base.py:2825: RuntimeWarning: invalid value encountered in less_equal\n",
      "  indexer = np.where(op(left_distances, right_distances) |\n"
     ]
    },
    {
     "name": "stdout",
     "output_type": "stream",
     "text": [
      "(1501, 1995)\n"
     ]
    },
    {
     "name": "stderr",
     "output_type": "stream",
     "text": [
      "C:\\Users\\steve\\Anaconda3\\envs\\rasterenv\\lib\\site-packages\\ipykernel_launcher.py:14: UserWarning: Tight layout not applied. The left and right margins cannot be made large enough to accommodate all axes decorations. \n",
      "  \n",
      "C:\\Users\\steve\\Anaconda3\\envs\\rasterenv\\lib\\site-packages\\pandas\\core\\indexes\\base.py:2825: RuntimeWarning: invalid value encountered in less\n",
      "  indexer = np.where(op(left_distances, right_distances) |\n",
      "C:\\Users\\steve\\Anaconda3\\envs\\rasterenv\\lib\\site-packages\\pandas\\core\\indexes\\base.py:2825: RuntimeWarning: invalid value encountered in less_equal\n",
      "  indexer = np.where(op(left_distances, right_distances) |\n"
     ]
    },
    {
     "name": "stdout",
     "output_type": "stream",
     "text": [
      "(1501, 1995)\n"
     ]
    },
    {
     "name": "stderr",
     "output_type": "stream",
     "text": [
      "C:\\Users\\steve\\Anaconda3\\envs\\rasterenv\\lib\\site-packages\\ipykernel_launcher.py:14: UserWarning: Tight layout not applied. The left and right margins cannot be made large enough to accommodate all axes decorations. \n",
      "  \n",
      "C:\\Users\\steve\\Anaconda3\\envs\\rasterenv\\lib\\site-packages\\pandas\\core\\indexes\\base.py:2825: RuntimeWarning: invalid value encountered in less\n",
      "  indexer = np.where(op(left_distances, right_distances) |\n",
      "C:\\Users\\steve\\Anaconda3\\envs\\rasterenv\\lib\\site-packages\\pandas\\core\\indexes\\base.py:2825: RuntimeWarning: invalid value encountered in less_equal\n",
      "  indexer = np.where(op(left_distances, right_distances) |\n"
     ]
    },
    {
     "name": "stdout",
     "output_type": "stream",
     "text": [
      "(1501, 1995)\n"
     ]
    },
    {
     "name": "stderr",
     "output_type": "stream",
     "text": [
      "C:\\Users\\steve\\Anaconda3\\envs\\rasterenv\\lib\\site-packages\\ipykernel_launcher.py:14: UserWarning: Tight layout not applied. The left and right margins cannot be made large enough to accommodate all axes decorations. \n",
      "  \n",
      "C:\\Users\\steve\\Anaconda3\\envs\\rasterenv\\lib\\site-packages\\pandas\\core\\indexes\\base.py:2825: RuntimeWarning: invalid value encountered in less\n",
      "  indexer = np.where(op(left_distances, right_distances) |\n",
      "C:\\Users\\steve\\Anaconda3\\envs\\rasterenv\\lib\\site-packages\\pandas\\core\\indexes\\base.py:2825: RuntimeWarning: invalid value encountered in less_equal\n",
      "  indexer = np.where(op(left_distances, right_distances) |\n"
     ]
    },
    {
     "name": "stdout",
     "output_type": "stream",
     "text": [
      "(1501, 1995)\n"
     ]
    },
    {
     "name": "stderr",
     "output_type": "stream",
     "text": [
      "C:\\Users\\steve\\Anaconda3\\envs\\rasterenv\\lib\\site-packages\\ipykernel_launcher.py:14: UserWarning: Tight layout not applied. The left and right margins cannot be made large enough to accommodate all axes decorations. \n",
      "  \n",
      "C:\\Users\\steve\\Anaconda3\\envs\\rasterenv\\lib\\site-packages\\pandas\\core\\indexes\\base.py:2825: RuntimeWarning: invalid value encountered in less\n",
      "  indexer = np.where(op(left_distances, right_distances) |\n",
      "C:\\Users\\steve\\Anaconda3\\envs\\rasterenv\\lib\\site-packages\\pandas\\core\\indexes\\base.py:2825: RuntimeWarning: invalid value encountered in less_equal\n",
      "  indexer = np.where(op(left_distances, right_distances) |\n"
     ]
    },
    {
     "name": "stdout",
     "output_type": "stream",
     "text": [
      "(1501, 1995)\n"
     ]
    },
    {
     "name": "stderr",
     "output_type": "stream",
     "text": [
      "C:\\Users\\steve\\Anaconda3\\envs\\rasterenv\\lib\\site-packages\\ipykernel_launcher.py:14: UserWarning: Tight layout not applied. The left and right margins cannot be made large enough to accommodate all axes decorations. \n",
      "  \n",
      "C:\\Users\\steve\\Anaconda3\\envs\\rasterenv\\lib\\site-packages\\pandas\\core\\indexes\\base.py:2825: RuntimeWarning: invalid value encountered in less\n",
      "  indexer = np.where(op(left_distances, right_distances) |\n",
      "C:\\Users\\steve\\Anaconda3\\envs\\rasterenv\\lib\\site-packages\\pandas\\core\\indexes\\base.py:2825: RuntimeWarning: invalid value encountered in less_equal\n",
      "  indexer = np.where(op(left_distances, right_distances) |\n"
     ]
    },
    {
     "name": "stdout",
     "output_type": "stream",
     "text": [
      "(1501, 1995)\n"
     ]
    },
    {
     "name": "stderr",
     "output_type": "stream",
     "text": [
      "C:\\Users\\steve\\Anaconda3\\envs\\rasterenv\\lib\\site-packages\\ipykernel_launcher.py:14: UserWarning: Tight layout not applied. The left and right margins cannot be made large enough to accommodate all axes decorations. \n",
      "  \n",
      "C:\\Users\\steve\\Anaconda3\\envs\\rasterenv\\lib\\site-packages\\pandas\\core\\indexes\\base.py:2825: RuntimeWarning: invalid value encountered in less\n",
      "  indexer = np.where(op(left_distances, right_distances) |\n",
      "C:\\Users\\steve\\Anaconda3\\envs\\rasterenv\\lib\\site-packages\\pandas\\core\\indexes\\base.py:2825: RuntimeWarning: invalid value encountered in less_equal\n",
      "  indexer = np.where(op(left_distances, right_distances) |\n"
     ]
    },
    {
     "name": "stdout",
     "output_type": "stream",
     "text": [
      "(1501, 1995)\n"
     ]
    },
    {
     "name": "stderr",
     "output_type": "stream",
     "text": [
      "C:\\Users\\steve\\Anaconda3\\envs\\rasterenv\\lib\\site-packages\\ipykernel_launcher.py:14: UserWarning: Tight layout not applied. The left and right margins cannot be made large enough to accommodate all axes decorations. \n",
      "  \n",
      "C:\\Users\\steve\\Anaconda3\\envs\\rasterenv\\lib\\site-packages\\pandas\\core\\indexes\\base.py:2825: RuntimeWarning: invalid value encountered in less\n",
      "  indexer = np.where(op(left_distances, right_distances) |\n",
      "C:\\Users\\steve\\Anaconda3\\envs\\rasterenv\\lib\\site-packages\\pandas\\core\\indexes\\base.py:2825: RuntimeWarning: invalid value encountered in less_equal\n",
      "  indexer = np.where(op(left_distances, right_distances) |\n"
     ]
    },
    {
     "name": "stdout",
     "output_type": "stream",
     "text": [
      "(1501, 1995)\n"
     ]
    },
    {
     "name": "stderr",
     "output_type": "stream",
     "text": [
      "C:\\Users\\steve\\Anaconda3\\envs\\rasterenv\\lib\\site-packages\\ipykernel_launcher.py:14: UserWarning: Tight layout not applied. The left and right margins cannot be made large enough to accommodate all axes decorations. \n",
      "  \n",
      "C:\\Users\\steve\\Anaconda3\\envs\\rasterenv\\lib\\site-packages\\pandas\\core\\indexes\\base.py:2825: RuntimeWarning: invalid value encountered in less\n",
      "  indexer = np.where(op(left_distances, right_distances) |\n",
      "C:\\Users\\steve\\Anaconda3\\envs\\rasterenv\\lib\\site-packages\\pandas\\core\\indexes\\base.py:2825: RuntimeWarning: invalid value encountered in less_equal\n",
      "  indexer = np.where(op(left_distances, right_distances) |\n"
     ]
    },
    {
     "name": "stdout",
     "output_type": "stream",
     "text": [
      "(1501, 1995)\n"
     ]
    },
    {
     "name": "stderr",
     "output_type": "stream",
     "text": [
      "C:\\Users\\steve\\Anaconda3\\envs\\rasterenv\\lib\\site-packages\\ipykernel_launcher.py:14: UserWarning: Tight layout not applied. The left and right margins cannot be made large enough to accommodate all axes decorations. \n",
      "  \n",
      "C:\\Users\\steve\\Anaconda3\\envs\\rasterenv\\lib\\site-packages\\pandas\\core\\indexes\\base.py:2825: RuntimeWarning: invalid value encountered in less\n",
      "  indexer = np.where(op(left_distances, right_distances) |\n",
      "C:\\Users\\steve\\Anaconda3\\envs\\rasterenv\\lib\\site-packages\\pandas\\core\\indexes\\base.py:2825: RuntimeWarning: invalid value encountered in less_equal\n",
      "  indexer = np.where(op(left_distances, right_distances) |\n"
     ]
    },
    {
     "name": "stdout",
     "output_type": "stream",
     "text": [
      "(1501, 1995)\n"
     ]
    },
    {
     "name": "stderr",
     "output_type": "stream",
     "text": [
      "C:\\Users\\steve\\Anaconda3\\envs\\rasterenv\\lib\\site-packages\\ipykernel_launcher.py:14: UserWarning: Tight layout not applied. The left and right margins cannot be made large enough to accommodate all axes decorations. \n",
      "  \n",
      "C:\\Users\\steve\\Anaconda3\\envs\\rasterenv\\lib\\site-packages\\pandas\\core\\indexes\\base.py:2825: RuntimeWarning: invalid value encountered in less\n",
      "  indexer = np.where(op(left_distances, right_distances) |\n",
      "C:\\Users\\steve\\Anaconda3\\envs\\rasterenv\\lib\\site-packages\\pandas\\core\\indexes\\base.py:2825: RuntimeWarning: invalid value encountered in less_equal\n",
      "  indexer = np.where(op(left_distances, right_distances) |\n"
     ]
    },
    {
     "name": "stdout",
     "output_type": "stream",
     "text": [
      "(1501, 1995)\n"
     ]
    },
    {
     "name": "stderr",
     "output_type": "stream",
     "text": [
      "C:\\Users\\steve\\Anaconda3\\envs\\rasterenv\\lib\\site-packages\\ipykernel_launcher.py:14: UserWarning: Tight layout not applied. The left and right margins cannot be made large enough to accommodate all axes decorations. \n",
      "  \n",
      "C:\\Users\\steve\\Anaconda3\\envs\\rasterenv\\lib\\site-packages\\pandas\\core\\indexes\\base.py:2825: RuntimeWarning: invalid value encountered in less\n",
      "  indexer = np.where(op(left_distances, right_distances) |\n",
      "C:\\Users\\steve\\Anaconda3\\envs\\rasterenv\\lib\\site-packages\\pandas\\core\\indexes\\base.py:2825: RuntimeWarning: invalid value encountered in less_equal\n",
      "  indexer = np.where(op(left_distances, right_distances) |\n"
     ]
    },
    {
     "name": "stdout",
     "output_type": "stream",
     "text": [
      "(1501, 1995)\n"
     ]
    },
    {
     "name": "stderr",
     "output_type": "stream",
     "text": [
      "C:\\Users\\steve\\Anaconda3\\envs\\rasterenv\\lib\\site-packages\\ipykernel_launcher.py:14: UserWarning: Tight layout not applied. The left and right margins cannot be made large enough to accommodate all axes decorations. \n",
      "  \n",
      "C:\\Users\\steve\\Anaconda3\\envs\\rasterenv\\lib\\site-packages\\pandas\\core\\indexes\\base.py:2825: RuntimeWarning: invalid value encountered in less\n",
      "  indexer = np.where(op(left_distances, right_distances) |\n",
      "C:\\Users\\steve\\Anaconda3\\envs\\rasterenv\\lib\\site-packages\\pandas\\core\\indexes\\base.py:2825: RuntimeWarning: invalid value encountered in less_equal\n",
      "  indexer = np.where(op(left_distances, right_distances) |\n"
     ]
    },
    {
     "name": "stdout",
     "output_type": "stream",
     "text": [
      "(1501, 1995)\n"
     ]
    },
    {
     "name": "stderr",
     "output_type": "stream",
     "text": [
      "C:\\Users\\steve\\Anaconda3\\envs\\rasterenv\\lib\\site-packages\\ipykernel_launcher.py:14: UserWarning: Tight layout not applied. The left and right margins cannot be made large enough to accommodate all axes decorations. \n",
      "  \n",
      "C:\\Users\\steve\\Anaconda3\\envs\\rasterenv\\lib\\site-packages\\pandas\\core\\indexes\\base.py:2825: RuntimeWarning: invalid value encountered in less\n",
      "  indexer = np.where(op(left_distances, right_distances) |\n",
      "C:\\Users\\steve\\Anaconda3\\envs\\rasterenv\\lib\\site-packages\\pandas\\core\\indexes\\base.py:2825: RuntimeWarning: invalid value encountered in less_equal\n",
      "  indexer = np.where(op(left_distances, right_distances) |\n"
     ]
    },
    {
     "name": "stdout",
     "output_type": "stream",
     "text": [
      "(1501, 1995)\n"
     ]
    },
    {
     "name": "stderr",
     "output_type": "stream",
     "text": [
      "C:\\Users\\steve\\Anaconda3\\envs\\rasterenv\\lib\\site-packages\\ipykernel_launcher.py:14: UserWarning: Tight layout not applied. The left and right margins cannot be made large enough to accommodate all axes decorations. \n",
      "  \n",
      "C:\\Users\\steve\\Anaconda3\\envs\\rasterenv\\lib\\site-packages\\pandas\\core\\indexes\\base.py:2825: RuntimeWarning: invalid value encountered in less\n",
      "  indexer = np.where(op(left_distances, right_distances) |\n",
      "C:\\Users\\steve\\Anaconda3\\envs\\rasterenv\\lib\\site-packages\\pandas\\core\\indexes\\base.py:2825: RuntimeWarning: invalid value encountered in less_equal\n",
      "  indexer = np.where(op(left_distances, right_distances) |\n"
     ]
    },
    {
     "name": "stdout",
     "output_type": "stream",
     "text": [
      "(1501, 1995)\n"
     ]
    },
    {
     "name": "stderr",
     "output_type": "stream",
     "text": [
      "C:\\Users\\steve\\Anaconda3\\envs\\rasterenv\\lib\\site-packages\\ipykernel_launcher.py:14: UserWarning: Tight layout not applied. The left and right margins cannot be made large enough to accommodate all axes decorations. \n",
      "  \n",
      "C:\\Users\\steve\\Anaconda3\\envs\\rasterenv\\lib\\site-packages\\pandas\\core\\indexes\\base.py:2825: RuntimeWarning: invalid value encountered in less\n",
      "  indexer = np.where(op(left_distances, right_distances) |\n",
      "C:\\Users\\steve\\Anaconda3\\envs\\rasterenv\\lib\\site-packages\\pandas\\core\\indexes\\base.py:2825: RuntimeWarning: invalid value encountered in less_equal\n",
      "  indexer = np.where(op(left_distances, right_distances) |\n"
     ]
    },
    {
     "name": "stdout",
     "output_type": "stream",
     "text": [
      "(1501, 1995)\n"
     ]
    },
    {
     "name": "stderr",
     "output_type": "stream",
     "text": [
      "C:\\Users\\steve\\Anaconda3\\envs\\rasterenv\\lib\\site-packages\\ipykernel_launcher.py:14: UserWarning: Tight layout not applied. The left and right margins cannot be made large enough to accommodate all axes decorations. \n",
      "  \n",
      "C:\\Users\\steve\\Anaconda3\\envs\\rasterenv\\lib\\site-packages\\pandas\\core\\indexes\\base.py:2825: RuntimeWarning: invalid value encountered in less\n",
      "  indexer = np.where(op(left_distances, right_distances) |\n",
      "C:\\Users\\steve\\Anaconda3\\envs\\rasterenv\\lib\\site-packages\\pandas\\core\\indexes\\base.py:2825: RuntimeWarning: invalid value encountered in less_equal\n",
      "  indexer = np.where(op(left_distances, right_distances) |\n"
     ]
    },
    {
     "name": "stdout",
     "output_type": "stream",
     "text": [
      "(1501, 1995)\n"
     ]
    },
    {
     "name": "stderr",
     "output_type": "stream",
     "text": [
      "C:\\Users\\steve\\Anaconda3\\envs\\rasterenv\\lib\\site-packages\\ipykernel_launcher.py:14: UserWarning: Tight layout not applied. The left and right margins cannot be made large enough to accommodate all axes decorations. \n",
      "  \n",
      "C:\\Users\\steve\\Anaconda3\\envs\\rasterenv\\lib\\site-packages\\pandas\\core\\indexes\\base.py:2825: RuntimeWarning: invalid value encountered in less\n",
      "  indexer = np.where(op(left_distances, right_distances) |\n",
      "C:\\Users\\steve\\Anaconda3\\envs\\rasterenv\\lib\\site-packages\\pandas\\core\\indexes\\base.py:2825: RuntimeWarning: invalid value encountered in less_equal\n",
      "  indexer = np.where(op(left_distances, right_distances) |\n"
     ]
    },
    {
     "name": "stdout",
     "output_type": "stream",
     "text": [
      "(1501, 1995)\n"
     ]
    },
    {
     "name": "stderr",
     "output_type": "stream",
     "text": [
      "C:\\Users\\steve\\Anaconda3\\envs\\rasterenv\\lib\\site-packages\\ipykernel_launcher.py:14: UserWarning: Tight layout not applied. The left and right margins cannot be made large enough to accommodate all axes decorations. \n",
      "  \n",
      "C:\\Users\\steve\\Anaconda3\\envs\\rasterenv\\lib\\site-packages\\pandas\\core\\indexes\\base.py:2825: RuntimeWarning: invalid value encountered in less\n",
      "  indexer = np.where(op(left_distances, right_distances) |\n",
      "C:\\Users\\steve\\Anaconda3\\envs\\rasterenv\\lib\\site-packages\\pandas\\core\\indexes\\base.py:2825: RuntimeWarning: invalid value encountered in less_equal\n",
      "  indexer = np.where(op(left_distances, right_distances) |\n"
     ]
    },
    {
     "name": "stdout",
     "output_type": "stream",
     "text": [
      "(1501, 1995)\n"
     ]
    },
    {
     "name": "stderr",
     "output_type": "stream",
     "text": [
      "C:\\Users\\steve\\Anaconda3\\envs\\rasterenv\\lib\\site-packages\\ipykernel_launcher.py:14: UserWarning: Tight layout not applied. The left and right margins cannot be made large enough to accommodate all axes decorations. \n",
      "  \n",
      "C:\\Users\\steve\\Anaconda3\\envs\\rasterenv\\lib\\site-packages\\pandas\\core\\indexes\\base.py:2825: RuntimeWarning: invalid value encountered in less\n",
      "  indexer = np.where(op(left_distances, right_distances) |\n",
      "C:\\Users\\steve\\Anaconda3\\envs\\rasterenv\\lib\\site-packages\\pandas\\core\\indexes\\base.py:2825: RuntimeWarning: invalid value encountered in less_equal\n",
      "  indexer = np.where(op(left_distances, right_distances) |\n"
     ]
    },
    {
     "name": "stdout",
     "output_type": "stream",
     "text": [
      "(1501, 1995)\n"
     ]
    },
    {
     "name": "stderr",
     "output_type": "stream",
     "text": [
      "C:\\Users\\steve\\Anaconda3\\envs\\rasterenv\\lib\\site-packages\\ipykernel_launcher.py:14: UserWarning: Tight layout not applied. The left and right margins cannot be made large enough to accommodate all axes decorations. \n",
      "  \n",
      "C:\\Users\\steve\\Anaconda3\\envs\\rasterenv\\lib\\site-packages\\pandas\\core\\indexes\\base.py:2825: RuntimeWarning: invalid value encountered in less\n",
      "  indexer = np.where(op(left_distances, right_distances) |\n",
      "C:\\Users\\steve\\Anaconda3\\envs\\rasterenv\\lib\\site-packages\\pandas\\core\\indexes\\base.py:2825: RuntimeWarning: invalid value encountered in less_equal\n",
      "  indexer = np.where(op(left_distances, right_distances) |\n"
     ]
    },
    {
     "name": "stdout",
     "output_type": "stream",
     "text": [
      "(1501, 1995)\n"
     ]
    },
    {
     "name": "stderr",
     "output_type": "stream",
     "text": [
      "C:\\Users\\steve\\Anaconda3\\envs\\rasterenv\\lib\\site-packages\\ipykernel_launcher.py:14: UserWarning: Tight layout not applied. The left and right margins cannot be made large enough to accommodate all axes decorations. \n",
      "  \n",
      "C:\\Users\\steve\\Anaconda3\\envs\\rasterenv\\lib\\site-packages\\pandas\\core\\indexes\\base.py:2825: RuntimeWarning: invalid value encountered in less\n",
      "  indexer = np.where(op(left_distances, right_distances) |\n",
      "C:\\Users\\steve\\Anaconda3\\envs\\rasterenv\\lib\\site-packages\\pandas\\core\\indexes\\base.py:2825: RuntimeWarning: invalid value encountered in less_equal\n",
      "  indexer = np.where(op(left_distances, right_distances) |\n"
     ]
    },
    {
     "name": "stdout",
     "output_type": "stream",
     "text": [
      "(1501, 1995)\n"
     ]
    },
    {
     "name": "stderr",
     "output_type": "stream",
     "text": [
      "C:\\Users\\steve\\Anaconda3\\envs\\rasterenv\\lib\\site-packages\\ipykernel_launcher.py:14: UserWarning: Tight layout not applied. The left and right margins cannot be made large enough to accommodate all axes decorations. \n",
      "  \n",
      "C:\\Users\\steve\\Anaconda3\\envs\\rasterenv\\lib\\site-packages\\pandas\\core\\indexes\\base.py:2825: RuntimeWarning: invalid value encountered in less\n",
      "  indexer = np.where(op(left_distances, right_distances) |\n",
      "C:\\Users\\steve\\Anaconda3\\envs\\rasterenv\\lib\\site-packages\\pandas\\core\\indexes\\base.py:2825: RuntimeWarning: invalid value encountered in less_equal\n",
      "  indexer = np.where(op(left_distances, right_distances) |\n"
     ]
    },
    {
     "name": "stdout",
     "output_type": "stream",
     "text": [
      "(1501, 1995)\n"
     ]
    },
    {
     "name": "stderr",
     "output_type": "stream",
     "text": [
      "C:\\Users\\steve\\Anaconda3\\envs\\rasterenv\\lib\\site-packages\\ipykernel_launcher.py:14: UserWarning: Tight layout not applied. The left and right margins cannot be made large enough to accommodate all axes decorations. \n",
      "  \n",
      "C:\\Users\\steve\\Anaconda3\\envs\\rasterenv\\lib\\site-packages\\pandas\\core\\indexes\\base.py:2825: RuntimeWarning: invalid value encountered in less\n",
      "  indexer = np.where(op(left_distances, right_distances) |\n",
      "C:\\Users\\steve\\Anaconda3\\envs\\rasterenv\\lib\\site-packages\\pandas\\core\\indexes\\base.py:2825: RuntimeWarning: invalid value encountered in less_equal\n",
      "  indexer = np.where(op(left_distances, right_distances) |\n"
     ]
    },
    {
     "name": "stdout",
     "output_type": "stream",
     "text": [
      "(1501, 1995)\n"
     ]
    },
    {
     "name": "stderr",
     "output_type": "stream",
     "text": [
      "C:\\Users\\steve\\Anaconda3\\envs\\rasterenv\\lib\\site-packages\\ipykernel_launcher.py:14: UserWarning: Tight layout not applied. The left and right margins cannot be made large enough to accommodate all axes decorations. \n",
      "  \n",
      "C:\\Users\\steve\\Anaconda3\\envs\\rasterenv\\lib\\site-packages\\pandas\\core\\indexes\\base.py:2825: RuntimeWarning: invalid value encountered in less\n",
      "  indexer = np.where(op(left_distances, right_distances) |\n",
      "C:\\Users\\steve\\Anaconda3\\envs\\rasterenv\\lib\\site-packages\\pandas\\core\\indexes\\base.py:2825: RuntimeWarning: invalid value encountered in less_equal\n",
      "  indexer = np.where(op(left_distances, right_distances) |\n"
     ]
    },
    {
     "name": "stdout",
     "output_type": "stream",
     "text": [
      "(1501, 1995)\n"
     ]
    },
    {
     "name": "stderr",
     "output_type": "stream",
     "text": [
      "C:\\Users\\steve\\Anaconda3\\envs\\rasterenv\\lib\\site-packages\\ipykernel_launcher.py:14: UserWarning: Tight layout not applied. The left and right margins cannot be made large enough to accommodate all axes decorations. \n",
      "  \n",
      "C:\\Users\\steve\\Anaconda3\\envs\\rasterenv\\lib\\site-packages\\pandas\\core\\indexes\\base.py:2825: RuntimeWarning: invalid value encountered in less\n",
      "  indexer = np.where(op(left_distances, right_distances) |\n",
      "C:\\Users\\steve\\Anaconda3\\envs\\rasterenv\\lib\\site-packages\\pandas\\core\\indexes\\base.py:2825: RuntimeWarning: invalid value encountered in less_equal\n",
      "  indexer = np.where(op(left_distances, right_distances) |\n"
     ]
    },
    {
     "name": "stdout",
     "output_type": "stream",
     "text": [
      "(1501, 1995)\n"
     ]
    },
    {
     "name": "stderr",
     "output_type": "stream",
     "text": [
      "C:\\Users\\steve\\Anaconda3\\envs\\rasterenv\\lib\\site-packages\\ipykernel_launcher.py:14: UserWarning: Tight layout not applied. The left and right margins cannot be made large enough to accommodate all axes decorations. \n",
      "  \n",
      "C:\\Users\\steve\\Anaconda3\\envs\\rasterenv\\lib\\site-packages\\pandas\\core\\indexes\\base.py:2825: RuntimeWarning: invalid value encountered in less\n",
      "  indexer = np.where(op(left_distances, right_distances) |\n",
      "C:\\Users\\steve\\Anaconda3\\envs\\rasterenv\\lib\\site-packages\\pandas\\core\\indexes\\base.py:2825: RuntimeWarning: invalid value encountered in less_equal\n",
      "  indexer = np.where(op(left_distances, right_distances) |\n"
     ]
    },
    {
     "name": "stdout",
     "output_type": "stream",
     "text": [
      "(1501, 1995)\n"
     ]
    },
    {
     "name": "stderr",
     "output_type": "stream",
     "text": [
      "C:\\Users\\steve\\Anaconda3\\envs\\rasterenv\\lib\\site-packages\\ipykernel_launcher.py:14: UserWarning: Tight layout not applied. The left and right margins cannot be made large enough to accommodate all axes decorations. \n",
      "  \n",
      "C:\\Users\\steve\\Anaconda3\\envs\\rasterenv\\lib\\site-packages\\pandas\\core\\indexes\\base.py:2825: RuntimeWarning: invalid value encountered in less\n",
      "  indexer = np.where(op(left_distances, right_distances) |\n",
      "C:\\Users\\steve\\Anaconda3\\envs\\rasterenv\\lib\\site-packages\\pandas\\core\\indexes\\base.py:2825: RuntimeWarning: invalid value encountered in less_equal\n",
      "  indexer = np.where(op(left_distances, right_distances) |\n"
     ]
    },
    {
     "name": "stdout",
     "output_type": "stream",
     "text": [
      "(1501, 1995)\n"
     ]
    },
    {
     "name": "stderr",
     "output_type": "stream",
     "text": [
      "C:\\Users\\steve\\Anaconda3\\envs\\rasterenv\\lib\\site-packages\\ipykernel_launcher.py:14: UserWarning: Tight layout not applied. The left and right margins cannot be made large enough to accommodate all axes decorations. \n",
      "  \n",
      "C:\\Users\\steve\\Anaconda3\\envs\\rasterenv\\lib\\site-packages\\pandas\\core\\indexes\\base.py:2825: RuntimeWarning: invalid value encountered in less\n",
      "  indexer = np.where(op(left_distances, right_distances) |\n",
      "C:\\Users\\steve\\Anaconda3\\envs\\rasterenv\\lib\\site-packages\\pandas\\core\\indexes\\base.py:2825: RuntimeWarning: invalid value encountered in less_equal\n",
      "  indexer = np.where(op(left_distances, right_distances) |\n"
     ]
    },
    {
     "name": "stdout",
     "output_type": "stream",
     "text": [
      "(1501, 1995)\n"
     ]
    },
    {
     "name": "stderr",
     "output_type": "stream",
     "text": [
      "C:\\Users\\steve\\Anaconda3\\envs\\rasterenv\\lib\\site-packages\\ipykernel_launcher.py:14: UserWarning: Tight layout not applied. The left and right margins cannot be made large enough to accommodate all axes decorations. \n",
      "  \n",
      "C:\\Users\\steve\\Anaconda3\\envs\\rasterenv\\lib\\site-packages\\pandas\\core\\indexes\\base.py:2825: RuntimeWarning: invalid value encountered in less\n",
      "  indexer = np.where(op(left_distances, right_distances) |\n",
      "C:\\Users\\steve\\Anaconda3\\envs\\rasterenv\\lib\\site-packages\\pandas\\core\\indexes\\base.py:2825: RuntimeWarning: invalid value encountered in less_equal\n",
      "  indexer = np.where(op(left_distances, right_distances) |\n"
     ]
    },
    {
     "name": "stdout",
     "output_type": "stream",
     "text": [
      "(1501, 1995)\n"
     ]
    },
    {
     "name": "stderr",
     "output_type": "stream",
     "text": [
      "C:\\Users\\steve\\Anaconda3\\envs\\rasterenv\\lib\\site-packages\\ipykernel_launcher.py:14: UserWarning: Tight layout not applied. The left and right margins cannot be made large enough to accommodate all axes decorations. \n",
      "  \n",
      "C:\\Users\\steve\\Anaconda3\\envs\\rasterenv\\lib\\site-packages\\pandas\\core\\indexes\\base.py:2825: RuntimeWarning: invalid value encountered in less\n",
      "  indexer = np.where(op(left_distances, right_distances) |\n",
      "C:\\Users\\steve\\Anaconda3\\envs\\rasterenv\\lib\\site-packages\\pandas\\core\\indexes\\base.py:2825: RuntimeWarning: invalid value encountered in less_equal\n",
      "  indexer = np.where(op(left_distances, right_distances) |\n"
     ]
    },
    {
     "name": "stdout",
     "output_type": "stream",
     "text": [
      "(1501, 1995)\n"
     ]
    },
    {
     "name": "stderr",
     "output_type": "stream",
     "text": [
      "C:\\Users\\steve\\Anaconda3\\envs\\rasterenv\\lib\\site-packages\\ipykernel_launcher.py:14: UserWarning: Tight layout not applied. The left and right margins cannot be made large enough to accommodate all axes decorations. \n",
      "  \n",
      "C:\\Users\\steve\\Anaconda3\\envs\\rasterenv\\lib\\site-packages\\pandas\\core\\indexes\\base.py:2825: RuntimeWarning: invalid value encountered in less\n",
      "  indexer = np.where(op(left_distances, right_distances) |\n",
      "C:\\Users\\steve\\Anaconda3\\envs\\rasterenv\\lib\\site-packages\\pandas\\core\\indexes\\base.py:2825: RuntimeWarning: invalid value encountered in less_equal\n",
      "  indexer = np.where(op(left_distances, right_distances) |\n"
     ]
    },
    {
     "name": "stdout",
     "output_type": "stream",
     "text": [
      "(1501, 1995)\n"
     ]
    },
    {
     "name": "stderr",
     "output_type": "stream",
     "text": [
      "C:\\Users\\steve\\Anaconda3\\envs\\rasterenv\\lib\\site-packages\\ipykernel_launcher.py:14: UserWarning: Tight layout not applied. The left and right margins cannot be made large enough to accommodate all axes decorations. \n",
      "  \n",
      "C:\\Users\\steve\\Anaconda3\\envs\\rasterenv\\lib\\site-packages\\pandas\\core\\indexes\\base.py:2825: RuntimeWarning: invalid value encountered in less\n",
      "  indexer = np.where(op(left_distances, right_distances) |\n",
      "C:\\Users\\steve\\Anaconda3\\envs\\rasterenv\\lib\\site-packages\\pandas\\core\\indexes\\base.py:2825: RuntimeWarning: invalid value encountered in less_equal\n",
      "  indexer = np.where(op(left_distances, right_distances) |\n"
     ]
    },
    {
     "name": "stdout",
     "output_type": "stream",
     "text": [
      "(1501, 1995)\n"
     ]
    },
    {
     "name": "stderr",
     "output_type": "stream",
     "text": [
      "C:\\Users\\steve\\Anaconda3\\envs\\rasterenv\\lib\\site-packages\\ipykernel_launcher.py:14: UserWarning: Tight layout not applied. The left and right margins cannot be made large enough to accommodate all axes decorations. \n",
      "  \n",
      "C:\\Users\\steve\\Anaconda3\\envs\\rasterenv\\lib\\site-packages\\pandas\\core\\indexes\\base.py:2825: RuntimeWarning: invalid value encountered in less\n",
      "  indexer = np.where(op(left_distances, right_distances) |\n",
      "C:\\Users\\steve\\Anaconda3\\envs\\rasterenv\\lib\\site-packages\\pandas\\core\\indexes\\base.py:2825: RuntimeWarning: invalid value encountered in less_equal\n",
      "  indexer = np.where(op(left_distances, right_distances) |\n"
     ]
    },
    {
     "name": "stdout",
     "output_type": "stream",
     "text": [
      "(1501, 1995)\n"
     ]
    },
    {
     "name": "stderr",
     "output_type": "stream",
     "text": [
      "C:\\Users\\steve\\Anaconda3\\envs\\rasterenv\\lib\\site-packages\\ipykernel_launcher.py:14: UserWarning: Tight layout not applied. The left and right margins cannot be made large enough to accommodate all axes decorations. \n",
      "  \n",
      "C:\\Users\\steve\\Anaconda3\\envs\\rasterenv\\lib\\site-packages\\pandas\\core\\indexes\\base.py:2825: RuntimeWarning: invalid value encountered in less\n",
      "  indexer = np.where(op(left_distances, right_distances) |\n",
      "C:\\Users\\steve\\Anaconda3\\envs\\rasterenv\\lib\\site-packages\\pandas\\core\\indexes\\base.py:2825: RuntimeWarning: invalid value encountered in less_equal\n",
      "  indexer = np.where(op(left_distances, right_distances) |\n"
     ]
    },
    {
     "name": "stdout",
     "output_type": "stream",
     "text": [
      "(1501, 1995)\n"
     ]
    },
    {
     "name": "stderr",
     "output_type": "stream",
     "text": [
      "C:\\Users\\steve\\Anaconda3\\envs\\rasterenv\\lib\\site-packages\\ipykernel_launcher.py:14: UserWarning: Tight layout not applied. The left and right margins cannot be made large enough to accommodate all axes decorations. \n",
      "  \n",
      "C:\\Users\\steve\\Anaconda3\\envs\\rasterenv\\lib\\site-packages\\pandas\\core\\indexes\\base.py:2825: RuntimeWarning: invalid value encountered in less\n",
      "  indexer = np.where(op(left_distances, right_distances) |\n",
      "C:\\Users\\steve\\Anaconda3\\envs\\rasterenv\\lib\\site-packages\\pandas\\core\\indexes\\base.py:2825: RuntimeWarning: invalid value encountered in less_equal\n",
      "  indexer = np.where(op(left_distances, right_distances) |\n"
     ]
    },
    {
     "name": "stdout",
     "output_type": "stream",
     "text": [
      "(1501, 1995)\n"
     ]
    },
    {
     "name": "stderr",
     "output_type": "stream",
     "text": [
      "C:\\Users\\steve\\Anaconda3\\envs\\rasterenv\\lib\\site-packages\\ipykernel_launcher.py:14: UserWarning: Tight layout not applied. The left and right margins cannot be made large enough to accommodate all axes decorations. \n",
      "  \n",
      "C:\\Users\\steve\\Anaconda3\\envs\\rasterenv\\lib\\site-packages\\pandas\\core\\indexes\\base.py:2825: RuntimeWarning: invalid value encountered in less\n",
      "  indexer = np.where(op(left_distances, right_distances) |\n",
      "C:\\Users\\steve\\Anaconda3\\envs\\rasterenv\\lib\\site-packages\\pandas\\core\\indexes\\base.py:2825: RuntimeWarning: invalid value encountered in less_equal\n",
      "  indexer = np.where(op(left_distances, right_distances) |\n"
     ]
    },
    {
     "name": "stdout",
     "output_type": "stream",
     "text": [
      "(1501, 1995)\n"
     ]
    },
    {
     "name": "stderr",
     "output_type": "stream",
     "text": [
      "C:\\Users\\steve\\Anaconda3\\envs\\rasterenv\\lib\\site-packages\\ipykernel_launcher.py:14: UserWarning: Tight layout not applied. The left and right margins cannot be made large enough to accommodate all axes decorations. \n",
      "  \n",
      "C:\\Users\\steve\\Anaconda3\\envs\\rasterenv\\lib\\site-packages\\pandas\\core\\indexes\\base.py:2825: RuntimeWarning: invalid value encountered in less\n",
      "  indexer = np.where(op(left_distances, right_distances) |\n",
      "C:\\Users\\steve\\Anaconda3\\envs\\rasterenv\\lib\\site-packages\\pandas\\core\\indexes\\base.py:2825: RuntimeWarning: invalid value encountered in less_equal\n",
      "  indexer = np.where(op(left_distances, right_distances) |\n"
     ]
    },
    {
     "name": "stdout",
     "output_type": "stream",
     "text": [
      "(1501, 1995)\n"
     ]
    },
    {
     "name": "stderr",
     "output_type": "stream",
     "text": [
      "C:\\Users\\steve\\Anaconda3\\envs\\rasterenv\\lib\\site-packages\\ipykernel_launcher.py:14: UserWarning: Tight layout not applied. The left and right margins cannot be made large enough to accommodate all axes decorations. \n",
      "  \n",
      "C:\\Users\\steve\\Anaconda3\\envs\\rasterenv\\lib\\site-packages\\pandas\\core\\indexes\\base.py:2825: RuntimeWarning: invalid value encountered in less\n",
      "  indexer = np.where(op(left_distances, right_distances) |\n",
      "C:\\Users\\steve\\Anaconda3\\envs\\rasterenv\\lib\\site-packages\\pandas\\core\\indexes\\base.py:2825: RuntimeWarning: invalid value encountered in less_equal\n",
      "  indexer = np.where(op(left_distances, right_distances) |\n"
     ]
    },
    {
     "name": "stdout",
     "output_type": "stream",
     "text": [
      "(1501, 1995)\n"
     ]
    },
    {
     "name": "stderr",
     "output_type": "stream",
     "text": [
      "C:\\Users\\steve\\Anaconda3\\envs\\rasterenv\\lib\\site-packages\\ipykernel_launcher.py:14: UserWarning: Tight layout not applied. The left and right margins cannot be made large enough to accommodate all axes decorations. \n",
      "  \n",
      "C:\\Users\\steve\\Anaconda3\\envs\\rasterenv\\lib\\site-packages\\pandas\\core\\indexes\\base.py:2825: RuntimeWarning: invalid value encountered in less\n",
      "  indexer = np.where(op(left_distances, right_distances) |\n",
      "C:\\Users\\steve\\Anaconda3\\envs\\rasterenv\\lib\\site-packages\\pandas\\core\\indexes\\base.py:2825: RuntimeWarning: invalid value encountered in less_equal\n",
      "  indexer = np.where(op(left_distances, right_distances) |\n"
     ]
    },
    {
     "name": "stdout",
     "output_type": "stream",
     "text": [
      "(1501, 1995)\n"
     ]
    },
    {
     "name": "stderr",
     "output_type": "stream",
     "text": [
      "C:\\Users\\steve\\Anaconda3\\envs\\rasterenv\\lib\\site-packages\\ipykernel_launcher.py:14: UserWarning: Tight layout not applied. The left and right margins cannot be made large enough to accommodate all axes decorations. \n",
      "  \n",
      "C:\\Users\\steve\\Anaconda3\\envs\\rasterenv\\lib\\site-packages\\pandas\\core\\indexes\\base.py:2825: RuntimeWarning: invalid value encountered in less\n",
      "  indexer = np.where(op(left_distances, right_distances) |\n",
      "C:\\Users\\steve\\Anaconda3\\envs\\rasterenv\\lib\\site-packages\\pandas\\core\\indexes\\base.py:2825: RuntimeWarning: invalid value encountered in less_equal\n",
      "  indexer = np.where(op(left_distances, right_distances) |\n"
     ]
    },
    {
     "name": "stdout",
     "output_type": "stream",
     "text": [
      "(1501, 1995)\n"
     ]
    },
    {
     "name": "stderr",
     "output_type": "stream",
     "text": [
      "C:\\Users\\steve\\Anaconda3\\envs\\rasterenv\\lib\\site-packages\\ipykernel_launcher.py:14: UserWarning: Tight layout not applied. The left and right margins cannot be made large enough to accommodate all axes decorations. \n",
      "  \n",
      "C:\\Users\\steve\\Anaconda3\\envs\\rasterenv\\lib\\site-packages\\pandas\\core\\indexes\\base.py:2825: RuntimeWarning: invalid value encountered in less\n",
      "  indexer = np.where(op(left_distances, right_distances) |\n",
      "C:\\Users\\steve\\Anaconda3\\envs\\rasterenv\\lib\\site-packages\\pandas\\core\\indexes\\base.py:2825: RuntimeWarning: invalid value encountered in less_equal\n",
      "  indexer = np.where(op(left_distances, right_distances) |\n"
     ]
    },
    {
     "name": "stdout",
     "output_type": "stream",
     "text": [
      "(1501, 1995)\n"
     ]
    },
    {
     "name": "stderr",
     "output_type": "stream",
     "text": [
      "C:\\Users\\steve\\Anaconda3\\envs\\rasterenv\\lib\\site-packages\\ipykernel_launcher.py:14: UserWarning: Tight layout not applied. The left and right margins cannot be made large enough to accommodate all axes decorations. \n",
      "  \n",
      "C:\\Users\\steve\\Anaconda3\\envs\\rasterenv\\lib\\site-packages\\pandas\\core\\indexes\\base.py:2825: RuntimeWarning: invalid value encountered in less\n",
      "  indexer = np.where(op(left_distances, right_distances) |\n",
      "C:\\Users\\steve\\Anaconda3\\envs\\rasterenv\\lib\\site-packages\\pandas\\core\\indexes\\base.py:2825: RuntimeWarning: invalid value encountered in less_equal\n",
      "  indexer = np.where(op(left_distances, right_distances) |\n"
     ]
    },
    {
     "name": "stdout",
     "output_type": "stream",
     "text": [
      "(1501, 1995)\n"
     ]
    },
    {
     "name": "stderr",
     "output_type": "stream",
     "text": [
      "C:\\Users\\steve\\Anaconda3\\envs\\rasterenv\\lib\\site-packages\\ipykernel_launcher.py:14: UserWarning: Tight layout not applied. The left and right margins cannot be made large enough to accommodate all axes decorations. \n",
      "  \n",
      "C:\\Users\\steve\\Anaconda3\\envs\\rasterenv\\lib\\site-packages\\pandas\\core\\indexes\\base.py:2825: RuntimeWarning: invalid value encountered in less\n",
      "  indexer = np.where(op(left_distances, right_distances) |\n",
      "C:\\Users\\steve\\Anaconda3\\envs\\rasterenv\\lib\\site-packages\\pandas\\core\\indexes\\base.py:2825: RuntimeWarning: invalid value encountered in less_equal\n",
      "  indexer = np.where(op(left_distances, right_distances) |\n"
     ]
    },
    {
     "name": "stdout",
     "output_type": "stream",
     "text": [
      "(1501, 1995)\n"
     ]
    },
    {
     "name": "stderr",
     "output_type": "stream",
     "text": [
      "C:\\Users\\steve\\Anaconda3\\envs\\rasterenv\\lib\\site-packages\\ipykernel_launcher.py:14: UserWarning: Tight layout not applied. The left and right margins cannot be made large enough to accommodate all axes decorations. \n",
      "  \n",
      "C:\\Users\\steve\\Anaconda3\\envs\\rasterenv\\lib\\site-packages\\pandas\\core\\indexes\\base.py:2825: RuntimeWarning: invalid value encountered in less\n",
      "  indexer = np.where(op(left_distances, right_distances) |\n",
      "C:\\Users\\steve\\Anaconda3\\envs\\rasterenv\\lib\\site-packages\\pandas\\core\\indexes\\base.py:2825: RuntimeWarning: invalid value encountered in less_equal\n",
      "  indexer = np.where(op(left_distances, right_distances) |\n"
     ]
    },
    {
     "name": "stdout",
     "output_type": "stream",
     "text": [
      "(1501, 1995)\n"
     ]
    },
    {
     "name": "stderr",
     "output_type": "stream",
     "text": [
      "C:\\Users\\steve\\Anaconda3\\envs\\rasterenv\\lib\\site-packages\\ipykernel_launcher.py:14: UserWarning: Tight layout not applied. The left and right margins cannot be made large enough to accommodate all axes decorations. \n",
      "  \n",
      "C:\\Users\\steve\\Anaconda3\\envs\\rasterenv\\lib\\site-packages\\pandas\\core\\indexes\\base.py:2825: RuntimeWarning: invalid value encountered in less\n",
      "  indexer = np.where(op(left_distances, right_distances) |\n",
      "C:\\Users\\steve\\Anaconda3\\envs\\rasterenv\\lib\\site-packages\\pandas\\core\\indexes\\base.py:2825: RuntimeWarning: invalid value encountered in less_equal\n",
      "  indexer = np.where(op(left_distances, right_distances) |\n"
     ]
    },
    {
     "name": "stdout",
     "output_type": "stream",
     "text": [
      "(1501, 1995)\n"
     ]
    },
    {
     "name": "stderr",
     "output_type": "stream",
     "text": [
      "C:\\Users\\steve\\Anaconda3\\envs\\rasterenv\\lib\\site-packages\\ipykernel_launcher.py:14: UserWarning: Tight layout not applied. The left and right margins cannot be made large enough to accommodate all axes decorations. \n",
      "  \n",
      "C:\\Users\\steve\\Anaconda3\\envs\\rasterenv\\lib\\site-packages\\pandas\\core\\indexes\\base.py:2825: RuntimeWarning: invalid value encountered in less\n",
      "  indexer = np.where(op(left_distances, right_distances) |\n",
      "C:\\Users\\steve\\Anaconda3\\envs\\rasterenv\\lib\\site-packages\\pandas\\core\\indexes\\base.py:2825: RuntimeWarning: invalid value encountered in less_equal\n",
      "  indexer = np.where(op(left_distances, right_distances) |\n"
     ]
    },
    {
     "name": "stdout",
     "output_type": "stream",
     "text": [
      "(1501, 1995)\n"
     ]
    },
    {
     "name": "stderr",
     "output_type": "stream",
     "text": [
      "C:\\Users\\steve\\Anaconda3\\envs\\rasterenv\\lib\\site-packages\\ipykernel_launcher.py:14: UserWarning: Tight layout not applied. The left and right margins cannot be made large enough to accommodate all axes decorations. \n",
      "  \n",
      "C:\\Users\\steve\\Anaconda3\\envs\\rasterenv\\lib\\site-packages\\pandas\\core\\indexes\\base.py:2825: RuntimeWarning: invalid value encountered in less\n",
      "  indexer = np.where(op(left_distances, right_distances) |\n",
      "C:\\Users\\steve\\Anaconda3\\envs\\rasterenv\\lib\\site-packages\\pandas\\core\\indexes\\base.py:2825: RuntimeWarning: invalid value encountered in less_equal\n",
      "  indexer = np.where(op(left_distances, right_distances) |\n"
     ]
    },
    {
     "name": "stdout",
     "output_type": "stream",
     "text": [
      "(1501, 1995)\n"
     ]
    },
    {
     "name": "stderr",
     "output_type": "stream",
     "text": [
      "C:\\Users\\steve\\Anaconda3\\envs\\rasterenv\\lib\\site-packages\\ipykernel_launcher.py:14: UserWarning: Tight layout not applied. The left and right margins cannot be made large enough to accommodate all axes decorations. \n",
      "  \n",
      "C:\\Users\\steve\\Anaconda3\\envs\\rasterenv\\lib\\site-packages\\pandas\\core\\indexes\\base.py:2825: RuntimeWarning: invalid value encountered in less\n",
      "  indexer = np.where(op(left_distances, right_distances) |\n",
      "C:\\Users\\steve\\Anaconda3\\envs\\rasterenv\\lib\\site-packages\\pandas\\core\\indexes\\base.py:2825: RuntimeWarning: invalid value encountered in less_equal\n",
      "  indexer = np.where(op(left_distances, right_distances) |\n"
     ]
    },
    {
     "name": "stdout",
     "output_type": "stream",
     "text": [
      "(1501, 1995)\n"
     ]
    },
    {
     "name": "stderr",
     "output_type": "stream",
     "text": [
      "C:\\Users\\steve\\Anaconda3\\envs\\rasterenv\\lib\\site-packages\\ipykernel_launcher.py:14: UserWarning: Tight layout not applied. The left and right margins cannot be made large enough to accommodate all axes decorations. \n",
      "  \n",
      "C:\\Users\\steve\\Anaconda3\\envs\\rasterenv\\lib\\site-packages\\pandas\\core\\indexes\\base.py:2825: RuntimeWarning: invalid value encountered in less\n",
      "  indexer = np.where(op(left_distances, right_distances) |\n",
      "C:\\Users\\steve\\Anaconda3\\envs\\rasterenv\\lib\\site-packages\\pandas\\core\\indexes\\base.py:2825: RuntimeWarning: invalid value encountered in less_equal\n",
      "  indexer = np.where(op(left_distances, right_distances) |\n"
     ]
    },
    {
     "name": "stdout",
     "output_type": "stream",
     "text": [
      "(1501, 1995)\n"
     ]
    },
    {
     "name": "stderr",
     "output_type": "stream",
     "text": [
      "C:\\Users\\steve\\Anaconda3\\envs\\rasterenv\\lib\\site-packages\\ipykernel_launcher.py:14: UserWarning: Tight layout not applied. The left and right margins cannot be made large enough to accommodate all axes decorations. \n",
      "  \n",
      "C:\\Users\\steve\\Anaconda3\\envs\\rasterenv\\lib\\site-packages\\pandas\\core\\indexes\\base.py:2825: RuntimeWarning: invalid value encountered in less\n",
      "  indexer = np.where(op(left_distances, right_distances) |\n",
      "C:\\Users\\steve\\Anaconda3\\envs\\rasterenv\\lib\\site-packages\\pandas\\core\\indexes\\base.py:2825: RuntimeWarning: invalid value encountered in less_equal\n",
      "  indexer = np.where(op(left_distances, right_distances) |\n"
     ]
    },
    {
     "name": "stdout",
     "output_type": "stream",
     "text": [
      "(1501, 1995)\n"
     ]
    },
    {
     "name": "stderr",
     "output_type": "stream",
     "text": [
      "C:\\Users\\steve\\Anaconda3\\envs\\rasterenv\\lib\\site-packages\\ipykernel_launcher.py:14: UserWarning: Tight layout not applied. The left and right margins cannot be made large enough to accommodate all axes decorations. \n",
      "  \n",
      "C:\\Users\\steve\\Anaconda3\\envs\\rasterenv\\lib\\site-packages\\pandas\\core\\indexes\\base.py:2825: RuntimeWarning: invalid value encountered in less\n",
      "  indexer = np.where(op(left_distances, right_distances) |\n",
      "C:\\Users\\steve\\Anaconda3\\envs\\rasterenv\\lib\\site-packages\\pandas\\core\\indexes\\base.py:2825: RuntimeWarning: invalid value encountered in less_equal\n",
      "  indexer = np.where(op(left_distances, right_distances) |\n"
     ]
    },
    {
     "name": "stdout",
     "output_type": "stream",
     "text": [
      "(1501, 1995)\n"
     ]
    },
    {
     "name": "stderr",
     "output_type": "stream",
     "text": [
      "C:\\Users\\steve\\Anaconda3\\envs\\rasterenv\\lib\\site-packages\\ipykernel_launcher.py:14: UserWarning: Tight layout not applied. The left and right margins cannot be made large enough to accommodate all axes decorations. \n",
      "  \n",
      "C:\\Users\\steve\\Anaconda3\\envs\\rasterenv\\lib\\site-packages\\pandas\\core\\indexes\\base.py:2825: RuntimeWarning: invalid value encountered in less\n",
      "  indexer = np.where(op(left_distances, right_distances) |\n",
      "C:\\Users\\steve\\Anaconda3\\envs\\rasterenv\\lib\\site-packages\\pandas\\core\\indexes\\base.py:2825: RuntimeWarning: invalid value encountered in less_equal\n",
      "  indexer = np.where(op(left_distances, right_distances) |\n"
     ]
    },
    {
     "name": "stdout",
     "output_type": "stream",
     "text": [
      "(1501, 1995)\n"
     ]
    },
    {
     "name": "stderr",
     "output_type": "stream",
     "text": [
      "C:\\Users\\steve\\Anaconda3\\envs\\rasterenv\\lib\\site-packages\\ipykernel_launcher.py:14: UserWarning: Tight layout not applied. The left and right margins cannot be made large enough to accommodate all axes decorations. \n",
      "  \n",
      "C:\\Users\\steve\\Anaconda3\\envs\\rasterenv\\lib\\site-packages\\pandas\\core\\indexes\\base.py:2825: RuntimeWarning: invalid value encountered in less\n",
      "  indexer = np.where(op(left_distances, right_distances) |\n",
      "C:\\Users\\steve\\Anaconda3\\envs\\rasterenv\\lib\\site-packages\\pandas\\core\\indexes\\base.py:2825: RuntimeWarning: invalid value encountered in less_equal\n",
      "  indexer = np.where(op(left_distances, right_distances) |\n"
     ]
    },
    {
     "name": "stdout",
     "output_type": "stream",
     "text": [
      "(1501, 1995)\n"
     ]
    },
    {
     "name": "stderr",
     "output_type": "stream",
     "text": [
      "C:\\Users\\steve\\Anaconda3\\envs\\rasterenv\\lib\\site-packages\\ipykernel_launcher.py:14: UserWarning: Tight layout not applied. The left and right margins cannot be made large enough to accommodate all axes decorations. \n",
      "  \n",
      "C:\\Users\\steve\\Anaconda3\\envs\\rasterenv\\lib\\site-packages\\pandas\\core\\indexes\\base.py:2825: RuntimeWarning: invalid value encountered in less\n",
      "  indexer = np.where(op(left_distances, right_distances) |\n",
      "C:\\Users\\steve\\Anaconda3\\envs\\rasterenv\\lib\\site-packages\\pandas\\core\\indexes\\base.py:2825: RuntimeWarning: invalid value encountered in less_equal\n",
      "  indexer = np.where(op(left_distances, right_distances) |\n"
     ]
    },
    {
     "name": "stdout",
     "output_type": "stream",
     "text": [
      "(1501, 1995)\n"
     ]
    },
    {
     "name": "stderr",
     "output_type": "stream",
     "text": [
      "C:\\Users\\steve\\Anaconda3\\envs\\rasterenv\\lib\\site-packages\\ipykernel_launcher.py:14: UserWarning: Tight layout not applied. The left and right margins cannot be made large enough to accommodate all axes decorations. \n",
      "  \n",
      "C:\\Users\\steve\\Anaconda3\\envs\\rasterenv\\lib\\site-packages\\pandas\\core\\indexes\\base.py:2825: RuntimeWarning: invalid value encountered in less\n",
      "  indexer = np.where(op(left_distances, right_distances) |\n",
      "C:\\Users\\steve\\Anaconda3\\envs\\rasterenv\\lib\\site-packages\\pandas\\core\\indexes\\base.py:2825: RuntimeWarning: invalid value encountered in less_equal\n",
      "  indexer = np.where(op(left_distances, right_distances) |\n"
     ]
    },
    {
     "name": "stdout",
     "output_type": "stream",
     "text": [
      "(1501, 1995)\n"
     ]
    },
    {
     "name": "stderr",
     "output_type": "stream",
     "text": [
      "C:\\Users\\steve\\Anaconda3\\envs\\rasterenv\\lib\\site-packages\\ipykernel_launcher.py:14: UserWarning: Tight layout not applied. The left and right margins cannot be made large enough to accommodate all axes decorations. \n",
      "  \n",
      "C:\\Users\\steve\\Anaconda3\\envs\\rasterenv\\lib\\site-packages\\pandas\\core\\indexes\\base.py:2825: RuntimeWarning: invalid value encountered in less\n",
      "  indexer = np.where(op(left_distances, right_distances) |\n",
      "C:\\Users\\steve\\Anaconda3\\envs\\rasterenv\\lib\\site-packages\\pandas\\core\\indexes\\base.py:2825: RuntimeWarning: invalid value encountered in less_equal\n",
      "  indexer = np.where(op(left_distances, right_distances) |\n"
     ]
    },
    {
     "name": "stdout",
     "output_type": "stream",
     "text": [
      "(1501, 1995)\n"
     ]
    },
    {
     "name": "stderr",
     "output_type": "stream",
     "text": [
      "C:\\Users\\steve\\Anaconda3\\envs\\rasterenv\\lib\\site-packages\\ipykernel_launcher.py:14: UserWarning: Tight layout not applied. The left and right margins cannot be made large enough to accommodate all axes decorations. \n",
      "  \n",
      "C:\\Users\\steve\\Anaconda3\\envs\\rasterenv\\lib\\site-packages\\pandas\\core\\indexes\\base.py:2825: RuntimeWarning: invalid value encountered in less\n",
      "  indexer = np.where(op(left_distances, right_distances) |\n",
      "C:\\Users\\steve\\Anaconda3\\envs\\rasterenv\\lib\\site-packages\\pandas\\core\\indexes\\base.py:2825: RuntimeWarning: invalid value encountered in less_equal\n",
      "  indexer = np.where(op(left_distances, right_distances) |\n"
     ]
    },
    {
     "name": "stdout",
     "output_type": "stream",
     "text": [
      "(1501, 1995)\n"
     ]
    },
    {
     "name": "stderr",
     "output_type": "stream",
     "text": [
      "C:\\Users\\steve\\Anaconda3\\envs\\rasterenv\\lib\\site-packages\\ipykernel_launcher.py:14: UserWarning: Tight layout not applied. The left and right margins cannot be made large enough to accommodate all axes decorations. \n",
      "  \n",
      "C:\\Users\\steve\\Anaconda3\\envs\\rasterenv\\lib\\site-packages\\pandas\\core\\indexes\\base.py:2825: RuntimeWarning: invalid value encountered in less\n",
      "  indexer = np.where(op(left_distances, right_distances) |\n",
      "C:\\Users\\steve\\Anaconda3\\envs\\rasterenv\\lib\\site-packages\\pandas\\core\\indexes\\base.py:2825: RuntimeWarning: invalid value encountered in less_equal\n",
      "  indexer = np.where(op(left_distances, right_distances) |\n"
     ]
    },
    {
     "name": "stdout",
     "output_type": "stream",
     "text": [
      "(1501, 1995)\n"
     ]
    },
    {
     "name": "stderr",
     "output_type": "stream",
     "text": [
      "C:\\Users\\steve\\Anaconda3\\envs\\rasterenv\\lib\\site-packages\\ipykernel_launcher.py:14: UserWarning: Tight layout not applied. The left and right margins cannot be made large enough to accommodate all axes decorations. \n",
      "  \n",
      "C:\\Users\\steve\\Anaconda3\\envs\\rasterenv\\lib\\site-packages\\pandas\\core\\indexes\\base.py:2825: RuntimeWarning: invalid value encountered in less\n",
      "  indexer = np.where(op(left_distances, right_distances) |\n",
      "C:\\Users\\steve\\Anaconda3\\envs\\rasterenv\\lib\\site-packages\\pandas\\core\\indexes\\base.py:2825: RuntimeWarning: invalid value encountered in less_equal\n",
      "  indexer = np.where(op(left_distances, right_distances) |\n"
     ]
    },
    {
     "name": "stdout",
     "output_type": "stream",
     "text": [
      "(1501, 1995)\n"
     ]
    },
    {
     "name": "stderr",
     "output_type": "stream",
     "text": [
      "C:\\Users\\steve\\Anaconda3\\envs\\rasterenv\\lib\\site-packages\\ipykernel_launcher.py:14: UserWarning: Tight layout not applied. The left and right margins cannot be made large enough to accommodate all axes decorations. \n",
      "  \n",
      "C:\\Users\\steve\\Anaconda3\\envs\\rasterenv\\lib\\site-packages\\pandas\\core\\indexes\\base.py:2825: RuntimeWarning: invalid value encountered in less\n",
      "  indexer = np.where(op(left_distances, right_distances) |\n",
      "C:\\Users\\steve\\Anaconda3\\envs\\rasterenv\\lib\\site-packages\\pandas\\core\\indexes\\base.py:2825: RuntimeWarning: invalid value encountered in less_equal\n",
      "  indexer = np.where(op(left_distances, right_distances) |\n"
     ]
    },
    {
     "name": "stdout",
     "output_type": "stream",
     "text": [
      "(1501, 1995)\n"
     ]
    },
    {
     "name": "stderr",
     "output_type": "stream",
     "text": [
      "C:\\Users\\steve\\Anaconda3\\envs\\rasterenv\\lib\\site-packages\\ipykernel_launcher.py:14: UserWarning: Tight layout not applied. The left and right margins cannot be made large enough to accommodate all axes decorations. \n",
      "  \n",
      "C:\\Users\\steve\\Anaconda3\\envs\\rasterenv\\lib\\site-packages\\pandas\\core\\indexes\\base.py:2825: RuntimeWarning: invalid value encountered in less\n",
      "  indexer = np.where(op(left_distances, right_distances) |\n",
      "C:\\Users\\steve\\Anaconda3\\envs\\rasterenv\\lib\\site-packages\\pandas\\core\\indexes\\base.py:2825: RuntimeWarning: invalid value encountered in less_equal\n",
      "  indexer = np.where(op(left_distances, right_distances) |\n"
     ]
    },
    {
     "name": "stdout",
     "output_type": "stream",
     "text": [
      "(1501, 1995)\n"
     ]
    },
    {
     "name": "stderr",
     "output_type": "stream",
     "text": [
      "C:\\Users\\steve\\Anaconda3\\envs\\rasterenv\\lib\\site-packages\\ipykernel_launcher.py:14: UserWarning: Tight layout not applied. The left and right margins cannot be made large enough to accommodate all axes decorations. \n",
      "  \n",
      "C:\\Users\\steve\\Anaconda3\\envs\\rasterenv\\lib\\site-packages\\pandas\\core\\indexes\\base.py:2825: RuntimeWarning: invalid value encountered in less\n",
      "  indexer = np.where(op(left_distances, right_distances) |\n",
      "C:\\Users\\steve\\Anaconda3\\envs\\rasterenv\\lib\\site-packages\\pandas\\core\\indexes\\base.py:2825: RuntimeWarning: invalid value encountered in less_equal\n",
      "  indexer = np.where(op(left_distances, right_distances) |\n"
     ]
    },
    {
     "name": "stdout",
     "output_type": "stream",
     "text": [
      "(1501, 1995)\n"
     ]
    },
    {
     "name": "stderr",
     "output_type": "stream",
     "text": [
      "C:\\Users\\steve\\Anaconda3\\envs\\rasterenv\\lib\\site-packages\\ipykernel_launcher.py:14: UserWarning: Tight layout not applied. The left and right margins cannot be made large enough to accommodate all axes decorations. \n",
      "  \n",
      "C:\\Users\\steve\\Anaconda3\\envs\\rasterenv\\lib\\site-packages\\pandas\\core\\indexes\\base.py:2825: RuntimeWarning: invalid value encountered in less\n",
      "  indexer = np.where(op(left_distances, right_distances) |\n",
      "C:\\Users\\steve\\Anaconda3\\envs\\rasterenv\\lib\\site-packages\\pandas\\core\\indexes\\base.py:2825: RuntimeWarning: invalid value encountered in less_equal\n",
      "  indexer = np.where(op(left_distances, right_distances) |\n"
     ]
    },
    {
     "name": "stdout",
     "output_type": "stream",
     "text": [
      "(1501, 1995)\n"
     ]
    },
    {
     "name": "stderr",
     "output_type": "stream",
     "text": [
      "C:\\Users\\steve\\Anaconda3\\envs\\rasterenv\\lib\\site-packages\\ipykernel_launcher.py:14: UserWarning: Tight layout not applied. The left and right margins cannot be made large enough to accommodate all axes decorations. \n",
      "  \n",
      "C:\\Users\\steve\\Anaconda3\\envs\\rasterenv\\lib\\site-packages\\pandas\\core\\indexes\\base.py:2825: RuntimeWarning: invalid value encountered in less\n",
      "  indexer = np.where(op(left_distances, right_distances) |\n",
      "C:\\Users\\steve\\Anaconda3\\envs\\rasterenv\\lib\\site-packages\\pandas\\core\\indexes\\base.py:2825: RuntimeWarning: invalid value encountered in less_equal\n",
      "  indexer = np.where(op(left_distances, right_distances) |\n"
     ]
    },
    {
     "name": "stdout",
     "output_type": "stream",
     "text": [
      "(1501, 1995)\n"
     ]
    },
    {
     "name": "stderr",
     "output_type": "stream",
     "text": [
      "C:\\Users\\steve\\Anaconda3\\envs\\rasterenv\\lib\\site-packages\\ipykernel_launcher.py:14: UserWarning: Tight layout not applied. The left and right margins cannot be made large enough to accommodate all axes decorations. \n",
      "  \n",
      "C:\\Users\\steve\\Anaconda3\\envs\\rasterenv\\lib\\site-packages\\pandas\\core\\indexes\\base.py:2825: RuntimeWarning: invalid value encountered in less\n",
      "  indexer = np.where(op(left_distances, right_distances) |\n",
      "C:\\Users\\steve\\Anaconda3\\envs\\rasterenv\\lib\\site-packages\\pandas\\core\\indexes\\base.py:2825: RuntimeWarning: invalid value encountered in less_equal\n",
      "  indexer = np.where(op(left_distances, right_distances) |\n"
     ]
    },
    {
     "name": "stdout",
     "output_type": "stream",
     "text": [
      "(1501, 1995)\n"
     ]
    },
    {
     "name": "stderr",
     "output_type": "stream",
     "text": [
      "C:\\Users\\steve\\Anaconda3\\envs\\rasterenv\\lib\\site-packages\\ipykernel_launcher.py:14: UserWarning: Tight layout not applied. The left and right margins cannot be made large enough to accommodate all axes decorations. \n",
      "  \n",
      "C:\\Users\\steve\\Anaconda3\\envs\\rasterenv\\lib\\site-packages\\pandas\\core\\indexes\\base.py:2825: RuntimeWarning: invalid value encountered in less\n",
      "  indexer = np.where(op(left_distances, right_distances) |\n",
      "C:\\Users\\steve\\Anaconda3\\envs\\rasterenv\\lib\\site-packages\\pandas\\core\\indexes\\base.py:2825: RuntimeWarning: invalid value encountered in less_equal\n",
      "  indexer = np.where(op(left_distances, right_distances) |\n"
     ]
    },
    {
     "name": "stdout",
     "output_type": "stream",
     "text": [
      "(1501, 1995)\n"
     ]
    },
    {
     "name": "stderr",
     "output_type": "stream",
     "text": [
      "C:\\Users\\steve\\Anaconda3\\envs\\rasterenv\\lib\\site-packages\\ipykernel_launcher.py:14: UserWarning: Tight layout not applied. The left and right margins cannot be made large enough to accommodate all axes decorations. \n",
      "  \n",
      "C:\\Users\\steve\\Anaconda3\\envs\\rasterenv\\lib\\site-packages\\pandas\\core\\indexes\\base.py:2825: RuntimeWarning: invalid value encountered in less\n",
      "  indexer = np.where(op(left_distances, right_distances) |\n",
      "C:\\Users\\steve\\Anaconda3\\envs\\rasterenv\\lib\\site-packages\\pandas\\core\\indexes\\base.py:2825: RuntimeWarning: invalid value encountered in less_equal\n",
      "  indexer = np.where(op(left_distances, right_distances) |\n"
     ]
    },
    {
     "name": "stdout",
     "output_type": "stream",
     "text": [
      "(1501, 1995)\n"
     ]
    },
    {
     "name": "stderr",
     "output_type": "stream",
     "text": [
      "C:\\Users\\steve\\Anaconda3\\envs\\rasterenv\\lib\\site-packages\\ipykernel_launcher.py:14: UserWarning: Tight layout not applied. The left and right margins cannot be made large enough to accommodate all axes decorations. \n",
      "  \n",
      "C:\\Users\\steve\\Anaconda3\\envs\\rasterenv\\lib\\site-packages\\pandas\\core\\indexes\\base.py:2825: RuntimeWarning: invalid value encountered in less\n",
      "  indexer = np.where(op(left_distances, right_distances) |\n",
      "C:\\Users\\steve\\Anaconda3\\envs\\rasterenv\\lib\\site-packages\\pandas\\core\\indexes\\base.py:2825: RuntimeWarning: invalid value encountered in less_equal\n",
      "  indexer = np.where(op(left_distances, right_distances) |\n"
     ]
    },
    {
     "name": "stdout",
     "output_type": "stream",
     "text": [
      "(1501, 1995)\n"
     ]
    },
    {
     "name": "stderr",
     "output_type": "stream",
     "text": [
      "C:\\Users\\steve\\Anaconda3\\envs\\rasterenv\\lib\\site-packages\\ipykernel_launcher.py:14: UserWarning: Tight layout not applied. The left and right margins cannot be made large enough to accommodate all axes decorations. \n",
      "  \n",
      "C:\\Users\\steve\\Anaconda3\\envs\\rasterenv\\lib\\site-packages\\pandas\\core\\indexes\\base.py:2825: RuntimeWarning: invalid value encountered in less\n",
      "  indexer = np.where(op(left_distances, right_distances) |\n",
      "C:\\Users\\steve\\Anaconda3\\envs\\rasterenv\\lib\\site-packages\\pandas\\core\\indexes\\base.py:2825: RuntimeWarning: invalid value encountered in less_equal\n",
      "  indexer = np.where(op(left_distances, right_distances) |\n"
     ]
    },
    {
     "name": "stdout",
     "output_type": "stream",
     "text": [
      "(1501, 1995)\n"
     ]
    },
    {
     "name": "stderr",
     "output_type": "stream",
     "text": [
      "C:\\Users\\steve\\Anaconda3\\envs\\rasterenv\\lib\\site-packages\\ipykernel_launcher.py:14: UserWarning: Tight layout not applied. The left and right margins cannot be made large enough to accommodate all axes decorations. \n",
      "  \n",
      "C:\\Users\\steve\\Anaconda3\\envs\\rasterenv\\lib\\site-packages\\pandas\\core\\indexes\\base.py:2825: RuntimeWarning: invalid value encountered in less\n",
      "  indexer = np.where(op(left_distances, right_distances) |\n",
      "C:\\Users\\steve\\Anaconda3\\envs\\rasterenv\\lib\\site-packages\\pandas\\core\\indexes\\base.py:2825: RuntimeWarning: invalid value encountered in less_equal\n",
      "  indexer = np.where(op(left_distances, right_distances) |\n"
     ]
    },
    {
     "name": "stdout",
     "output_type": "stream",
     "text": [
      "(1501, 1995)\n"
     ]
    },
    {
     "name": "stderr",
     "output_type": "stream",
     "text": [
      "C:\\Users\\steve\\Anaconda3\\envs\\rasterenv\\lib\\site-packages\\ipykernel_launcher.py:14: UserWarning: Tight layout not applied. The left and right margins cannot be made large enough to accommodate all axes decorations. \n",
      "  \n",
      "C:\\Users\\steve\\Anaconda3\\envs\\rasterenv\\lib\\site-packages\\pandas\\core\\indexes\\base.py:2825: RuntimeWarning: invalid value encountered in less\n",
      "  indexer = np.where(op(left_distances, right_distances) |\n",
      "C:\\Users\\steve\\Anaconda3\\envs\\rasterenv\\lib\\site-packages\\pandas\\core\\indexes\\base.py:2825: RuntimeWarning: invalid value encountered in less_equal\n",
      "  indexer = np.where(op(left_distances, right_distances) |\n"
     ]
    },
    {
     "name": "stdout",
     "output_type": "stream",
     "text": [
      "(1501, 1995)\n"
     ]
    },
    {
     "name": "stderr",
     "output_type": "stream",
     "text": [
      "C:\\Users\\steve\\Anaconda3\\envs\\rasterenv\\lib\\site-packages\\ipykernel_launcher.py:14: UserWarning: Tight layout not applied. The left and right margins cannot be made large enough to accommodate all axes decorations. \n",
      "  \n",
      "C:\\Users\\steve\\Anaconda3\\envs\\rasterenv\\lib\\site-packages\\pandas\\core\\indexes\\base.py:2825: RuntimeWarning: invalid value encountered in less\n",
      "  indexer = np.where(op(left_distances, right_distances) |\n",
      "C:\\Users\\steve\\Anaconda3\\envs\\rasterenv\\lib\\site-packages\\pandas\\core\\indexes\\base.py:2825: RuntimeWarning: invalid value encountered in less_equal\n",
      "  indexer = np.where(op(left_distances, right_distances) |\n"
     ]
    },
    {
     "name": "stdout",
     "output_type": "stream",
     "text": [
      "(1501, 1995)\n"
     ]
    },
    {
     "name": "stderr",
     "output_type": "stream",
     "text": [
      "C:\\Users\\steve\\Anaconda3\\envs\\rasterenv\\lib\\site-packages\\ipykernel_launcher.py:14: UserWarning: Tight layout not applied. The left and right margins cannot be made large enough to accommodate all axes decorations. \n",
      "  \n",
      "C:\\Users\\steve\\Anaconda3\\envs\\rasterenv\\lib\\site-packages\\pandas\\core\\indexes\\base.py:2825: RuntimeWarning: invalid value encountered in less\n",
      "  indexer = np.where(op(left_distances, right_distances) |\n",
      "C:\\Users\\steve\\Anaconda3\\envs\\rasterenv\\lib\\site-packages\\pandas\\core\\indexes\\base.py:2825: RuntimeWarning: invalid value encountered in less_equal\n",
      "  indexer = np.where(op(left_distances, right_distances) |\n"
     ]
    },
    {
     "name": "stdout",
     "output_type": "stream",
     "text": [
      "(1501, 1995)\n"
     ]
    },
    {
     "name": "stderr",
     "output_type": "stream",
     "text": [
      "C:\\Users\\steve\\Anaconda3\\envs\\rasterenv\\lib\\site-packages\\ipykernel_launcher.py:14: UserWarning: Tight layout not applied. The left and right margins cannot be made large enough to accommodate all axes decorations. \n",
      "  \n",
      "C:\\Users\\steve\\Anaconda3\\envs\\rasterenv\\lib\\site-packages\\pandas\\core\\indexes\\base.py:2825: RuntimeWarning: invalid value encountered in less\n",
      "  indexer = np.where(op(left_distances, right_distances) |\n",
      "C:\\Users\\steve\\Anaconda3\\envs\\rasterenv\\lib\\site-packages\\pandas\\core\\indexes\\base.py:2825: RuntimeWarning: invalid value encountered in less_equal\n",
      "  indexer = np.where(op(left_distances, right_distances) |\n"
     ]
    },
    {
     "name": "stdout",
     "output_type": "stream",
     "text": [
      "(1501, 1995)\n"
     ]
    },
    {
     "name": "stderr",
     "output_type": "stream",
     "text": [
      "C:\\Users\\steve\\Anaconda3\\envs\\rasterenv\\lib\\site-packages\\ipykernel_launcher.py:14: UserWarning: Tight layout not applied. The left and right margins cannot be made large enough to accommodate all axes decorations. \n",
      "  \n",
      "C:\\Users\\steve\\Anaconda3\\envs\\rasterenv\\lib\\site-packages\\pandas\\core\\indexes\\base.py:2825: RuntimeWarning: invalid value encountered in less\n",
      "  indexer = np.where(op(left_distances, right_distances) |\n",
      "C:\\Users\\steve\\Anaconda3\\envs\\rasterenv\\lib\\site-packages\\pandas\\core\\indexes\\base.py:2825: RuntimeWarning: invalid value encountered in less_equal\n",
      "  indexer = np.where(op(left_distances, right_distances) |\n"
     ]
    },
    {
     "name": "stdout",
     "output_type": "stream",
     "text": [
      "(1501, 1995)\n"
     ]
    },
    {
     "name": "stderr",
     "output_type": "stream",
     "text": [
      "C:\\Users\\steve\\Anaconda3\\envs\\rasterenv\\lib\\site-packages\\ipykernel_launcher.py:14: UserWarning: Tight layout not applied. The left and right margins cannot be made large enough to accommodate all axes decorations. \n",
      "  \n",
      "C:\\Users\\steve\\Anaconda3\\envs\\rasterenv\\lib\\site-packages\\pandas\\core\\indexes\\base.py:2825: RuntimeWarning: invalid value encountered in less\n",
      "  indexer = np.where(op(left_distances, right_distances) |\n",
      "C:\\Users\\steve\\Anaconda3\\envs\\rasterenv\\lib\\site-packages\\pandas\\core\\indexes\\base.py:2825: RuntimeWarning: invalid value encountered in less_equal\n",
      "  indexer = np.where(op(left_distances, right_distances) |\n"
     ]
    },
    {
     "name": "stdout",
     "output_type": "stream",
     "text": [
      "(1501, 1995)\n"
     ]
    },
    {
     "name": "stderr",
     "output_type": "stream",
     "text": [
      "C:\\Users\\steve\\Anaconda3\\envs\\rasterenv\\lib\\site-packages\\ipykernel_launcher.py:14: UserWarning: Tight layout not applied. The left and right margins cannot be made large enough to accommodate all axes decorations. \n",
      "  \n",
      "C:\\Users\\steve\\Anaconda3\\envs\\rasterenv\\lib\\site-packages\\pandas\\core\\indexes\\base.py:2825: RuntimeWarning: invalid value encountered in less\n",
      "  indexer = np.where(op(left_distances, right_distances) |\n",
      "C:\\Users\\steve\\Anaconda3\\envs\\rasterenv\\lib\\site-packages\\pandas\\core\\indexes\\base.py:2825: RuntimeWarning: invalid value encountered in less_equal\n",
      "  indexer = np.where(op(left_distances, right_distances) |\n"
     ]
    },
    {
     "name": "stdout",
     "output_type": "stream",
     "text": [
      "(1501, 1995)\n"
     ]
    },
    {
     "name": "stderr",
     "output_type": "stream",
     "text": [
      "C:\\Users\\steve\\Anaconda3\\envs\\rasterenv\\lib\\site-packages\\ipykernel_launcher.py:14: UserWarning: Tight layout not applied. The left and right margins cannot be made large enough to accommodate all axes decorations. \n",
      "  \n",
      "C:\\Users\\steve\\Anaconda3\\envs\\rasterenv\\lib\\site-packages\\pandas\\core\\indexes\\base.py:2825: RuntimeWarning: invalid value encountered in less\n",
      "  indexer = np.where(op(left_distances, right_distances) |\n",
      "C:\\Users\\steve\\Anaconda3\\envs\\rasterenv\\lib\\site-packages\\pandas\\core\\indexes\\base.py:2825: RuntimeWarning: invalid value encountered in less_equal\n",
      "  indexer = np.where(op(left_distances, right_distances) |\n"
     ]
    },
    {
     "name": "stdout",
     "output_type": "stream",
     "text": [
      "(1501, 1995)\n"
     ]
    },
    {
     "name": "stderr",
     "output_type": "stream",
     "text": [
      "C:\\Users\\steve\\Anaconda3\\envs\\rasterenv\\lib\\site-packages\\ipykernel_launcher.py:14: UserWarning: Tight layout not applied. The left and right margins cannot be made large enough to accommodate all axes decorations. \n",
      "  \n",
      "C:\\Users\\steve\\Anaconda3\\envs\\rasterenv\\lib\\site-packages\\pandas\\core\\indexes\\base.py:2825: RuntimeWarning: invalid value encountered in less\n",
      "  indexer = np.where(op(left_distances, right_distances) |\n",
      "C:\\Users\\steve\\Anaconda3\\envs\\rasterenv\\lib\\site-packages\\pandas\\core\\indexes\\base.py:2825: RuntimeWarning: invalid value encountered in less_equal\n",
      "  indexer = np.where(op(left_distances, right_distances) |\n"
     ]
    },
    {
     "name": "stdout",
     "output_type": "stream",
     "text": [
      "(1501, 1995)\n"
     ]
    },
    {
     "name": "stderr",
     "output_type": "stream",
     "text": [
      "C:\\Users\\steve\\Anaconda3\\envs\\rasterenv\\lib\\site-packages\\ipykernel_launcher.py:14: UserWarning: Tight layout not applied. The left and right margins cannot be made large enough to accommodate all axes decorations. \n",
      "  \n",
      "C:\\Users\\steve\\Anaconda3\\envs\\rasterenv\\lib\\site-packages\\pandas\\core\\indexes\\base.py:2825: RuntimeWarning: invalid value encountered in less\n",
      "  indexer = np.where(op(left_distances, right_distances) |\n",
      "C:\\Users\\steve\\Anaconda3\\envs\\rasterenv\\lib\\site-packages\\pandas\\core\\indexes\\base.py:2825: RuntimeWarning: invalid value encountered in less_equal\n",
      "  indexer = np.where(op(left_distances, right_distances) |\n"
     ]
    },
    {
     "name": "stdout",
     "output_type": "stream",
     "text": [
      "(1501, 1995)\n"
     ]
    },
    {
     "name": "stderr",
     "output_type": "stream",
     "text": [
      "C:\\Users\\steve\\Anaconda3\\envs\\rasterenv\\lib\\site-packages\\ipykernel_launcher.py:14: UserWarning: Tight layout not applied. The left and right margins cannot be made large enough to accommodate all axes decorations. \n",
      "  \n",
      "C:\\Users\\steve\\Anaconda3\\envs\\rasterenv\\lib\\site-packages\\pandas\\core\\indexes\\base.py:2825: RuntimeWarning: invalid value encountered in less\n",
      "  indexer = np.where(op(left_distances, right_distances) |\n",
      "C:\\Users\\steve\\Anaconda3\\envs\\rasterenv\\lib\\site-packages\\pandas\\core\\indexes\\base.py:2825: RuntimeWarning: invalid value encountered in less_equal\n",
      "  indexer = np.where(op(left_distances, right_distances) |\n"
     ]
    },
    {
     "name": "stdout",
     "output_type": "stream",
     "text": [
      "(1501, 1995)\n"
     ]
    },
    {
     "name": "stderr",
     "output_type": "stream",
     "text": [
      "C:\\Users\\steve\\Anaconda3\\envs\\rasterenv\\lib\\site-packages\\ipykernel_launcher.py:14: UserWarning: Tight layout not applied. The left and right margins cannot be made large enough to accommodate all axes decorations. \n",
      "  \n",
      "C:\\Users\\steve\\Anaconda3\\envs\\rasterenv\\lib\\site-packages\\pandas\\core\\indexes\\base.py:2825: RuntimeWarning: invalid value encountered in less\n",
      "  indexer = np.where(op(left_distances, right_distances) |\n",
      "C:\\Users\\steve\\Anaconda3\\envs\\rasterenv\\lib\\site-packages\\pandas\\core\\indexes\\base.py:2825: RuntimeWarning: invalid value encountered in less_equal\n",
      "  indexer = np.where(op(left_distances, right_distances) |\n"
     ]
    },
    {
     "name": "stdout",
     "output_type": "stream",
     "text": [
      "(1501, 1995)\n"
     ]
    },
    {
     "name": "stderr",
     "output_type": "stream",
     "text": [
      "C:\\Users\\steve\\Anaconda3\\envs\\rasterenv\\lib\\site-packages\\ipykernel_launcher.py:14: UserWarning: Tight layout not applied. The left and right margins cannot be made large enough to accommodate all axes decorations. \n",
      "  \n",
      "C:\\Users\\steve\\Anaconda3\\envs\\rasterenv\\lib\\site-packages\\pandas\\core\\indexes\\base.py:2825: RuntimeWarning: invalid value encountered in less\n",
      "  indexer = np.where(op(left_distances, right_distances) |\n",
      "C:\\Users\\steve\\Anaconda3\\envs\\rasterenv\\lib\\site-packages\\pandas\\core\\indexes\\base.py:2825: RuntimeWarning: invalid value encountered in less_equal\n",
      "  indexer = np.where(op(left_distances, right_distances) |\n"
     ]
    },
    {
     "name": "stdout",
     "output_type": "stream",
     "text": [
      "(1501, 1995)\n"
     ]
    },
    {
     "name": "stderr",
     "output_type": "stream",
     "text": [
      "C:\\Users\\steve\\Anaconda3\\envs\\rasterenv\\lib\\site-packages\\ipykernel_launcher.py:14: UserWarning: Tight layout not applied. The left and right margins cannot be made large enough to accommodate all axes decorations. \n",
      "  \n",
      "C:\\Users\\steve\\Anaconda3\\envs\\rasterenv\\lib\\site-packages\\pandas\\core\\indexes\\base.py:2825: RuntimeWarning: invalid value encountered in less\n",
      "  indexer = np.where(op(left_distances, right_distances) |\n",
      "C:\\Users\\steve\\Anaconda3\\envs\\rasterenv\\lib\\site-packages\\pandas\\core\\indexes\\base.py:2825: RuntimeWarning: invalid value encountered in less_equal\n",
      "  indexer = np.where(op(left_distances, right_distances) |\n"
     ]
    },
    {
     "name": "stdout",
     "output_type": "stream",
     "text": [
      "(1501, 1995)\n"
     ]
    },
    {
     "name": "stderr",
     "output_type": "stream",
     "text": [
      "C:\\Users\\steve\\Anaconda3\\envs\\rasterenv\\lib\\site-packages\\ipykernel_launcher.py:14: UserWarning: Tight layout not applied. The left and right margins cannot be made large enough to accommodate all axes decorations. \n",
      "  \n",
      "C:\\Users\\steve\\Anaconda3\\envs\\rasterenv\\lib\\site-packages\\pandas\\core\\indexes\\base.py:2825: RuntimeWarning: invalid value encountered in less\n",
      "  indexer = np.where(op(left_distances, right_distances) |\n",
      "C:\\Users\\steve\\Anaconda3\\envs\\rasterenv\\lib\\site-packages\\pandas\\core\\indexes\\base.py:2825: RuntimeWarning: invalid value encountered in less_equal\n",
      "  indexer = np.where(op(left_distances, right_distances) |\n"
     ]
    },
    {
     "name": "stdout",
     "output_type": "stream",
     "text": [
      "(1501, 1995)\n"
     ]
    },
    {
     "name": "stderr",
     "output_type": "stream",
     "text": [
      "C:\\Users\\steve\\Anaconda3\\envs\\rasterenv\\lib\\site-packages\\ipykernel_launcher.py:14: UserWarning: Tight layout not applied. The left and right margins cannot be made large enough to accommodate all axes decorations. \n",
      "  \n",
      "C:\\Users\\steve\\Anaconda3\\envs\\rasterenv\\lib\\site-packages\\pandas\\core\\indexes\\base.py:2825: RuntimeWarning: invalid value encountered in less\n",
      "  indexer = np.where(op(left_distances, right_distances) |\n",
      "C:\\Users\\steve\\Anaconda3\\envs\\rasterenv\\lib\\site-packages\\pandas\\core\\indexes\\base.py:2825: RuntimeWarning: invalid value encountered in less_equal\n",
      "  indexer = np.where(op(left_distances, right_distances) |\n"
     ]
    },
    {
     "name": "stdout",
     "output_type": "stream",
     "text": [
      "(1501, 1995)\n"
     ]
    },
    {
     "name": "stderr",
     "output_type": "stream",
     "text": [
      "C:\\Users\\steve\\Anaconda3\\envs\\rasterenv\\lib\\site-packages\\ipykernel_launcher.py:14: UserWarning: Tight layout not applied. The left and right margins cannot be made large enough to accommodate all axes decorations. \n",
      "  \n",
      "C:\\Users\\steve\\Anaconda3\\envs\\rasterenv\\lib\\site-packages\\pandas\\core\\indexes\\base.py:2825: RuntimeWarning: invalid value encountered in less\n",
      "  indexer = np.where(op(left_distances, right_distances) |\n",
      "C:\\Users\\steve\\Anaconda3\\envs\\rasterenv\\lib\\site-packages\\pandas\\core\\indexes\\base.py:2825: RuntimeWarning: invalid value encountered in less_equal\n",
      "  indexer = np.where(op(left_distances, right_distances) |\n"
     ]
    },
    {
     "name": "stdout",
     "output_type": "stream",
     "text": [
      "(1501, 1995)\n"
     ]
    },
    {
     "name": "stderr",
     "output_type": "stream",
     "text": [
      "C:\\Users\\steve\\Anaconda3\\envs\\rasterenv\\lib\\site-packages\\ipykernel_launcher.py:14: UserWarning: Tight layout not applied. The left and right margins cannot be made large enough to accommodate all axes decorations. \n",
      "  \n",
      "C:\\Users\\steve\\Anaconda3\\envs\\rasterenv\\lib\\site-packages\\pandas\\core\\indexes\\base.py:2825: RuntimeWarning: invalid value encountered in less\n",
      "  indexer = np.where(op(left_distances, right_distances) |\n",
      "C:\\Users\\steve\\Anaconda3\\envs\\rasterenv\\lib\\site-packages\\pandas\\core\\indexes\\base.py:2825: RuntimeWarning: invalid value encountered in less_equal\n",
      "  indexer = np.where(op(left_distances, right_distances) |\n"
     ]
    },
    {
     "name": "stdout",
     "output_type": "stream",
     "text": [
      "(1501, 1995)\n"
     ]
    },
    {
     "name": "stderr",
     "output_type": "stream",
     "text": [
      "C:\\Users\\steve\\Anaconda3\\envs\\rasterenv\\lib\\site-packages\\ipykernel_launcher.py:14: UserWarning: Tight layout not applied. The left and right margins cannot be made large enough to accommodate all axes decorations. \n",
      "  \n",
      "C:\\Users\\steve\\Anaconda3\\envs\\rasterenv\\lib\\site-packages\\pandas\\core\\indexes\\base.py:2825: RuntimeWarning: invalid value encountered in less\n",
      "  indexer = np.where(op(left_distances, right_distances) |\n",
      "C:\\Users\\steve\\Anaconda3\\envs\\rasterenv\\lib\\site-packages\\pandas\\core\\indexes\\base.py:2825: RuntimeWarning: invalid value encountered in less_equal\n",
      "  indexer = np.where(op(left_distances, right_distances) |\n"
     ]
    },
    {
     "name": "stdout",
     "output_type": "stream",
     "text": [
      "(1501, 1995)\n"
     ]
    },
    {
     "name": "stderr",
     "output_type": "stream",
     "text": [
      "C:\\Users\\steve\\Anaconda3\\envs\\rasterenv\\lib\\site-packages\\ipykernel_launcher.py:14: UserWarning: Tight layout not applied. The left and right margins cannot be made large enough to accommodate all axes decorations. \n",
      "  \n",
      "C:\\Users\\steve\\Anaconda3\\envs\\rasterenv\\lib\\site-packages\\pandas\\core\\indexes\\base.py:2825: RuntimeWarning: invalid value encountered in less\n",
      "  indexer = np.where(op(left_distances, right_distances) |\n",
      "C:\\Users\\steve\\Anaconda3\\envs\\rasterenv\\lib\\site-packages\\pandas\\core\\indexes\\base.py:2825: RuntimeWarning: invalid value encountered in less_equal\n",
      "  indexer = np.where(op(left_distances, right_distances) |\n"
     ]
    },
    {
     "name": "stdout",
     "output_type": "stream",
     "text": [
      "(1501, 1995)\n"
     ]
    },
    {
     "name": "stderr",
     "output_type": "stream",
     "text": [
      "C:\\Users\\steve\\Anaconda3\\envs\\rasterenv\\lib\\site-packages\\ipykernel_launcher.py:14: UserWarning: Tight layout not applied. The left and right margins cannot be made large enough to accommodate all axes decorations. \n",
      "  \n",
      "C:\\Users\\steve\\Anaconda3\\envs\\rasterenv\\lib\\site-packages\\pandas\\core\\indexes\\base.py:2825: RuntimeWarning: invalid value encountered in less\n",
      "  indexer = np.where(op(left_distances, right_distances) |\n",
      "C:\\Users\\steve\\Anaconda3\\envs\\rasterenv\\lib\\site-packages\\pandas\\core\\indexes\\base.py:2825: RuntimeWarning: invalid value encountered in less_equal\n",
      "  indexer = np.where(op(left_distances, right_distances) |\n"
     ]
    },
    {
     "name": "stdout",
     "output_type": "stream",
     "text": [
      "(1501, 1995)\n"
     ]
    },
    {
     "name": "stderr",
     "output_type": "stream",
     "text": [
      "C:\\Users\\steve\\Anaconda3\\envs\\rasterenv\\lib\\site-packages\\ipykernel_launcher.py:14: UserWarning: Tight layout not applied. The left and right margins cannot be made large enough to accommodate all axes decorations. \n",
      "  \n",
      "C:\\Users\\steve\\Anaconda3\\envs\\rasterenv\\lib\\site-packages\\pandas\\core\\indexes\\base.py:2825: RuntimeWarning: invalid value encountered in less\n",
      "  indexer = np.where(op(left_distances, right_distances) |\n",
      "C:\\Users\\steve\\Anaconda3\\envs\\rasterenv\\lib\\site-packages\\pandas\\core\\indexes\\base.py:2825: RuntimeWarning: invalid value encountered in less_equal\n",
      "  indexer = np.where(op(left_distances, right_distances) |\n"
     ]
    },
    {
     "name": "stdout",
     "output_type": "stream",
     "text": [
      "(1501, 1995)\n"
     ]
    },
    {
     "name": "stderr",
     "output_type": "stream",
     "text": [
      "C:\\Users\\steve\\Anaconda3\\envs\\rasterenv\\lib\\site-packages\\ipykernel_launcher.py:14: UserWarning: Tight layout not applied. The left and right margins cannot be made large enough to accommodate all axes decorations. \n",
      "  \n",
      "C:\\Users\\steve\\Anaconda3\\envs\\rasterenv\\lib\\site-packages\\pandas\\core\\indexes\\base.py:2825: RuntimeWarning: invalid value encountered in less\n",
      "  indexer = np.where(op(left_distances, right_distances) |\n",
      "C:\\Users\\steve\\Anaconda3\\envs\\rasterenv\\lib\\site-packages\\pandas\\core\\indexes\\base.py:2825: RuntimeWarning: invalid value encountered in less_equal\n",
      "  indexer = np.where(op(left_distances, right_distances) |\n"
     ]
    },
    {
     "name": "stdout",
     "output_type": "stream",
     "text": [
      "(1501, 1995)\n"
     ]
    },
    {
     "name": "stderr",
     "output_type": "stream",
     "text": [
      "C:\\Users\\steve\\Anaconda3\\envs\\rasterenv\\lib\\site-packages\\ipykernel_launcher.py:14: UserWarning: Tight layout not applied. The left and right margins cannot be made large enough to accommodate all axes decorations. \n",
      "  \n",
      "C:\\Users\\steve\\Anaconda3\\envs\\rasterenv\\lib\\site-packages\\pandas\\core\\indexes\\base.py:2825: RuntimeWarning: invalid value encountered in less\n",
      "  indexer = np.where(op(left_distances, right_distances) |\n",
      "C:\\Users\\steve\\Anaconda3\\envs\\rasterenv\\lib\\site-packages\\pandas\\core\\indexes\\base.py:2825: RuntimeWarning: invalid value encountered in less_equal\n",
      "  indexer = np.where(op(left_distances, right_distances) |\n"
     ]
    },
    {
     "name": "stdout",
     "output_type": "stream",
     "text": [
      "(1501, 1995)\n"
     ]
    },
    {
     "name": "stderr",
     "output_type": "stream",
     "text": [
      "C:\\Users\\steve\\Anaconda3\\envs\\rasterenv\\lib\\site-packages\\ipykernel_launcher.py:14: UserWarning: Tight layout not applied. The left and right margins cannot be made large enough to accommodate all axes decorations. \n",
      "  \n",
      "C:\\Users\\steve\\Anaconda3\\envs\\rasterenv\\lib\\site-packages\\pandas\\core\\indexes\\base.py:2825: RuntimeWarning: invalid value encountered in less\n",
      "  indexer = np.where(op(left_distances, right_distances) |\n",
      "C:\\Users\\steve\\Anaconda3\\envs\\rasterenv\\lib\\site-packages\\pandas\\core\\indexes\\base.py:2825: RuntimeWarning: invalid value encountered in less_equal\n",
      "  indexer = np.where(op(left_distances, right_distances) |\n"
     ]
    },
    {
     "name": "stdout",
     "output_type": "stream",
     "text": [
      "(1501, 1995)\n"
     ]
    },
    {
     "name": "stderr",
     "output_type": "stream",
     "text": [
      "C:\\Users\\steve\\Anaconda3\\envs\\rasterenv\\lib\\site-packages\\ipykernel_launcher.py:14: UserWarning: Tight layout not applied. The left and right margins cannot be made large enough to accommodate all axes decorations. \n",
      "  \n"
     ]
    },
    {
     "ename": "KeyboardInterrupt",
     "evalue": "",
     "output_type": "error",
     "traceback": [
      "\u001b[1;31m---------------------------------------------------------------------------\u001b[0m",
      "\u001b[1;31mKeyboardInterrupt\u001b[0m                         Traceback (most recent call last)",
      "\u001b[1;32m<ipython-input-152-60b25cbb69ba>\u001b[0m in \u001b[0;36m<module>\u001b[1;34m\u001b[0m\n\u001b[0;32m     13\u001b[0m         \u001b[0mplt\u001b[0m\u001b[1;33m.\u001b[0m\u001b[0mtitle\u001b[0m\u001b[1;33m(\u001b[0m\u001b[0mfilename\u001b[0m\u001b[1;33m)\u001b[0m\u001b[1;33m\u001b[0m\u001b[1;33m\u001b[0m\u001b[0m\n\u001b[0;32m     14\u001b[0m         \u001b[0mplt\u001b[0m\u001b[1;33m.\u001b[0m\u001b[0mtight_layout\u001b[0m\u001b[1;33m(\u001b[0m\u001b[1;33m)\u001b[0m\u001b[1;33m\u001b[0m\u001b[1;33m\u001b[0m\u001b[0m\n\u001b[1;32m---> 15\u001b[1;33m         \u001b[0mplt\u001b[0m\u001b[1;33m.\u001b[0m\u001b[0msavefig\u001b[0m\u001b[1;33m(\u001b[0m\u001b[0mfilename\u001b[0m\u001b[1;33m+\u001b[0m\u001b[1;34m'_orthorectified.jpg'\u001b[0m\u001b[1;33m)\u001b[0m\u001b[1;33m\u001b[0m\u001b[1;33m\u001b[0m\u001b[0m\n\u001b[0m\u001b[0;32m     16\u001b[0m         \u001b[0mplt\u001b[0m\u001b[1;33m.\u001b[0m\u001b[0mclose\u001b[0m\u001b[1;33m(\u001b[0m\u001b[1;33m)\u001b[0m\u001b[1;33m\u001b[0m\u001b[1;33m\u001b[0m\u001b[0m\n",
      "\u001b[1;32m~\\Anaconda3\\envs\\rasterenv\\lib\\site-packages\\matplotlib\\pyplot.py\u001b[0m in \u001b[0;36msavefig\u001b[1;34m(*args, **kwargs)\u001b[0m\n\u001b[0;32m    714\u001b[0m \u001b[1;32mdef\u001b[0m \u001b[0msavefig\u001b[0m\u001b[1;33m(\u001b[0m\u001b[1;33m*\u001b[0m\u001b[0margs\u001b[0m\u001b[1;33m,\u001b[0m \u001b[1;33m**\u001b[0m\u001b[0mkwargs\u001b[0m\u001b[1;33m)\u001b[0m\u001b[1;33m:\u001b[0m\u001b[1;33m\u001b[0m\u001b[1;33m\u001b[0m\u001b[0m\n\u001b[0;32m    715\u001b[0m     \u001b[0mfig\u001b[0m \u001b[1;33m=\u001b[0m \u001b[0mgcf\u001b[0m\u001b[1;33m(\u001b[0m\u001b[1;33m)\u001b[0m\u001b[1;33m\u001b[0m\u001b[1;33m\u001b[0m\u001b[0m\n\u001b[1;32m--> 716\u001b[1;33m     \u001b[0mres\u001b[0m \u001b[1;33m=\u001b[0m \u001b[0mfig\u001b[0m\u001b[1;33m.\u001b[0m\u001b[0msavefig\u001b[0m\u001b[1;33m(\u001b[0m\u001b[1;33m*\u001b[0m\u001b[0margs\u001b[0m\u001b[1;33m,\u001b[0m \u001b[1;33m**\u001b[0m\u001b[0mkwargs\u001b[0m\u001b[1;33m)\u001b[0m\u001b[1;33m\u001b[0m\u001b[1;33m\u001b[0m\u001b[0m\n\u001b[0m\u001b[0;32m    717\u001b[0m     \u001b[0mfig\u001b[0m\u001b[1;33m.\u001b[0m\u001b[0mcanvas\u001b[0m\u001b[1;33m.\u001b[0m\u001b[0mdraw_idle\u001b[0m\u001b[1;33m(\u001b[0m\u001b[1;33m)\u001b[0m   \u001b[1;31m# need this if 'transparent=True' to reset colors\u001b[0m\u001b[1;33m\u001b[0m\u001b[1;33m\u001b[0m\u001b[0m\n\u001b[0;32m    718\u001b[0m     \u001b[1;32mreturn\u001b[0m \u001b[0mres\u001b[0m\u001b[1;33m\u001b[0m\u001b[1;33m\u001b[0m\u001b[0m\n",
      "\u001b[1;32m~\\Anaconda3\\envs\\rasterenv\\lib\\site-packages\\matplotlib\\figure.py\u001b[0m in \u001b[0;36msavefig\u001b[1;34m(self, fname, transparent, **kwargs)\u001b[0m\n\u001b[0;32m   2178\u001b[0m             \u001b[0mself\u001b[0m\u001b[1;33m.\u001b[0m\u001b[0mpatch\u001b[0m\u001b[1;33m.\u001b[0m\u001b[0mset_visible\u001b[0m\u001b[1;33m(\u001b[0m\u001b[0mframeon\u001b[0m\u001b[1;33m)\u001b[0m\u001b[1;33m\u001b[0m\u001b[1;33m\u001b[0m\u001b[0m\n\u001b[0;32m   2179\u001b[0m \u001b[1;33m\u001b[0m\u001b[0m\n\u001b[1;32m-> 2180\u001b[1;33m         \u001b[0mself\u001b[0m\u001b[1;33m.\u001b[0m\u001b[0mcanvas\u001b[0m\u001b[1;33m.\u001b[0m\u001b[0mprint_figure\u001b[0m\u001b[1;33m(\u001b[0m\u001b[0mfname\u001b[0m\u001b[1;33m,\u001b[0m \u001b[1;33m**\u001b[0m\u001b[0mkwargs\u001b[0m\u001b[1;33m)\u001b[0m\u001b[1;33m\u001b[0m\u001b[1;33m\u001b[0m\u001b[0m\n\u001b[0m\u001b[0;32m   2181\u001b[0m \u001b[1;33m\u001b[0m\u001b[0m\n\u001b[0;32m   2182\u001b[0m         \u001b[1;32mif\u001b[0m \u001b[0mframeon\u001b[0m\u001b[1;33m:\u001b[0m\u001b[1;33m\u001b[0m\u001b[1;33m\u001b[0m\u001b[0m\n",
      "\u001b[1;32m~\\Anaconda3\\envs\\rasterenv\\lib\\site-packages\\matplotlib\\backend_bases.py\u001b[0m in \u001b[0;36mprint_figure\u001b[1;34m(self, filename, dpi, facecolor, edgecolor, orientation, format, bbox_inches, **kwargs)\u001b[0m\n\u001b[0;32m   2080\u001b[0m                     \u001b[0morientation\u001b[0m\u001b[1;33m=\u001b[0m\u001b[0morientation\u001b[0m\u001b[1;33m,\u001b[0m\u001b[1;33m\u001b[0m\u001b[1;33m\u001b[0m\u001b[0m\n\u001b[0;32m   2081\u001b[0m                     \u001b[0mbbox_inches_restore\u001b[0m\u001b[1;33m=\u001b[0m\u001b[0m_bbox_inches_restore\u001b[0m\u001b[1;33m,\u001b[0m\u001b[1;33m\u001b[0m\u001b[1;33m\u001b[0m\u001b[0m\n\u001b[1;32m-> 2082\u001b[1;33m                     **kwargs)\n\u001b[0m\u001b[0;32m   2083\u001b[0m             \u001b[1;32mfinally\u001b[0m\u001b[1;33m:\u001b[0m\u001b[1;33m\u001b[0m\u001b[1;33m\u001b[0m\u001b[0m\n\u001b[0;32m   2084\u001b[0m                 \u001b[1;32mif\u001b[0m \u001b[0mbbox_inches\u001b[0m \u001b[1;32mand\u001b[0m \u001b[0mrestore_bbox\u001b[0m\u001b[1;33m:\u001b[0m\u001b[1;33m\u001b[0m\u001b[1;33m\u001b[0m\u001b[0m\n",
      "\u001b[1;32m~\\Anaconda3\\envs\\rasterenv\\lib\\site-packages\\matplotlib\\backends\\backend_agg.py\u001b[0m in \u001b[0;36mprint_jpg\u001b[1;34m(self, filename_or_obj, dryrun, pil_kwargs, *args, **kwargs)\u001b[0m\n\u001b[0;32m    595\u001b[0m             \u001b[0mpil_kwargs\u001b[0m\u001b[1;33m.\u001b[0m\u001b[0msetdefault\u001b[0m\u001b[1;33m(\u001b[0m\u001b[1;34m\"dpi\"\u001b[0m\u001b[1;33m,\u001b[0m \u001b[1;33m(\u001b[0m\u001b[0mself\u001b[0m\u001b[1;33m.\u001b[0m\u001b[0mfigure\u001b[0m\u001b[1;33m.\u001b[0m\u001b[0mdpi\u001b[0m\u001b[1;33m,\u001b[0m \u001b[0mself\u001b[0m\u001b[1;33m.\u001b[0m\u001b[0mfigure\u001b[0m\u001b[1;33m.\u001b[0m\u001b[0mdpi\u001b[0m\u001b[1;33m)\u001b[0m\u001b[1;33m)\u001b[0m\u001b[1;33m\u001b[0m\u001b[1;33m\u001b[0m\u001b[0m\n\u001b[0;32m    596\u001b[0m             return background.save(\n\u001b[1;32m--> 597\u001b[1;33m                 filename_or_obj, format='jpeg', **pil_kwargs)\n\u001b[0m\u001b[0;32m    598\u001b[0m \u001b[1;33m\u001b[0m\u001b[0m\n\u001b[0;32m    599\u001b[0m         \u001b[0mprint_jpeg\u001b[0m \u001b[1;33m=\u001b[0m \u001b[0mprint_jpg\u001b[0m\u001b[1;33m\u001b[0m\u001b[1;33m\u001b[0m\u001b[0m\n",
      "\u001b[1;32m~\\Anaconda3\\envs\\rasterenv\\lib\\site-packages\\PIL\\Image.py\u001b[0m in \u001b[0;36msave\u001b[1;34m(self, fp, format, **params)\u001b[0m\n\u001b[0;32m   2002\u001b[0m                 \u001b[1;31m# Open also for reading (\"+\"), because TIFF save_all\u001b[0m\u001b[1;33m\u001b[0m\u001b[1;33m\u001b[0m\u001b[1;33m\u001b[0m\u001b[0m\n\u001b[0;32m   2003\u001b[0m                 \u001b[1;31m# writer needs to go back and edit the written data.\u001b[0m\u001b[1;33m\u001b[0m\u001b[1;33m\u001b[0m\u001b[1;33m\u001b[0m\u001b[0m\n\u001b[1;32m-> 2004\u001b[1;33m                 \u001b[0mfp\u001b[0m \u001b[1;33m=\u001b[0m \u001b[0mbuiltins\u001b[0m\u001b[1;33m.\u001b[0m\u001b[0mopen\u001b[0m\u001b[1;33m(\u001b[0m\u001b[0mfilename\u001b[0m\u001b[1;33m,\u001b[0m \u001b[1;34m\"w+b\"\u001b[0m\u001b[1;33m)\u001b[0m\u001b[1;33m\u001b[0m\u001b[1;33m\u001b[0m\u001b[0m\n\u001b[0m\u001b[0;32m   2005\u001b[0m \u001b[1;33m\u001b[0m\u001b[0m\n\u001b[0;32m   2006\u001b[0m         \u001b[1;32mtry\u001b[0m\u001b[1;33m:\u001b[0m\u001b[1;33m\u001b[0m\u001b[1;33m\u001b[0m\u001b[0m\n",
      "\u001b[1;31mKeyboardInterrupt\u001b[0m: "
     ]
    },
    {
     "data": {
      "image/png": "[encoded data removed]",
      "text/plain": [
       "<Figure size 432x288 with 2 Axes>"
      ]
     },
     "metadata": {
      "needs_background": "light"
     },
     "output_type": "display_data"
    }
   ],
   "source": [
    "# For each file, orthorectify and output a GeoTiff\n",
    "print('For each file, orthorectify and output a thumbnail image')\n",
    "\n",
    "for filename in file_list:\n",
    "    with xr.open_dataset(filename) as f:\n",
    "        # this finds the nearest x and y in the GOES ABI image for each DEM grid cell and returns the Rad values\n",
    "        # in the same shape and size as the original DEM\n",
    "        s = f.sel(x=tuol_test.dem_px_angle_x, y=tuol_test.dem_px_angle_y, method='nearest').Rad.values\n",
    "        print(s.shape)\n",
    "        make_elev_rad_plot(filename,s)\n",
    "        plt.imshow(s, cmap='Greys_r')\n",
    "        plt.colorbar()\n",
    "        plt.title(filename)\n",
    "        plt.tight_layout()\n",
    "        plt.savefig(filename+'_orthorectified.jpg')\n",
    "        plt.close()"
   ]
  },
  {
   "cell_type": "code",
   "execution_count": null,
   "metadata": {},
   "outputs": [],
   "source": []
  },
  {
   "cell_type": "code",
   "execution_count": null,
   "metadata": {},
   "outputs": [],
   "source": []
  },
  {
   "cell_type": "code",
   "execution_count": null,
   "metadata": {},
   "outputs": [],
   "source": []
  },
  {
   "cell_type": "code",
   "execution_count": null,
   "metadata": {},
   "outputs": [],
   "source": [
    "# open this entire dataset as a \"multi-file dataset\"\n",
    "# For each file, orthorectify and output a GeoTiff\n",
    "print('Open as multi-file dataset')\n",
    "print('For each file, orthorectify and output a GeoTiff')\n",
    "\n",
    "with xr.open_mfdataset(file_list[0], concat_dim=['t']) as g:\n",
    "    # this finds the nearest x and y in the GOES ABI image for each DEM grid cell and returns the Rad values\n",
    "    # in the same shape and size as the original DEM\n",
    "    s = g.sel(x=tuol_test.dem_px_angle_x, y=tuol_test.dem_px_angle_y, method='nearest').Rad.values\n",
    "    print(s.shape)\n",
    "    #plt.imshow(s, cmap='Greys_r')\n",
    "    #plt.colorbar()\n",
    "    #plt.title(filename)\n",
    "    #plt.tight_layout()\n",
    "    #plt.savefig(filename+'.jpg')\n",
    "    #plt.close()"
   ]
  },
  {
   "cell_type": "code",
   "execution_count": null,
   "metadata": {},
   "outputs": [],
   "source": []
  },
  {
   "cell_type": "code",
   "execution_count": null,
   "metadata": {},
   "outputs": [],
   "source": []
  }
 ],
 "metadata": {
  "kernelspec": {
   "display_name": "Python 3",
   "language": "python",
   "name": "python3"
  },
  "language_info": {
   "codemirror_mode": {
    "name": "ipython",
    "version": 3
   },
   "file_extension": ".py",
   "mimetype": "text/x-python",
   "name": "python",
   "nbconvert_exporter": "python",
   "pygments_lexer": "ipython3",
   "version": "3.6.7"
  }
 },
 "nbformat": 4,
 "nbformat_minor": 2
}
