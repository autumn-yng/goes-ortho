{
 "cells": [
  {
   "cell_type": "markdown",
   "metadata": {},
   "source": [
    "# test goes-orthorectify functions\n",
    "\n",
    "Orthorectify and clip a GOES ABI image"
   ]
  },
  {
   "cell_type": "code",
   "execution_count": 1,
   "metadata": {},
   "outputs": [],
   "source": [
    "import numpy as np\n",
    "import pandas as pd\n",
    "import matplotlib.pyplot as plt\n",
    "import xarray as xr\n",
    "import os"
   ]
  },
  {
   "cell_type": "code",
   "execution_count": 2,
   "metadata": {},
   "outputs": [],
   "source": [
    "import goes_ortho"
   ]
  },
  {
   "cell_type": "markdown",
   "metadata": {},
   "source": [
    "#### Pick an ABI image and a DEM"
   ]
  },
  {
   "cell_type": "code",
   "execution_count": 3,
   "metadata": {},
   "outputs": [],
   "source": [
    "image_path =  r'\\\\j-lundquist-3.ce.washington.edu\\storage\\GOES\\goes16\\2017\\04\\21\\ABI-L1b-RadC\\17\\C14\\OR_ABI-L1b-RadC-M4C14_G16_s20171111750224_e20171111755027_c20171111755074.nc'\n",
    "\n",
    "dem_filename = 'dem.tif' # local file"
   ]
  },
  {
   "cell_type": "markdown",
   "metadata": {},
   "source": [
    "### Orthorectify and output new NetCDF file:"
   ]
  },
  {
   "cell_type": "markdown",
   "metadata": {},
   "source": [
    "#### 1. generate the pixel mapping"
   ]
  },
  {
   "cell_type": "code",
   "execution_count": 4,
   "metadata": {},
   "outputs": [
    {
     "name": "stdout",
     "output_type": "stream",
     "text": [
      "\n",
      "RUNNING: make_ortho_map()\n",
      "\n",
      "Opening GOES ABI image...\n",
      "\n",
      "Get inputs: projection information from the ABI radiance product\n",
      "...done\n",
      "\n",
      "Opening DEM file...\n",
      "\n",
      "Create 2D arrays of longitude and latitude from the DEM\n",
      "...done\n",
      "\n",
      "For each grid cell in the DEM, compute the corresponding ABI scan angle (x and y, radians)\n",
      "...done\n",
      "\n",
      "Create metadata dictionary about this map\n",
      "...done\n",
      "\n",
      "Create pixel map dataset\n",
      "...done\n",
      "\n",
      "Return the pixel map dataset.\n"
     ]
    }
   ],
   "source": [
    "pixel_map = goes_ortho.make_ortho_map(image_path, dem_filename)"
   ]
  },
  {
   "cell_type": "markdown",
   "metadata": {},
   "source": [
    "#### 2. apply to orthorectify an image"
   ]
  },
  {
   "cell_type": "code",
   "execution_count": 5,
   "metadata": {},
   "outputs": [
    {
     "name": "stdout",
     "output_type": "stream",
     "text": [
      "\n",
      "RUNNING: orthorectify_abi_rad()\n",
      "\n",
      "Does the projection info in the image match our mapping?\n",
      "\n",
      "Opening GOES ABI image...\n",
      "perspective_point_height + semi_major_axis:\t42164160.0\t42164160.0\n",
      "semi_major_axis:\t\t\t\t6378137.0\t6378137.0\n",
      "semi_minor_axis:\t\t\t\t6356752.31414\t6356752.31414\n",
      "longitude_of_projection_origin:\t\t\t-89.5\t\t-89.5\n",
      "...done\n",
      "\n",
      "Map (orthorectify) and clip the image to the pixel map\n",
      "...done\n",
      "\n",
      "Output this result to a new NetCDF file\n",
      "Saving file as: test_ortho.nc\n",
      "\n",
      "RUNNING: output_ortho_netcdf()\n",
      "...done\n"
     ]
    }
   ],
   "source": [
    "goes_ortho.orthorectify_abi_rad(image_path, pixel_map, out_filename='test_ortho.nc')"
   ]
  },
  {
   "cell_type": "markdown",
   "metadata": {},
   "source": [
    "#### open the output file and check it out"
   ]
  },
  {
   "cell_type": "code",
   "execution_count": 6,
   "metadata": {},
   "outputs": [
    {
     "name": "stdout",
     "output_type": "stream",
     "text": [
      "<xarray.Dataset>\n",
      "Dimensions:         (x: 1995, y: 1501)\n",
      "Coordinates:\n",
      "    longitude       (x) float64 ...\n",
      "    latitude        (y) float64 ...\n",
      "    dem_px_angle_x  (y, x) float64 ...\n",
      "    dem_px_angle_y  (y, x) float64 ...\n",
      "Dimensions without coordinates: x, y\n",
      "Data variables:\n",
      "    elevation       (y, x) float64 ...\n",
      "    rad             (y, x) float32 ...\n",
      "Attributes:\n",
      "    longitude_of_projection_origin:       -89.5\n",
      "    semi_major_axis:                      6378137.0\n",
      "    semi_minor_axis:                      6356752.31414\n",
      "    satellite_height:                     42164160.0\n",
      "    grs80_eccentricity:                   0.0818191910435\n",
      "    longitude_of_projection_origin_info:  longitude of geostationary satellit...\n",
      "    semi_major_axis_info:                 semi-major axis of GRS 80 reference...\n",
      "    semi_minor_axis_info:                 semi-minor axis of GRS 80 reference...\n",
      "    satellite_height_info:                distance from center of ellipsoid t...\n",
      "    grs80_eccentricity_info:              eccentricity of GRS 80 reference el...\n",
      "    dem_file:                             dem.tif\n",
      "    dem_crs:                              +init=epsg:4326\n",
      "    dem_transform:                        [ 3.11592470e-04  0.00000000e+00 -1...\n",
      "    dem_res:                              [0.00031159 0.00031159]\n",
      "    dem_ifov:                             -9999\n",
      "    dem_file_info:                        filename of dem file used to create...\n",
      "    dem_crs_info:                         coordinate reference system from DE...\n",
      "    dem_transform_info:                   transform matrix from DEM geotiff\n",
      "    dem_res_info:                         resolution of DEM geotiff\n",
      "    dem_ifov_info:                        instantaneous field of view (angula...\n",
      "    dem_px_angle_x_info:                  DEM grid cell X coordinate (east/we...\n",
      "    dem_px_angle_y_info:                  DEM grid cell Y coordinate (north/s...\n",
      "    longitude_info:                       longitude from DEM file\n",
      "    latitude_info:                        latitude from DEM file\n",
      "    elevation_info:                       elevation from DEM file\n",
      "<xarray.DataArray 'rad' (y: 1501, x: 1995)>\n",
      "[2994495 values with dtype=float32]\n",
      "Coordinates:\n",
      "    longitude       (x) float64 ...\n",
      "    latitude        (y) float64 ...\n",
      "    dem_px_angle_x  (y, x) float64 ...\n",
      "    dem_px_angle_y  (y, x) float64 ...\n",
      "Dimensions without coordinates: y, x\n",
      "Attributes:\n",
      "    rad:      units\n"
     ]
    },
    {
     "data": {
      "image/png": "[encoded data removed]",
      "text/plain": [
       "<Figure size 432x288 with 2 Axes>"
      ]
     },
     "metadata": {
      "needs_background": "light"
     },
     "output_type": "display_data"
    }
   ],
   "source": [
    "example_ds = xr.open_dataset('test_ortho.nc')\n",
    "example_ds.rad.plot(x='longitude',y='latitude')\n",
    "print(example_ds)\n",
    "print(example_ds.rad)\n",
    "example_ds.close()"
   ]
  },
  {
   "cell_type": "code",
   "execution_count": null,
   "metadata": {},
   "outputs": [],
   "source": []
  }
 ],
 "metadata": {
  "kernelspec": {
   "display_name": "Python 3",
   "language": "python",
   "name": "python3"
  },
  "language_info": {
   "codemirror_mode": {
    "name": "ipython",
    "version": 3
   },
   "file_extension": ".py",
   "mimetype": "text/x-python",
   "name": "python",
   "nbconvert_exporter": "python",
   "pygments_lexer": "ipython3",
   "version": "3.6.7"
  }
 },
 "nbformat": 4,
 "nbformat_minor": 2
}
