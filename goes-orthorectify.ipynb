{
 "cells": [
  {
   "cell_type": "markdown",
   "metadata": {},
   "source": [
    "# goes-orthorectify\n",
    "\n",
    "Orthorectify and clip a GOES ABI image using the mapping created by goes-make-orth-map"
   ]
  },
  {
   "cell_type": "code",
   "execution_count": 18,
   "metadata": {},
   "outputs": [],
   "source": [
    "import numpy as np\n",
    "import pandas as pd\n",
    "import matplotlib.pyplot as plt\n",
    "import xarray as xr\n",
    "import os\n",
    "\n",
    "#import warnings\n",
    "#warnings.filterwarnings('ignore')"
   ]
  },
  {
   "cell_type": "markdown",
   "metadata": {},
   "source": [
    "#### Open a GOES-16 image"
   ]
  },
  {
   "cell_type": "code",
   "execution_count": 12,
   "metadata": {},
   "outputs": [],
   "source": [
    "#image_path = r'\\\\j-lundquist-3.ce.washington.edu\\storage\\GOES\\goes16\\2017\\03\\1\\ABI-L1b-RadC\\00\\C14\\OR_ABI-L1b-RadC-M3C14_G16_s20170600002497_e20170600005270_c20170600005307.nc'\n",
    "image_path = r'\\\\j-lundquist-3.ce.washington.edu\\storage\\GOES\\goes16\\2019\\04\\16\\ABI-L1b-RadC\\18\\C02\\OR_ABI-L1b-RadC-M6C02_G16_s20191061801182_e20191061803555_c20191061803598.nc'"
   ]
  },
  {
   "cell_type": "code",
   "execution_count": 13,
   "metadata": {},
   "outputs": [
    {
     "data": {
      "text/plain": [
       "<xarray.DataArray 'x' (x: 10000)>\n",
       "array([-0.101353, -0.101339, -0.101325, ...,  0.038605,  0.038619,  0.038633],\n",
       "      dtype=float32)\n",
       "Coordinates:\n",
       "    t        datetime64[ns] ...\n",
       "  * x        (x) float32 -0.101353 -0.101339 ... 0.038619004 0.03863301\n",
       "    y_image  float32 ...\n",
       "    x_image  float32 ...\n",
       "Attributes:\n",
       "    units:          rad\n",
       "    axis:           X\n",
       "    long_name:      GOES fixed grid projection x-coordinate\n",
       "    standard_name:  projection_x_coordinate"
      ]
     },
     "execution_count": 13,
     "metadata": {},
     "output_type": "execute_result"
    }
   ],
   "source": [
    "image = xr.open_dataset(image_path)\n",
    "image.x"
   ]
  },
  {
   "cell_type": "code",
   "execution_count": 7,
   "metadata": {},
   "outputs": [
    {
     "data": {
      "image/png": "[encoded data removed]",
      "text/plain": [
       "<Figure size 432x288 with 2 Axes>"
      ]
     },
     "metadata": {
      "needs_background": "light"
     },
     "output_type": "display_data"
    }
   ],
   "source": [
    "image.Rad.plot()"
   ]
  },
  {
   "cell_type": "markdown",
   "metadata": {},
   "source": [
    "#### Open the ortho mapping:"
   ]
  },
  {
   "cell_type": "code",
   "execution_count": 8,
   "metadata": {},
   "outputs": [
    {
     "name": "stdout",
     "output_type": "stream",
     "text": [
      "<xarray.Dataset>\n",
      "Dimensions:              (x: 1995, y: 1501)\n",
      "Coordinates:\n",
      "    longitude            (x) float64 ...\n",
      "    latitude             (y) float64 ...\n",
      "    dem_px_angle_x       (y, x) float64 ...\n",
      "    dem_px_angle_y       (y, x) float64 ...\n",
      "Dimensions without coordinates: x, y\n",
      "Data variables:\n",
      "    abi_500m_px_angle_x  (y, x) float64 ...\n",
      "    abi_500m_px_angle_y  (y, x) float64 ...\n",
      "    abi_1km_px_angle_x   (y, x) float64 ...\n",
      "    abi_1km_px_angle_y   (y, x) float64 ...\n",
      "    abi_2km_px_angle_x   (y, x) float64 ...\n",
      "    abi_2km_px_angle_y   (y, x) float64 ...\n",
      "    elevation            (y, x) float64 ...\n",
      "Attributes:\n",
      "    longitude_of_projection_origin:                 -89.5\n",
      "    semi_major_axis:                                6378137\n",
      "    semi_minor_axis:                                6356752.31414\n",
      "    perspective_point_height+semi_major_axis:       42164160\n",
      "    grs80_eccentricity:                             0.0818191910435\n",
      "    longitude_of_projection_origin_info:            longitude of geostationar...\n",
      "    semi_major_axis_info:                           semi-major axis of GRS 80...\n",
      "    semi_minor_axis_info:                           semi-minor axis of GRS 80...\n",
      "    perspective_point_height+semi_major_axis_info:  distance from center of e...\n",
      "    grs80_eccentricity_info:                        eccentricity of GRS 80 re...\n",
      "    dem_file:                                       dem.tif\n",
      "    dem_crs:                                        +init=epsg:4326\n",
      "    dem_transform:                                  [ 3.11592470e-04  0.00000...\n",
      "    dem_res:                                        [0.00031159 0.00031159]\n",
      "    dem_ifov:                                       -9999\n",
      "    dem_file_info:                                  filename of dem file used...\n",
      "    dem_crs_info:                                   coordinate reference syst...\n",
      "    dem_transform_info:                             transform matrix from DEM...\n",
      "    dem_res_info:                                   resolution of DEM geotiff\n",
      "    dem_ifov_info:                                  instantaneous field of vi...\n",
      "    abi_500m_px_angle_x_info:                       \"500m\" resolution ABI pix...\n",
      "    abi_500m_px_angle_y_info:                       \"500m\" resolution ABI pix...\n",
      "    abi_1km_px_angle_x_info:                        \"1km\" resolution ABI pixe...\n",
      "    abi_1km_px_angle_y_info:                        \"1km\" resolution ABI pixe...\n",
      "    abi_2km_px_angle_x_info:                        \"2km\" resolution ABI pixe...\n",
      "    abi_2km_px_angle_y_info:                        \"2km\" resolution ABI pixe...\n",
      "    dem_px_angle_x_info:                            DEM grid cell X coordinat...\n",
      "    dem_px_angle_y_info:                            DEM grid cell Y coordinat...\n",
      "    longitude_info:                                 longitude from DEM file\n",
      "    latitude_info:                                  latitude from DEM file\n",
      "    elevation_info:                                 elevation from DEM file\n"
     ]
    }
   ],
   "source": [
    "tuol_test = xr.open_dataset('test_map_tuol.nc')\n",
    "print(tuol_test)"
   ]
  },
  {
   "cell_type": "markdown",
   "metadata": {},
   "source": [
    "#### Map and clip the image to the pixel map"
   ]
  },
  {
   "cell_type": "code",
   "execution_count": 14,
   "metadata": {},
   "outputs": [
    {
     "name": "stderr",
     "output_type": "stream",
     "text": [
      "C:\\Users\\steve\\Anaconda3\\envs\\rasterenv\\lib\\site-packages\\pandas\\core\\indexes\\base.py:2825: RuntimeWarning: invalid value encountered in less\n",
      "  indexer = np.where(op(left_distances, right_distances) |\n",
      "C:\\Users\\steve\\Anaconda3\\envs\\rasterenv\\lib\\site-packages\\pandas\\core\\indexes\\base.py:2825: RuntimeWarning: invalid value encountered in less_equal\n",
      "  indexer = np.where(op(left_distances, right_distances) |\n"
     ]
    },
    {
     "name": "stdout",
     "output_type": "stream",
     "text": [
      "(1501, 1995)\n"
     ]
    },
    {
     "data": {
      "text/plain": [
       "<matplotlib.colorbar.Colorbar at 0x1b8b5c11eb8>"
      ]
     },
     "execution_count": 14,
     "metadata": {},
     "output_type": "execute_result"
    },
    {
     "data": {
      "image/png": "[encoded data removed]",
      "text/plain": [
       "<Figure size 432x288 with 2 Axes>"
      ]
     },
     "metadata": {
      "needs_background": "light"
     },
     "output_type": "display_data"
    }
   ],
   "source": [
    "# this finds the nearest x and y in the GOES ABI image for each DEM grid cell and returns the Rad values\n",
    "# in the same shape and size as the original DEM\n",
    "s = image.sel(x=tuol_test.dem_px_angle_x, y=tuol_test.dem_px_angle_y, method='nearest').Rad.values\n",
    "print(s.shape)\n",
    "plt.imshow(s, cmap='Greys_r')\n",
    "plt.colorbar()"
   ]
  },
  {
   "cell_type": "markdown",
   "metadata": {},
   "source": [
    "***\n",
    "\n",
    "## Orthorectify a time series of GOES images"
   ]
  },
  {
   "cell_type": "code",
   "execution_count": 19,
   "metadata": {},
   "outputs": [],
   "source": [
    "def getListOfFiles(dirName):\n",
    "    # create a list of file and sub directories \n",
    "    # names in the given directory \n",
    "    # https://thispointer.com/python-how-to-get-list-of-files-in-directory-and-sub-directories/\n",
    "    listOfFile = os.listdir(dirName)\n",
    "    allFiles = list()\n",
    "    # Iterate over all the entries\n",
    "    for entry in listOfFile:\n",
    "        # Create full path\n",
    "        fullPath = os.path.join(dirName, entry)\n",
    "        # If entry is a directory then get the list of files in this directory \n",
    "        if os.path.isdir(fullPath):\n",
    "            allFiles = allFiles + getListOfFiles(fullPath)\n",
    "        else:\n",
    "            allFiles.append(fullPath)\n",
    "                \n",
    "    return allFiles "
   ]
  },
  {
   "cell_type": "code",
   "execution_count": 75,
   "metadata": {},
   "outputs": [
    {
     "name": "stdout",
     "output_type": "stream",
     "text": [
      "Load all observations from the directory provided\n"
     ]
    }
   ],
   "source": [
    "#  all the observations from a directory path\n",
    "path = r'\\\\j-lundquist-3.ce.washington.edu\\storage\\GOES\\21\\ABI-L1b-RadC\\12\\C02'\n",
    "print('Load all observations from the directory provided')\n",
    "file_list = []\n",
    "try:\n",
    "    file_list.append(getListOfFiles(path))\n",
    "except FileNotFoundError:\n",
    "    print('Could not find files at {}'.format(path))"
   ]
  },
  {
   "cell_type": "code",
   "execution_count": 76,
   "metadata": {},
   "outputs": [],
   "source": [
    "file_list = file_list[0]"
   ]
  },
  {
   "cell_type": "code",
   "execution_count": 77,
   "metadata": {},
   "outputs": [
    {
     "name": "stdout",
     "output_type": "stream",
     "text": [
      "For each file, orthorectify and output a GeoTiff\n"
     ]
    },
    {
     "name": "stderr",
     "output_type": "stream",
     "text": [
      "C:\\Users\\steve\\Anaconda3\\envs\\rasterenv\\lib\\site-packages\\pandas\\core\\indexes\\base.py:2825: RuntimeWarning: invalid value encountered in less\n",
      "  indexer = np.where(op(left_distances, right_distances) |\n",
      "C:\\Users\\steve\\Anaconda3\\envs\\rasterenv\\lib\\site-packages\\pandas\\core\\indexes\\base.py:2825: RuntimeWarning: invalid value encountered in less_equal\n",
      "  indexer = np.where(op(left_distances, right_distances) |\n"
     ]
    },
    {
     "name": "stdout",
     "output_type": "stream",
     "text": [
      "(1501, 1995)\n"
     ]
    },
    {
     "name": "stderr",
     "output_type": "stream",
     "text": [
      "C:\\Users\\steve\\Anaconda3\\envs\\rasterenv\\lib\\site-packages\\ipykernel_launcher.py:13: UserWarning: Tight layout not applied. The left and right margins cannot be made large enough to accommodate all axes decorations. \n",
      "  del sys.path[0]\n",
      "C:\\Users\\steve\\Anaconda3\\envs\\rasterenv\\lib\\site-packages\\pandas\\core\\indexes\\base.py:2825: RuntimeWarning: invalid value encountered in less\n",
      "  indexer = np.where(op(left_distances, right_distances) |\n",
      "C:\\Users\\steve\\Anaconda3\\envs\\rasterenv\\lib\\site-packages\\pandas\\core\\indexes\\base.py:2825: RuntimeWarning: invalid value encountered in less_equal\n",
      "  indexer = np.where(op(left_distances, right_distances) |\n"
     ]
    },
    {
     "name": "stdout",
     "output_type": "stream",
     "text": [
      "(1501, 1995)\n"
     ]
    },
    {
     "name": "stderr",
     "output_type": "stream",
     "text": [
      "C:\\Users\\steve\\Anaconda3\\envs\\rasterenv\\lib\\site-packages\\ipykernel_launcher.py:13: UserWarning: Tight layout not applied. The left and right margins cannot be made large enough to accommodate all axes decorations. \n",
      "  del sys.path[0]\n",
      "C:\\Users\\steve\\Anaconda3\\envs\\rasterenv\\lib\\site-packages\\pandas\\core\\indexes\\base.py:2825: RuntimeWarning: invalid value encountered in less\n",
      "  indexer = np.where(op(left_distances, right_distances) |\n",
      "C:\\Users\\steve\\Anaconda3\\envs\\rasterenv\\lib\\site-packages\\pandas\\core\\indexes\\base.py:2825: RuntimeWarning: invalid value encountered in less_equal\n",
      "  indexer = np.where(op(left_distances, right_distances) |\n"
     ]
    },
    {
     "name": "stdout",
     "output_type": "stream",
     "text": [
      "(1501, 1995)\n"
     ]
    },
    {
     "name": "stderr",
     "output_type": "stream",
     "text": [
      "C:\\Users\\steve\\Anaconda3\\envs\\rasterenv\\lib\\site-packages\\ipykernel_launcher.py:13: UserWarning: Tight layout not applied. The left and right margins cannot be made large enough to accommodate all axes decorations. \n",
      "  del sys.path[0]\n",
      "C:\\Users\\steve\\Anaconda3\\envs\\rasterenv\\lib\\site-packages\\pandas\\core\\indexes\\base.py:2825: RuntimeWarning: invalid value encountered in less\n",
      "  indexer = np.where(op(left_distances, right_distances) |\n",
      "C:\\Users\\steve\\Anaconda3\\envs\\rasterenv\\lib\\site-packages\\pandas\\core\\indexes\\base.py:2825: RuntimeWarning: invalid value encountered in less_equal\n",
      "  indexer = np.where(op(left_distances, right_distances) |\n"
     ]
    },
    {
     "name": "stdout",
     "output_type": "stream",
     "text": [
      "(1501, 1995)\n"
     ]
    },
    {
     "name": "stderr",
     "output_type": "stream",
     "text": [
      "C:\\Users\\steve\\Anaconda3\\envs\\rasterenv\\lib\\site-packages\\ipykernel_launcher.py:13: UserWarning: Tight layout not applied. The left and right margins cannot be made large enough to accommodate all axes decorations. \n",
      "  del sys.path[0]\n",
      "C:\\Users\\steve\\Anaconda3\\envs\\rasterenv\\lib\\site-packages\\pandas\\core\\indexes\\base.py:2825: RuntimeWarning: invalid value encountered in less\n",
      "  indexer = np.where(op(left_distances, right_distances) |\n",
      "C:\\Users\\steve\\Anaconda3\\envs\\rasterenv\\lib\\site-packages\\pandas\\core\\indexes\\base.py:2825: RuntimeWarning: invalid value encountered in less_equal\n",
      "  indexer = np.where(op(left_distances, right_distances) |\n"
     ]
    },
    {
     "name": "stdout",
     "output_type": "stream",
     "text": [
      "(1501, 1995)\n"
     ]
    },
    {
     "name": "stderr",
     "output_type": "stream",
     "text": [
      "C:\\Users\\steve\\Anaconda3\\envs\\rasterenv\\lib\\site-packages\\ipykernel_launcher.py:13: UserWarning: Tight layout not applied. The left and right margins cannot be made large enough to accommodate all axes decorations. \n",
      "  del sys.path[0]\n",
      "C:\\Users\\steve\\Anaconda3\\envs\\rasterenv\\lib\\site-packages\\pandas\\core\\indexes\\base.py:2825: RuntimeWarning: invalid value encountered in less\n",
      "  indexer = np.where(op(left_distances, right_distances) |\n",
      "C:\\Users\\steve\\Anaconda3\\envs\\rasterenv\\lib\\site-packages\\pandas\\core\\indexes\\base.py:2825: RuntimeWarning: invalid value encountered in less_equal\n",
      "  indexer = np.where(op(left_distances, right_distances) |\n"
     ]
    },
    {
     "name": "stdout",
     "output_type": "stream",
     "text": [
      "(1501, 1995)\n"
     ]
    },
    {
     "name": "stderr",
     "output_type": "stream",
     "text": [
      "C:\\Users\\steve\\Anaconda3\\envs\\rasterenv\\lib\\site-packages\\ipykernel_launcher.py:13: UserWarning: Tight layout not applied. The left and right margins cannot be made large enough to accommodate all axes decorations. \n",
      "  del sys.path[0]\n",
      "C:\\Users\\steve\\Anaconda3\\envs\\rasterenv\\lib\\site-packages\\pandas\\core\\indexes\\base.py:2825: RuntimeWarning: invalid value encountered in less\n",
      "  indexer = np.where(op(left_distances, right_distances) |\n",
      "C:\\Users\\steve\\Anaconda3\\envs\\rasterenv\\lib\\site-packages\\pandas\\core\\indexes\\base.py:2825: RuntimeWarning: invalid value encountered in less_equal\n",
      "  indexer = np.where(op(left_distances, right_distances) |\n"
     ]
    },
    {
     "name": "stdout",
     "output_type": "stream",
     "text": [
      "(1501, 1995)\n"
     ]
    },
    {
     "name": "stderr",
     "output_type": "stream",
     "text": [
      "C:\\Users\\steve\\Anaconda3\\envs\\rasterenv\\lib\\site-packages\\ipykernel_launcher.py:13: UserWarning: Tight layout not applied. The left and right margins cannot be made large enough to accommodate all axes decorations. \n",
      "  del sys.path[0]\n",
      "C:\\Users\\steve\\Anaconda3\\envs\\rasterenv\\lib\\site-packages\\pandas\\core\\indexes\\base.py:2825: RuntimeWarning: invalid value encountered in less\n",
      "  indexer = np.where(op(left_distances, right_distances) |\n",
      "C:\\Users\\steve\\Anaconda3\\envs\\rasterenv\\lib\\site-packages\\pandas\\core\\indexes\\base.py:2825: RuntimeWarning: invalid value encountered in less_equal\n",
      "  indexer = np.where(op(left_distances, right_distances) |\n"
     ]
    },
    {
     "name": "stdout",
     "output_type": "stream",
     "text": [
      "(1501, 1995)\n"
     ]
    },
    {
     "name": "stderr",
     "output_type": "stream",
     "text": [
      "C:\\Users\\steve\\Anaconda3\\envs\\rasterenv\\lib\\site-packages\\ipykernel_launcher.py:13: UserWarning: Tight layout not applied. The left and right margins cannot be made large enough to accommodate all axes decorations. \n",
      "  del sys.path[0]\n",
      "C:\\Users\\steve\\Anaconda3\\envs\\rasterenv\\lib\\site-packages\\pandas\\core\\indexes\\base.py:2825: RuntimeWarning: invalid value encountered in less\n",
      "  indexer = np.where(op(left_distances, right_distances) |\n",
      "C:\\Users\\steve\\Anaconda3\\envs\\rasterenv\\lib\\site-packages\\pandas\\core\\indexes\\base.py:2825: RuntimeWarning: invalid value encountered in less_equal\n",
      "  indexer = np.where(op(left_distances, right_distances) |\n"
     ]
    },
    {
     "name": "stdout",
     "output_type": "stream",
     "text": [
      "(1501, 1995)\n"
     ]
    },
    {
     "name": "stderr",
     "output_type": "stream",
     "text": [
      "C:\\Users\\steve\\Anaconda3\\envs\\rasterenv\\lib\\site-packages\\ipykernel_launcher.py:13: UserWarning: Tight layout not applied. The left and right margins cannot be made large enough to accommodate all axes decorations. \n",
      "  del sys.path[0]\n",
      "C:\\Users\\steve\\Anaconda3\\envs\\rasterenv\\lib\\site-packages\\pandas\\core\\indexes\\base.py:2825: RuntimeWarning: invalid value encountered in less\n",
      "  indexer = np.where(op(left_distances, right_distances) |\n",
      "C:\\Users\\steve\\Anaconda3\\envs\\rasterenv\\lib\\site-packages\\pandas\\core\\indexes\\base.py:2825: RuntimeWarning: invalid value encountered in less_equal\n",
      "  indexer = np.where(op(left_distances, right_distances) |\n"
     ]
    },
    {
     "name": "stdout",
     "output_type": "stream",
     "text": [
      "(1501, 1995)\n"
     ]
    },
    {
     "name": "stderr",
     "output_type": "stream",
     "text": [
      "C:\\Users\\steve\\Anaconda3\\envs\\rasterenv\\lib\\site-packages\\ipykernel_launcher.py:13: UserWarning: Tight layout not applied. The left and right margins cannot be made large enough to accommodate all axes decorations. \n",
      "  del sys.path[0]\n",
      "C:\\Users\\steve\\Anaconda3\\envs\\rasterenv\\lib\\site-packages\\pandas\\core\\indexes\\base.py:2825: RuntimeWarning: invalid value encountered in less\n",
      "  indexer = np.where(op(left_distances, right_distances) |\n",
      "C:\\Users\\steve\\Anaconda3\\envs\\rasterenv\\lib\\site-packages\\pandas\\core\\indexes\\base.py:2825: RuntimeWarning: invalid value encountered in less_equal\n",
      "  indexer = np.where(op(left_distances, right_distances) |\n"
     ]
    },
    {
     "name": "stdout",
     "output_type": "stream",
     "text": [
      "(1501, 1995)\n"
     ]
    },
    {
     "name": "stderr",
     "output_type": "stream",
     "text": [
      "C:\\Users\\steve\\Anaconda3\\envs\\rasterenv\\lib\\site-packages\\ipykernel_launcher.py:13: UserWarning: Tight layout not applied. The left and right margins cannot be made large enough to accommodate all axes decorations. \n",
      "  del sys.path[0]\n",
      "C:\\Users\\steve\\Anaconda3\\envs\\rasterenv\\lib\\site-packages\\pandas\\core\\indexes\\base.py:2825: RuntimeWarning: invalid value encountered in less\n",
      "  indexer = np.where(op(left_distances, right_distances) |\n",
      "C:\\Users\\steve\\Anaconda3\\envs\\rasterenv\\lib\\site-packages\\pandas\\core\\indexes\\base.py:2825: RuntimeWarning: invalid value encountered in less_equal\n",
      "  indexer = np.where(op(left_distances, right_distances) |\n"
     ]
    },
    {
     "name": "stdout",
     "output_type": "stream",
     "text": [
      "(1501, 1995)\n"
     ]
    },
    {
     "name": "stderr",
     "output_type": "stream",
     "text": [
      "C:\\Users\\steve\\Anaconda3\\envs\\rasterenv\\lib\\site-packages\\ipykernel_launcher.py:13: UserWarning: Tight layout not applied. The left and right margins cannot be made large enough to accommodate all axes decorations. \n",
      "  del sys.path[0]\n"
     ]
    }
   ],
   "source": [
    "# For each file, orthorectify and output a GeoTiff\n",
    "print('For each file, orthorectify and output a GeoTiff')\n",
    "\n",
    "for filename in file_list:\n",
    "    with xr.open_dataset(filename) as f:\n",
    "        # this finds the nearest x and y in the GOES ABI image for each DEM grid cell and returns the Rad values\n",
    "        # in the same shape and size as the original DEM\n",
    "        s = f.sel(x=tuol_test.dem_px_angle_x, y=tuol_test.dem_px_angle_y, method='nearest').Rad.values\n",
    "        print(s.shape)\n",
    "        plt.imshow(s, cmap='Greys_r')\n",
    "        plt.colorbar()\n",
    "        plt.title(filename)\n",
    "        plt.tight_layout()\n",
    "        plt.savefig(filename+'.jpg')\n",
    "        plt.close()"
   ]
  },
  {
   "cell_type": "code",
   "execution_count": null,
   "metadata": {},
   "outputs": [],
   "source": [
    "# open this entire dataset as a \"multi-file dataset\"\n",
    "# For each file, orthorectify and output a GeoTiff\n",
    "print('Open as multi-file dataset')\n",
    "print('For each file, orthorectify and output a GeoTiff')\n",
    "\n",
    "with xr.open_mfdataset(file_list[0], concat_dim=['t']) as g:\n",
    "    # this finds the nearest x and y in the GOES ABI image for each DEM grid cell and returns the Rad values\n",
    "    # in the same shape and size as the original DEM\n",
    "    s = g.sel(x=tuol_test.dem_px_angle_x, y=tuol_test.dem_px_angle_y, method='nearest').Rad.values\n",
    "    print(s.shape)\n",
    "    #plt.imshow(s, cmap='Greys_r')\n",
    "    #plt.colorbar()\n",
    "    #plt.title(filename)\n",
    "    #plt.tight_layout()\n",
    "    #plt.savefig(filename+'.jpg')\n",
    "    #plt.close()"
   ]
  },
  {
   "cell_type": "code",
   "execution_count": null,
   "metadata": {},
   "outputs": [],
   "source": []
  },
  {
   "cell_type": "code",
   "execution_count": null,
   "metadata": {},
   "outputs": [],
   "source": []
  }
 ],
 "metadata": {
  "kernelspec": {
   "display_name": "Python 3",
   "language": "python",
   "name": "python3"
  },
  "language_info": {
   "codemirror_mode": {
    "name": "ipython",
    "version": 3
   },
   "file_extension": ".py",
   "mimetype": "text/x-python",
   "name": "python",
   "nbconvert_exporter": "python",
   "pygments_lexer": "ipython3",
   "version": "3.6.7"
  }
 },
 "nbformat": 4,
 "nbformat_minor": 2
}
