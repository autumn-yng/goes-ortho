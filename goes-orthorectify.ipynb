{
 "cells": [
  {
   "cell_type": "markdown",
   "metadata": {},
   "source": [
    "# goes-orthorectify\n",
    "\n",
    "Orthorectify and clip a GOES ABI image using the mapping created by goes-make-orth-map"
   ]
  },
  {
   "cell_type": "code",
   "execution_count": 11,
   "metadata": {},
   "outputs": [],
   "source": [
    "import numpy as np\n",
    "import pandas as pd\n",
    "import matplotlib.pyplot as plt\n",
    "import xarray as xr\n",
    "import os\n",
    "\n",
    "#import warnings\n",
    "#warnings.filterwarnings('ignore')"
   ]
  },
  {
   "cell_type": "code",
   "execution_count": 12,
   "metadata": {},
   "outputs": [],
   "source": [
    "def LonLat2ABIangle(lon_deg, lat_deg, z, H, req, rpol, e, lon_0_deg):\n",
    "    '''This function finds the ABI elevation (y) and scanning (x) angles (radians) of point P, \n",
    "    given a latitude and longitude (degrees)'''\n",
    "    \n",
    "    # convert lat and lon from degrees to radians\n",
    "    lon = np.radians(lon_deg)\n",
    "    lat = np.radians(lat_deg)\n",
    "    lon_0 = np.radians(lon_0_deg)\n",
    "      \n",
    "    # geocentric latitude\n",
    "    lat_geo = np.arctan( (rpol**2 / req**2) * np.tan(lat) )\n",
    "\n",
    "    # geocentric distance to point on the ellipsoid\n",
    "    _rc = rpol / np.sqrt(1 - (e**2)*(np.cos(lat_geo)**2)) # this is rc if point is on the ellipsoid\n",
    "    rc = _rc + z # this is rc if the point is offset from the ellipsoid by z (meters)\n",
    "\n",
    "    # intermediate calculations\n",
    "    Sx = H - rc * np.cos(lat_geo) * np.cos(lon - lon_0)\n",
    "    Sy = -rc * np.cos(lat_geo) * np.sin(lon - lon_0)\n",
    "    Sz = rc * np.sin(lat_geo)\n",
    "    \n",
    "    # calculate x and y scan angles\n",
    "    y = np.arctan( Sz / Sx )\n",
    "    x = np.arcsin( -Sy / np.sqrt( Sx**2 + Sy**2 + Sz**2 ) )\n",
    "    \n",
    "    ## determine if this point is visible to the satellite\n",
    "    #condition = ( H * (H-Sx) ) < ( Sy**2 + (req**2 / rpol**2)*Sz**2 )\n",
    "    #if condition == True:\n",
    "    #    print('Point at {},{} not visible to satellite.'.format(lon_deg,lat_deg))\n",
    "    #    return (np.nan, np.nan)\n",
    "    #else:\n",
    "    #    return (x,y)\n",
    "    return (x,y)\n",
    "\n",
    "\n",
    "def make_ortho_map(abi_image, dem):\n",
    "    '''For the entire DEM, determine the ABI scan angle coordinates for every DEM grid cell, \n",
    "    taking into account the underlying terrain and satellite's viewing geometry'''\n",
    "    print('\\nRUNNING: make_ortho_map()')\n",
    "    \n",
    "    \n",
    "    # Get inputs: projection information from the ABI radiance product (values needed for geometry calculations)\n",
    "    print('\\nGet inputs: projection information from the ABI radiance product')\n",
    "    req = abi_image.goes_imager_projection.semi_major_axis\n",
    "    rpol = abi_image.goes_imager_projection.semi_minor_axis\n",
    "    H = abi_image.goes_imager_projection.perspective_point_height + abi_image.goes_imager_projection.semi_major_axis\n",
    "    lon_0 = abi_image.goes_imager_projection.longitude_of_projection_origin\n",
    "    e = 0.0818191910435 # GRS-80 eccentricity\n",
    "    print('...done')\n",
    "    \n",
    "    # Create 2D arrays of longitude and latitude from the DEM\n",
    "    print('\\nCreate 2D arrays of longitude and latitude from the DEM')\n",
    "    X, Y = np.meshgrid(dem.x,dem.y) # Lon and Lat of each DEM grid cell\n",
    "    Z = dem.values # elevation of each DEM grid cell\n",
    "    print('...done')\n",
    "    \n",
    "    # For each grid cell in the DEM, compute the corresponding ABI scan angle (x and y, radians)\n",
    "    print('\\nFor each grid cell in the DEM, compute the corresponding ABI scan angle (x and y, radians)')\n",
    "    abi_grid_x, abi_grid_y = LonLat2ABIangle(X,Y,Z,H,req,rpol,e,lon_0)\n",
    "    print('...done')\n",
    "    \n",
    "    # Create metadata dictionary about this map (should probably clean up metadata, adhere to some set of standards)\n",
    "    print('\\nCreate metadata dictionary about this map')\n",
    "    metadata = {\n",
    "                # Information about the projection geometry:\n",
    "                'longitude_of_projection_origin': lon_0,\n",
    "                'semi_major_axis': req,\n",
    "                'semi_minor_axis': rpol,\n",
    "                'satellite_height': H,\n",
    "                'grs80_eccentricity': e,\n",
    "        \n",
    "                'longitude_of_projection_origin_info': 'longitude of geostationary satellite orbit',\n",
    "                'semi_major_axis_info': 'semi-major axis of GRS 80 reference ellipsoid',\n",
    "                'semi_minor_axis_info': 'semi-minor axis of GRS 80 reference ellipsoid',\n",
    "                'satellite_height_info': 'distance from center of ellipsoid to satellite (perspective_point_height + semi_major_axis_info)',\n",
    "                'grs80_eccentricity_info': 'eccentricity of GRS 80 reference ellipsoid',\n",
    "    \n",
    "                # Information about the DEM source file\n",
    "                'dem_file': dem_filename,\n",
    "                'dem_crs' : dem.crs,\n",
    "                'dem_transform' : dem.transform,\n",
    "                'dem_res' : dem.res,\n",
    "                'dem_ifov': -9999, # TO DO\n",
    "        \n",
    "                'dem_file_info': 'filename of dem file used to create this mapping',\n",
    "                'dem_crs_info' : 'coordinate reference system from DEM geotiff',\n",
    "                'dem_transform_info' : 'transform matrix from DEM geotiff', \n",
    "                'dem_res_info' : 'resolution of DEM geotiff',\n",
    "                'dem_ifov_info': 'instantaneous field of view (angular size of DEM grid cell)',\n",
    "        \n",
    "                # For each DEM grid cell, we have...\n",
    "                'dem_px_angle_x_info': 'DEM grid cell X coordinate (east/west) scan angle in the ABI Fixed Grid',\n",
    "                'dem_px_angle_y_info': 'DEM grid cell Y coordinate (north/south) scan angle in the ABI Fixed Grid',\n",
    "                'longitude_info': 'longitude from DEM file',\n",
    "                'latitude_info': 'latitude from DEM file',\n",
    "                'elevation_info': 'elevation from DEM file'\n",
    "    }\n",
    "    print('...done')\n",
    "    \n",
    "    print('\\nExport this pixel map along with the metadata (NetCDF with xarray)')\n",
    "    # Export this pixel map along with the metadata (NetCDF with xarray)\n",
    "    ds = xr.Dataset({    \n",
    "                'elevation':          (['y', 'x'], dem.values)\n",
    "                },\n",
    "    \n",
    "                coords={'longitude':  (['x'], dem.x),\n",
    "                        'latitude':   (['y'], dem.y),\n",
    "                        'dem_px_angle_x':     (['y', 'x'],  abi_grid_x),\n",
    "                        'dem_px_angle_y':     (['y', 'x'],  abi_grid_y)},\n",
    "                \n",
    "                attrs=metadata)\n",
    "                 \n",
    "    ds.to_netcdf('test_map_tuol_2017.nc',mode='w')\n",
    "    print('...done')\n",
    "    \n",
    "    # Return the pixel map dataset\n",
    "    print('\\nReturn the pixel map dataset.')\n",
    "    \n",
    "    return ds\n",
    "\n",
    "def orthorectify_abi_rad(abi_image, pixel_map, filename=None):\n",
    "    '''Using the pixel mapping for a specific ABI viewing geometry over a particular location,\n",
    "    orthorectify the ABI radiance values and return an xarray dataarray with those values.'''\n",
    "    print('\\nRUNNING: orthorectify_abi_rad()')\n",
    "    \n",
    "    # First check, Does the projection info in the image match our mapping?\n",
    "    print('\\nDoes the projection info in the image match our mapping?')\n",
    "    print('perspective_point_height + semi_major_axis:\\t{}\\t{}'.format(abi_image.goes_imager_projection.perspective_point_height \n",
    "                                                                       + abi_image.goes_imager_projection.semi_major_axis,\n",
    "                                                          pixel_map.satellite_height))\n",
    "    print('semi_major_axis:\\t\\t\\t\\t{}\\t{}'.format(abi_image.goes_imager_projection.semi_major_axis,\n",
    "                                                          pixel_map.semi_major_axis))\n",
    "    print('semi_minor_axis:\\t\\t\\t\\t{}\\t{}'.format(abi_image.goes_imager_projection.semi_minor_axis,\n",
    "                                                          pixel_map.semi_minor_axis))\n",
    "    print('longitude_of_projection_origin:\\t\\t\\t{}\\t\\t{}'.format(abi_image.goes_imager_projection.longitude_of_projection_origin,\n",
    "                                                          pixel_map.longitude_of_projection_origin))\n",
    "    print('...done')\n",
    "    \n",
    "    # Map (orthorectify) and clip the image to the pixel map\n",
    "    print('\\nMap (orthorectify) and clip the image to the pixel map')\n",
    "    abi_rad_values = abi_image.sel(x=pixel_map.dem_px_angle_x, y=pixel_map.dem_px_angle_y, method='nearest').Rad.values\n",
    "    print('...done')\n",
    "    # Output this result to a new NetCDF file\n",
    "    print('\\nOutput this result to a new NetCDF file')\n",
    "    if filename == None:\n",
    "        filename=abi_image.dataset_name+'_ortho.nc'\n",
    "    print('Saving file as: {}'.format(filename))\n",
    "    output_ortho_netcdf(abi_rad_values, pixel_map, filename)\n",
    "    print('...done')\n",
    "    \n",
    "    return None\n",
    "\n",
    "\n",
    "\n",
    "def output_ortho_netcdf(abi_rad_values, pixel_map, filename):\n",
    "    '''Create a new xarray dataset with the orthorectified ABI radiance values, \n",
    "    Lat, Lon, Elevation, and metadata from the pixel map. \n",
    "    Then export this as a new NetCDF file.'''\n",
    "    print('\\nRUNNING: output_ortho_netcdf()')\n",
    "    \n",
    "    # some metadata for this\n",
    "    metadata = {'rad' : 'units'}\n",
    "    \n",
    "    # make the data array\n",
    "    rad_da = xr.DataArray(abi_rad_values, \n",
    "                          dims=('y','x'),\n",
    "                          coords={'longitude': (['x'], pixel_map.longitude),\n",
    "                                  'latitude': (['y'], pixel_map.latitude)},\n",
    "                         attrs=metadata)\n",
    "    pixel_map['rad'] = rad_da\n",
    "    pixel_map.to_netcdf(filename)\n",
    "    \n",
    "    return None"
   ]
  },
  {
   "cell_type": "markdown",
   "metadata": {},
   "source": [
    "#### Open a GOES ABI image:"
   ]
  },
  {
   "cell_type": "code",
   "execution_count": 13,
   "metadata": {},
   "outputs": [],
   "source": [
    "#image_path = r'\\\\j-lundquist-3.ce.washington.edu\\storage\\GOES\\21\\ABI-L1b-RadC\\15\\C02\\OR_ABI-L1b-RadC-M4C02_G16_s20171111520224_e20171111525027_c20171111525034.nc'\n",
    "image_path =  r'\\\\j-lundquist-3.ce.washington.edu\\storage\\GOES\\goes16\\2017\\04\\21\\ABI-L1b-RadC\\17\\C14\\OR_ABI-L1b-RadC-M4C14_G16_s20171111750224_e20171111755027_c20171111755074.nc'\n",
    "#image_path = r'\\\\j-lundquist-3.ce.washington.edu\\storage\\GOES\\goes16\\2019\\04\\16\\ABI-L1b-RadC\\18\\C02\\OR_ABI-L1b-RadC-M6C02_G16_s20191061801182_e20191061803555_c20191061803598.nc'\n",
    "\n",
    "abi_image = xr.open_dataset(image_path)\n",
    "#print(image.goes_imager_projection)"
   ]
  },
  {
   "cell_type": "code",
   "execution_count": 15,
   "metadata": {},
   "outputs": [
    {
     "data": {
      "text/plain": [
       "<xarray.DataArray 'Rad' (y: 1500, x: 2500)>\n",
       "[3750000 values with dtype=float32]\n",
       "Coordinates:\n",
       "    t        datetime64[ns] ...\n",
       "  * y        (y) float32 0.126532 0.126476 0.12642 ... 0.042644 0.042588003\n",
       "  * x        (x) float32 -0.075012 -0.074956 -0.0749 ... 0.064876005 0.064932\n",
       "    y_image  float32 ...\n",
       "    x_image  float32 ...\n",
       "Attributes:\n",
       "    long_name:              ABI L1b Radiances\n",
       "    standard_name:          toa_outgoing_radiance_per_unit_wavenumber\n",
       "    sensor_band_bit_depth:  12\n",
       "    valid_range:            [   0 4094]\n",
       "    units:                  mW m-2 sr-1 (cm-1)-1\n",
       "    resolution:             y: 0.000056 rad x: 0.000056 rad\n",
       "    grid_mapping:           goes_imager_projection\n",
       "    cell_methods:           t: point area: point\n",
       "    ancillary_variables:    DQF"
      ]
     },
     "execution_count": 15,
     "metadata": {},
     "output_type": "execute_result"
    }
   ],
   "source": [
    "abi_image.Rad"
   ]
  },
  {
   "cell_type": "markdown",
   "metadata": {},
   "source": [
    "#### Open a DEM:"
   ]
  },
  {
   "cell_type": "code",
   "execution_count": 6,
   "metadata": {},
   "outputs": [],
   "source": [
    "dem_filename = 'dem.tif' # local file\n",
    "dem = xr.open_rasterio(dem_filename) #or grandmesa_dem.tif\n",
    "dem = dem.where(dem!=dem.nodatavals[0])[0,:,:] # replace nodata with nans\n",
    "dem = dem.where(dem!=0) # replace zeros with nans\n",
    "#dem\n",
    "\n",
    "##################################################################################################################\n",
    "## Future improvements: Use the elevation library to bring in SRTM DEMs for a region of interest automatically? ##\n",
    "##################################################################################################################\n",
    "\n",
    "# old version: Open the ortho mapping:\n",
    "#tuol_test = xr.open_dataset('test_map_tuol_2017.nc')\n",
    "#print(tuol_test.satellite_height)"
   ]
  },
  {
   "cell_type": "markdown",
   "metadata": {},
   "source": [
    "### Orthorectify and output new NetCDF file:"
   ]
  },
  {
   "cell_type": "code",
   "execution_count": 9,
   "metadata": {},
   "outputs": [
    {
     "name": "stdout",
     "output_type": "stream",
     "text": [
      "\n",
      "RUNNING: make_ortho_map()\n",
      "\n",
      "Get inputs: projection information from the ABI radiance product\n",
      "...done\n",
      "\n",
      "Create 2D arrays of longitude and latitude from the DEM\n",
      "...done\n",
      "\n",
      "For each grid cell in the DEM, compute the corresponding ABI scan angle (x and y, radians)\n",
      "...done\n",
      "\n",
      "Create metadata dictionary about this map\n",
      "...done\n",
      "\n",
      "Export this pixel map along with the metadata (NetCDF with xarray)\n",
      "...done\n",
      "\n",
      "Return the pixel map dataset.\n",
      "\n",
      "RUNNING: orthorectify_abi_rad()\n",
      "\n",
      "Does the projection info in the image match our mapping?\n",
      "perspective_point_height + semi_major_axis:\t42164160.0\t42164160.0\n",
      "semi_major_axis:\t\t\t\t6378137.0\t6378137.0\n",
      "semi_minor_axis:\t\t\t\t6356752.31414\t6356752.31414\n",
      "longitude_of_projection_origin:\t\t\t-89.5\t\t-89.5\n",
      "...done\n",
      "\n",
      "Map (orthorectify) and clip the image to the pixel map\n"
     ]
    },
    {
     "name": "stderr",
     "output_type": "stream",
     "text": [
      "C:\\Users\\steve\\Anaconda3\\envs\\rasterenv\\lib\\site-packages\\pandas\\core\\indexes\\base.py:2825: RuntimeWarning: invalid value encountered in less\n",
      "  indexer = np.where(op(left_distances, right_distances) |\n",
      "C:\\Users\\steve\\Anaconda3\\envs\\rasterenv\\lib\\site-packages\\pandas\\core\\indexes\\base.py:2825: RuntimeWarning: invalid value encountered in less_equal\n",
      "  indexer = np.where(op(left_distances, right_distances) |\n"
     ]
    },
    {
     "name": "stdout",
     "output_type": "stream",
     "text": [
      "...done\n",
      "\n",
      "Output this result to a new NetCDF file\n",
      "Saving file as: test_ortho.nc\n",
      "\n",
      "RUNNING: output_ortho_netcdf()\n",
      "...done\n"
     ]
    }
   ],
   "source": [
    "pixel_map = make_ortho_map(abi_image, dem)\n",
    "\n",
    "orthorectify_abi_rad(abi_image, pixel_map, filename='test_ortho.nc')"
   ]
  },
  {
   "cell_type": "markdown",
   "metadata": {},
   "source": [
    "#### Open the output file and check it out:"
   ]
  },
  {
   "cell_type": "code",
   "execution_count": 10,
   "metadata": {},
   "outputs": [
    {
     "name": "stdout",
     "output_type": "stream",
     "text": [
      "<xarray.Dataset>\n",
      "Dimensions:         (x: 1995, y: 1501)\n",
      "Coordinates:\n",
      "    longitude       (x) float64 ...\n",
      "    latitude        (y) float64 ...\n",
      "    dem_px_angle_x  (y, x) float64 ...\n",
      "    dem_px_angle_y  (y, x) float64 ...\n",
      "Dimensions without coordinates: x, y\n",
      "Data variables:\n",
      "    elevation       (y, x) float64 ...\n",
      "    rad             (y, x) float32 ...\n",
      "Attributes:\n",
      "    longitude_of_projection_origin:       -89.5\n",
      "    semi_major_axis:                      6378137.0\n",
      "    semi_minor_axis:                      6356752.31414\n",
      "    satellite_height:                     42164160.0\n",
      "    grs80_eccentricity:                   0.0818191910435\n",
      "    longitude_of_projection_origin_info:  longitude of geostationary satellit...\n",
      "    semi_major_axis_info:                 semi-major axis of GRS 80 reference...\n",
      "    semi_minor_axis_info:                 semi-minor axis of GRS 80 reference...\n",
      "    satellite_height_info:                distance from center of ellipsoid t...\n",
      "    grs80_eccentricity_info:              eccentricity of GRS 80 reference el...\n",
      "    dem_file:                             dem.tif\n",
      "    dem_crs:                              +init=epsg:4326\n",
      "    dem_transform:                        [ 3.11592470e-04  0.00000000e+00 -1...\n",
      "    dem_res:                              [0.00031159 0.00031159]\n",
      "    dem_ifov:                             -9999\n",
      "    dem_file_info:                        filename of dem file used to create...\n",
      "    dem_crs_info:                         coordinate reference system from DE...\n",
      "    dem_transform_info:                   transform matrix from DEM geotiff\n",
      "    dem_res_info:                         resolution of DEM geotiff\n",
      "    dem_ifov_info:                        instantaneous field of view (angula...\n",
      "    dem_px_angle_x_info:                  DEM grid cell X coordinate (east/we...\n",
      "    dem_px_angle_y_info:                  DEM grid cell Y coordinate (north/s...\n",
      "    longitude_info:                       longitude from DEM file\n",
      "    latitude_info:                        latitude from DEM file\n",
      "    elevation_info:                       elevation from DEM file\n",
      "<xarray.DataArray 'rad' (y: 1501, x: 1995)>\n",
      "[2994495 values with dtype=float32]\n",
      "Coordinates:\n",
      "    longitude       (x) float64 ...\n",
      "    latitude        (y) float64 ...\n",
      "    dem_px_angle_x  (y, x) float64 ...\n",
      "    dem_px_angle_y  (y, x) float64 ...\n",
      "Dimensions without coordinates: y, x\n",
      "Attributes:\n",
      "    rad:      units\n"
     ]
    },
    {
     "data": {
      "image/png": "[encoded data removed]",
      "text/plain": [
       "<Figure size 432x288 with 2 Axes>"
      ]
     },
     "metadata": {
      "needs_background": "light"
     },
     "output_type": "display_data"
    }
   ],
   "source": [
    "example_ds = xr.open_dataset('test_ortho.nc')\n",
    "example_ds.rad.plot(x='longitude',y='latitude')\n",
    "print(example_ds)\n",
    "print(example_ds.rad)\n",
    "example_ds.close()"
   ]
  },
  {
   "cell_type": "code",
   "execution_count": null,
   "metadata": {},
   "outputs": [],
   "source": []
  },
  {
   "cell_type": "markdown",
   "metadata": {},
   "source": [
    "****\n",
    "\n",
    "Old tests:\n",
    "\n",
    "#### Does the projection info in the image match our mapping?"
   ]
  },
  {
   "cell_type": "code",
   "execution_count": 5,
   "metadata": {},
   "outputs": [
    {
     "name": "stdout",
     "output_type": "stream",
     "text": [
      "-89.5\n",
      "-89.5\n"
     ]
    }
   ],
   "source": [
    "print(image.goes_imager_projection.longitude_of_projection_origin)\n",
    "print(tuol_test.longitude_of_projection_origin)"
   ]
  },
  {
   "cell_type": "markdown",
   "metadata": {},
   "source": [
    "#### Map and clip the image to the pixel map"
   ]
  },
  {
   "cell_type": "code",
   "execution_count": 6,
   "metadata": {},
   "outputs": [
    {
     "name": "stderr",
     "output_type": "stream",
     "text": [
      "C:\\Users\\steve\\Anaconda3\\envs\\rasterenv\\lib\\site-packages\\pandas\\core\\indexes\\base.py:2825: RuntimeWarning: invalid value encountered in less\n",
      "  indexer = np.where(op(left_distances, right_distances) |\n",
      "C:\\Users\\steve\\Anaconda3\\envs\\rasterenv\\lib\\site-packages\\pandas\\core\\indexes\\base.py:2825: RuntimeWarning: invalid value encountered in less_equal\n",
      "  indexer = np.where(op(left_distances, right_distances) |\n"
     ]
    },
    {
     "name": "stdout",
     "output_type": "stream",
     "text": [
      "(1501, 1995)\n"
     ]
    },
    {
     "data": {
      "text/plain": [
       "<matplotlib.colorbar.Colorbar at 0x296d06cff98>"
      ]
     },
     "execution_count": 6,
     "metadata": {},
     "output_type": "execute_result"
    },
    {
     "data": {
      "image/png": "[encoded data removed]",
      "text/plain": [
       "<Figure size 432x288 with 2 Axes>"
      ]
     },
     "metadata": {
      "needs_background": "light"
     },
     "output_type": "display_data"
    }
   ],
   "source": [
    "# this finds the nearest x and y in the GOES ABI image for each DEM grid cell and returns the Rad values\n",
    "# in the same shape and size as the original DEM\n",
    "rad_values = image.sel(x=tuol_test.dem_px_angle_x, y=tuol_test.dem_px_angle_y, method='nearest').Rad.values\n",
    "print(rad_values.shape)\n",
    "plt.imshow(rad_values, cmap='Greys_r')\n",
    "plt.colorbar()"
   ]
  },
  {
   "cell_type": "markdown",
   "metadata": {},
   "source": [
    "#### Save this out as a NetCDF file:"
   ]
  },
  {
   "cell_type": "code",
   "execution_count": 7,
   "metadata": {},
   "outputs": [],
   "source": [
    "# some metadata for this\n",
    "metadata = {'rad' : 'units'}\n",
    "\n",
    "# make the data array\n",
    "rad_da = xr.DataArray(rad_values, \n",
    "                      dims=('y','x'),\n",
    "                      coords={'longitude': (['x'], tuol_test.longitude),\n",
    "                              'latitude': (['y'], tuol_test.latitude)},\n",
    "                     attrs=metadata)\n",
    "tuol_test['rad'] = rad_da\n",
    "tuol_test.to_netcdf('example.nc')"
   ]
  },
  {
   "cell_type": "markdown",
   "metadata": {},
   "source": [
    "Read this back in to double check what we ended up with"
   ]
  },
  {
   "cell_type": "code",
   "execution_count": 8,
   "metadata": {},
   "outputs": [
    {
     "name": "stdout",
     "output_type": "stream",
     "text": [
      "<xarray.Dataset>\n",
      "Dimensions:         (x: 1995, y: 1501)\n",
      "Coordinates:\n",
      "    longitude       (x) float64 ...\n",
      "    latitude        (y) float64 ...\n",
      "    dem_px_angle_x  (y, x) float64 ...\n",
      "    dem_px_angle_y  (y, x) float64 ...\n",
      "Dimensions without coordinates: x, y\n",
      "Data variables:\n",
      "    elevation       (y, x) float64 ...\n",
      "    rad             (y, x) float32 ...\n",
      "Attributes:\n",
      "    longitude_of_projection_origin:                 -89.5\n",
      "    semi_major_axis:                                6378137\n",
      "    semi_minor_axis:                                6356752.31414\n",
      "    perspective_point_height+semi_major_axis:       42164160\n",
      "    grs80_eccentricity:                             0.0818191910435\n",
      "    longitude_of_projection_origin_info:            longitude of geostationar...\n",
      "    semi_major_axis_info:                           semi-major axis of GRS 80...\n",
      "    semi_minor_axis_info:                           semi-minor axis of GRS 80...\n",
      "    perspective_point_height+semi_major_axis_info:  distance from center of e...\n",
      "    grs80_eccentricity_info:                        eccentricity of GRS 80 re...\n",
      "    dem_file:                                       dem.tif\n",
      "    dem_crs:                                        +init=epsg:4326\n",
      "    dem_transform:                                  [ 3.11592470e-04  0.00000...\n",
      "    dem_res:                                        [0.00031159 0.00031159]\n",
      "    dem_ifov:                                       -9999\n",
      "    dem_file_info:                                  filename of dem file used...\n",
      "    dem_crs_info:                                   coordinate reference syst...\n",
      "    dem_transform_info:                             transform matrix from DEM...\n",
      "    dem_res_info:                                   resolution of DEM geotiff\n",
      "    dem_ifov_info:                                  instantaneous field of vi...\n",
      "    dem_px_angle_x_info:                            DEM grid cell X coordinat...\n",
      "    dem_px_angle_y_info:                            DEM grid cell Y coordinat...\n",
      "    longitude_info:                                 longitude from DEM file\n",
      "    latitude_info:                                  latitude from DEM file\n",
      "    elevation_info:                                 elevation from DEM file\n",
      "<xarray.DataArray 'rad' (y: 1501, x: 1995)>\n",
      "[2994495 values with dtype=float32]\n",
      "Coordinates:\n",
      "    longitude       (x) float64 ...\n",
      "    latitude        (y) float64 ...\n",
      "    dem_px_angle_x  (y, x) float64 ...\n",
      "    dem_px_angle_y  (y, x) float64 ...\n",
      "Dimensions without coordinates: y, x\n",
      "Attributes:\n",
      "    rad:      units\n"
     ]
    },
    {
     "data": {
      "image/png": "[encoded data removed]",
      "text/plain": [
       "<Figure size 432x288 with 2 Axes>"
      ]
     },
     "metadata": {
      "needs_background": "light"
     },
     "output_type": "display_data"
    }
   ],
   "source": [
    "example_ds = xr.open_dataset('example.nc')\n",
    "example_ds.rad.plot(x='longitude',y='latitude')\n",
    "print(example_ds)\n",
    "print(example_ds.rad)\n",
    "example_ds.close()"
   ]
  },
  {
   "cell_type": "markdown",
   "metadata": {},
   "source": [
    "#### Save this out as a GeoTIFF for now:"
   ]
  },
  {
   "cell_type": "code",
   "execution_count": 161,
   "metadata": {},
   "outputs": [],
   "source": [
    "dem_filename = 'dem.tif'\n",
    "dem = rio.open(dem_filename)\n",
    "\n",
    "import rasterio as rio\n",
    "# Open and write to this new file\n",
    "with rio.open('test_ortho3.tif', \n",
    "              'w', \n",
    "              driver='GTiff',\n",
    "              height=rad_values.shape[0],\n",
    "              width=rad_values.shape[1],\n",
    "              count=1, \n",
    "              dtype='float32',\n",
    "              nodata=-9999,\n",
    "              crs=dem.crs, \n",
    "              transform=dem.transform) as dst:\n",
    "\n",
    "    dst.write(rad_values, 1)"
   ]
  },
  {
   "cell_type": "markdown",
   "metadata": {},
   "source": [
    "Function for making a quick elevation versus radiance plot for the IR channels"
   ]
  },
  {
   "cell_type": "code",
   "execution_count": 148,
   "metadata": {},
   "outputs": [],
   "source": [
    "def make_elev_rad_plot(fname,rad_values):\n",
    "    rad_da = xr.DataArray(rad_values, \n",
    "                      dims=('y','x'),\n",
    "                      coords={'longitude': (['x'], tuol_test.longitude),\n",
    "                              'latitude': (['y'], tuol_test.latitude)})\n",
    "    #rad_da.plot(x='longitude', y='latitude')\n",
    "    tuol_test['rad'] = rad_da\n",
    "    plt.plot(tuol_test.rad,tuol_test.elevation,'.',c='tab:blue',alpha=0.01);\n",
    "    plt.xlabel('Radiance')\n",
    "    plt.ylabel('Elevation')\n",
    "    plt.xlim((50,100))\n",
    "    plt.savefig(fname+'_elev_vs_radiance.jpg')\n",
    "    plt.close()"
   ]
  },
  {
   "cell_type": "markdown",
   "metadata": {},
   "source": [
    "***\n",
    "\n",
    "## Orthorectify a time series of GOES images"
   ]
  },
  {
   "cell_type": "code",
   "execution_count": 19,
   "metadata": {},
   "outputs": [],
   "source": [
    "def getListOfFiles(dirName):\n",
    "    # create a list of file and sub directories \n",
    "    # names in the given directory \n",
    "    # https://thispointer.com/python-how-to-get-list-of-files-in-directory-and-sub-directories/\n",
    "    listOfFile = os.listdir(dirName)\n",
    "    allFiles = list()\n",
    "    # Iterate over all the entries\n",
    "    for entry in listOfFile:\n",
    "        # Create full path\n",
    "        fullPath = os.path.join(dirName, entry)\n",
    "        # If entry is a directory then get the list of files in this directory \n",
    "        if os.path.isdir(fullPath):\n",
    "            allFiles = allFiles + getListOfFiles(fullPath)\n",
    "        else:\n",
    "            allFiles.append(fullPath)\n",
    "                \n",
    "    return allFiles "
   ]
  },
  {
   "cell_type": "code",
   "execution_count": 24,
   "metadata": {},
   "outputs": [
    {
     "name": "stdout",
     "output_type": "stream",
     "text": [
      "Load all observations from the directory provided\n"
     ]
    }
   ],
   "source": [
    "#  all the observations from a directory path\n",
    "path = r'\\\\j-lundquist-3.ce.washington.edu\\storage\\GOES\\goes16\\2017\\04\\21\\ABI-L1b-RadC\\17\\C14'\n",
    "print('Load all observations from the directory provided')\n",
    "file_list = []\n",
    "try:\n",
    "    file_list.append(getListOfFiles(path))\n",
    "except FileNotFoundError:\n",
    "    print('Could not find files at {}'.format(path))"
   ]
  },
  {
   "cell_type": "code",
   "execution_count": 23,
   "metadata": {},
   "outputs": [],
   "source": [
    "file_list = file_list[0]"
   ]
  },
  {
   "cell_type": "code",
   "execution_count": 152,
   "metadata": {},
   "outputs": [
    {
     "name": "stdout",
     "output_type": "stream",
     "text": [
      "For each file, orthorectify and output a thumbnail image\n"
     ]
    },
    {
     "name": "stderr",
     "output_type": "stream",
     "text": [
      "C:\\Users\\steve\\Anaconda3\\envs\\rasterenv\\lib\\site-packages\\pandas\\core\\indexes\\base.py:2825: RuntimeWarning: invalid value encountered in less\n",
      "  indexer = np.where(op(left_distances, right_distances) |\n",
      "C:\\Users\\steve\\Anaconda3\\envs\\rasterenv\\lib\\site-packages\\pandas\\core\\indexes\\base.py:2825: RuntimeWarning: invalid value encountered in less_equal\n",
      "  indexer = np.where(op(left_distances, right_distances) |\n"
     ]
    },
    {
     "name": "stdout",
     "output_type": "stream",
     "text": [
      "(1501, 1995)\n"
     ]
    },
    {
     "name": "stderr",
     "output_type": "stream",
     "text": [
      "C:\\Users\\steve\\Anaconda3\\envs\\rasterenv\\lib\\site-packages\\ipykernel_launcher.py:14: UserWarning: Tight layout not applied. The left and right margins cannot be made large enough to accommodate all axes decorations. \n",
      "  \n",
      "C:\\Users\\steve\\Anaconda3\\envs\\rasterenv\\lib\\site-packages\\pandas\\core\\indexes\\base.py:2825: RuntimeWarning: invalid value encountered in less\n",
      "  indexer = np.where(op(left_distances, right_distances) |\n",
      "C:\\Users\\steve\\Anaconda3\\envs\\rasterenv\\lib\\site-packages\\pandas\\core\\indexes\\base.py:2825: RuntimeWarning: invalid value encountered in less_equal\n",
      "  indexer = np.where(op(left_distances, right_distances) |\n"
     ]
    },
    {
     "name": "stdout",
     "output_type": "stream",
     "text": [
      "(1501, 1995)\n"
     ]
    },
    {
     "name": "stderr",
     "output_type": "stream",
     "text": [
      "C:\\Users\\steve\\Anaconda3\\envs\\rasterenv\\lib\\site-packages\\ipykernel_launcher.py:14: UserWarning: Tight layout not applied. The left and right margins cannot be made large enough to accommodate all axes decorations. \n",
      "  \n",
      "C:\\Users\\steve\\Anaconda3\\envs\\rasterenv\\lib\\site-packages\\pandas\\core\\indexes\\base.py:2825: RuntimeWarning: invalid value encountered in less\n",
      "  indexer = np.where(op(left_distances, right_distances) |\n",
      "C:\\Users\\steve\\Anaconda3\\envs\\rasterenv\\lib\\site-packages\\pandas\\core\\indexes\\base.py:2825: RuntimeWarning: invalid value encountered in less_equal\n",
      "  indexer = np.where(op(left_distances, right_distances) |\n"
     ]
    },
    {
     "name": "stdout",
     "output_type": "stream",
     "text": [
      "(1501, 1995)\n"
     ]
    },
    {
     "name": "stderr",
     "output_type": "stream",
     "text": [
      "C:\\Users\\steve\\Anaconda3\\envs\\rasterenv\\lib\\site-packages\\ipykernel_launcher.py:14: UserWarning: Tight layout not applied. The left and right margins cannot be made large enough to accommodate all axes decorations. \n",
      "  \n",
      "C:\\Users\\steve\\Anaconda3\\envs\\rasterenv\\lib\\site-packages\\pandas\\core\\indexes\\base.py:2825: RuntimeWarning: invalid value encountered in less\n",
      "  indexer = np.where(op(left_distances, right_distances) |\n",
      "C:\\Users\\steve\\Anaconda3\\envs\\rasterenv\\lib\\site-packages\\pandas\\core\\indexes\\base.py:2825: RuntimeWarning: invalid value encountered in less_equal\n",
      "  indexer = np.where(op(left_distances, right_distances) |\n"
     ]
    },
    {
     "name": "stdout",
     "output_type": "stream",
     "text": [
      "(1501, 1995)\n"
     ]
    },
    {
     "name": "stderr",
     "output_type": "stream",
     "text": [
      "C:\\Users\\steve\\Anaconda3\\envs\\rasterenv\\lib\\site-packages\\ipykernel_launcher.py:14: UserWarning: Tight layout not applied. The left and right margins cannot be made large enough to accommodate all axes decorations. \n",
      "  \n",
      "C:\\Users\\steve\\Anaconda3\\envs\\rasterenv\\lib\\site-packages\\pandas\\core\\indexes\\base.py:2825: RuntimeWarning: invalid value encountered in less\n",
      "  indexer = np.where(op(left_distances, right_distances) |\n",
      "C:\\Users\\steve\\Anaconda3\\envs\\rasterenv\\lib\\site-packages\\pandas\\core\\indexes\\base.py:2825: RuntimeWarning: invalid value encountered in less_equal\n",
      "  indexer = np.where(op(left_distances, right_distances) |\n"
     ]
    },
    {
     "name": "stdout",
     "output_type": "stream",
     "text": [
      "(1501, 1995)\n"
     ]
    },
    {
     "name": "stderr",
     "output_type": "stream",
     "text": [
      "C:\\Users\\steve\\Anaconda3\\envs\\rasterenv\\lib\\site-packages\\ipykernel_launcher.py:14: UserWarning: Tight layout not applied. The left and right margins cannot be made large enough to accommodate all axes decorations. \n",
      "  \n",
      "C:\\Users\\steve\\Anaconda3\\envs\\rasterenv\\lib\\site-packages\\pandas\\core\\indexes\\base.py:2825: RuntimeWarning: invalid value encountered in less\n",
      "  indexer = np.where(op(left_distances, right_distances) |\n",
      "C:\\Users\\steve\\Anaconda3\\envs\\rasterenv\\lib\\site-packages\\pandas\\core\\indexes\\base.py:2825: RuntimeWarning: invalid value encountered in less_equal\n",
      "  indexer = np.where(op(left_distances, right_distances) |\n"
     ]
    },
    {
     "name": "stdout",
     "output_type": "stream",
     "text": [
      "(1501, 1995)\n"
     ]
    },
    {
     "name": "stderr",
     "output_type": "stream",
     "text": [
      "C:\\Users\\steve\\Anaconda3\\envs\\rasterenv\\lib\\site-packages\\ipykernel_launcher.py:14: UserWarning: Tight layout not applied. The left and right margins cannot be made large enough to accommodate all axes decorations. \n",
      "  \n",
      "C:\\Users\\steve\\Anaconda3\\envs\\rasterenv\\lib\\site-packages\\pandas\\core\\indexes\\base.py:2825: RuntimeWarning: invalid value encountered in less\n",
      "  indexer = np.where(op(left_distances, right_distances) |\n",
      "C:\\Users\\steve\\Anaconda3\\envs\\rasterenv\\lib\\site-packages\\pandas\\core\\indexes\\base.py:2825: RuntimeWarning: invalid value encountered in less_equal\n",
      "  indexer = np.where(op(left_distances, right_distances) |\n"
     ]
    },
    {
     "name": "stdout",
     "output_type": "stream",
     "text": [
      "(1501, 1995)\n"
     ]
    },
    {
     "name": "stderr",
     "output_type": "stream",
     "text": [
      "C:\\Users\\steve\\Anaconda3\\envs\\rasterenv\\lib\\site-packages\\ipykernel_launcher.py:14: UserWarning: Tight layout not applied. The left and right margins cannot be made large enough to accommodate all axes decorations. \n",
      "  \n",
      "C:\\Users\\steve\\Anaconda3\\envs\\rasterenv\\lib\\site-packages\\pandas\\core\\indexes\\base.py:2825: RuntimeWarning: invalid value encountered in less\n",
      "  indexer = np.where(op(left_distances, right_distances) |\n",
      "C:\\Users\\steve\\Anaconda3\\envs\\rasterenv\\lib\\site-packages\\pandas\\core\\indexes\\base.py:2825: RuntimeWarning: invalid value encountered in less_equal\n",
      "  indexer = np.where(op(left_distances, right_distances) |\n"
     ]
    },
    {
     "name": "stdout",
     "output_type": "stream",
     "text": [
      "(1501, 1995)\n"
     ]
    },
    {
     "name": "stderr",
     "output_type": "stream",
     "text": [
      "C:\\Users\\steve\\Anaconda3\\envs\\rasterenv\\lib\\site-packages\\ipykernel_launcher.py:14: UserWarning: Tight layout not applied. The left and right margins cannot be made large enough to accommodate all axes decorations. \n",
      "  \n",
      "C:\\Users\\steve\\Anaconda3\\envs\\rasterenv\\lib\\site-packages\\pandas\\core\\indexes\\base.py:2825: RuntimeWarning: invalid value encountered in less\n",
      "  indexer = np.where(op(left_distances, right_distances) |\n",
      "C:\\Users\\steve\\Anaconda3\\envs\\rasterenv\\lib\\site-packages\\pandas\\core\\indexes\\base.py:2825: RuntimeWarning: invalid value encountered in less_equal\n",
      "  indexer = np.where(op(left_distances, right_distances) |\n"
     ]
    },
    {
     "name": "stdout",
     "output_type": "stream",
     "text": [
      "(1501, 1995)\n"
     ]
    },
    {
     "name": "stderr",
     "output_type": "stream",
     "text": [
      "C:\\Users\\steve\\Anaconda3\\envs\\rasterenv\\lib\\site-packages\\ipykernel_launcher.py:14: UserWarning: Tight layout not applied. The left and right margins cannot be made large enough to accommodate all axes decorations. \n",
      "  \n",
      "C:\\Users\\steve\\Anaconda3\\envs\\rasterenv\\lib\\site-packages\\pandas\\core\\indexes\\base.py:2825: RuntimeWarning: invalid value encountered in less\n",
      "  indexer = np.where(op(left_distances, right_distances) |\n",
      "C:\\Users\\steve\\Anaconda3\\envs\\rasterenv\\lib\\site-packages\\pandas\\core\\indexes\\base.py:2825: RuntimeWarning: invalid value encountered in less_equal\n",
      "  indexer = np.where(op(left_distances, right_distances) |\n"
     ]
    },
    {
     "name": "stdout",
     "output_type": "stream",
     "text": [
      "(1501, 1995)\n"
     ]
    },
    {
     "name": "stderr",
     "output_type": "stream",
     "text": [
      "C:\\Users\\steve\\Anaconda3\\envs\\rasterenv\\lib\\site-packages\\ipykernel_launcher.py:14: UserWarning: Tight layout not applied. The left and right margins cannot be made large enough to accommodate all axes decorations. \n",
      "  \n",
      "C:\\Users\\steve\\Anaconda3\\envs\\rasterenv\\lib\\site-packages\\pandas\\core\\indexes\\base.py:2825: RuntimeWarning: invalid value encountered in less\n",
      "  indexer = np.where(op(left_distances, right_distances) |\n",
      "C:\\Users\\steve\\Anaconda3\\envs\\rasterenv\\lib\\site-packages\\pandas\\core\\indexes\\base.py:2825: RuntimeWarning: invalid value encountered in less_equal\n",
      "  indexer = np.where(op(left_distances, right_distances) |\n"
     ]
    },
    {
     "name": "stdout",
     "output_type": "stream",
     "text": [
      "(1501, 1995)\n"
     ]
    },
    {
     "name": "stderr",
     "output_type": "stream",
     "text": [
      "C:\\Users\\steve\\Anaconda3\\envs\\rasterenv\\lib\\site-packages\\ipykernel_launcher.py:14: UserWarning: Tight layout not applied. The left and right margins cannot be made large enough to accommodate all axes decorations. \n",
      "  \n",
      "C:\\Users\\steve\\Anaconda3\\envs\\rasterenv\\lib\\site-packages\\pandas\\core\\indexes\\base.py:2825: RuntimeWarning: invalid value encountered in less\n",
      "  indexer = np.where(op(left_distances, right_distances) |\n",
      "C:\\Users\\steve\\Anaconda3\\envs\\rasterenv\\lib\\site-packages\\pandas\\core\\indexes\\base.py:2825: RuntimeWarning: invalid value encountered in less_equal\n",
      "  indexer = np.where(op(left_distances, right_distances) |\n"
     ]
    },
    {
     "name": "stdout",
     "output_type": "stream",
     "text": [
      "(1501, 1995)\n"
     ]
    },
    {
     "name": "stderr",
     "output_type": "stream",
     "text": [
      "C:\\Users\\steve\\Anaconda3\\envs\\rasterenv\\lib\\site-packages\\ipykernel_launcher.py:14: UserWarning: Tight layout not applied. The left and right margins cannot be made large enough to accommodate all axes decorations. \n",
      "  \n",
      "C:\\Users\\steve\\Anaconda3\\envs\\rasterenv\\lib\\site-packages\\pandas\\core\\indexes\\base.py:2825: RuntimeWarning: invalid value encountered in less\n",
      "  indexer = np.where(op(left_distances, right_distances) |\n",
      "C:\\Users\\steve\\Anaconda3\\envs\\rasterenv\\lib\\site-packages\\pandas\\core\\indexes\\base.py:2825: RuntimeWarning: invalid value encountered in less_equal\n",
      "  indexer = np.where(op(left_distances, right_distances) |\n"
     ]
    },
    {
     "name": "stdout",
     "output_type": "stream",
     "text": [
      "(1501, 1995)\n"
     ]
    },
    {
     "name": "stderr",
     "output_type": "stream",
     "text": [
      "C:\\Users\\steve\\Anaconda3\\envs\\rasterenv\\lib\\site-packages\\ipykernel_launcher.py:14: UserWarning: Tight layout not applied. The left and right margins cannot be made large enough to accommodate all axes decorations. \n",
      "  \n",
      "C:\\Users\\steve\\Anaconda3\\envs\\rasterenv\\lib\\site-packages\\pandas\\core\\indexes\\base.py:2825: RuntimeWarning: invalid value encountered in less\n",
      "  indexer = np.where(op(left_distances, right_distances) |\n",
      "C:\\Users\\steve\\Anaconda3\\envs\\rasterenv\\lib\\site-packages\\pandas\\core\\indexes\\base.py:2825: RuntimeWarning: invalid value encountered in less_equal\n",
      "  indexer = np.where(op(left_distances, right_distances) |\n"
     ]
    },
    {
     "name": "stdout",
     "output_type": "stream",
     "text": [
      "(1501, 1995)\n"
     ]
    },
    {
     "name": "stderr",
     "output_type": "stream",
     "text": [
      "C:\\Users\\steve\\Anaconda3\\envs\\rasterenv\\lib\\site-packages\\ipykernel_launcher.py:14: UserWarning: Tight layout not applied. The left and right margins cannot be made large enough to accommodate all axes decorations. \n",
      "  \n",
      "C:\\Users\\steve\\Anaconda3\\envs\\rasterenv\\lib\\site-packages\\pandas\\core\\indexes\\base.py:2825: RuntimeWarning: invalid value encountered in less\n",
      "  indexer = np.where(op(left_distances, right_distances) |\n",
      "C:\\Users\\steve\\Anaconda3\\envs\\rasterenv\\lib\\site-packages\\pandas\\core\\indexes\\base.py:2825: RuntimeWarning: invalid value encountered in less_equal\n",
      "  indexer = np.where(op(left_distances, right_distances) |\n"
     ]
    },
    {
     "name": "stdout",
     "output_type": "stream",
     "text": [
      "(1501, 1995)\n"
     ]
    },
    {
     "name": "stderr",
     "output_type": "stream",
     "text": [
      "C:\\Users\\steve\\Anaconda3\\envs\\rasterenv\\lib\\site-packages\\ipykernel_launcher.py:14: UserWarning: Tight layout not applied. The left and right margins cannot be made large enough to accommodate all axes decorations. \n",
      "  \n",
      "C:\\Users\\steve\\Anaconda3\\envs\\rasterenv\\lib\\site-packages\\pandas\\core\\indexes\\base.py:2825: RuntimeWarning: invalid value encountered in less\n",
      "  indexer = np.where(op(left_distances, right_distances) |\n",
      "C:\\Users\\steve\\Anaconda3\\envs\\rasterenv\\lib\\site-packages\\pandas\\core\\indexes\\base.py:2825: RuntimeWarning: invalid value encountered in less_equal\n",
      "  indexer = np.where(op(left_distances, right_distances) |\n"
     ]
    },
    {
     "name": "stdout",
     "output_type": "stream",
     "text": [
      "(1501, 1995)\n"
     ]
    },
    {
     "name": "stderr",
     "output_type": "stream",
     "text": [
      "C:\\Users\\steve\\Anaconda3\\envs\\rasterenv\\lib\\site-packages\\ipykernel_launcher.py:14: UserWarning: Tight layout not applied. The left and right margins cannot be made large enough to accommodate all axes decorations. \n",
      "  \n",
      "C:\\Users\\steve\\Anaconda3\\envs\\rasterenv\\lib\\site-packages\\pandas\\core\\indexes\\base.py:2825: RuntimeWarning: invalid value encountered in less\n",
      "  indexer = np.where(op(left_distances, right_distances) |\n",
      "C:\\Users\\steve\\Anaconda3\\envs\\rasterenv\\lib\\site-packages\\pandas\\core\\indexes\\base.py:2825: RuntimeWarning: invalid value encountered in less_equal\n",
      "  indexer = np.where(op(left_distances, right_distances) |\n"
     ]
    },
    {
     "name": "stdout",
     "output_type": "stream",
     "text": [
      "(1501, 1995)\n"
     ]
    },
    {
     "name": "stderr",
     "output_type": "stream",
     "text": [
      "C:\\Users\\steve\\Anaconda3\\envs\\rasterenv\\lib\\site-packages\\ipykernel_launcher.py:14: UserWarning: Tight layout not applied. The left and right margins cannot be made large enough to accommodate all axes decorations. \n",
      "  \n",
      "C:\\Users\\steve\\Anaconda3\\envs\\rasterenv\\lib\\site-packages\\pandas\\core\\indexes\\base.py:2825: RuntimeWarning: invalid value encountered in less\n",
      "  indexer = np.where(op(left_distances, right_distances) |\n",
      "C:\\Users\\steve\\Anaconda3\\envs\\rasterenv\\lib\\site-packages\\pandas\\core\\indexes\\base.py:2825: RuntimeWarning: invalid value encountered in less_equal\n",
      "  indexer = np.where(op(left_distances, right_distances) |\n"
     ]
    },
    {
     "name": "stdout",
     "output_type": "stream",
     "text": [
      "(1501, 1995)\n"
     ]
    },
    {
     "name": "stderr",
     "output_type": "stream",
     "text": [
      "C:\\Users\\steve\\Anaconda3\\envs\\rasterenv\\lib\\site-packages\\ipykernel_launcher.py:14: UserWarning: Tight layout not applied. The left and right margins cannot be made large enough to accommodate all axes decorations. \n",
      "  \n",
      "C:\\Users\\steve\\Anaconda3\\envs\\rasterenv\\lib\\site-packages\\pandas\\core\\indexes\\base.py:2825: RuntimeWarning: invalid value encountered in less\n",
      "  indexer = np.where(op(left_distances, right_distances) |\n",
      "C:\\Users\\steve\\Anaconda3\\envs\\rasterenv\\lib\\site-packages\\pandas\\core\\indexes\\base.py:2825: RuntimeWarning: invalid value encountered in less_equal\n",
      "  indexer = np.where(op(left_distances, right_distances) |\n"
     ]
    },
    {
     "name": "stdout",
     "output_type": "stream",
     "text": [
      "(1501, 1995)\n"
     ]
    },
    {
     "name": "stderr",
     "output_type": "stream",
     "text": [
      "C:\\Users\\steve\\Anaconda3\\envs\\rasterenv\\lib\\site-packages\\ipykernel_launcher.py:14: UserWarning: Tight layout not applied. The left and right margins cannot be made large enough to accommodate all axes decorations. \n",
      "  \n",
      "C:\\Users\\steve\\Anaconda3\\envs\\rasterenv\\lib\\site-packages\\pandas\\core\\indexes\\base.py:2825: RuntimeWarning: invalid value encountered in less\n",
      "  indexer = np.where(op(left_distances, right_distances) |\n",
      "C:\\Users\\steve\\Anaconda3\\envs\\rasterenv\\lib\\site-packages\\pandas\\core\\indexes\\base.py:2825: RuntimeWarning: invalid value encountered in less_equal\n",
      "  indexer = np.where(op(left_distances, right_distances) |\n"
     ]
    },
    {
     "name": "stdout",
     "output_type": "stream",
     "text": [
      "(1501, 1995)\n"
     ]
    },
    {
     "name": "stderr",
     "output_type": "stream",
     "text": [
      "C:\\Users\\steve\\Anaconda3\\envs\\rasterenv\\lib\\site-packages\\ipykernel_launcher.py:14: UserWarning: Tight layout not applied. The left and right margins cannot be made large enough to accommodate all axes decorations. \n",
      "  \n",
      "C:\\Users\\steve\\Anaconda3\\envs\\rasterenv\\lib\\site-packages\\pandas\\core\\indexes\\base.py:2825: RuntimeWarning: invalid value encountered in less\n",
      "  indexer = np.where(op(left_distances, right_distances) |\n",
      "C:\\Users\\steve\\Anaconda3\\envs\\rasterenv\\lib\\site-packages\\pandas\\core\\indexes\\base.py:2825: RuntimeWarning: invalid value encountered in less_equal\n",
      "  indexer = np.where(op(left_distances, right_distances) |\n"
     ]
    },
    {
     "name": "stdout",
     "output_type": "stream",
     "text": [
      "(1501, 1995)\n"
     ]
    },
    {
     "name": "stderr",
     "output_type": "stream",
     "text": [
      "C:\\Users\\steve\\Anaconda3\\envs\\rasterenv\\lib\\site-packages\\ipykernel_launcher.py:14: UserWarning: Tight layout not applied. The left and right margins cannot be made large enough to accommodate all axes decorations. \n",
      "  \n",
      "C:\\Users\\steve\\Anaconda3\\envs\\rasterenv\\lib\\site-packages\\pandas\\core\\indexes\\base.py:2825: RuntimeWarning: invalid value encountered in less\n",
      "  indexer = np.where(op(left_distances, right_distances) |\n",
      "C:\\Users\\steve\\Anaconda3\\envs\\rasterenv\\lib\\site-packages\\pandas\\core\\indexes\\base.py:2825: RuntimeWarning: invalid value encountered in less_equal\n",
      "  indexer = np.where(op(left_distances, right_distances) |\n"
     ]
    },
    {
     "name": "stdout",
     "output_type": "stream",
     "text": [
      "(1501, 1995)\n"
     ]
    },
    {
     "name": "stderr",
     "output_type": "stream",
     "text": [
      "C:\\Users\\steve\\Anaconda3\\envs\\rasterenv\\lib\\site-packages\\ipykernel_launcher.py:14: UserWarning: Tight layout not applied. The left and right margins cannot be made large enough to accommodate all axes decorations. \n",
      "  \n",
      "C:\\Users\\steve\\Anaconda3\\envs\\rasterenv\\lib\\site-packages\\pandas\\core\\indexes\\base.py:2825: RuntimeWarning: invalid value encountered in less\n",
      "  indexer = np.where(op(left_distances, right_distances) |\n",
      "C:\\Users\\steve\\Anaconda3\\envs\\rasterenv\\lib\\site-packages\\pandas\\core\\indexes\\base.py:2825: RuntimeWarning: invalid value encountered in less_equal\n",
      "  indexer = np.where(op(left_distances, right_distances) |\n"
     ]
    },
    {
     "name": "stdout",
     "output_type": "stream",
     "text": [
      "(1501, 1995)\n"
     ]
    },
    {
     "name": "stderr",
     "output_type": "stream",
     "text": [
      "C:\\Users\\steve\\Anaconda3\\envs\\rasterenv\\lib\\site-packages\\ipykernel_launcher.py:14: UserWarning: Tight layout not applied. The left and right margins cannot be made large enough to accommodate all axes decorations. \n",
      "  \n",
      "C:\\Users\\steve\\Anaconda3\\envs\\rasterenv\\lib\\site-packages\\pandas\\core\\indexes\\base.py:2825: RuntimeWarning: invalid value encountered in less\n",
      "  indexer = np.where(op(left_distances, right_distances) |\n",
      "C:\\Users\\steve\\Anaconda3\\envs\\rasterenv\\lib\\site-packages\\pandas\\core\\indexes\\base.py:2825: RuntimeWarning: invalid value encountered in less_equal\n",
      "  indexer = np.where(op(left_distances, right_distances) |\n"
     ]
    },
    {
     "name": "stdout",
     "output_type": "stream",
     "text": [
      "(1501, 1995)\n"
     ]
    },
    {
     "name": "stderr",
     "output_type": "stream",
     "text": [
      "C:\\Users\\steve\\Anaconda3\\envs\\rasterenv\\lib\\site-packages\\ipykernel_launcher.py:14: UserWarning: Tight layout not applied. The left and right margins cannot be made large enough to accommodate all axes decorations. \n",
      "  \n",
      "C:\\Users\\steve\\Anaconda3\\envs\\rasterenv\\lib\\site-packages\\pandas\\core\\indexes\\base.py:2825: RuntimeWarning: invalid value encountered in less\n",
      "  indexer = np.where(op(left_distances, right_distances) |\n",
      "C:\\Users\\steve\\Anaconda3\\envs\\rasterenv\\lib\\site-packages\\pandas\\core\\indexes\\base.py:2825: RuntimeWarning: invalid value encountered in less_equal\n",
      "  indexer = np.where(op(left_distances, right_distances) |\n"
     ]
    },
    {
     "name": "stdout",
     "output_type": "stream",
     "text": [
      "(1501, 1995)\n"
     ]
    },
    {
     "name": "stderr",
     "output_type": "stream",
     "text": [
      "C:\\Users\\steve\\Anaconda3\\envs\\rasterenv\\lib\\site-packages\\ipykernel_launcher.py:14: UserWarning: Tight layout not applied. The left and right margins cannot be made large enough to accommodate all axes decorations. \n",
      "  \n",
      "C:\\Users\\steve\\Anaconda3\\envs\\rasterenv\\lib\\site-packages\\pandas\\core\\indexes\\base.py:2825: RuntimeWarning: invalid value encountered in less\n",
      "  indexer = np.where(op(left_distances, right_distances) |\n",
      "C:\\Users\\steve\\Anaconda3\\envs\\rasterenv\\lib\\site-packages\\pandas\\core\\indexes\\base.py:2825: RuntimeWarning: invalid value encountered in less_equal\n",
      "  indexer = np.where(op(left_distances, right_distances) |\n"
     ]
    },
    {
     "name": "stdout",
     "output_type": "stream",
     "text": [
      "(1501, 1995)\n"
     ]
    },
    {
     "name": "stderr",
     "output_type": "stream",
     "text": [
      "C:\\Users\\steve\\Anaconda3\\envs\\rasterenv\\lib\\site-packages\\ipykernel_launcher.py:14: UserWarning: Tight layout not applied. The left and right margins cannot be made large enough to accommodate all axes decorations. \n",
      "  \n",
      "C:\\Users\\steve\\Anaconda3\\envs\\rasterenv\\lib\\site-packages\\pandas\\core\\indexes\\base.py:2825: RuntimeWarning: invalid value encountered in less\n",
      "  indexer = np.where(op(left_distances, right_distances) |\n",
      "C:\\Users\\steve\\Anaconda3\\envs\\rasterenv\\lib\\site-packages\\pandas\\core\\indexes\\base.py:2825: RuntimeWarning: invalid value encountered in less_equal\n",
      "  indexer = np.where(op(left_distances, right_distances) |\n"
     ]
    },
    {
     "name": "stdout",
     "output_type": "stream",
     "text": [
      "(1501, 1995)\n"
     ]
    },
    {
     "name": "stderr",
     "output_type": "stream",
     "text": [
      "C:\\Users\\steve\\Anaconda3\\envs\\rasterenv\\lib\\site-packages\\ipykernel_launcher.py:14: UserWarning: Tight layout not applied. The left and right margins cannot be made large enough to accommodate all axes decorations. \n",
      "  \n",
      "C:\\Users\\steve\\Anaconda3\\envs\\rasterenv\\lib\\site-packages\\pandas\\core\\indexes\\base.py:2825: RuntimeWarning: invalid value encountered in less\n",
      "  indexer = np.where(op(left_distances, right_distances) |\n",
      "C:\\Users\\steve\\Anaconda3\\envs\\rasterenv\\lib\\site-packages\\pandas\\core\\indexes\\base.py:2825: RuntimeWarning: invalid value encountered in less_equal\n",
      "  indexer = np.where(op(left_distances, right_distances) |\n"
     ]
    },
    {
     "name": "stdout",
     "output_type": "stream",
     "text": [
      "(1501, 1995)\n"
     ]
    },
    {
     "name": "stderr",
     "output_type": "stream",
     "text": [
      "C:\\Users\\steve\\Anaconda3\\envs\\rasterenv\\lib\\site-packages\\ipykernel_launcher.py:14: UserWarning: Tight layout not applied. The left and right margins cannot be made large enough to accommodate all axes decorations. \n",
      "  \n",
      "C:\\Users\\steve\\Anaconda3\\envs\\rasterenv\\lib\\site-packages\\pandas\\core\\indexes\\base.py:2825: RuntimeWarning: invalid value encountered in less\n",
      "  indexer = np.where(op(left_distances, right_distances) |\n",
      "C:\\Users\\steve\\Anaconda3\\envs\\rasterenv\\lib\\site-packages\\pandas\\core\\indexes\\base.py:2825: RuntimeWarning: invalid value encountered in less_equal\n",
      "  indexer = np.where(op(left_distances, right_distances) |\n"
     ]
    },
    {
     "name": "stdout",
     "output_type": "stream",
     "text": [
      "(1501, 1995)\n"
     ]
    },
    {
     "name": "stderr",
     "output_type": "stream",
     "text": [
      "C:\\Users\\steve\\Anaconda3\\envs\\rasterenv\\lib\\site-packages\\ipykernel_launcher.py:14: UserWarning: Tight layout not applied. The left and right margins cannot be made large enough to accommodate all axes decorations. \n",
      "  \n",
      "C:\\Users\\steve\\Anaconda3\\envs\\rasterenv\\lib\\site-packages\\pandas\\core\\indexes\\base.py:2825: RuntimeWarning: invalid value encountered in less\n",
      "  indexer = np.where(op(left_distances, right_distances) |\n",
      "C:\\Users\\steve\\Anaconda3\\envs\\rasterenv\\lib\\site-packages\\pandas\\core\\indexes\\base.py:2825: RuntimeWarning: invalid value encountered in less_equal\n",
      "  indexer = np.where(op(left_distances, right_distances) |\n"
     ]
    },
    {
     "name": "stdout",
     "output_type": "stream",
     "text": [
      "(1501, 1995)\n"
     ]
    },
    {
     "name": "stderr",
     "output_type": "stream",
     "text": [
      "C:\\Users\\steve\\Anaconda3\\envs\\rasterenv\\lib\\site-packages\\ipykernel_launcher.py:14: UserWarning: Tight layout not applied. The left and right margins cannot be made large enough to accommodate all axes decorations. \n",
      "  \n",
      "C:\\Users\\steve\\Anaconda3\\envs\\rasterenv\\lib\\site-packages\\pandas\\core\\indexes\\base.py:2825: RuntimeWarning: invalid value encountered in less\n",
      "  indexer = np.where(op(left_distances, right_distances) |\n",
      "C:\\Users\\steve\\Anaconda3\\envs\\rasterenv\\lib\\site-packages\\pandas\\core\\indexes\\base.py:2825: RuntimeWarning: invalid value encountered in less_equal\n",
      "  indexer = np.where(op(left_distances, right_distances) |\n"
     ]
    },
    {
     "name": "stdout",
     "output_type": "stream",
     "text": [
      "(1501, 1995)\n"
     ]
    },
    {
     "name": "stderr",
     "output_type": "stream",
     "text": [
      "C:\\Users\\steve\\Anaconda3\\envs\\rasterenv\\lib\\site-packages\\ipykernel_launcher.py:14: UserWarning: Tight layout not applied. The left and right margins cannot be made large enough to accommodate all axes decorations. \n",
      "  \n",
      "C:\\Users\\steve\\Anaconda3\\envs\\rasterenv\\lib\\site-packages\\pandas\\core\\indexes\\base.py:2825: RuntimeWarning: invalid value encountered in less\n",
      "  indexer = np.where(op(left_distances, right_distances) |\n",
      "C:\\Users\\steve\\Anaconda3\\envs\\rasterenv\\lib\\site-packages\\pandas\\core\\indexes\\base.py:2825: RuntimeWarning: invalid value encountered in less_equal\n",
      "  indexer = np.where(op(left_distances, right_distances) |\n"
     ]
    },
    {
     "name": "stdout",
     "output_type": "stream",
     "text": [
      "(1501, 1995)\n"
     ]
    },
    {
     "name": "stderr",
     "output_type": "stream",
     "text": [
      "C:\\Users\\steve\\Anaconda3\\envs\\rasterenv\\lib\\site-packages\\ipykernel_launcher.py:14: UserWarning: Tight layout not applied. The left and right margins cannot be made large enough to accommodate all axes decorations. \n",
      "  \n",
      "C:\\Users\\steve\\Anaconda3\\envs\\rasterenv\\lib\\site-packages\\pandas\\core\\indexes\\base.py:2825: RuntimeWarning: invalid value encountered in less\n",
      "  indexer = np.where(op(left_distances, right_distances) |\n",
      "C:\\Users\\steve\\Anaconda3\\envs\\rasterenv\\lib\\site-packages\\pandas\\core\\indexes\\base.py:2825: RuntimeWarning: invalid value encountered in less_equal\n",
      "  indexer = np.where(op(left_distances, right_distances) |\n"
     ]
    },
    {
     "name": "stdout",
     "output_type": "stream",
     "text": [
      "(1501, 1995)\n"
     ]
    },
    {
     "name": "stderr",
     "output_type": "stream",
     "text": [
      "C:\\Users\\steve\\Anaconda3\\envs\\rasterenv\\lib\\site-packages\\ipykernel_launcher.py:14: UserWarning: Tight layout not applied. The left and right margins cannot be made large enough to accommodate all axes decorations. \n",
      "  \n",
      "C:\\Users\\steve\\Anaconda3\\envs\\rasterenv\\lib\\site-packages\\pandas\\core\\indexes\\base.py:2825: RuntimeWarning: invalid value encountered in less\n",
      "  indexer = np.where(op(left_distances, right_distances) |\n",
      "C:\\Users\\steve\\Anaconda3\\envs\\rasterenv\\lib\\site-packages\\pandas\\core\\indexes\\base.py:2825: RuntimeWarning: invalid value encountered in less_equal\n",
      "  indexer = np.where(op(left_distances, right_distances) |\n"
     ]
    },
    {
     "name": "stdout",
     "output_type": "stream",
     "text": [
      "(1501, 1995)\n"
     ]
    },
    {
     "name": "stderr",
     "output_type": "stream",
     "text": [
      "C:\\Users\\steve\\Anaconda3\\envs\\rasterenv\\lib\\site-packages\\ipykernel_launcher.py:14: UserWarning: Tight layout not applied. The left and right margins cannot be made large enough to accommodate all axes decorations. \n",
      "  \n",
      "C:\\Users\\steve\\Anaconda3\\envs\\rasterenv\\lib\\site-packages\\pandas\\core\\indexes\\base.py:2825: RuntimeWarning: invalid value encountered in less\n",
      "  indexer = np.where(op(left_distances, right_distances) |\n",
      "C:\\Users\\steve\\Anaconda3\\envs\\rasterenv\\lib\\site-packages\\pandas\\core\\indexes\\base.py:2825: RuntimeWarning: invalid value encountered in less_equal\n",
      "  indexer = np.where(op(left_distances, right_distances) |\n"
     ]
    },
    {
     "name": "stdout",
     "output_type": "stream",
     "text": [
      "(1501, 1995)\n"
     ]
    },
    {
     "name": "stderr",
     "output_type": "stream",
     "text": [
      "C:\\Users\\steve\\Anaconda3\\envs\\rasterenv\\lib\\site-packages\\ipykernel_launcher.py:14: UserWarning: Tight layout not applied. The left and right margins cannot be made large enough to accommodate all axes decorations. \n",
      "  \n",
      "C:\\Users\\steve\\Anaconda3\\envs\\rasterenv\\lib\\site-packages\\pandas\\core\\indexes\\base.py:2825: RuntimeWarning: invalid value encountered in less\n",
      "  indexer = np.where(op(left_distances, right_distances) |\n",
      "C:\\Users\\steve\\Anaconda3\\envs\\rasterenv\\lib\\site-packages\\pandas\\core\\indexes\\base.py:2825: RuntimeWarning: invalid value encountered in less_equal\n",
      "  indexer = np.where(op(left_distances, right_distances) |\n"
     ]
    },
    {
     "name": "stdout",
     "output_type": "stream",
     "text": [
      "(1501, 1995)\n"
     ]
    },
    {
     "name": "stderr",
     "output_type": "stream",
     "text": [
      "C:\\Users\\steve\\Anaconda3\\envs\\rasterenv\\lib\\site-packages\\ipykernel_launcher.py:14: UserWarning: Tight layout not applied. The left and right margins cannot be made large enough to accommodate all axes decorations. \n",
      "  \n",
      "C:\\Users\\steve\\Anaconda3\\envs\\rasterenv\\lib\\site-packages\\pandas\\core\\indexes\\base.py:2825: RuntimeWarning: invalid value encountered in less\n",
      "  indexer = np.where(op(left_distances, right_distances) |\n",
      "C:\\Users\\steve\\Anaconda3\\envs\\rasterenv\\lib\\site-packages\\pandas\\core\\indexes\\base.py:2825: RuntimeWarning: invalid value encountered in less_equal\n",
      "  indexer = np.where(op(left_distances, right_distances) |\n"
     ]
    },
    {
     "name": "stdout",
     "output_type": "stream",
     "text": [
      "(1501, 1995)\n"
     ]
    },
    {
     "name": "stderr",
     "output_type": "stream",
     "text": [
      "C:\\Users\\steve\\Anaconda3\\envs\\rasterenv\\lib\\site-packages\\ipykernel_launcher.py:14: UserWarning: Tight layout not applied. The left and right margins cannot be made large enough to accommodate all axes decorations. \n",
      "  \n",
      "C:\\Users\\steve\\Anaconda3\\envs\\rasterenv\\lib\\site-packages\\pandas\\core\\indexes\\base.py:2825: RuntimeWarning: invalid value encountered in less\n",
      "  indexer = np.where(op(left_distances, right_distances) |\n",
      "C:\\Users\\steve\\Anaconda3\\envs\\rasterenv\\lib\\site-packages\\pandas\\core\\indexes\\base.py:2825: RuntimeWarning: invalid value encountered in less_equal\n",
      "  indexer = np.where(op(left_distances, right_distances) |\n"
     ]
    },
    {
     "name": "stdout",
     "output_type": "stream",
     "text": [
      "(1501, 1995)\n"
     ]
    },
    {
     "name": "stderr",
     "output_type": "stream",
     "text": [
      "C:\\Users\\steve\\Anaconda3\\envs\\rasterenv\\lib\\site-packages\\ipykernel_launcher.py:14: UserWarning: Tight layout not applied. The left and right margins cannot be made large enough to accommodate all axes decorations. \n",
      "  \n",
      "C:\\Users\\steve\\Anaconda3\\envs\\rasterenv\\lib\\site-packages\\pandas\\core\\indexes\\base.py:2825: RuntimeWarning: invalid value encountered in less\n",
      "  indexer = np.where(op(left_distances, right_distances) |\n",
      "C:\\Users\\steve\\Anaconda3\\envs\\rasterenv\\lib\\site-packages\\pandas\\core\\indexes\\base.py:2825: RuntimeWarning: invalid value encountered in less_equal\n",
      "  indexer = np.where(op(left_distances, right_distances) |\n"
     ]
    },
    {
     "name": "stdout",
     "output_type": "stream",
     "text": [
      "(1501, 1995)\n"
     ]
    },
    {
     "name": "stderr",
     "output_type": "stream",
     "text": [
      "C:\\Users\\steve\\Anaconda3\\envs\\rasterenv\\lib\\site-packages\\ipykernel_launcher.py:14: UserWarning: Tight layout not applied. The left and right margins cannot be made large enough to accommodate all axes decorations. \n",
      "  \n",
      "C:\\Users\\steve\\Anaconda3\\envs\\rasterenv\\lib\\site-packages\\pandas\\core\\indexes\\base.py:2825: RuntimeWarning: invalid value encountered in less\n",
      "  indexer = np.where(op(left_distances, right_distances) |\n",
      "C:\\Users\\steve\\Anaconda3\\envs\\rasterenv\\lib\\site-packages\\pandas\\core\\indexes\\base.py:2825: RuntimeWarning: invalid value encountered in less_equal\n",
      "  indexer = np.where(op(left_distances, right_distances) |\n"
     ]
    },
    {
     "name": "stdout",
     "output_type": "stream",
     "text": [
      "(1501, 1995)\n"
     ]
    },
    {
     "name": "stderr",
     "output_type": "stream",
     "text": [
      "C:\\Users\\steve\\Anaconda3\\envs\\rasterenv\\lib\\site-packages\\ipykernel_launcher.py:14: UserWarning: Tight layout not applied. The left and right margins cannot be made large enough to accommodate all axes decorations. \n",
      "  \n",
      "C:\\Users\\steve\\Anaconda3\\envs\\rasterenv\\lib\\site-packages\\pandas\\core\\indexes\\base.py:2825: RuntimeWarning: invalid value encountered in less\n",
      "  indexer = np.where(op(left_distances, right_distances) |\n",
      "C:\\Users\\steve\\Anaconda3\\envs\\rasterenv\\lib\\site-packages\\pandas\\core\\indexes\\base.py:2825: RuntimeWarning: invalid value encountered in less_equal\n",
      "  indexer = np.where(op(left_distances, right_distances) |\n"
     ]
    },
    {
     "name": "stdout",
     "output_type": "stream",
     "text": [
      "(1501, 1995)\n"
     ]
    },
    {
     "name": "stderr",
     "output_type": "stream",
     "text": [
      "C:\\Users\\steve\\Anaconda3\\envs\\rasterenv\\lib\\site-packages\\ipykernel_launcher.py:14: UserWarning: Tight layout not applied. The left and right margins cannot be made large enough to accommodate all axes decorations. \n",
      "  \n",
      "C:\\Users\\steve\\Anaconda3\\envs\\rasterenv\\lib\\site-packages\\pandas\\core\\indexes\\base.py:2825: RuntimeWarning: invalid value encountered in less\n",
      "  indexer = np.where(op(left_distances, right_distances) |\n",
      "C:\\Users\\steve\\Anaconda3\\envs\\rasterenv\\lib\\site-packages\\pandas\\core\\indexes\\base.py:2825: RuntimeWarning: invalid value encountered in less_equal\n",
      "  indexer = np.where(op(left_distances, right_distances) |\n"
     ]
    },
    {
     "name": "stdout",
     "output_type": "stream",
     "text": [
      "(1501, 1995)\n"
     ]
    },
    {
     "name": "stderr",
     "output_type": "stream",
     "text": [
      "C:\\Users\\steve\\Anaconda3\\envs\\rasterenv\\lib\\site-packages\\ipykernel_launcher.py:14: UserWarning: Tight layout not applied. The left and right margins cannot be made large enough to accommodate all axes decorations. \n",
      "  \n",
      "C:\\Users\\steve\\Anaconda3\\envs\\rasterenv\\lib\\site-packages\\pandas\\core\\indexes\\base.py:2825: RuntimeWarning: invalid value encountered in less\n",
      "  indexer = np.where(op(left_distances, right_distances) |\n",
      "C:\\Users\\steve\\Anaconda3\\envs\\rasterenv\\lib\\site-packages\\pandas\\core\\indexes\\base.py:2825: RuntimeWarning: invalid value encountered in less_equal\n",
      "  indexer = np.where(op(left_distances, right_distances) |\n"
     ]
    },
    {
     "name": "stdout",
     "output_type": "stream",
     "text": [
      "(1501, 1995)\n"
     ]
    },
    {
     "name": "stderr",
     "output_type": "stream",
     "text": [
      "C:\\Users\\steve\\Anaconda3\\envs\\rasterenv\\lib\\site-packages\\ipykernel_launcher.py:14: UserWarning: Tight layout not applied. The left and right margins cannot be made large enough to accommodate all axes decorations. \n",
      "  \n",
      "C:\\Users\\steve\\Anaconda3\\envs\\rasterenv\\lib\\site-packages\\pandas\\core\\indexes\\base.py:2825: RuntimeWarning: invalid value encountered in less\n",
      "  indexer = np.where(op(left_distances, right_distances) |\n",
      "C:\\Users\\steve\\Anaconda3\\envs\\rasterenv\\lib\\site-packages\\pandas\\core\\indexes\\base.py:2825: RuntimeWarning: invalid value encountered in less_equal\n",
      "  indexer = np.where(op(left_distances, right_distances) |\n"
     ]
    },
    {
     "name": "stdout",
     "output_type": "stream",
     "text": [
      "(1501, 1995)\n"
     ]
    },
    {
     "name": "stderr",
     "output_type": "stream",
     "text": [
      "C:\\Users\\steve\\Anaconda3\\envs\\rasterenv\\lib\\site-packages\\ipykernel_launcher.py:14: UserWarning: Tight layout not applied. The left and right margins cannot be made large enough to accommodate all axes decorations. \n",
      "  \n",
      "C:\\Users\\steve\\Anaconda3\\envs\\rasterenv\\lib\\site-packages\\pandas\\core\\indexes\\base.py:2825: RuntimeWarning: invalid value encountered in less\n",
      "  indexer = np.where(op(left_distances, right_distances) |\n",
      "C:\\Users\\steve\\Anaconda3\\envs\\rasterenv\\lib\\site-packages\\pandas\\core\\indexes\\base.py:2825: RuntimeWarning: invalid value encountered in less_equal\n",
      "  indexer = np.where(op(left_distances, right_distances) |\n"
     ]
    },
    {
     "name": "stdout",
     "output_type": "stream",
     "text": [
      "(1501, 1995)\n"
     ]
    },
    {
     "name": "stderr",
     "output_type": "stream",
     "text": [
      "C:\\Users\\steve\\Anaconda3\\envs\\rasterenv\\lib\\site-packages\\ipykernel_launcher.py:14: UserWarning: Tight layout not applied. The left and right margins cannot be made large enough to accommodate all axes decorations. \n",
      "  \n",
      "C:\\Users\\steve\\Anaconda3\\envs\\rasterenv\\lib\\site-packages\\pandas\\core\\indexes\\base.py:2825: RuntimeWarning: invalid value encountered in less\n",
      "  indexer = np.where(op(left_distances, right_distances) |\n",
      "C:\\Users\\steve\\Anaconda3\\envs\\rasterenv\\lib\\site-packages\\pandas\\core\\indexes\\base.py:2825: RuntimeWarning: invalid value encountered in less_equal\n",
      "  indexer = np.where(op(left_distances, right_distances) |\n"
     ]
    },
    {
     "name": "stdout",
     "output_type": "stream",
     "text": [
      "(1501, 1995)\n"
     ]
    },
    {
     "name": "stderr",
     "output_type": "stream",
     "text": [
      "C:\\Users\\steve\\Anaconda3\\envs\\rasterenv\\lib\\site-packages\\ipykernel_launcher.py:14: UserWarning: Tight layout not applied. The left and right margins cannot be made large enough to accommodate all axes decorations. \n",
      "  \n",
      "C:\\Users\\steve\\Anaconda3\\envs\\rasterenv\\lib\\site-packages\\pandas\\core\\indexes\\base.py:2825: RuntimeWarning: invalid value encountered in less\n",
      "  indexer = np.where(op(left_distances, right_distances) |\n",
      "C:\\Users\\steve\\Anaconda3\\envs\\rasterenv\\lib\\site-packages\\pandas\\core\\indexes\\base.py:2825: RuntimeWarning: invalid value encountered in less_equal\n",
      "  indexer = np.where(op(left_distances, right_distances) |\n"
     ]
    },
    {
     "name": "stdout",
     "output_type": "stream",
     "text": [
      "(1501, 1995)\n"
     ]
    },
    {
     "name": "stderr",
     "output_type": "stream",
     "text": [
      "C:\\Users\\steve\\Anaconda3\\envs\\rasterenv\\lib\\site-packages\\ipykernel_launcher.py:14: UserWarning: Tight layout not applied. The left and right margins cannot be made large enough to accommodate all axes decorations. \n",
      "  \n",
      "C:\\Users\\steve\\Anaconda3\\envs\\rasterenv\\lib\\site-packages\\pandas\\core\\indexes\\base.py:2825: RuntimeWarning: invalid value encountered in less\n",
      "  indexer = np.where(op(left_distances, right_distances) |\n",
      "C:\\Users\\steve\\Anaconda3\\envs\\rasterenv\\lib\\site-packages\\pandas\\core\\indexes\\base.py:2825: RuntimeWarning: invalid value encountered in less_equal\n",
      "  indexer = np.where(op(left_distances, right_distances) |\n"
     ]
    },
    {
     "name": "stdout",
     "output_type": "stream",
     "text": [
      "(1501, 1995)\n"
     ]
    },
    {
     "name": "stderr",
     "output_type": "stream",
     "text": [
      "C:\\Users\\steve\\Anaconda3\\envs\\rasterenv\\lib\\site-packages\\ipykernel_launcher.py:14: UserWarning: Tight layout not applied. The left and right margins cannot be made large enough to accommodate all axes decorations. \n",
      "  \n",
      "C:\\Users\\steve\\Anaconda3\\envs\\rasterenv\\lib\\site-packages\\pandas\\core\\indexes\\base.py:2825: RuntimeWarning: invalid value encountered in less\n",
      "  indexer = np.where(op(left_distances, right_distances) |\n",
      "C:\\Users\\steve\\Anaconda3\\envs\\rasterenv\\lib\\site-packages\\pandas\\core\\indexes\\base.py:2825: RuntimeWarning: invalid value encountered in less_equal\n",
      "  indexer = np.where(op(left_distances, right_distances) |\n"
     ]
    },
    {
     "name": "stdout",
     "output_type": "stream",
     "text": [
      "(1501, 1995)\n"
     ]
    },
    {
     "name": "stderr",
     "output_type": "stream",
     "text": [
      "C:\\Users\\steve\\Anaconda3\\envs\\rasterenv\\lib\\site-packages\\ipykernel_launcher.py:14: UserWarning: Tight layout not applied. The left and right margins cannot be made large enough to accommodate all axes decorations. \n",
      "  \n",
      "C:\\Users\\steve\\Anaconda3\\envs\\rasterenv\\lib\\site-packages\\pandas\\core\\indexes\\base.py:2825: RuntimeWarning: invalid value encountered in less\n",
      "  indexer = np.where(op(left_distances, right_distances) |\n",
      "C:\\Users\\steve\\Anaconda3\\envs\\rasterenv\\lib\\site-packages\\pandas\\core\\indexes\\base.py:2825: RuntimeWarning: invalid value encountered in less_equal\n",
      "  indexer = np.where(op(left_distances, right_distances) |\n"
     ]
    },
    {
     "name": "stdout",
     "output_type": "stream",
     "text": [
      "(1501, 1995)\n"
     ]
    },
    {
     "name": "stderr",
     "output_type": "stream",
     "text": [
      "C:\\Users\\steve\\Anaconda3\\envs\\rasterenv\\lib\\site-packages\\ipykernel_launcher.py:14: UserWarning: Tight layout not applied. The left and right margins cannot be made large enough to accommodate all axes decorations. \n",
      "  \n",
      "C:\\Users\\steve\\Anaconda3\\envs\\rasterenv\\lib\\site-packages\\pandas\\core\\indexes\\base.py:2825: RuntimeWarning: invalid value encountered in less\n",
      "  indexer = np.where(op(left_distances, right_distances) |\n",
      "C:\\Users\\steve\\Anaconda3\\envs\\rasterenv\\lib\\site-packages\\pandas\\core\\indexes\\base.py:2825: RuntimeWarning: invalid value encountered in less_equal\n",
      "  indexer = np.where(op(left_distances, right_distances) |\n"
     ]
    },
    {
     "name": "stdout",
     "output_type": "stream",
     "text": [
      "(1501, 1995)\n"
     ]
    },
    {
     "name": "stderr",
     "output_type": "stream",
     "text": [
      "C:\\Users\\steve\\Anaconda3\\envs\\rasterenv\\lib\\site-packages\\ipykernel_launcher.py:14: UserWarning: Tight layout not applied. The left and right margins cannot be made large enough to accommodate all axes decorations. \n",
      "  \n",
      "C:\\Users\\steve\\Anaconda3\\envs\\rasterenv\\lib\\site-packages\\pandas\\core\\indexes\\base.py:2825: RuntimeWarning: invalid value encountered in less\n",
      "  indexer = np.where(op(left_distances, right_distances) |\n",
      "C:\\Users\\steve\\Anaconda3\\envs\\rasterenv\\lib\\site-packages\\pandas\\core\\indexes\\base.py:2825: RuntimeWarning: invalid value encountered in less_equal\n",
      "  indexer = np.where(op(left_distances, right_distances) |\n"
     ]
    },
    {
     "name": "stdout",
     "output_type": "stream",
     "text": [
      "(1501, 1995)\n"
     ]
    },
    {
     "name": "stderr",
     "output_type": "stream",
     "text": [
      "C:\\Users\\steve\\Anaconda3\\envs\\rasterenv\\lib\\site-packages\\ipykernel_launcher.py:14: UserWarning: Tight layout not applied. The left and right margins cannot be made large enough to accommodate all axes decorations. \n",
      "  \n",
      "C:\\Users\\steve\\Anaconda3\\envs\\rasterenv\\lib\\site-packages\\pandas\\core\\indexes\\base.py:2825: RuntimeWarning: invalid value encountered in less\n",
      "  indexer = np.where(op(left_distances, right_distances) |\n",
      "C:\\Users\\steve\\Anaconda3\\envs\\rasterenv\\lib\\site-packages\\pandas\\core\\indexes\\base.py:2825: RuntimeWarning: invalid value encountered in less_equal\n",
      "  indexer = np.where(op(left_distances, right_distances) |\n"
     ]
    },
    {
     "name": "stdout",
     "output_type": "stream",
     "text": [
      "(1501, 1995)\n"
     ]
    },
    {
     "name": "stderr",
     "output_type": "stream",
     "text": [
      "C:\\Users\\steve\\Anaconda3\\envs\\rasterenv\\lib\\site-packages\\ipykernel_launcher.py:14: UserWarning: Tight layout not applied. The left and right margins cannot be made large enough to accommodate all axes decorations. \n",
      "  \n",
      "C:\\Users\\steve\\Anaconda3\\envs\\rasterenv\\lib\\site-packages\\pandas\\core\\indexes\\base.py:2825: RuntimeWarning: invalid value encountered in less\n",
      "  indexer = np.where(op(left_distances, right_distances) |\n",
      "C:\\Users\\steve\\Anaconda3\\envs\\rasterenv\\lib\\site-packages\\pandas\\core\\indexes\\base.py:2825: RuntimeWarning: invalid value encountered in less_equal\n",
      "  indexer = np.where(op(left_distances, right_distances) |\n"
     ]
    },
    {
     "name": "stdout",
     "output_type": "stream",
     "text": [
      "(1501, 1995)\n"
     ]
    },
    {
     "name": "stderr",
     "output_type": "stream",
     "text": [
      "C:\\Users\\steve\\Anaconda3\\envs\\rasterenv\\lib\\site-packages\\ipykernel_launcher.py:14: UserWarning: Tight layout not applied. The left and right margins cannot be made large enough to accommodate all axes decorations. \n",
      "  \n",
      "C:\\Users\\steve\\Anaconda3\\envs\\rasterenv\\lib\\site-packages\\pandas\\core\\indexes\\base.py:2825: RuntimeWarning: invalid value encountered in less\n",
      "  indexer = np.where(op(left_distances, right_distances) |\n",
      "C:\\Users\\steve\\Anaconda3\\envs\\rasterenv\\lib\\site-packages\\pandas\\core\\indexes\\base.py:2825: RuntimeWarning: invalid value encountered in less_equal\n",
      "  indexer = np.where(op(left_distances, right_distances) |\n"
     ]
    },
    {
     "name": "stdout",
     "output_type": "stream",
     "text": [
      "(1501, 1995)\n"
     ]
    },
    {
     "name": "stderr",
     "output_type": "stream",
     "text": [
      "C:\\Users\\steve\\Anaconda3\\envs\\rasterenv\\lib\\site-packages\\ipykernel_launcher.py:14: UserWarning: Tight layout not applied. The left and right margins cannot be made large enough to accommodate all axes decorations. \n",
      "  \n",
      "C:\\Users\\steve\\Anaconda3\\envs\\rasterenv\\lib\\site-packages\\pandas\\core\\indexes\\base.py:2825: RuntimeWarning: invalid value encountered in less\n",
      "  indexer = np.where(op(left_distances, right_distances) |\n",
      "C:\\Users\\steve\\Anaconda3\\envs\\rasterenv\\lib\\site-packages\\pandas\\core\\indexes\\base.py:2825: RuntimeWarning: invalid value encountered in less_equal\n",
      "  indexer = np.where(op(left_distances, right_distances) |\n"
     ]
    },
    {
     "name": "stdout",
     "output_type": "stream",
     "text": [
      "(1501, 1995)\n"
     ]
    },
    {
     "name": "stderr",
     "output_type": "stream",
     "text": [
      "C:\\Users\\steve\\Anaconda3\\envs\\rasterenv\\lib\\site-packages\\ipykernel_launcher.py:14: UserWarning: Tight layout not applied. The left and right margins cannot be made large enough to accommodate all axes decorations. \n",
      "  \n",
      "C:\\Users\\steve\\Anaconda3\\envs\\rasterenv\\lib\\site-packages\\pandas\\core\\indexes\\base.py:2825: RuntimeWarning: invalid value encountered in less\n",
      "  indexer = np.where(op(left_distances, right_distances) |\n",
      "C:\\Users\\steve\\Anaconda3\\envs\\rasterenv\\lib\\site-packages\\pandas\\core\\indexes\\base.py:2825: RuntimeWarning: invalid value encountered in less_equal\n",
      "  indexer = np.where(op(left_distances, right_distances) |\n"
     ]
    },
    {
     "name": "stdout",
     "output_type": "stream",
     "text": [
      "(1501, 1995)\n"
     ]
    },
    {
     "name": "stderr",
     "output_type": "stream",
     "text": [
      "C:\\Users\\steve\\Anaconda3\\envs\\rasterenv\\lib\\site-packages\\ipykernel_launcher.py:14: UserWarning: Tight layout not applied. The left and right margins cannot be made large enough to accommodate all axes decorations. \n",
      "  \n",
      "C:\\Users\\steve\\Anaconda3\\envs\\rasterenv\\lib\\site-packages\\pandas\\core\\indexes\\base.py:2825: RuntimeWarning: invalid value encountered in less\n",
      "  indexer = np.where(op(left_distances, right_distances) |\n",
      "C:\\Users\\steve\\Anaconda3\\envs\\rasterenv\\lib\\site-packages\\pandas\\core\\indexes\\base.py:2825: RuntimeWarning: invalid value encountered in less_equal\n",
      "  indexer = np.where(op(left_distances, right_distances) |\n"
     ]
    },
    {
     "name": "stdout",
     "output_type": "stream",
     "text": [
      "(1501, 1995)\n"
     ]
    },
    {
     "name": "stderr",
     "output_type": "stream",
     "text": [
      "C:\\Users\\steve\\Anaconda3\\envs\\rasterenv\\lib\\site-packages\\ipykernel_launcher.py:14: UserWarning: Tight layout not applied. The left and right margins cannot be made large enough to accommodate all axes decorations. \n",
      "  \n",
      "C:\\Users\\steve\\Anaconda3\\envs\\rasterenv\\lib\\site-packages\\pandas\\core\\indexes\\base.py:2825: RuntimeWarning: invalid value encountered in less\n",
      "  indexer = np.where(op(left_distances, right_distances) |\n",
      "C:\\Users\\steve\\Anaconda3\\envs\\rasterenv\\lib\\site-packages\\pandas\\core\\indexes\\base.py:2825: RuntimeWarning: invalid value encountered in less_equal\n",
      "  indexer = np.where(op(left_distances, right_distances) |\n"
     ]
    },
    {
     "name": "stdout",
     "output_type": "stream",
     "text": [
      "(1501, 1995)\n"
     ]
    },
    {
     "name": "stderr",
     "output_type": "stream",
     "text": [
      "C:\\Users\\steve\\Anaconda3\\envs\\rasterenv\\lib\\site-packages\\ipykernel_launcher.py:14: UserWarning: Tight layout not applied. The left and right margins cannot be made large enough to accommodate all axes decorations. \n",
      "  \n",
      "C:\\Users\\steve\\Anaconda3\\envs\\rasterenv\\lib\\site-packages\\pandas\\core\\indexes\\base.py:2825: RuntimeWarning: invalid value encountered in less\n",
      "  indexer = np.where(op(left_distances, right_distances) |\n",
      "C:\\Users\\steve\\Anaconda3\\envs\\rasterenv\\lib\\site-packages\\pandas\\core\\indexes\\base.py:2825: RuntimeWarning: invalid value encountered in less_equal\n",
      "  indexer = np.where(op(left_distances, right_distances) |\n"
     ]
    },
    {
     "name": "stdout",
     "output_type": "stream",
     "text": [
      "(1501, 1995)\n"
     ]
    },
    {
     "name": "stderr",
     "output_type": "stream",
     "text": [
      "C:\\Users\\steve\\Anaconda3\\envs\\rasterenv\\lib\\site-packages\\ipykernel_launcher.py:14: UserWarning: Tight layout not applied. The left and right margins cannot be made large enough to accommodate all axes decorations. \n",
      "  \n",
      "C:\\Users\\steve\\Anaconda3\\envs\\rasterenv\\lib\\site-packages\\pandas\\core\\indexes\\base.py:2825: RuntimeWarning: invalid value encountered in less\n",
      "  indexer = np.where(op(left_distances, right_distances) |\n",
      "C:\\Users\\steve\\Anaconda3\\envs\\rasterenv\\lib\\site-packages\\pandas\\core\\indexes\\base.py:2825: RuntimeWarning: invalid value encountered in less_equal\n",
      "  indexer = np.where(op(left_distances, right_distances) |\n"
     ]
    },
    {
     "name": "stdout",
     "output_type": "stream",
     "text": [
      "(1501, 1995)\n"
     ]
    },
    {
     "name": "stderr",
     "output_type": "stream",
     "text": [
      "C:\\Users\\steve\\Anaconda3\\envs\\rasterenv\\lib\\site-packages\\ipykernel_launcher.py:14: UserWarning: Tight layout not applied. The left and right margins cannot be made large enough to accommodate all axes decorations. \n",
      "  \n",
      "C:\\Users\\steve\\Anaconda3\\envs\\rasterenv\\lib\\site-packages\\pandas\\core\\indexes\\base.py:2825: RuntimeWarning: invalid value encountered in less\n",
      "  indexer = np.where(op(left_distances, right_distances) |\n",
      "C:\\Users\\steve\\Anaconda3\\envs\\rasterenv\\lib\\site-packages\\pandas\\core\\indexes\\base.py:2825: RuntimeWarning: invalid value encountered in less_equal\n",
      "  indexer = np.where(op(left_distances, right_distances) |\n"
     ]
    },
    {
     "name": "stdout",
     "output_type": "stream",
     "text": [
      "(1501, 1995)\n"
     ]
    },
    {
     "name": "stderr",
     "output_type": "stream",
     "text": [
      "C:\\Users\\steve\\Anaconda3\\envs\\rasterenv\\lib\\site-packages\\ipykernel_launcher.py:14: UserWarning: Tight layout not applied. The left and right margins cannot be made large enough to accommodate all axes decorations. \n",
      "  \n",
      "C:\\Users\\steve\\Anaconda3\\envs\\rasterenv\\lib\\site-packages\\pandas\\core\\indexes\\base.py:2825: RuntimeWarning: invalid value encountered in less\n",
      "  indexer = np.where(op(left_distances, right_distances) |\n",
      "C:\\Users\\steve\\Anaconda3\\envs\\rasterenv\\lib\\site-packages\\pandas\\core\\indexes\\base.py:2825: RuntimeWarning: invalid value encountered in less_equal\n",
      "  indexer = np.where(op(left_distances, right_distances) |\n"
     ]
    },
    {
     "name": "stdout",
     "output_type": "stream",
     "text": [
      "(1501, 1995)\n"
     ]
    },
    {
     "name": "stderr",
     "output_type": "stream",
     "text": [
      "C:\\Users\\steve\\Anaconda3\\envs\\rasterenv\\lib\\site-packages\\ipykernel_launcher.py:14: UserWarning: Tight layout not applied. The left and right margins cannot be made large enough to accommodate all axes decorations. \n",
      "  \n",
      "C:\\Users\\steve\\Anaconda3\\envs\\rasterenv\\lib\\site-packages\\pandas\\core\\indexes\\base.py:2825: RuntimeWarning: invalid value encountered in less\n",
      "  indexer = np.where(op(left_distances, right_distances) |\n",
      "C:\\Users\\steve\\Anaconda3\\envs\\rasterenv\\lib\\site-packages\\pandas\\core\\indexes\\base.py:2825: RuntimeWarning: invalid value encountered in less_equal\n",
      "  indexer = np.where(op(left_distances, right_distances) |\n"
     ]
    },
    {
     "name": "stdout",
     "output_type": "stream",
     "text": [
      "(1501, 1995)\n"
     ]
    },
    {
     "name": "stderr",
     "output_type": "stream",
     "text": [
      "C:\\Users\\steve\\Anaconda3\\envs\\rasterenv\\lib\\site-packages\\ipykernel_launcher.py:14: UserWarning: Tight layout not applied. The left and right margins cannot be made large enough to accommodate all axes decorations. \n",
      "  \n",
      "C:\\Users\\steve\\Anaconda3\\envs\\rasterenv\\lib\\site-packages\\pandas\\core\\indexes\\base.py:2825: RuntimeWarning: invalid value encountered in less\n",
      "  indexer = np.where(op(left_distances, right_distances) |\n",
      "C:\\Users\\steve\\Anaconda3\\envs\\rasterenv\\lib\\site-packages\\pandas\\core\\indexes\\base.py:2825: RuntimeWarning: invalid value encountered in less_equal\n",
      "  indexer = np.where(op(left_distances, right_distances) |\n"
     ]
    },
    {
     "name": "stdout",
     "output_type": "stream",
     "text": [
      "(1501, 1995)\n"
     ]
    },
    {
     "name": "stderr",
     "output_type": "stream",
     "text": [
      "C:\\Users\\steve\\Anaconda3\\envs\\rasterenv\\lib\\site-packages\\ipykernel_launcher.py:14: UserWarning: Tight layout not applied. The left and right margins cannot be made large enough to accommodate all axes decorations. \n",
      "  \n",
      "C:\\Users\\steve\\Anaconda3\\envs\\rasterenv\\lib\\site-packages\\pandas\\core\\indexes\\base.py:2825: RuntimeWarning: invalid value encountered in less\n",
      "  indexer = np.where(op(left_distances, right_distances) |\n",
      "C:\\Users\\steve\\Anaconda3\\envs\\rasterenv\\lib\\site-packages\\pandas\\core\\indexes\\base.py:2825: RuntimeWarning: invalid value encountered in less_equal\n",
      "  indexer = np.where(op(left_distances, right_distances) |\n"
     ]
    },
    {
     "name": "stdout",
     "output_type": "stream",
     "text": [
      "(1501, 1995)\n"
     ]
    },
    {
     "name": "stderr",
     "output_type": "stream",
     "text": [
      "C:\\Users\\steve\\Anaconda3\\envs\\rasterenv\\lib\\site-packages\\ipykernel_launcher.py:14: UserWarning: Tight layout not applied. The left and right margins cannot be made large enough to accommodate all axes decorations. \n",
      "  \n",
      "C:\\Users\\steve\\Anaconda3\\envs\\rasterenv\\lib\\site-packages\\pandas\\core\\indexes\\base.py:2825: RuntimeWarning: invalid value encountered in less\n",
      "  indexer = np.where(op(left_distances, right_distances) |\n",
      "C:\\Users\\steve\\Anaconda3\\envs\\rasterenv\\lib\\site-packages\\pandas\\core\\indexes\\base.py:2825: RuntimeWarning: invalid value encountered in less_equal\n",
      "  indexer = np.where(op(left_distances, right_distances) |\n"
     ]
    },
    {
     "name": "stdout",
     "output_type": "stream",
     "text": [
      "(1501, 1995)\n"
     ]
    },
    {
     "name": "stderr",
     "output_type": "stream",
     "text": [
      "C:\\Users\\steve\\Anaconda3\\envs\\rasterenv\\lib\\site-packages\\ipykernel_launcher.py:14: UserWarning: Tight layout not applied. The left and right margins cannot be made large enough to accommodate all axes decorations. \n",
      "  \n",
      "C:\\Users\\steve\\Anaconda3\\envs\\rasterenv\\lib\\site-packages\\pandas\\core\\indexes\\base.py:2825: RuntimeWarning: invalid value encountered in less\n",
      "  indexer = np.where(op(left_distances, right_distances) |\n",
      "C:\\Users\\steve\\Anaconda3\\envs\\rasterenv\\lib\\site-packages\\pandas\\core\\indexes\\base.py:2825: RuntimeWarning: invalid value encountered in less_equal\n",
      "  indexer = np.where(op(left_distances, right_distances) |\n"
     ]
    },
    {
     "name": "stdout",
     "output_type": "stream",
     "text": [
      "(1501, 1995)\n"
     ]
    },
    {
     "name": "stderr",
     "output_type": "stream",
     "text": [
      "C:\\Users\\steve\\Anaconda3\\envs\\rasterenv\\lib\\site-packages\\ipykernel_launcher.py:14: UserWarning: Tight layout not applied. The left and right margins cannot be made large enough to accommodate all axes decorations. \n",
      "  \n",
      "C:\\Users\\steve\\Anaconda3\\envs\\rasterenv\\lib\\site-packages\\pandas\\core\\indexes\\base.py:2825: RuntimeWarning: invalid value encountered in less\n",
      "  indexer = np.where(op(left_distances, right_distances) |\n",
      "C:\\Users\\steve\\Anaconda3\\envs\\rasterenv\\lib\\site-packages\\pandas\\core\\indexes\\base.py:2825: RuntimeWarning: invalid value encountered in less_equal\n",
      "  indexer = np.where(op(left_distances, right_distances) |\n"
     ]
    },
    {
     "name": "stdout",
     "output_type": "stream",
     "text": [
      "(1501, 1995)\n"
     ]
    },
    {
     "name": "stderr",
     "output_type": "stream",
     "text": [
      "C:\\Users\\steve\\Anaconda3\\envs\\rasterenv\\lib\\site-packages\\ipykernel_launcher.py:14: UserWarning: Tight layout not applied. The left and right margins cannot be made large enough to accommodate all axes decorations. \n",
      "  \n",
      "C:\\Users\\steve\\Anaconda3\\envs\\rasterenv\\lib\\site-packages\\pandas\\core\\indexes\\base.py:2825: RuntimeWarning: invalid value encountered in less\n",
      "  indexer = np.where(op(left_distances, right_distances) |\n",
      "C:\\Users\\steve\\Anaconda3\\envs\\rasterenv\\lib\\site-packages\\pandas\\core\\indexes\\base.py:2825: RuntimeWarning: invalid value encountered in less_equal\n",
      "  indexer = np.where(op(left_distances, right_distances) |\n"
     ]
    },
    {
     "name": "stdout",
     "output_type": "stream",
     "text": [
      "(1501, 1995)\n"
     ]
    },
    {
     "name": "stderr",
     "output_type": "stream",
     "text": [
      "C:\\Users\\steve\\Anaconda3\\envs\\rasterenv\\lib\\site-packages\\ipykernel_launcher.py:14: UserWarning: Tight layout not applied. The left and right margins cannot be made large enough to accommodate all axes decorations. \n",
      "  \n",
      "C:\\Users\\steve\\Anaconda3\\envs\\rasterenv\\lib\\site-packages\\pandas\\core\\indexes\\base.py:2825: RuntimeWarning: invalid value encountered in less\n",
      "  indexer = np.where(op(left_distances, right_distances) |\n",
      "C:\\Users\\steve\\Anaconda3\\envs\\rasterenv\\lib\\site-packages\\pandas\\core\\indexes\\base.py:2825: RuntimeWarning: invalid value encountered in less_equal\n",
      "  indexer = np.where(op(left_distances, right_distances) |\n"
     ]
    },
    {
     "name": "stdout",
     "output_type": "stream",
     "text": [
      "(1501, 1995)\n"
     ]
    },
    {
     "name": "stderr",
     "output_type": "stream",
     "text": [
      "C:\\Users\\steve\\Anaconda3\\envs\\rasterenv\\lib\\site-packages\\ipykernel_launcher.py:14: UserWarning: Tight layout not applied. The left and right margins cannot be made large enough to accommodate all axes decorations. \n",
      "  \n",
      "C:\\Users\\steve\\Anaconda3\\envs\\rasterenv\\lib\\site-packages\\pandas\\core\\indexes\\base.py:2825: RuntimeWarning: invalid value encountered in less\n",
      "  indexer = np.where(op(left_distances, right_distances) |\n",
      "C:\\Users\\steve\\Anaconda3\\envs\\rasterenv\\lib\\site-packages\\pandas\\core\\indexes\\base.py:2825: RuntimeWarning: invalid value encountered in less_equal\n",
      "  indexer = np.where(op(left_distances, right_distances) |\n"
     ]
    },
    {
     "name": "stdout",
     "output_type": "stream",
     "text": [
      "(1501, 1995)\n"
     ]
    },
    {
     "name": "stderr",
     "output_type": "stream",
     "text": [
      "C:\\Users\\steve\\Anaconda3\\envs\\rasterenv\\lib\\site-packages\\ipykernel_launcher.py:14: UserWarning: Tight layout not applied. The left and right margins cannot be made large enough to accommodate all axes decorations. \n",
      "  \n",
      "C:\\Users\\steve\\Anaconda3\\envs\\rasterenv\\lib\\site-packages\\pandas\\core\\indexes\\base.py:2825: RuntimeWarning: invalid value encountered in less\n",
      "  indexer = np.where(op(left_distances, right_distances) |\n",
      "C:\\Users\\steve\\Anaconda3\\envs\\rasterenv\\lib\\site-packages\\pandas\\core\\indexes\\base.py:2825: RuntimeWarning: invalid value encountered in less_equal\n",
      "  indexer = np.where(op(left_distances, right_distances) |\n"
     ]
    },
    {
     "name": "stdout",
     "output_type": "stream",
     "text": [
      "(1501, 1995)\n"
     ]
    },
    {
     "name": "stderr",
     "output_type": "stream",
     "text": [
      "C:\\Users\\steve\\Anaconda3\\envs\\rasterenv\\lib\\site-packages\\ipykernel_launcher.py:14: UserWarning: Tight layout not applied. The left and right margins cannot be made large enough to accommodate all axes decorations. \n",
      "  \n",
      "C:\\Users\\steve\\Anaconda3\\envs\\rasterenv\\lib\\site-packages\\pandas\\core\\indexes\\base.py:2825: RuntimeWarning: invalid value encountered in less\n",
      "  indexer = np.where(op(left_distances, right_distances) |\n",
      "C:\\Users\\steve\\Anaconda3\\envs\\rasterenv\\lib\\site-packages\\pandas\\core\\indexes\\base.py:2825: RuntimeWarning: invalid value encountered in less_equal\n",
      "  indexer = np.where(op(left_distances, right_distances) |\n"
     ]
    },
    {
     "name": "stdout",
     "output_type": "stream",
     "text": [
      "(1501, 1995)\n"
     ]
    },
    {
     "name": "stderr",
     "output_type": "stream",
     "text": [
      "C:\\Users\\steve\\Anaconda3\\envs\\rasterenv\\lib\\site-packages\\ipykernel_launcher.py:14: UserWarning: Tight layout not applied. The left and right margins cannot be made large enough to accommodate all axes decorations. \n",
      "  \n",
      "C:\\Users\\steve\\Anaconda3\\envs\\rasterenv\\lib\\site-packages\\pandas\\core\\indexes\\base.py:2825: RuntimeWarning: invalid value encountered in less\n",
      "  indexer = np.where(op(left_distances, right_distances) |\n",
      "C:\\Users\\steve\\Anaconda3\\envs\\rasterenv\\lib\\site-packages\\pandas\\core\\indexes\\base.py:2825: RuntimeWarning: invalid value encountered in less_equal\n",
      "  indexer = np.where(op(left_distances, right_distances) |\n"
     ]
    },
    {
     "name": "stdout",
     "output_type": "stream",
     "text": [
      "(1501, 1995)\n"
     ]
    },
    {
     "name": "stderr",
     "output_type": "stream",
     "text": [
      "C:\\Users\\steve\\Anaconda3\\envs\\rasterenv\\lib\\site-packages\\ipykernel_launcher.py:14: UserWarning: Tight layout not applied. The left and right margins cannot be made large enough to accommodate all axes decorations. \n",
      "  \n",
      "C:\\Users\\steve\\Anaconda3\\envs\\rasterenv\\lib\\site-packages\\pandas\\core\\indexes\\base.py:2825: RuntimeWarning: invalid value encountered in less\n",
      "  indexer = np.where(op(left_distances, right_distances) |\n",
      "C:\\Users\\steve\\Anaconda3\\envs\\rasterenv\\lib\\site-packages\\pandas\\core\\indexes\\base.py:2825: RuntimeWarning: invalid value encountered in less_equal\n",
      "  indexer = np.where(op(left_distances, right_distances) |\n"
     ]
    },
    {
     "name": "stdout",
     "output_type": "stream",
     "text": [
      "(1501, 1995)\n"
     ]
    },
    {
     "name": "stderr",
     "output_type": "stream",
     "text": [
      "C:\\Users\\steve\\Anaconda3\\envs\\rasterenv\\lib\\site-packages\\ipykernel_launcher.py:14: UserWarning: Tight layout not applied. The left and right margins cannot be made large enough to accommodate all axes decorations. \n",
      "  \n",
      "C:\\Users\\steve\\Anaconda3\\envs\\rasterenv\\lib\\site-packages\\pandas\\core\\indexes\\base.py:2825: RuntimeWarning: invalid value encountered in less\n",
      "  indexer = np.where(op(left_distances, right_distances) |\n",
      "C:\\Users\\steve\\Anaconda3\\envs\\rasterenv\\lib\\site-packages\\pandas\\core\\indexes\\base.py:2825: RuntimeWarning: invalid value encountered in less_equal\n",
      "  indexer = np.where(op(left_distances, right_distances) |\n"
     ]
    },
    {
     "name": "stdout",
     "output_type": "stream",
     "text": [
      "(1501, 1995)\n"
     ]
    },
    {
     "name": "stderr",
     "output_type": "stream",
     "text": [
      "C:\\Users\\steve\\Anaconda3\\envs\\rasterenv\\lib\\site-packages\\ipykernel_launcher.py:14: UserWarning: Tight layout not applied. The left and right margins cannot be made large enough to accommodate all axes decorations. \n",
      "  \n",
      "C:\\Users\\steve\\Anaconda3\\envs\\rasterenv\\lib\\site-packages\\pandas\\core\\indexes\\base.py:2825: RuntimeWarning: invalid value encountered in less\n",
      "  indexer = np.where(op(left_distances, right_distances) |\n",
      "C:\\Users\\steve\\Anaconda3\\envs\\rasterenv\\lib\\site-packages\\pandas\\core\\indexes\\base.py:2825: RuntimeWarning: invalid value encountered in less_equal\n",
      "  indexer = np.where(op(left_distances, right_distances) |\n"
     ]
    },
    {
     "name": "stdout",
     "output_type": "stream",
     "text": [
      "(1501, 1995)\n"
     ]
    },
    {
     "name": "stderr",
     "output_type": "stream",
     "text": [
      "C:\\Users\\steve\\Anaconda3\\envs\\rasterenv\\lib\\site-packages\\ipykernel_launcher.py:14: UserWarning: Tight layout not applied. The left and right margins cannot be made large enough to accommodate all axes decorations. \n",
      "  \n",
      "C:\\Users\\steve\\Anaconda3\\envs\\rasterenv\\lib\\site-packages\\pandas\\core\\indexes\\base.py:2825: RuntimeWarning: invalid value encountered in less\n",
      "  indexer = np.where(op(left_distances, right_distances) |\n",
      "C:\\Users\\steve\\Anaconda3\\envs\\rasterenv\\lib\\site-packages\\pandas\\core\\indexes\\base.py:2825: RuntimeWarning: invalid value encountered in less_equal\n",
      "  indexer = np.where(op(left_distances, right_distances) |\n"
     ]
    },
    {
     "name": "stdout",
     "output_type": "stream",
     "text": [
      "(1501, 1995)\n"
     ]
    },
    {
     "name": "stderr",
     "output_type": "stream",
     "text": [
      "C:\\Users\\steve\\Anaconda3\\envs\\rasterenv\\lib\\site-packages\\ipykernel_launcher.py:14: UserWarning: Tight layout not applied. The left and right margins cannot be made large enough to accommodate all axes decorations. \n",
      "  \n",
      "C:\\Users\\steve\\Anaconda3\\envs\\rasterenv\\lib\\site-packages\\pandas\\core\\indexes\\base.py:2825: RuntimeWarning: invalid value encountered in less\n",
      "  indexer = np.where(op(left_distances, right_distances) |\n",
      "C:\\Users\\steve\\Anaconda3\\envs\\rasterenv\\lib\\site-packages\\pandas\\core\\indexes\\base.py:2825: RuntimeWarning: invalid value encountered in less_equal\n",
      "  indexer = np.where(op(left_distances, right_distances) |\n"
     ]
    },
    {
     "name": "stdout",
     "output_type": "stream",
     "text": [
      "(1501, 1995)\n"
     ]
    },
    {
     "name": "stderr",
     "output_type": "stream",
     "text": [
      "C:\\Users\\steve\\Anaconda3\\envs\\rasterenv\\lib\\site-packages\\ipykernel_launcher.py:14: UserWarning: Tight layout not applied. The left and right margins cannot be made large enough to accommodate all axes decorations. \n",
      "  \n",
      "C:\\Users\\steve\\Anaconda3\\envs\\rasterenv\\lib\\site-packages\\pandas\\core\\indexes\\base.py:2825: RuntimeWarning: invalid value encountered in less\n",
      "  indexer = np.where(op(left_distances, right_distances) |\n",
      "C:\\Users\\steve\\Anaconda3\\envs\\rasterenv\\lib\\site-packages\\pandas\\core\\indexes\\base.py:2825: RuntimeWarning: invalid value encountered in less_equal\n",
      "  indexer = np.where(op(left_distances, right_distances) |\n"
     ]
    },
    {
     "name": "stdout",
     "output_type": "stream",
     "text": [
      "(1501, 1995)\n"
     ]
    },
    {
     "name": "stderr",
     "output_type": "stream",
     "text": [
      "C:\\Users\\steve\\Anaconda3\\envs\\rasterenv\\lib\\site-packages\\ipykernel_launcher.py:14: UserWarning: Tight layout not applied. The left and right margins cannot be made large enough to accommodate all axes decorations. \n",
      "  \n",
      "C:\\Users\\steve\\Anaconda3\\envs\\rasterenv\\lib\\site-packages\\pandas\\core\\indexes\\base.py:2825: RuntimeWarning: invalid value encountered in less\n",
      "  indexer = np.where(op(left_distances, right_distances) |\n",
      "C:\\Users\\steve\\Anaconda3\\envs\\rasterenv\\lib\\site-packages\\pandas\\core\\indexes\\base.py:2825: RuntimeWarning: invalid value encountered in less_equal\n",
      "  indexer = np.where(op(left_distances, right_distances) |\n"
     ]
    },
    {
     "name": "stdout",
     "output_type": "stream",
     "text": [
      "(1501, 1995)\n"
     ]
    },
    {
     "name": "stderr",
     "output_type": "stream",
     "text": [
      "C:\\Users\\steve\\Anaconda3\\envs\\rasterenv\\lib\\site-packages\\ipykernel_launcher.py:14: UserWarning: Tight layout not applied. The left and right margins cannot be made large enough to accommodate all axes decorations. \n",
      "  \n",
      "C:\\Users\\steve\\Anaconda3\\envs\\rasterenv\\lib\\site-packages\\pandas\\core\\indexes\\base.py:2825: RuntimeWarning: invalid value encountered in less\n",
      "  indexer = np.where(op(left_distances, right_distances) |\n",
      "C:\\Users\\steve\\Anaconda3\\envs\\rasterenv\\lib\\site-packages\\pandas\\core\\indexes\\base.py:2825: RuntimeWarning: invalid value encountered in less_equal\n",
      "  indexer = np.where(op(left_distances, right_distances) |\n"
     ]
    },
    {
     "name": "stdout",
     "output_type": "stream",
     "text": [
      "(1501, 1995)\n"
     ]
    },
    {
     "name": "stderr",
     "output_type": "stream",
     "text": [
      "C:\\Users\\steve\\Anaconda3\\envs\\rasterenv\\lib\\site-packages\\ipykernel_launcher.py:14: UserWarning: Tight layout not applied. The left and right margins cannot be made large enough to accommodate all axes decorations. \n",
      "  \n",
      "C:\\Users\\steve\\Anaconda3\\envs\\rasterenv\\lib\\site-packages\\pandas\\core\\indexes\\base.py:2825: RuntimeWarning: invalid value encountered in less\n",
      "  indexer = np.where(op(left_distances, right_distances) |\n",
      "C:\\Users\\steve\\Anaconda3\\envs\\rasterenv\\lib\\site-packages\\pandas\\core\\indexes\\base.py:2825: RuntimeWarning: invalid value encountered in less_equal\n",
      "  indexer = np.where(op(left_distances, right_distances) |\n"
     ]
    },
    {
     "name": "stdout",
     "output_type": "stream",
     "text": [
      "(1501, 1995)\n"
     ]
    },
    {
     "name": "stderr",
     "output_type": "stream",
     "text": [
      "C:\\Users\\steve\\Anaconda3\\envs\\rasterenv\\lib\\site-packages\\ipykernel_launcher.py:14: UserWarning: Tight layout not applied. The left and right margins cannot be made large enough to accommodate all axes decorations. \n",
      "  \n",
      "C:\\Users\\steve\\Anaconda3\\envs\\rasterenv\\lib\\site-packages\\pandas\\core\\indexes\\base.py:2825: RuntimeWarning: invalid value encountered in less\n",
      "  indexer = np.where(op(left_distances, right_distances) |\n",
      "C:\\Users\\steve\\Anaconda3\\envs\\rasterenv\\lib\\site-packages\\pandas\\core\\indexes\\base.py:2825: RuntimeWarning: invalid value encountered in less_equal\n",
      "  indexer = np.where(op(left_distances, right_distances) |\n"
     ]
    },
    {
     "name": "stdout",
     "output_type": "stream",
     "text": [
      "(1501, 1995)\n"
     ]
    },
    {
     "name": "stderr",
     "output_type": "stream",
     "text": [
      "C:\\Users\\steve\\Anaconda3\\envs\\rasterenv\\lib\\site-packages\\ipykernel_launcher.py:14: UserWarning: Tight layout not applied. The left and right margins cannot be made large enough to accommodate all axes decorations. \n",
      "  \n",
      "C:\\Users\\steve\\Anaconda3\\envs\\rasterenv\\lib\\site-packages\\pandas\\core\\indexes\\base.py:2825: RuntimeWarning: invalid value encountered in less\n",
      "  indexer = np.where(op(left_distances, right_distances) |\n",
      "C:\\Users\\steve\\Anaconda3\\envs\\rasterenv\\lib\\site-packages\\pandas\\core\\indexes\\base.py:2825: RuntimeWarning: invalid value encountered in less_equal\n",
      "  indexer = np.where(op(left_distances, right_distances) |\n"
     ]
    },
    {
     "name": "stdout",
     "output_type": "stream",
     "text": [
      "(1501, 1995)\n"
     ]
    },
    {
     "name": "stderr",
     "output_type": "stream",
     "text": [
      "C:\\Users\\steve\\Anaconda3\\envs\\rasterenv\\lib\\site-packages\\ipykernel_launcher.py:14: UserWarning: Tight layout not applied. The left and right margins cannot be made large enough to accommodate all axes decorations. \n",
      "  \n",
      "C:\\Users\\steve\\Anaconda3\\envs\\rasterenv\\lib\\site-packages\\pandas\\core\\indexes\\base.py:2825: RuntimeWarning: invalid value encountered in less\n",
      "  indexer = np.where(op(left_distances, right_distances) |\n",
      "C:\\Users\\steve\\Anaconda3\\envs\\rasterenv\\lib\\site-packages\\pandas\\core\\indexes\\base.py:2825: RuntimeWarning: invalid value encountered in less_equal\n",
      "  indexer = np.where(op(left_distances, right_distances) |\n"
     ]
    },
    {
     "name": "stdout",
     "output_type": "stream",
     "text": [
      "(1501, 1995)\n"
     ]
    },
    {
     "name": "stderr",
     "output_type": "stream",
     "text": [
      "C:\\Users\\steve\\Anaconda3\\envs\\rasterenv\\lib\\site-packages\\ipykernel_launcher.py:14: UserWarning: Tight layout not applied. The left and right margins cannot be made large enough to accommodate all axes decorations. \n",
      "  \n",
      "C:\\Users\\steve\\Anaconda3\\envs\\rasterenv\\lib\\site-packages\\pandas\\core\\indexes\\base.py:2825: RuntimeWarning: invalid value encountered in less\n",
      "  indexer = np.where(op(left_distances, right_distances) |\n",
      "C:\\Users\\steve\\Anaconda3\\envs\\rasterenv\\lib\\site-packages\\pandas\\core\\indexes\\base.py:2825: RuntimeWarning: invalid value encountered in less_equal\n",
      "  indexer = np.where(op(left_distances, right_distances) |\n"
     ]
    },
    {
     "name": "stdout",
     "output_type": "stream",
     "text": [
      "(1501, 1995)\n"
     ]
    },
    {
     "name": "stderr",
     "output_type": "stream",
     "text": [
      "C:\\Users\\steve\\Anaconda3\\envs\\rasterenv\\lib\\site-packages\\ipykernel_launcher.py:14: UserWarning: Tight layout not applied. The left and right margins cannot be made large enough to accommodate all axes decorations. \n",
      "  \n",
      "C:\\Users\\steve\\Anaconda3\\envs\\rasterenv\\lib\\site-packages\\pandas\\core\\indexes\\base.py:2825: RuntimeWarning: invalid value encountered in less\n",
      "  indexer = np.where(op(left_distances, right_distances) |\n",
      "C:\\Users\\steve\\Anaconda3\\envs\\rasterenv\\lib\\site-packages\\pandas\\core\\indexes\\base.py:2825: RuntimeWarning: invalid value encountered in less_equal\n",
      "  indexer = np.where(op(left_distances, right_distances) |\n"
     ]
    },
    {
     "name": "stdout",
     "output_type": "stream",
     "text": [
      "(1501, 1995)\n"
     ]
    },
    {
     "name": "stderr",
     "output_type": "stream",
     "text": [
      "C:\\Users\\steve\\Anaconda3\\envs\\rasterenv\\lib\\site-packages\\ipykernel_launcher.py:14: UserWarning: Tight layout not applied. The left and right margins cannot be made large enough to accommodate all axes decorations. \n",
      "  \n",
      "C:\\Users\\steve\\Anaconda3\\envs\\rasterenv\\lib\\site-packages\\pandas\\core\\indexes\\base.py:2825: RuntimeWarning: invalid value encountered in less\n",
      "  indexer = np.where(op(left_distances, right_distances) |\n",
      "C:\\Users\\steve\\Anaconda3\\envs\\rasterenv\\lib\\site-packages\\pandas\\core\\indexes\\base.py:2825: RuntimeWarning: invalid value encountered in less_equal\n",
      "  indexer = np.where(op(left_distances, right_distances) |\n"
     ]
    },
    {
     "name": "stdout",
     "output_type": "stream",
     "text": [
      "(1501, 1995)\n"
     ]
    },
    {
     "name": "stderr",
     "output_type": "stream",
     "text": [
      "C:\\Users\\steve\\Anaconda3\\envs\\rasterenv\\lib\\site-packages\\ipykernel_launcher.py:14: UserWarning: Tight layout not applied. The left and right margins cannot be made large enough to accommodate all axes decorations. \n",
      "  \n",
      "C:\\Users\\steve\\Anaconda3\\envs\\rasterenv\\lib\\site-packages\\pandas\\core\\indexes\\base.py:2825: RuntimeWarning: invalid value encountered in less\n",
      "  indexer = np.where(op(left_distances, right_distances) |\n",
      "C:\\Users\\steve\\Anaconda3\\envs\\rasterenv\\lib\\site-packages\\pandas\\core\\indexes\\base.py:2825: RuntimeWarning: invalid value encountered in less_equal\n",
      "  indexer = np.where(op(left_distances, right_distances) |\n"
     ]
    },
    {
     "name": "stdout",
     "output_type": "stream",
     "text": [
      "(1501, 1995)\n"
     ]
    },
    {
     "name": "stderr",
     "output_type": "stream",
     "text": [
      "C:\\Users\\steve\\Anaconda3\\envs\\rasterenv\\lib\\site-packages\\ipykernel_launcher.py:14: UserWarning: Tight layout not applied. The left and right margins cannot be made large enough to accommodate all axes decorations. \n",
      "  \n",
      "C:\\Users\\steve\\Anaconda3\\envs\\rasterenv\\lib\\site-packages\\pandas\\core\\indexes\\base.py:2825: RuntimeWarning: invalid value encountered in less\n",
      "  indexer = np.where(op(left_distances, right_distances) |\n",
      "C:\\Users\\steve\\Anaconda3\\envs\\rasterenv\\lib\\site-packages\\pandas\\core\\indexes\\base.py:2825: RuntimeWarning: invalid value encountered in less_equal\n",
      "  indexer = np.where(op(left_distances, right_distances) |\n"
     ]
    },
    {
     "name": "stdout",
     "output_type": "stream",
     "text": [
      "(1501, 1995)\n"
     ]
    },
    {
     "name": "stderr",
     "output_type": "stream",
     "text": [
      "C:\\Users\\steve\\Anaconda3\\envs\\rasterenv\\lib\\site-packages\\ipykernel_launcher.py:14: UserWarning: Tight layout not applied. The left and right margins cannot be made large enough to accommodate all axes decorations. \n",
      "  \n",
      "C:\\Users\\steve\\Anaconda3\\envs\\rasterenv\\lib\\site-packages\\pandas\\core\\indexes\\base.py:2825: RuntimeWarning: invalid value encountered in less\n",
      "  indexer = np.where(op(left_distances, right_distances) |\n",
      "C:\\Users\\steve\\Anaconda3\\envs\\rasterenv\\lib\\site-packages\\pandas\\core\\indexes\\base.py:2825: RuntimeWarning: invalid value encountered in less_equal\n",
      "  indexer = np.where(op(left_distances, right_distances) |\n"
     ]
    },
    {
     "name": "stdout",
     "output_type": "stream",
     "text": [
      "(1501, 1995)\n"
     ]
    },
    {
     "name": "stderr",
     "output_type": "stream",
     "text": [
      "C:\\Users\\steve\\Anaconda3\\envs\\rasterenv\\lib\\site-packages\\ipykernel_launcher.py:14: UserWarning: Tight layout not applied. The left and right margins cannot be made large enough to accommodate all axes decorations. \n",
      "  \n",
      "C:\\Users\\steve\\Anaconda3\\envs\\rasterenv\\lib\\site-packages\\pandas\\core\\indexes\\base.py:2825: RuntimeWarning: invalid value encountered in less\n",
      "  indexer = np.where(op(left_distances, right_distances) |\n",
      "C:\\Users\\steve\\Anaconda3\\envs\\rasterenv\\lib\\site-packages\\pandas\\core\\indexes\\base.py:2825: RuntimeWarning: invalid value encountered in less_equal\n",
      "  indexer = np.where(op(left_distances, right_distances) |\n"
     ]
    },
    {
     "name": "stdout",
     "output_type": "stream",
     "text": [
      "(1501, 1995)\n"
     ]
    },
    {
     "name": "stderr",
     "output_type": "stream",
     "text": [
      "C:\\Users\\steve\\Anaconda3\\envs\\rasterenv\\lib\\site-packages\\ipykernel_launcher.py:14: UserWarning: Tight layout not applied. The left and right margins cannot be made large enough to accommodate all axes decorations. \n",
      "  \n",
      "C:\\Users\\steve\\Anaconda3\\envs\\rasterenv\\lib\\site-packages\\pandas\\core\\indexes\\base.py:2825: RuntimeWarning: invalid value encountered in less\n",
      "  indexer = np.where(op(left_distances, right_distances) |\n",
      "C:\\Users\\steve\\Anaconda3\\envs\\rasterenv\\lib\\site-packages\\pandas\\core\\indexes\\base.py:2825: RuntimeWarning: invalid value encountered in less_equal\n",
      "  indexer = np.where(op(left_distances, right_distances) |\n"
     ]
    },
    {
     "name": "stdout",
     "output_type": "stream",
     "text": [
      "(1501, 1995)\n"
     ]
    },
    {
     "name": "stderr",
     "output_type": "stream",
     "text": [
      "C:\\Users\\steve\\Anaconda3\\envs\\rasterenv\\lib\\site-packages\\ipykernel_launcher.py:14: UserWarning: Tight layout not applied. The left and right margins cannot be made large enough to accommodate all axes decorations. \n",
      "  \n",
      "C:\\Users\\steve\\Anaconda3\\envs\\rasterenv\\lib\\site-packages\\pandas\\core\\indexes\\base.py:2825: RuntimeWarning: invalid value encountered in less\n",
      "  indexer = np.where(op(left_distances, right_distances) |\n",
      "C:\\Users\\steve\\Anaconda3\\envs\\rasterenv\\lib\\site-packages\\pandas\\core\\indexes\\base.py:2825: RuntimeWarning: invalid value encountered in less_equal\n",
      "  indexer = np.where(op(left_distances, right_distances) |\n"
     ]
    },
    {
     "name": "stdout",
     "output_type": "stream",
     "text": [
      "(1501, 1995)\n"
     ]
    },
    {
     "name": "stderr",
     "output_type": "stream",
     "text": [
      "C:\\Users\\steve\\Anaconda3\\envs\\rasterenv\\lib\\site-packages\\ipykernel_launcher.py:14: UserWarning: Tight layout not applied. The left and right margins cannot be made large enough to accommodate all axes decorations. \n",
      "  \n",
      "C:\\Users\\steve\\Anaconda3\\envs\\rasterenv\\lib\\site-packages\\pandas\\core\\indexes\\base.py:2825: RuntimeWarning: invalid value encountered in less\n",
      "  indexer = np.where(op(left_distances, right_distances) |\n",
      "C:\\Users\\steve\\Anaconda3\\envs\\rasterenv\\lib\\site-packages\\pandas\\core\\indexes\\base.py:2825: RuntimeWarning: invalid value encountered in less_equal\n",
      "  indexer = np.where(op(left_distances, right_distances) |\n"
     ]
    },
    {
     "name": "stdout",
     "output_type": "stream",
     "text": [
      "(1501, 1995)\n"
     ]
    },
    {
     "name": "stderr",
     "output_type": "stream",
     "text": [
      "C:\\Users\\steve\\Anaconda3\\envs\\rasterenv\\lib\\site-packages\\ipykernel_launcher.py:14: UserWarning: Tight layout not applied. The left and right margins cannot be made large enough to accommodate all axes decorations. \n",
      "  \n",
      "C:\\Users\\steve\\Anaconda3\\envs\\rasterenv\\lib\\site-packages\\pandas\\core\\indexes\\base.py:2825: RuntimeWarning: invalid value encountered in less\n",
      "  indexer = np.where(op(left_distances, right_distances) |\n",
      "C:\\Users\\steve\\Anaconda3\\envs\\rasterenv\\lib\\site-packages\\pandas\\core\\indexes\\base.py:2825: RuntimeWarning: invalid value encountered in less_equal\n",
      "  indexer = np.where(op(left_distances, right_distances) |\n"
     ]
    },
    {
     "name": "stdout",
     "output_type": "stream",
     "text": [
      "(1501, 1995)\n"
     ]
    },
    {
     "name": "stderr",
     "output_type": "stream",
     "text": [
      "C:\\Users\\steve\\Anaconda3\\envs\\rasterenv\\lib\\site-packages\\ipykernel_launcher.py:14: UserWarning: Tight layout not applied. The left and right margins cannot be made large enough to accommodate all axes decorations. \n",
      "  \n",
      "C:\\Users\\steve\\Anaconda3\\envs\\rasterenv\\lib\\site-packages\\pandas\\core\\indexes\\base.py:2825: RuntimeWarning: invalid value encountered in less\n",
      "  indexer = np.where(op(left_distances, right_distances) |\n",
      "C:\\Users\\steve\\Anaconda3\\envs\\rasterenv\\lib\\site-packages\\pandas\\core\\indexes\\base.py:2825: RuntimeWarning: invalid value encountered in less_equal\n",
      "  indexer = np.where(op(left_distances, right_distances) |\n"
     ]
    },
    {
     "name": "stdout",
     "output_type": "stream",
     "text": [
      "(1501, 1995)\n"
     ]
    },
    {
     "name": "stderr",
     "output_type": "stream",
     "text": [
      "C:\\Users\\steve\\Anaconda3\\envs\\rasterenv\\lib\\site-packages\\ipykernel_launcher.py:14: UserWarning: Tight layout not applied. The left and right margins cannot be made large enough to accommodate all axes decorations. \n",
      "  \n",
      "C:\\Users\\steve\\Anaconda3\\envs\\rasterenv\\lib\\site-packages\\pandas\\core\\indexes\\base.py:2825: RuntimeWarning: invalid value encountered in less\n",
      "  indexer = np.where(op(left_distances, right_distances) |\n",
      "C:\\Users\\steve\\Anaconda3\\envs\\rasterenv\\lib\\site-packages\\pandas\\core\\indexes\\base.py:2825: RuntimeWarning: invalid value encountered in less_equal\n",
      "  indexer = np.where(op(left_distances, right_distances) |\n"
     ]
    },
    {
     "name": "stdout",
     "output_type": "stream",
     "text": [
      "(1501, 1995)\n"
     ]
    },
    {
     "name": "stderr",
     "output_type": "stream",
     "text": [
      "C:\\Users\\steve\\Anaconda3\\envs\\rasterenv\\lib\\site-packages\\ipykernel_launcher.py:14: UserWarning: Tight layout not applied. The left and right margins cannot be made large enough to accommodate all axes decorations. \n",
      "  \n",
      "C:\\Users\\steve\\Anaconda3\\envs\\rasterenv\\lib\\site-packages\\pandas\\core\\indexes\\base.py:2825: RuntimeWarning: invalid value encountered in less\n",
      "  indexer = np.where(op(left_distances, right_distances) |\n",
      "C:\\Users\\steve\\Anaconda3\\envs\\rasterenv\\lib\\site-packages\\pandas\\core\\indexes\\base.py:2825: RuntimeWarning: invalid value encountered in less_equal\n",
      "  indexer = np.where(op(left_distances, right_distances) |\n"
     ]
    },
    {
     "name": "stdout",
     "output_type": "stream",
     "text": [
      "(1501, 1995)\n"
     ]
    },
    {
     "name": "stderr",
     "output_type": "stream",
     "text": [
      "C:\\Users\\steve\\Anaconda3\\envs\\rasterenv\\lib\\site-packages\\ipykernel_launcher.py:14: UserWarning: Tight layout not applied. The left and right margins cannot be made large enough to accommodate all axes decorations. \n",
      "  \n",
      "C:\\Users\\steve\\Anaconda3\\envs\\rasterenv\\lib\\site-packages\\pandas\\core\\indexes\\base.py:2825: RuntimeWarning: invalid value encountered in less\n",
      "  indexer = np.where(op(left_distances, right_distances) |\n",
      "C:\\Users\\steve\\Anaconda3\\envs\\rasterenv\\lib\\site-packages\\pandas\\core\\indexes\\base.py:2825: RuntimeWarning: invalid value encountered in less_equal\n",
      "  indexer = np.where(op(left_distances, right_distances) |\n"
     ]
    },
    {
     "name": "stdout",
     "output_type": "stream",
     "text": [
      "(1501, 1995)\n"
     ]
    },
    {
     "name": "stderr",
     "output_type": "stream",
     "text": [
      "C:\\Users\\steve\\Anaconda3\\envs\\rasterenv\\lib\\site-packages\\ipykernel_launcher.py:14: UserWarning: Tight layout not applied. The left and right margins cannot be made large enough to accommodate all axes decorations. \n",
      "  \n",
      "C:\\Users\\steve\\Anaconda3\\envs\\rasterenv\\lib\\site-packages\\pandas\\core\\indexes\\base.py:2825: RuntimeWarning: invalid value encountered in less\n",
      "  indexer = np.where(op(left_distances, right_distances) |\n",
      "C:\\Users\\steve\\Anaconda3\\envs\\rasterenv\\lib\\site-packages\\pandas\\core\\indexes\\base.py:2825: RuntimeWarning: invalid value encountered in less_equal\n",
      "  indexer = np.where(op(left_distances, right_distances) |\n"
     ]
    },
    {
     "name": "stdout",
     "output_type": "stream",
     "text": [
      "(1501, 1995)\n"
     ]
    },
    {
     "name": "stderr",
     "output_type": "stream",
     "text": [
      "C:\\Users\\steve\\Anaconda3\\envs\\rasterenv\\lib\\site-packages\\ipykernel_launcher.py:14: UserWarning: Tight layout not applied. The left and right margins cannot be made large enough to accommodate all axes decorations. \n",
      "  \n",
      "C:\\Users\\steve\\Anaconda3\\envs\\rasterenv\\lib\\site-packages\\pandas\\core\\indexes\\base.py:2825: RuntimeWarning: invalid value encountered in less\n",
      "  indexer = np.where(op(left_distances, right_distances) |\n",
      "C:\\Users\\steve\\Anaconda3\\envs\\rasterenv\\lib\\site-packages\\pandas\\core\\indexes\\base.py:2825: RuntimeWarning: invalid value encountered in less_equal\n",
      "  indexer = np.where(op(left_distances, right_distances) |\n"
     ]
    },
    {
     "name": "stdout",
     "output_type": "stream",
     "text": [
      "(1501, 1995)\n"
     ]
    },
    {
     "name": "stderr",
     "output_type": "stream",
     "text": [
      "C:\\Users\\steve\\Anaconda3\\envs\\rasterenv\\lib\\site-packages\\ipykernel_launcher.py:14: UserWarning: Tight layout not applied. The left and right margins cannot be made large enough to accommodate all axes decorations. \n",
      "  \n",
      "C:\\Users\\steve\\Anaconda3\\envs\\rasterenv\\lib\\site-packages\\pandas\\core\\indexes\\base.py:2825: RuntimeWarning: invalid value encountered in less\n",
      "  indexer = np.where(op(left_distances, right_distances) |\n",
      "C:\\Users\\steve\\Anaconda3\\envs\\rasterenv\\lib\\site-packages\\pandas\\core\\indexes\\base.py:2825: RuntimeWarning: invalid value encountered in less_equal\n",
      "  indexer = np.where(op(left_distances, right_distances) |\n"
     ]
    },
    {
     "name": "stdout",
     "output_type": "stream",
     "text": [
      "(1501, 1995)\n"
     ]
    },
    {
     "name": "stderr",
     "output_type": "stream",
     "text": [
      "C:\\Users\\steve\\Anaconda3\\envs\\rasterenv\\lib\\site-packages\\ipykernel_launcher.py:14: UserWarning: Tight layout not applied. The left and right margins cannot be made large enough to accommodate all axes decorations. \n",
      "  \n",
      "C:\\Users\\steve\\Anaconda3\\envs\\rasterenv\\lib\\site-packages\\pandas\\core\\indexes\\base.py:2825: RuntimeWarning: invalid value encountered in less\n",
      "  indexer = np.where(op(left_distances, right_distances) |\n",
      "C:\\Users\\steve\\Anaconda3\\envs\\rasterenv\\lib\\site-packages\\pandas\\core\\indexes\\base.py:2825: RuntimeWarning: invalid value encountered in less_equal\n",
      "  indexer = np.where(op(left_distances, right_distances) |\n"
     ]
    },
    {
     "name": "stdout",
     "output_type": "stream",
     "text": [
      "(1501, 1995)\n"
     ]
    },
    {
     "name": "stderr",
     "output_type": "stream",
     "text": [
      "C:\\Users\\steve\\Anaconda3\\envs\\rasterenv\\lib\\site-packages\\ipykernel_launcher.py:14: UserWarning: Tight layout not applied. The left and right margins cannot be made large enough to accommodate all axes decorations. \n",
      "  \n",
      "C:\\Users\\steve\\Anaconda3\\envs\\rasterenv\\lib\\site-packages\\pandas\\core\\indexes\\base.py:2825: RuntimeWarning: invalid value encountered in less\n",
      "  indexer = np.where(op(left_distances, right_distances) |\n",
      "C:\\Users\\steve\\Anaconda3\\envs\\rasterenv\\lib\\site-packages\\pandas\\core\\indexes\\base.py:2825: RuntimeWarning: invalid value encountered in less_equal\n",
      "  indexer = np.where(op(left_distances, right_distances) |\n"
     ]
    },
    {
     "name": "stdout",
     "output_type": "stream",
     "text": [
      "(1501, 1995)\n"
     ]
    },
    {
     "name": "stderr",
     "output_type": "stream",
     "text": [
      "C:\\Users\\steve\\Anaconda3\\envs\\rasterenv\\lib\\site-packages\\ipykernel_launcher.py:14: UserWarning: Tight layout not applied. The left and right margins cannot be made large enough to accommodate all axes decorations. \n",
      "  \n",
      "C:\\Users\\steve\\Anaconda3\\envs\\rasterenv\\lib\\site-packages\\pandas\\core\\indexes\\base.py:2825: RuntimeWarning: invalid value encountered in less\n",
      "  indexer = np.where(op(left_distances, right_distances) |\n",
      "C:\\Users\\steve\\Anaconda3\\envs\\rasterenv\\lib\\site-packages\\pandas\\core\\indexes\\base.py:2825: RuntimeWarning: invalid value encountered in less_equal\n",
      "  indexer = np.where(op(left_distances, right_distances) |\n"
     ]
    },
    {
     "name": "stdout",
     "output_type": "stream",
     "text": [
      "(1501, 1995)\n"
     ]
    },
    {
     "name": "stderr",
     "output_type": "stream",
     "text": [
      "C:\\Users\\steve\\Anaconda3\\envs\\rasterenv\\lib\\site-packages\\ipykernel_launcher.py:14: UserWarning: Tight layout not applied. The left and right margins cannot be made large enough to accommodate all axes decorations. \n",
      "  \n",
      "C:\\Users\\steve\\Anaconda3\\envs\\rasterenv\\lib\\site-packages\\pandas\\core\\indexes\\base.py:2825: RuntimeWarning: invalid value encountered in less\n",
      "  indexer = np.where(op(left_distances, right_distances) |\n",
      "C:\\Users\\steve\\Anaconda3\\envs\\rasterenv\\lib\\site-packages\\pandas\\core\\indexes\\base.py:2825: RuntimeWarning: invalid value encountered in less_equal\n",
      "  indexer = np.where(op(left_distances, right_distances) |\n"
     ]
    },
    {
     "name": "stdout",
     "output_type": "stream",
     "text": [
      "(1501, 1995)\n"
     ]
    },
    {
     "name": "stderr",
     "output_type": "stream",
     "text": [
      "C:\\Users\\steve\\Anaconda3\\envs\\rasterenv\\lib\\site-packages\\ipykernel_launcher.py:14: UserWarning: Tight layout not applied. The left and right margins cannot be made large enough to accommodate all axes decorations. \n",
      "  \n",
      "C:\\Users\\steve\\Anaconda3\\envs\\rasterenv\\lib\\site-packages\\pandas\\core\\indexes\\base.py:2825: RuntimeWarning: invalid value encountered in less\n",
      "  indexer = np.where(op(left_distances, right_distances) |\n",
      "C:\\Users\\steve\\Anaconda3\\envs\\rasterenv\\lib\\site-packages\\pandas\\core\\indexes\\base.py:2825: RuntimeWarning: invalid value encountered in less_equal\n",
      "  indexer = np.where(op(left_distances, right_distances) |\n"
     ]
    },
    {
     "name": "stdout",
     "output_type": "stream",
     "text": [
      "(1501, 1995)\n"
     ]
    },
    {
     "name": "stderr",
     "output_type": "stream",
     "text": [
      "C:\\Users\\steve\\Anaconda3\\envs\\rasterenv\\lib\\site-packages\\ipykernel_launcher.py:14: UserWarning: Tight layout not applied. The left and right margins cannot be made large enough to accommodate all axes decorations. \n",
      "  \n",
      "C:\\Users\\steve\\Anaconda3\\envs\\rasterenv\\lib\\site-packages\\pandas\\core\\indexes\\base.py:2825: RuntimeWarning: invalid value encountered in less\n",
      "  indexer = np.where(op(left_distances, right_distances) |\n",
      "C:\\Users\\steve\\Anaconda3\\envs\\rasterenv\\lib\\site-packages\\pandas\\core\\indexes\\base.py:2825: RuntimeWarning: invalid value encountered in less_equal\n",
      "  indexer = np.where(op(left_distances, right_distances) |\n"
     ]
    },
    {
     "name": "stdout",
     "output_type": "stream",
     "text": [
      "(1501, 1995)\n"
     ]
    },
    {
     "name": "stderr",
     "output_type": "stream",
     "text": [
      "C:\\Users\\steve\\Anaconda3\\envs\\rasterenv\\lib\\site-packages\\ipykernel_launcher.py:14: UserWarning: Tight layout not applied. The left and right margins cannot be made large enough to accommodate all axes decorations. \n",
      "  \n",
      "C:\\Users\\steve\\Anaconda3\\envs\\rasterenv\\lib\\site-packages\\pandas\\core\\indexes\\base.py:2825: RuntimeWarning: invalid value encountered in less\n",
      "  indexer = np.where(op(left_distances, right_distances) |\n",
      "C:\\Users\\steve\\Anaconda3\\envs\\rasterenv\\lib\\site-packages\\pandas\\core\\indexes\\base.py:2825: RuntimeWarning: invalid value encountered in less_equal\n",
      "  indexer = np.where(op(left_distances, right_distances) |\n"
     ]
    },
    {
     "name": "stdout",
     "output_type": "stream",
     "text": [
      "(1501, 1995)\n"
     ]
    },
    {
     "name": "stderr",
     "output_type": "stream",
     "text": [
      "C:\\Users\\steve\\Anaconda3\\envs\\rasterenv\\lib\\site-packages\\ipykernel_launcher.py:14: UserWarning: Tight layout not applied. The left and right margins cannot be made large enough to accommodate all axes decorations. \n",
      "  \n",
      "C:\\Users\\steve\\Anaconda3\\envs\\rasterenv\\lib\\site-packages\\pandas\\core\\indexes\\base.py:2825: RuntimeWarning: invalid value encountered in less\n",
      "  indexer = np.where(op(left_distances, right_distances) |\n",
      "C:\\Users\\steve\\Anaconda3\\envs\\rasterenv\\lib\\site-packages\\pandas\\core\\indexes\\base.py:2825: RuntimeWarning: invalid value encountered in less_equal\n",
      "  indexer = np.where(op(left_distances, right_distances) |\n"
     ]
    },
    {
     "name": "stdout",
     "output_type": "stream",
     "text": [
      "(1501, 1995)\n"
     ]
    },
    {
     "name": "stderr",
     "output_type": "stream",
     "text": [
      "C:\\Users\\steve\\Anaconda3\\envs\\rasterenv\\lib\\site-packages\\ipykernel_launcher.py:14: UserWarning: Tight layout not applied. The left and right margins cannot be made large enough to accommodate all axes decorations. \n",
      "  \n",
      "C:\\Users\\steve\\Anaconda3\\envs\\rasterenv\\lib\\site-packages\\pandas\\core\\indexes\\base.py:2825: RuntimeWarning: invalid value encountered in less\n",
      "  indexer = np.where(op(left_distances, right_distances) |\n",
      "C:\\Users\\steve\\Anaconda3\\envs\\rasterenv\\lib\\site-packages\\pandas\\core\\indexes\\base.py:2825: RuntimeWarning: invalid value encountered in less_equal\n",
      "  indexer = np.where(op(left_distances, right_distances) |\n"
     ]
    },
    {
     "name": "stdout",
     "output_type": "stream",
     "text": [
      "(1501, 1995)\n"
     ]
    },
    {
     "name": "stderr",
     "output_type": "stream",
     "text": [
      "C:\\Users\\steve\\Anaconda3\\envs\\rasterenv\\lib\\site-packages\\ipykernel_launcher.py:14: UserWarning: Tight layout not applied. The left and right margins cannot be made large enough to accommodate all axes decorations. \n",
      "  \n",
      "C:\\Users\\steve\\Anaconda3\\envs\\rasterenv\\lib\\site-packages\\pandas\\core\\indexes\\base.py:2825: RuntimeWarning: invalid value encountered in less\n",
      "  indexer = np.where(op(left_distances, right_distances) |\n",
      "C:\\Users\\steve\\Anaconda3\\envs\\rasterenv\\lib\\site-packages\\pandas\\core\\indexes\\base.py:2825: RuntimeWarning: invalid value encountered in less_equal\n",
      "  indexer = np.where(op(left_distances, right_distances) |\n"
     ]
    },
    {
     "name": "stdout",
     "output_type": "stream",
     "text": [
      "(1501, 1995)\n"
     ]
    },
    {
     "name": "stderr",
     "output_type": "stream",
     "text": [
      "C:\\Users\\steve\\Anaconda3\\envs\\rasterenv\\lib\\site-packages\\ipykernel_launcher.py:14: UserWarning: Tight layout not applied. The left and right margins cannot be made large enough to accommodate all axes decorations. \n",
      "  \n",
      "C:\\Users\\steve\\Anaconda3\\envs\\rasterenv\\lib\\site-packages\\pandas\\core\\indexes\\base.py:2825: RuntimeWarning: invalid value encountered in less\n",
      "  indexer = np.where(op(left_distances, right_distances) |\n",
      "C:\\Users\\steve\\Anaconda3\\envs\\rasterenv\\lib\\site-packages\\pandas\\core\\indexes\\base.py:2825: RuntimeWarning: invalid value encountered in less_equal\n",
      "  indexer = np.where(op(left_distances, right_distances) |\n"
     ]
    },
    {
     "name": "stdout",
     "output_type": "stream",
     "text": [
      "(1501, 1995)\n"
     ]
    },
    {
     "name": "stderr",
     "output_type": "stream",
     "text": [
      "C:\\Users\\steve\\Anaconda3\\envs\\rasterenv\\lib\\site-packages\\ipykernel_launcher.py:14: UserWarning: Tight layout not applied. The left and right margins cannot be made large enough to accommodate all axes decorations. \n",
      "  \n",
      "C:\\Users\\steve\\Anaconda3\\envs\\rasterenv\\lib\\site-packages\\pandas\\core\\indexes\\base.py:2825: RuntimeWarning: invalid value encountered in less\n",
      "  indexer = np.where(op(left_distances, right_distances) |\n",
      "C:\\Users\\steve\\Anaconda3\\envs\\rasterenv\\lib\\site-packages\\pandas\\core\\indexes\\base.py:2825: RuntimeWarning: invalid value encountered in less_equal\n",
      "  indexer = np.where(op(left_distances, right_distances) |\n"
     ]
    },
    {
     "name": "stdout",
     "output_type": "stream",
     "text": [
      "(1501, 1995)\n"
     ]
    },
    {
     "name": "stderr",
     "output_type": "stream",
     "text": [
      "C:\\Users\\steve\\Anaconda3\\envs\\rasterenv\\lib\\site-packages\\ipykernel_launcher.py:14: UserWarning: Tight layout not applied. The left and right margins cannot be made large enough to accommodate all axes decorations. \n",
      "  \n",
      "C:\\Users\\steve\\Anaconda3\\envs\\rasterenv\\lib\\site-packages\\pandas\\core\\indexes\\base.py:2825: RuntimeWarning: invalid value encountered in less\n",
      "  indexer = np.where(op(left_distances, right_distances) |\n",
      "C:\\Users\\steve\\Anaconda3\\envs\\rasterenv\\lib\\site-packages\\pandas\\core\\indexes\\base.py:2825: RuntimeWarning: invalid value encountered in less_equal\n",
      "  indexer = np.where(op(left_distances, right_distances) |\n"
     ]
    },
    {
     "name": "stdout",
     "output_type": "stream",
     "text": [
      "(1501, 1995)\n"
     ]
    },
    {
     "name": "stderr",
     "output_type": "stream",
     "text": [
      "C:\\Users\\steve\\Anaconda3\\envs\\rasterenv\\lib\\site-packages\\ipykernel_launcher.py:14: UserWarning: Tight layout not applied. The left and right margins cannot be made large enough to accommodate all axes decorations. \n",
      "  \n",
      "C:\\Users\\steve\\Anaconda3\\envs\\rasterenv\\lib\\site-packages\\pandas\\core\\indexes\\base.py:2825: RuntimeWarning: invalid value encountered in less\n",
      "  indexer = np.where(op(left_distances, right_distances) |\n",
      "C:\\Users\\steve\\Anaconda3\\envs\\rasterenv\\lib\\site-packages\\pandas\\core\\indexes\\base.py:2825: RuntimeWarning: invalid value encountered in less_equal\n",
      "  indexer = np.where(op(left_distances, right_distances) |\n"
     ]
    },
    {
     "name": "stdout",
     "output_type": "stream",
     "text": [
      "(1501, 1995)\n"
     ]
    },
    {
     "name": "stderr",
     "output_type": "stream",
     "text": [
      "C:\\Users\\steve\\Anaconda3\\envs\\rasterenv\\lib\\site-packages\\ipykernel_launcher.py:14: UserWarning: Tight layout not applied. The left and right margins cannot be made large enough to accommodate all axes decorations. \n",
      "  \n",
      "C:\\Users\\steve\\Anaconda3\\envs\\rasterenv\\lib\\site-packages\\pandas\\core\\indexes\\base.py:2825: RuntimeWarning: invalid value encountered in less\n",
      "  indexer = np.where(op(left_distances, right_distances) |\n",
      "C:\\Users\\steve\\Anaconda3\\envs\\rasterenv\\lib\\site-packages\\pandas\\core\\indexes\\base.py:2825: RuntimeWarning: invalid value encountered in less_equal\n",
      "  indexer = np.where(op(left_distances, right_distances) |\n"
     ]
    },
    {
     "name": "stdout",
     "output_type": "stream",
     "text": [
      "(1501, 1995)\n"
     ]
    },
    {
     "name": "stderr",
     "output_type": "stream",
     "text": [
      "C:\\Users\\steve\\Anaconda3\\envs\\rasterenv\\lib\\site-packages\\ipykernel_launcher.py:14: UserWarning: Tight layout not applied. The left and right margins cannot be made large enough to accommodate all axes decorations. \n",
      "  \n",
      "C:\\Users\\steve\\Anaconda3\\envs\\rasterenv\\lib\\site-packages\\pandas\\core\\indexes\\base.py:2825: RuntimeWarning: invalid value encountered in less\n",
      "  indexer = np.where(op(left_distances, right_distances) |\n",
      "C:\\Users\\steve\\Anaconda3\\envs\\rasterenv\\lib\\site-packages\\pandas\\core\\indexes\\base.py:2825: RuntimeWarning: invalid value encountered in less_equal\n",
      "  indexer = np.where(op(left_distances, right_distances) |\n"
     ]
    },
    {
     "name": "stdout",
     "output_type": "stream",
     "text": [
      "(1501, 1995)\n"
     ]
    },
    {
     "name": "stderr",
     "output_type": "stream",
     "text": [
      "C:\\Users\\steve\\Anaconda3\\envs\\rasterenv\\lib\\site-packages\\ipykernel_launcher.py:14: UserWarning: Tight layout not applied. The left and right margins cannot be made large enough to accommodate all axes decorations. \n",
      "  \n",
      "C:\\Users\\steve\\Anaconda3\\envs\\rasterenv\\lib\\site-packages\\pandas\\core\\indexes\\base.py:2825: RuntimeWarning: invalid value encountered in less\n",
      "  indexer = np.where(op(left_distances, right_distances) |\n",
      "C:\\Users\\steve\\Anaconda3\\envs\\rasterenv\\lib\\site-packages\\pandas\\core\\indexes\\base.py:2825: RuntimeWarning: invalid value encountered in less_equal\n",
      "  indexer = np.where(op(left_distances, right_distances) |\n"
     ]
    },
    {
     "name": "stdout",
     "output_type": "stream",
     "text": [
      "(1501, 1995)\n"
     ]
    },
    {
     "name": "stderr",
     "output_type": "stream",
     "text": [
      "C:\\Users\\steve\\Anaconda3\\envs\\rasterenv\\lib\\site-packages\\ipykernel_launcher.py:14: UserWarning: Tight layout not applied. The left and right margins cannot be made large enough to accommodate all axes decorations. \n",
      "  \n",
      "C:\\Users\\steve\\Anaconda3\\envs\\rasterenv\\lib\\site-packages\\pandas\\core\\indexes\\base.py:2825: RuntimeWarning: invalid value encountered in less\n",
      "  indexer = np.where(op(left_distances, right_distances) |\n",
      "C:\\Users\\steve\\Anaconda3\\envs\\rasterenv\\lib\\site-packages\\pandas\\core\\indexes\\base.py:2825: RuntimeWarning: invalid value encountered in less_equal\n",
      "  indexer = np.where(op(left_distances, right_distances) |\n"
     ]
    },
    {
     "name": "stdout",
     "output_type": "stream",
     "text": [
      "(1501, 1995)\n"
     ]
    },
    {
     "name": "stderr",
     "output_type": "stream",
     "text": [
      "C:\\Users\\steve\\Anaconda3\\envs\\rasterenv\\lib\\site-packages\\ipykernel_launcher.py:14: UserWarning: Tight layout not applied. The left and right margins cannot be made large enough to accommodate all axes decorations. \n",
      "  \n",
      "C:\\Users\\steve\\Anaconda3\\envs\\rasterenv\\lib\\site-packages\\pandas\\core\\indexes\\base.py:2825: RuntimeWarning: invalid value encountered in less\n",
      "  indexer = np.where(op(left_distances, right_distances) |\n",
      "C:\\Users\\steve\\Anaconda3\\envs\\rasterenv\\lib\\site-packages\\pandas\\core\\indexes\\base.py:2825: RuntimeWarning: invalid value encountered in less_equal\n",
      "  indexer = np.where(op(left_distances, right_distances) |\n"
     ]
    },
    {
     "name": "stdout",
     "output_type": "stream",
     "text": [
      "(1501, 1995)\n"
     ]
    },
    {
     "name": "stderr",
     "output_type": "stream",
     "text": [
      "C:\\Users\\steve\\Anaconda3\\envs\\rasterenv\\lib\\site-packages\\ipykernel_launcher.py:14: UserWarning: Tight layout not applied. The left and right margins cannot be made large enough to accommodate all axes decorations. \n",
      "  \n",
      "C:\\Users\\steve\\Anaconda3\\envs\\rasterenv\\lib\\site-packages\\pandas\\core\\indexes\\base.py:2825: RuntimeWarning: invalid value encountered in less\n",
      "  indexer = np.where(op(left_distances, right_distances) |\n",
      "C:\\Users\\steve\\Anaconda3\\envs\\rasterenv\\lib\\site-packages\\pandas\\core\\indexes\\base.py:2825: RuntimeWarning: invalid value encountered in less_equal\n",
      "  indexer = np.where(op(left_distances, right_distances) |\n"
     ]
    },
    {
     "name": "stdout",
     "output_type": "stream",
     "text": [
      "(1501, 1995)\n"
     ]
    },
    {
     "name": "stderr",
     "output_type": "stream",
     "text": [
      "C:\\Users\\steve\\Anaconda3\\envs\\rasterenv\\lib\\site-packages\\ipykernel_launcher.py:14: UserWarning: Tight layout not applied. The left and right margins cannot be made large enough to accommodate all axes decorations. \n",
      "  \n",
      "C:\\Users\\steve\\Anaconda3\\envs\\rasterenv\\lib\\site-packages\\pandas\\core\\indexes\\base.py:2825: RuntimeWarning: invalid value encountered in less\n",
      "  indexer = np.where(op(left_distances, right_distances) |\n",
      "C:\\Users\\steve\\Anaconda3\\envs\\rasterenv\\lib\\site-packages\\pandas\\core\\indexes\\base.py:2825: RuntimeWarning: invalid value encountered in less_equal\n",
      "  indexer = np.where(op(left_distances, right_distances) |\n"
     ]
    },
    {
     "name": "stdout",
     "output_type": "stream",
     "text": [
      "(1501, 1995)\n"
     ]
    },
    {
     "name": "stderr",
     "output_type": "stream",
     "text": [
      "C:\\Users\\steve\\Anaconda3\\envs\\rasterenv\\lib\\site-packages\\ipykernel_launcher.py:14: UserWarning: Tight layout not applied. The left and right margins cannot be made large enough to accommodate all axes decorations. \n",
      "  \n",
      "C:\\Users\\steve\\Anaconda3\\envs\\rasterenv\\lib\\site-packages\\pandas\\core\\indexes\\base.py:2825: RuntimeWarning: invalid value encountered in less\n",
      "  indexer = np.where(op(left_distances, right_distances) |\n",
      "C:\\Users\\steve\\Anaconda3\\envs\\rasterenv\\lib\\site-packages\\pandas\\core\\indexes\\base.py:2825: RuntimeWarning: invalid value encountered in less_equal\n",
      "  indexer = np.where(op(left_distances, right_distances) |\n"
     ]
    },
    {
     "name": "stdout",
     "output_type": "stream",
     "text": [
      "(1501, 1995)\n"
     ]
    },
    {
     "name": "stderr",
     "output_type": "stream",
     "text": [
      "C:\\Users\\steve\\Anaconda3\\envs\\rasterenv\\lib\\site-packages\\ipykernel_launcher.py:14: UserWarning: Tight layout not applied. The left and right margins cannot be made large enough to accommodate all axes decorations. \n",
      "  \n",
      "C:\\Users\\steve\\Anaconda3\\envs\\rasterenv\\lib\\site-packages\\pandas\\core\\indexes\\base.py:2825: RuntimeWarning: invalid value encountered in less\n",
      "  indexer = np.where(op(left_distances, right_distances) |\n",
      "C:\\Users\\steve\\Anaconda3\\envs\\rasterenv\\lib\\site-packages\\pandas\\core\\indexes\\base.py:2825: RuntimeWarning: invalid value encountered in less_equal\n",
      "  indexer = np.where(op(left_distances, right_distances) |\n"
     ]
    },
    {
     "name": "stdout",
     "output_type": "stream",
     "text": [
      "(1501, 1995)\n"
     ]
    },
    {
     "name": "stderr",
     "output_type": "stream",
     "text": [
      "C:\\Users\\steve\\Anaconda3\\envs\\rasterenv\\lib\\site-packages\\ipykernel_launcher.py:14: UserWarning: Tight layout not applied. The left and right margins cannot be made large enough to accommodate all axes decorations. \n",
      "  \n",
      "C:\\Users\\steve\\Anaconda3\\envs\\rasterenv\\lib\\site-packages\\pandas\\core\\indexes\\base.py:2825: RuntimeWarning: invalid value encountered in less\n",
      "  indexer = np.where(op(left_distances, right_distances) |\n",
      "C:\\Users\\steve\\Anaconda3\\envs\\rasterenv\\lib\\site-packages\\pandas\\core\\indexes\\base.py:2825: RuntimeWarning: invalid value encountered in less_equal\n",
      "  indexer = np.where(op(left_distances, right_distances) |\n"
     ]
    },
    {
     "name": "stdout",
     "output_type": "stream",
     "text": [
      "(1501, 1995)\n"
     ]
    },
    {
     "name": "stderr",
     "output_type": "stream",
     "text": [
      "C:\\Users\\steve\\Anaconda3\\envs\\rasterenv\\lib\\site-packages\\ipykernel_launcher.py:14: UserWarning: Tight layout not applied. The left and right margins cannot be made large enough to accommodate all axes decorations. \n",
      "  \n",
      "C:\\Users\\steve\\Anaconda3\\envs\\rasterenv\\lib\\site-packages\\pandas\\core\\indexes\\base.py:2825: RuntimeWarning: invalid value encountered in less\n",
      "  indexer = np.where(op(left_distances, right_distances) |\n",
      "C:\\Users\\steve\\Anaconda3\\envs\\rasterenv\\lib\\site-packages\\pandas\\core\\indexes\\base.py:2825: RuntimeWarning: invalid value encountered in less_equal\n",
      "  indexer = np.where(op(left_distances, right_distances) |\n"
     ]
    },
    {
     "name": "stdout",
     "output_type": "stream",
     "text": [
      "(1501, 1995)\n"
     ]
    },
    {
     "name": "stderr",
     "output_type": "stream",
     "text": [
      "C:\\Users\\steve\\Anaconda3\\envs\\rasterenv\\lib\\site-packages\\ipykernel_launcher.py:14: UserWarning: Tight layout not applied. The left and right margins cannot be made large enough to accommodate all axes decorations. \n",
      "  \n",
      "C:\\Users\\steve\\Anaconda3\\envs\\rasterenv\\lib\\site-packages\\pandas\\core\\indexes\\base.py:2825: RuntimeWarning: invalid value encountered in less\n",
      "  indexer = np.where(op(left_distances, right_distances) |\n",
      "C:\\Users\\steve\\Anaconda3\\envs\\rasterenv\\lib\\site-packages\\pandas\\core\\indexes\\base.py:2825: RuntimeWarning: invalid value encountered in less_equal\n",
      "  indexer = np.where(op(left_distances, right_distances) |\n"
     ]
    },
    {
     "name": "stdout",
     "output_type": "stream",
     "text": [
      "(1501, 1995)\n"
     ]
    },
    {
     "name": "stderr",
     "output_type": "stream",
     "text": [
      "C:\\Users\\steve\\Anaconda3\\envs\\rasterenv\\lib\\site-packages\\ipykernel_launcher.py:14: UserWarning: Tight layout not applied. The left and right margins cannot be made large enough to accommodate all axes decorations. \n",
      "  \n",
      "C:\\Users\\steve\\Anaconda3\\envs\\rasterenv\\lib\\site-packages\\pandas\\core\\indexes\\base.py:2825: RuntimeWarning: invalid value encountered in less\n",
      "  indexer = np.where(op(left_distances, right_distances) |\n",
      "C:\\Users\\steve\\Anaconda3\\envs\\rasterenv\\lib\\site-packages\\pandas\\core\\indexes\\base.py:2825: RuntimeWarning: invalid value encountered in less_equal\n",
      "  indexer = np.where(op(left_distances, right_distances) |\n"
     ]
    },
    {
     "name": "stdout",
     "output_type": "stream",
     "text": [
      "(1501, 1995)\n"
     ]
    },
    {
     "name": "stderr",
     "output_type": "stream",
     "text": [
      "C:\\Users\\steve\\Anaconda3\\envs\\rasterenv\\lib\\site-packages\\ipykernel_launcher.py:14: UserWarning: Tight layout not applied. The left and right margins cannot be made large enough to accommodate all axes decorations. \n",
      "  \n",
      "C:\\Users\\steve\\Anaconda3\\envs\\rasterenv\\lib\\site-packages\\pandas\\core\\indexes\\base.py:2825: RuntimeWarning: invalid value encountered in less\n",
      "  indexer = np.where(op(left_distances, right_distances) |\n",
      "C:\\Users\\steve\\Anaconda3\\envs\\rasterenv\\lib\\site-packages\\pandas\\core\\indexes\\base.py:2825: RuntimeWarning: invalid value encountered in less_equal\n",
      "  indexer = np.where(op(left_distances, right_distances) |\n"
     ]
    },
    {
     "name": "stdout",
     "output_type": "stream",
     "text": [
      "(1501, 1995)\n"
     ]
    },
    {
     "name": "stderr",
     "output_type": "stream",
     "text": [
      "C:\\Users\\steve\\Anaconda3\\envs\\rasterenv\\lib\\site-packages\\ipykernel_launcher.py:14: UserWarning: Tight layout not applied. The left and right margins cannot be made large enough to accommodate all axes decorations. \n",
      "  \n",
      "C:\\Users\\steve\\Anaconda3\\envs\\rasterenv\\lib\\site-packages\\pandas\\core\\indexes\\base.py:2825: RuntimeWarning: invalid value encountered in less\n",
      "  indexer = np.where(op(left_distances, right_distances) |\n",
      "C:\\Users\\steve\\Anaconda3\\envs\\rasterenv\\lib\\site-packages\\pandas\\core\\indexes\\base.py:2825: RuntimeWarning: invalid value encountered in less_equal\n",
      "  indexer = np.where(op(left_distances, right_distances) |\n"
     ]
    },
    {
     "name": "stdout",
     "output_type": "stream",
     "text": [
      "(1501, 1995)\n"
     ]
    },
    {
     "name": "stderr",
     "output_type": "stream",
     "text": [
      "C:\\Users\\steve\\Anaconda3\\envs\\rasterenv\\lib\\site-packages\\ipykernel_launcher.py:14: UserWarning: Tight layout not applied. The left and right margins cannot be made large enough to accommodate all axes decorations. \n",
      "  \n",
      "C:\\Users\\steve\\Anaconda3\\envs\\rasterenv\\lib\\site-packages\\pandas\\core\\indexes\\base.py:2825: RuntimeWarning: invalid value encountered in less\n",
      "  indexer = np.where(op(left_distances, right_distances) |\n",
      "C:\\Users\\steve\\Anaconda3\\envs\\rasterenv\\lib\\site-packages\\pandas\\core\\indexes\\base.py:2825: RuntimeWarning: invalid value encountered in less_equal\n",
      "  indexer = np.where(op(left_distances, right_distances) |\n"
     ]
    },
    {
     "name": "stdout",
     "output_type": "stream",
     "text": [
      "(1501, 1995)\n"
     ]
    },
    {
     "name": "stderr",
     "output_type": "stream",
     "text": [
      "C:\\Users\\steve\\Anaconda3\\envs\\rasterenv\\lib\\site-packages\\ipykernel_launcher.py:14: UserWarning: Tight layout not applied. The left and right margins cannot be made large enough to accommodate all axes decorations. \n",
      "  \n",
      "C:\\Users\\steve\\Anaconda3\\envs\\rasterenv\\lib\\site-packages\\pandas\\core\\indexes\\base.py:2825: RuntimeWarning: invalid value encountered in less\n",
      "  indexer = np.where(op(left_distances, right_distances) |\n",
      "C:\\Users\\steve\\Anaconda3\\envs\\rasterenv\\lib\\site-packages\\pandas\\core\\indexes\\base.py:2825: RuntimeWarning: invalid value encountered in less_equal\n",
      "  indexer = np.where(op(left_distances, right_distances) |\n"
     ]
    },
    {
     "name": "stdout",
     "output_type": "stream",
     "text": [
      "(1501, 1995)\n"
     ]
    },
    {
     "name": "stderr",
     "output_type": "stream",
     "text": [
      "C:\\Users\\steve\\Anaconda3\\envs\\rasterenv\\lib\\site-packages\\ipykernel_launcher.py:14: UserWarning: Tight layout not applied. The left and right margins cannot be made large enough to accommodate all axes decorations. \n",
      "  \n",
      "C:\\Users\\steve\\Anaconda3\\envs\\rasterenv\\lib\\site-packages\\pandas\\core\\indexes\\base.py:2825: RuntimeWarning: invalid value encountered in less\n",
      "  indexer = np.where(op(left_distances, right_distances) |\n",
      "C:\\Users\\steve\\Anaconda3\\envs\\rasterenv\\lib\\site-packages\\pandas\\core\\indexes\\base.py:2825: RuntimeWarning: invalid value encountered in less_equal\n",
      "  indexer = np.where(op(left_distances, right_distances) |\n"
     ]
    },
    {
     "name": "stdout",
     "output_type": "stream",
     "text": [
      "(1501, 1995)\n"
     ]
    },
    {
     "name": "stderr",
     "output_type": "stream",
     "text": [
      "C:\\Users\\steve\\Anaconda3\\envs\\rasterenv\\lib\\site-packages\\ipykernel_launcher.py:14: UserWarning: Tight layout not applied. The left and right margins cannot be made large enough to accommodate all axes decorations. \n",
      "  \n",
      "C:\\Users\\steve\\Anaconda3\\envs\\rasterenv\\lib\\site-packages\\pandas\\core\\indexes\\base.py:2825: RuntimeWarning: invalid value encountered in less\n",
      "  indexer = np.where(op(left_distances, right_distances) |\n",
      "C:\\Users\\steve\\Anaconda3\\envs\\rasterenv\\lib\\site-packages\\pandas\\core\\indexes\\base.py:2825: RuntimeWarning: invalid value encountered in less_equal\n",
      "  indexer = np.where(op(left_distances, right_distances) |\n"
     ]
    },
    {
     "name": "stdout",
     "output_type": "stream",
     "text": [
      "(1501, 1995)\n"
     ]
    },
    {
     "name": "stderr",
     "output_type": "stream",
     "text": [
      "C:\\Users\\steve\\Anaconda3\\envs\\rasterenv\\lib\\site-packages\\ipykernel_launcher.py:14: UserWarning: Tight layout not applied. The left and right margins cannot be made large enough to accommodate all axes decorations. \n",
      "  \n",
      "C:\\Users\\steve\\Anaconda3\\envs\\rasterenv\\lib\\site-packages\\pandas\\core\\indexes\\base.py:2825: RuntimeWarning: invalid value encountered in less\n",
      "  indexer = np.where(op(left_distances, right_distances) |\n",
      "C:\\Users\\steve\\Anaconda3\\envs\\rasterenv\\lib\\site-packages\\pandas\\core\\indexes\\base.py:2825: RuntimeWarning: invalid value encountered in less_equal\n",
      "  indexer = np.where(op(left_distances, right_distances) |\n"
     ]
    },
    {
     "name": "stdout",
     "output_type": "stream",
     "text": [
      "(1501, 1995)\n"
     ]
    },
    {
     "name": "stderr",
     "output_type": "stream",
     "text": [
      "C:\\Users\\steve\\Anaconda3\\envs\\rasterenv\\lib\\site-packages\\ipykernel_launcher.py:14: UserWarning: Tight layout not applied. The left and right margins cannot be made large enough to accommodate all axes decorations. \n",
      "  \n",
      "C:\\Users\\steve\\Anaconda3\\envs\\rasterenv\\lib\\site-packages\\pandas\\core\\indexes\\base.py:2825: RuntimeWarning: invalid value encountered in less\n",
      "  indexer = np.where(op(left_distances, right_distances) |\n",
      "C:\\Users\\steve\\Anaconda3\\envs\\rasterenv\\lib\\site-packages\\pandas\\core\\indexes\\base.py:2825: RuntimeWarning: invalid value encountered in less_equal\n",
      "  indexer = np.where(op(left_distances, right_distances) |\n"
     ]
    },
    {
     "name": "stdout",
     "output_type": "stream",
     "text": [
      "(1501, 1995)\n"
     ]
    },
    {
     "name": "stderr",
     "output_type": "stream",
     "text": [
      "C:\\Users\\steve\\Anaconda3\\envs\\rasterenv\\lib\\site-packages\\ipykernel_launcher.py:14: UserWarning: Tight layout not applied. The left and right margins cannot be made large enough to accommodate all axes decorations. \n",
      "  \n",
      "C:\\Users\\steve\\Anaconda3\\envs\\rasterenv\\lib\\site-packages\\pandas\\core\\indexes\\base.py:2825: RuntimeWarning: invalid value encountered in less\n",
      "  indexer = np.where(op(left_distances, right_distances) |\n",
      "C:\\Users\\steve\\Anaconda3\\envs\\rasterenv\\lib\\site-packages\\pandas\\core\\indexes\\base.py:2825: RuntimeWarning: invalid value encountered in less_equal\n",
      "  indexer = np.where(op(left_distances, right_distances) |\n"
     ]
    },
    {
     "name": "stdout",
     "output_type": "stream",
     "text": [
      "(1501, 1995)\n"
     ]
    },
    {
     "name": "stderr",
     "output_type": "stream",
     "text": [
      "C:\\Users\\steve\\Anaconda3\\envs\\rasterenv\\lib\\site-packages\\ipykernel_launcher.py:14: UserWarning: Tight layout not applied. The left and right margins cannot be made large enough to accommodate all axes decorations. \n",
      "  \n",
      "C:\\Users\\steve\\Anaconda3\\envs\\rasterenv\\lib\\site-packages\\pandas\\core\\indexes\\base.py:2825: RuntimeWarning: invalid value encountered in less\n",
      "  indexer = np.where(op(left_distances, right_distances) |\n",
      "C:\\Users\\steve\\Anaconda3\\envs\\rasterenv\\lib\\site-packages\\pandas\\core\\indexes\\base.py:2825: RuntimeWarning: invalid value encountered in less_equal\n",
      "  indexer = np.where(op(left_distances, right_distances) |\n"
     ]
    },
    {
     "name": "stdout",
     "output_type": "stream",
     "text": [
      "(1501, 1995)\n"
     ]
    },
    {
     "name": "stderr",
     "output_type": "stream",
     "text": [
      "C:\\Users\\steve\\Anaconda3\\envs\\rasterenv\\lib\\site-packages\\ipykernel_launcher.py:14: UserWarning: Tight layout not applied. The left and right margins cannot be made large enough to accommodate all axes decorations. \n",
      "  \n",
      "C:\\Users\\steve\\Anaconda3\\envs\\rasterenv\\lib\\site-packages\\pandas\\core\\indexes\\base.py:2825: RuntimeWarning: invalid value encountered in less\n",
      "  indexer = np.where(op(left_distances, right_distances) |\n",
      "C:\\Users\\steve\\Anaconda3\\envs\\rasterenv\\lib\\site-packages\\pandas\\core\\indexes\\base.py:2825: RuntimeWarning: invalid value encountered in less_equal\n",
      "  indexer = np.where(op(left_distances, right_distances) |\n"
     ]
    },
    {
     "name": "stdout",
     "output_type": "stream",
     "text": [
      "(1501, 1995)\n"
     ]
    },
    {
     "name": "stderr",
     "output_type": "stream",
     "text": [
      "C:\\Users\\steve\\Anaconda3\\envs\\rasterenv\\lib\\site-packages\\ipykernel_launcher.py:14: UserWarning: Tight layout not applied. The left and right margins cannot be made large enough to accommodate all axes decorations. \n",
      "  \n",
      "C:\\Users\\steve\\Anaconda3\\envs\\rasterenv\\lib\\site-packages\\pandas\\core\\indexes\\base.py:2825: RuntimeWarning: invalid value encountered in less\n",
      "  indexer = np.where(op(left_distances, right_distances) |\n",
      "C:\\Users\\steve\\Anaconda3\\envs\\rasterenv\\lib\\site-packages\\pandas\\core\\indexes\\base.py:2825: RuntimeWarning: invalid value encountered in less_equal\n",
      "  indexer = np.where(op(left_distances, right_distances) |\n"
     ]
    },
    {
     "name": "stdout",
     "output_type": "stream",
     "text": [
      "(1501, 1995)\n"
     ]
    },
    {
     "name": "stderr",
     "output_type": "stream",
     "text": [
      "C:\\Users\\steve\\Anaconda3\\envs\\rasterenv\\lib\\site-packages\\ipykernel_launcher.py:14: UserWarning: Tight layout not applied. The left and right margins cannot be made large enough to accommodate all axes decorations. \n",
      "  \n",
      "C:\\Users\\steve\\Anaconda3\\envs\\rasterenv\\lib\\site-packages\\pandas\\core\\indexes\\base.py:2825: RuntimeWarning: invalid value encountered in less\n",
      "  indexer = np.where(op(left_distances, right_distances) |\n",
      "C:\\Users\\steve\\Anaconda3\\envs\\rasterenv\\lib\\site-packages\\pandas\\core\\indexes\\base.py:2825: RuntimeWarning: invalid value encountered in less_equal\n",
      "  indexer = np.where(op(left_distances, right_distances) |\n"
     ]
    },
    {
     "name": "stdout",
     "output_type": "stream",
     "text": [
      "(1501, 1995)\n"
     ]
    },
    {
     "name": "stderr",
     "output_type": "stream",
     "text": [
      "C:\\Users\\steve\\Anaconda3\\envs\\rasterenv\\lib\\site-packages\\ipykernel_launcher.py:14: UserWarning: Tight layout not applied. The left and right margins cannot be made large enough to accommodate all axes decorations. \n",
      "  \n",
      "C:\\Users\\steve\\Anaconda3\\envs\\rasterenv\\lib\\site-packages\\pandas\\core\\indexes\\base.py:2825: RuntimeWarning: invalid value encountered in less\n",
      "  indexer = np.where(op(left_distances, right_distances) |\n",
      "C:\\Users\\steve\\Anaconda3\\envs\\rasterenv\\lib\\site-packages\\pandas\\core\\indexes\\base.py:2825: RuntimeWarning: invalid value encountered in less_equal\n",
      "  indexer = np.where(op(left_distances, right_distances) |\n"
     ]
    },
    {
     "name": "stdout",
     "output_type": "stream",
     "text": [
      "(1501, 1995)\n"
     ]
    },
    {
     "name": "stderr",
     "output_type": "stream",
     "text": [
      "C:\\Users\\steve\\Anaconda3\\envs\\rasterenv\\lib\\site-packages\\ipykernel_launcher.py:14: UserWarning: Tight layout not applied. The left and right margins cannot be made large enough to accommodate all axes decorations. \n",
      "  \n",
      "C:\\Users\\steve\\Anaconda3\\envs\\rasterenv\\lib\\site-packages\\pandas\\core\\indexes\\base.py:2825: RuntimeWarning: invalid value encountered in less\n",
      "  indexer = np.where(op(left_distances, right_distances) |\n",
      "C:\\Users\\steve\\Anaconda3\\envs\\rasterenv\\lib\\site-packages\\pandas\\core\\indexes\\base.py:2825: RuntimeWarning: invalid value encountered in less_equal\n",
      "  indexer = np.where(op(left_distances, right_distances) |\n"
     ]
    },
    {
     "name": "stdout",
     "output_type": "stream",
     "text": [
      "(1501, 1995)\n"
     ]
    },
    {
     "name": "stderr",
     "output_type": "stream",
     "text": [
      "C:\\Users\\steve\\Anaconda3\\envs\\rasterenv\\lib\\site-packages\\ipykernel_launcher.py:14: UserWarning: Tight layout not applied. The left and right margins cannot be made large enough to accommodate all axes decorations. \n",
      "  \n",
      "C:\\Users\\steve\\Anaconda3\\envs\\rasterenv\\lib\\site-packages\\pandas\\core\\indexes\\base.py:2825: RuntimeWarning: invalid value encountered in less\n",
      "  indexer = np.where(op(left_distances, right_distances) |\n",
      "C:\\Users\\steve\\Anaconda3\\envs\\rasterenv\\lib\\site-packages\\pandas\\core\\indexes\\base.py:2825: RuntimeWarning: invalid value encountered in less_equal\n",
      "  indexer = np.where(op(left_distances, right_distances) |\n"
     ]
    },
    {
     "name": "stdout",
     "output_type": "stream",
     "text": [
      "(1501, 1995)\n"
     ]
    },
    {
     "name": "stderr",
     "output_type": "stream",
     "text": [
      "C:\\Users\\steve\\Anaconda3\\envs\\rasterenv\\lib\\site-packages\\ipykernel_launcher.py:14: UserWarning: Tight layout not applied. The left and right margins cannot be made large enough to accommodate all axes decorations. \n",
      "  \n",
      "C:\\Users\\steve\\Anaconda3\\envs\\rasterenv\\lib\\site-packages\\pandas\\core\\indexes\\base.py:2825: RuntimeWarning: invalid value encountered in less\n",
      "  indexer = np.where(op(left_distances, right_distances) |\n",
      "C:\\Users\\steve\\Anaconda3\\envs\\rasterenv\\lib\\site-packages\\pandas\\core\\indexes\\base.py:2825: RuntimeWarning: invalid value encountered in less_equal\n",
      "  indexer = np.where(op(left_distances, right_distances) |\n"
     ]
    },
    {
     "name": "stdout",
     "output_type": "stream",
     "text": [
      "(1501, 1995)\n"
     ]
    },
    {
     "name": "stderr",
     "output_type": "stream",
     "text": [
      "C:\\Users\\steve\\Anaconda3\\envs\\rasterenv\\lib\\site-packages\\ipykernel_launcher.py:14: UserWarning: Tight layout not applied. The left and right margins cannot be made large enough to accommodate all axes decorations. \n",
      "  \n",
      "C:\\Users\\steve\\Anaconda3\\envs\\rasterenv\\lib\\site-packages\\pandas\\core\\indexes\\base.py:2825: RuntimeWarning: invalid value encountered in less\n",
      "  indexer = np.where(op(left_distances, right_distances) |\n",
      "C:\\Users\\steve\\Anaconda3\\envs\\rasterenv\\lib\\site-packages\\pandas\\core\\indexes\\base.py:2825: RuntimeWarning: invalid value encountered in less_equal\n",
      "  indexer = np.where(op(left_distances, right_distances) |\n"
     ]
    },
    {
     "name": "stdout",
     "output_type": "stream",
     "text": [
      "(1501, 1995)\n"
     ]
    },
    {
     "name": "stderr",
     "output_type": "stream",
     "text": [
      "C:\\Users\\steve\\Anaconda3\\envs\\rasterenv\\lib\\site-packages\\ipykernel_launcher.py:14: UserWarning: Tight layout not applied. The left and right margins cannot be made large enough to accommodate all axes decorations. \n",
      "  \n",
      "C:\\Users\\steve\\Anaconda3\\envs\\rasterenv\\lib\\site-packages\\pandas\\core\\indexes\\base.py:2825: RuntimeWarning: invalid value encountered in less\n",
      "  indexer = np.where(op(left_distances, right_distances) |\n",
      "C:\\Users\\steve\\Anaconda3\\envs\\rasterenv\\lib\\site-packages\\pandas\\core\\indexes\\base.py:2825: RuntimeWarning: invalid value encountered in less_equal\n",
      "  indexer = np.where(op(left_distances, right_distances) |\n"
     ]
    },
    {
     "name": "stdout",
     "output_type": "stream",
     "text": [
      "(1501, 1995)\n"
     ]
    },
    {
     "name": "stderr",
     "output_type": "stream",
     "text": [
      "C:\\Users\\steve\\Anaconda3\\envs\\rasterenv\\lib\\site-packages\\ipykernel_launcher.py:14: UserWarning: Tight layout not applied. The left and right margins cannot be made large enough to accommodate all axes decorations. \n",
      "  \n",
      "C:\\Users\\steve\\Anaconda3\\envs\\rasterenv\\lib\\site-packages\\pandas\\core\\indexes\\base.py:2825: RuntimeWarning: invalid value encountered in less\n",
      "  indexer = np.where(op(left_distances, right_distances) |\n",
      "C:\\Users\\steve\\Anaconda3\\envs\\rasterenv\\lib\\site-packages\\pandas\\core\\indexes\\base.py:2825: RuntimeWarning: invalid value encountered in less_equal\n",
      "  indexer = np.where(op(left_distances, right_distances) |\n"
     ]
    },
    {
     "name": "stdout",
     "output_type": "stream",
     "text": [
      "(1501, 1995)\n"
     ]
    },
    {
     "name": "stderr",
     "output_type": "stream",
     "text": [
      "C:\\Users\\steve\\Anaconda3\\envs\\rasterenv\\lib\\site-packages\\ipykernel_launcher.py:14: UserWarning: Tight layout not applied. The left and right margins cannot be made large enough to accommodate all axes decorations. \n",
      "  \n",
      "C:\\Users\\steve\\Anaconda3\\envs\\rasterenv\\lib\\site-packages\\pandas\\core\\indexes\\base.py:2825: RuntimeWarning: invalid value encountered in less\n",
      "  indexer = np.where(op(left_distances, right_distances) |\n",
      "C:\\Users\\steve\\Anaconda3\\envs\\rasterenv\\lib\\site-packages\\pandas\\core\\indexes\\base.py:2825: RuntimeWarning: invalid value encountered in less_equal\n",
      "  indexer = np.where(op(left_distances, right_distances) |\n"
     ]
    },
    {
     "name": "stdout",
     "output_type": "stream",
     "text": [
      "(1501, 1995)\n"
     ]
    },
    {
     "name": "stderr",
     "output_type": "stream",
     "text": [
      "C:\\Users\\steve\\Anaconda3\\envs\\rasterenv\\lib\\site-packages\\ipykernel_launcher.py:14: UserWarning: Tight layout not applied. The left and right margins cannot be made large enough to accommodate all axes decorations. \n",
      "  \n",
      "C:\\Users\\steve\\Anaconda3\\envs\\rasterenv\\lib\\site-packages\\pandas\\core\\indexes\\base.py:2825: RuntimeWarning: invalid value encountered in less\n",
      "  indexer = np.where(op(left_distances, right_distances) |\n",
      "C:\\Users\\steve\\Anaconda3\\envs\\rasterenv\\lib\\site-packages\\pandas\\core\\indexes\\base.py:2825: RuntimeWarning: invalid value encountered in less_equal\n",
      "  indexer = np.where(op(left_distances, right_distances) |\n"
     ]
    },
    {
     "name": "stdout",
     "output_type": "stream",
     "text": [
      "(1501, 1995)\n"
     ]
    },
    {
     "name": "stderr",
     "output_type": "stream",
     "text": [
      "C:\\Users\\steve\\Anaconda3\\envs\\rasterenv\\lib\\site-packages\\ipykernel_launcher.py:14: UserWarning: Tight layout not applied. The left and right margins cannot be made large enough to accommodate all axes decorations. \n",
      "  \n",
      "C:\\Users\\steve\\Anaconda3\\envs\\rasterenv\\lib\\site-packages\\pandas\\core\\indexes\\base.py:2825: RuntimeWarning: invalid value encountered in less\n",
      "  indexer = np.where(op(left_distances, right_distances) |\n",
      "C:\\Users\\steve\\Anaconda3\\envs\\rasterenv\\lib\\site-packages\\pandas\\core\\indexes\\base.py:2825: RuntimeWarning: invalid value encountered in less_equal\n",
      "  indexer = np.where(op(left_distances, right_distances) |\n"
     ]
    },
    {
     "name": "stdout",
     "output_type": "stream",
     "text": [
      "(1501, 1995)\n"
     ]
    },
    {
     "name": "stderr",
     "output_type": "stream",
     "text": [
      "C:\\Users\\steve\\Anaconda3\\envs\\rasterenv\\lib\\site-packages\\ipykernel_launcher.py:14: UserWarning: Tight layout not applied. The left and right margins cannot be made large enough to accommodate all axes decorations. \n",
      "  \n",
      "C:\\Users\\steve\\Anaconda3\\envs\\rasterenv\\lib\\site-packages\\pandas\\core\\indexes\\base.py:2825: RuntimeWarning: invalid value encountered in less\n",
      "  indexer = np.where(op(left_distances, right_distances) |\n",
      "C:\\Users\\steve\\Anaconda3\\envs\\rasterenv\\lib\\site-packages\\pandas\\core\\indexes\\base.py:2825: RuntimeWarning: invalid value encountered in less_equal\n",
      "  indexer = np.where(op(left_distances, right_distances) |\n"
     ]
    },
    {
     "name": "stdout",
     "output_type": "stream",
     "text": [
      "(1501, 1995)\n"
     ]
    },
    {
     "name": "stderr",
     "output_type": "stream",
     "text": [
      "C:\\Users\\steve\\Anaconda3\\envs\\rasterenv\\lib\\site-packages\\ipykernel_launcher.py:14: UserWarning: Tight layout not applied. The left and right margins cannot be made large enough to accommodate all axes decorations. \n",
      "  \n",
      "C:\\Users\\steve\\Anaconda3\\envs\\rasterenv\\lib\\site-packages\\pandas\\core\\indexes\\base.py:2825: RuntimeWarning: invalid value encountered in less\n",
      "  indexer = np.where(op(left_distances, right_distances) |\n",
      "C:\\Users\\steve\\Anaconda3\\envs\\rasterenv\\lib\\site-packages\\pandas\\core\\indexes\\base.py:2825: RuntimeWarning: invalid value encountered in less_equal\n",
      "  indexer = np.where(op(left_distances, right_distances) |\n"
     ]
    },
    {
     "name": "stdout",
     "output_type": "stream",
     "text": [
      "(1501, 1995)\n"
     ]
    },
    {
     "name": "stderr",
     "output_type": "stream",
     "text": [
      "C:\\Users\\steve\\Anaconda3\\envs\\rasterenv\\lib\\site-packages\\ipykernel_launcher.py:14: UserWarning: Tight layout not applied. The left and right margins cannot be made large enough to accommodate all axes decorations. \n",
      "  \n",
      "C:\\Users\\steve\\Anaconda3\\envs\\rasterenv\\lib\\site-packages\\pandas\\core\\indexes\\base.py:2825: RuntimeWarning: invalid value encountered in less\n",
      "  indexer = np.where(op(left_distances, right_distances) |\n",
      "C:\\Users\\steve\\Anaconda3\\envs\\rasterenv\\lib\\site-packages\\pandas\\core\\indexes\\base.py:2825: RuntimeWarning: invalid value encountered in less_equal\n",
      "  indexer = np.where(op(left_distances, right_distances) |\n"
     ]
    },
    {
     "name": "stdout",
     "output_type": "stream",
     "text": [
      "(1501, 1995)\n"
     ]
    },
    {
     "name": "stderr",
     "output_type": "stream",
     "text": [
      "C:\\Users\\steve\\Anaconda3\\envs\\rasterenv\\lib\\site-packages\\ipykernel_launcher.py:14: UserWarning: Tight layout not applied. The left and right margins cannot be made large enough to accommodate all axes decorations. \n",
      "  \n",
      "C:\\Users\\steve\\Anaconda3\\envs\\rasterenv\\lib\\site-packages\\pandas\\core\\indexes\\base.py:2825: RuntimeWarning: invalid value encountered in less\n",
      "  indexer = np.where(op(left_distances, right_distances) |\n",
      "C:\\Users\\steve\\Anaconda3\\envs\\rasterenv\\lib\\site-packages\\pandas\\core\\indexes\\base.py:2825: RuntimeWarning: invalid value encountered in less_equal\n",
      "  indexer = np.where(op(left_distances, right_distances) |\n"
     ]
    },
    {
     "name": "stdout",
     "output_type": "stream",
     "text": [
      "(1501, 1995)\n"
     ]
    },
    {
     "name": "stderr",
     "output_type": "stream",
     "text": [
      "C:\\Users\\steve\\Anaconda3\\envs\\rasterenv\\lib\\site-packages\\ipykernel_launcher.py:14: UserWarning: Tight layout not applied. The left and right margins cannot be made large enough to accommodate all axes decorations. \n",
      "  \n",
      "C:\\Users\\steve\\Anaconda3\\envs\\rasterenv\\lib\\site-packages\\pandas\\core\\indexes\\base.py:2825: RuntimeWarning: invalid value encountered in less\n",
      "  indexer = np.where(op(left_distances, right_distances) |\n",
      "C:\\Users\\steve\\Anaconda3\\envs\\rasterenv\\lib\\site-packages\\pandas\\core\\indexes\\base.py:2825: RuntimeWarning: invalid value encountered in less_equal\n",
      "  indexer = np.where(op(left_distances, right_distances) |\n"
     ]
    },
    {
     "name": "stdout",
     "output_type": "stream",
     "text": [
      "(1501, 1995)\n"
     ]
    },
    {
     "name": "stderr",
     "output_type": "stream",
     "text": [
      "C:\\Users\\steve\\Anaconda3\\envs\\rasterenv\\lib\\site-packages\\ipykernel_launcher.py:14: UserWarning: Tight layout not applied. The left and right margins cannot be made large enough to accommodate all axes decorations. \n",
      "  \n",
      "C:\\Users\\steve\\Anaconda3\\envs\\rasterenv\\lib\\site-packages\\pandas\\core\\indexes\\base.py:2825: RuntimeWarning: invalid value encountered in less\n",
      "  indexer = np.where(op(left_distances, right_distances) |\n",
      "C:\\Users\\steve\\Anaconda3\\envs\\rasterenv\\lib\\site-packages\\pandas\\core\\indexes\\base.py:2825: RuntimeWarning: invalid value encountered in less_equal\n",
      "  indexer = np.where(op(left_distances, right_distances) |\n"
     ]
    },
    {
     "name": "stdout",
     "output_type": "stream",
     "text": [
      "(1501, 1995)\n"
     ]
    },
    {
     "name": "stderr",
     "output_type": "stream",
     "text": [
      "C:\\Users\\steve\\Anaconda3\\envs\\rasterenv\\lib\\site-packages\\ipykernel_launcher.py:14: UserWarning: Tight layout not applied. The left and right margins cannot be made large enough to accommodate all axes decorations. \n",
      "  \n",
      "C:\\Users\\steve\\Anaconda3\\envs\\rasterenv\\lib\\site-packages\\pandas\\core\\indexes\\base.py:2825: RuntimeWarning: invalid value encountered in less\n",
      "  indexer = np.where(op(left_distances, right_distances) |\n",
      "C:\\Users\\steve\\Anaconda3\\envs\\rasterenv\\lib\\site-packages\\pandas\\core\\indexes\\base.py:2825: RuntimeWarning: invalid value encountered in less_equal\n",
      "  indexer = np.where(op(left_distances, right_distances) |\n"
     ]
    },
    {
     "name": "stdout",
     "output_type": "stream",
     "text": [
      "(1501, 1995)\n"
     ]
    },
    {
     "name": "stderr",
     "output_type": "stream",
     "text": [
      "C:\\Users\\steve\\Anaconda3\\envs\\rasterenv\\lib\\site-packages\\ipykernel_launcher.py:14: UserWarning: Tight layout not applied. The left and right margins cannot be made large enough to accommodate all axes decorations. \n",
      "  \n",
      "C:\\Users\\steve\\Anaconda3\\envs\\rasterenv\\lib\\site-packages\\pandas\\core\\indexes\\base.py:2825: RuntimeWarning: invalid value encountered in less\n",
      "  indexer = np.where(op(left_distances, right_distances) |\n",
      "C:\\Users\\steve\\Anaconda3\\envs\\rasterenv\\lib\\site-packages\\pandas\\core\\indexes\\base.py:2825: RuntimeWarning: invalid value encountered in less_equal\n",
      "  indexer = np.where(op(left_distances, right_distances) |\n"
     ]
    },
    {
     "name": "stdout",
     "output_type": "stream",
     "text": [
      "(1501, 1995)\n"
     ]
    },
    {
     "name": "stderr",
     "output_type": "stream",
     "text": [
      "C:\\Users\\steve\\Anaconda3\\envs\\rasterenv\\lib\\site-packages\\ipykernel_launcher.py:14: UserWarning: Tight layout not applied. The left and right margins cannot be made large enough to accommodate all axes decorations. \n",
      "  \n",
      "C:\\Users\\steve\\Anaconda3\\envs\\rasterenv\\lib\\site-packages\\pandas\\core\\indexes\\base.py:2825: RuntimeWarning: invalid value encountered in less\n",
      "  indexer = np.where(op(left_distances, right_distances) |\n",
      "C:\\Users\\steve\\Anaconda3\\envs\\rasterenv\\lib\\site-packages\\pandas\\core\\indexes\\base.py:2825: RuntimeWarning: invalid value encountered in less_equal\n",
      "  indexer = np.where(op(left_distances, right_distances) |\n"
     ]
    },
    {
     "name": "stdout",
     "output_type": "stream",
     "text": [
      "(1501, 1995)\n"
     ]
    },
    {
     "name": "stderr",
     "output_type": "stream",
     "text": [
      "C:\\Users\\steve\\Anaconda3\\envs\\rasterenv\\lib\\site-packages\\ipykernel_launcher.py:14: UserWarning: Tight layout not applied. The left and right margins cannot be made large enough to accommodate all axes decorations. \n",
      "  \n",
      "C:\\Users\\steve\\Anaconda3\\envs\\rasterenv\\lib\\site-packages\\pandas\\core\\indexes\\base.py:2825: RuntimeWarning: invalid value encountered in less\n",
      "  indexer = np.where(op(left_distances, right_distances) |\n",
      "C:\\Users\\steve\\Anaconda3\\envs\\rasterenv\\lib\\site-packages\\pandas\\core\\indexes\\base.py:2825: RuntimeWarning: invalid value encountered in less_equal\n",
      "  indexer = np.where(op(left_distances, right_distances) |\n"
     ]
    },
    {
     "name": "stdout",
     "output_type": "stream",
     "text": [
      "(1501, 1995)\n"
     ]
    },
    {
     "name": "stderr",
     "output_type": "stream",
     "text": [
      "C:\\Users\\steve\\Anaconda3\\envs\\rasterenv\\lib\\site-packages\\ipykernel_launcher.py:14: UserWarning: Tight layout not applied. The left and right margins cannot be made large enough to accommodate all axes decorations. \n",
      "  \n",
      "C:\\Users\\steve\\Anaconda3\\envs\\rasterenv\\lib\\site-packages\\pandas\\core\\indexes\\base.py:2825: RuntimeWarning: invalid value encountered in less\n",
      "  indexer = np.where(op(left_distances, right_distances) |\n",
      "C:\\Users\\steve\\Anaconda3\\envs\\rasterenv\\lib\\site-packages\\pandas\\core\\indexes\\base.py:2825: RuntimeWarning: invalid value encountered in less_equal\n",
      "  indexer = np.where(op(left_distances, right_distances) |\n"
     ]
    },
    {
     "name": "stdout",
     "output_type": "stream",
     "text": [
      "(1501, 1995)\n"
     ]
    },
    {
     "name": "stderr",
     "output_type": "stream",
     "text": [
      "C:\\Users\\steve\\Anaconda3\\envs\\rasterenv\\lib\\site-packages\\ipykernel_launcher.py:14: UserWarning: Tight layout not applied. The left and right margins cannot be made large enough to accommodate all axes decorations. \n",
      "  \n",
      "C:\\Users\\steve\\Anaconda3\\envs\\rasterenv\\lib\\site-packages\\pandas\\core\\indexes\\base.py:2825: RuntimeWarning: invalid value encountered in less\n",
      "  indexer = np.where(op(left_distances, right_distances) |\n",
      "C:\\Users\\steve\\Anaconda3\\envs\\rasterenv\\lib\\site-packages\\pandas\\core\\indexes\\base.py:2825: RuntimeWarning: invalid value encountered in less_equal\n",
      "  indexer = np.where(op(left_distances, right_distances) |\n"
     ]
    },
    {
     "name": "stdout",
     "output_type": "stream",
     "text": [
      "(1501, 1995)\n"
     ]
    },
    {
     "name": "stderr",
     "output_type": "stream",
     "text": [
      "C:\\Users\\steve\\Anaconda3\\envs\\rasterenv\\lib\\site-packages\\ipykernel_launcher.py:14: UserWarning: Tight layout not applied. The left and right margins cannot be made large enough to accommodate all axes decorations. \n",
      "  \n",
      "C:\\Users\\steve\\Anaconda3\\envs\\rasterenv\\lib\\site-packages\\pandas\\core\\indexes\\base.py:2825: RuntimeWarning: invalid value encountered in less\n",
      "  indexer = np.where(op(left_distances, right_distances) |\n",
      "C:\\Users\\steve\\Anaconda3\\envs\\rasterenv\\lib\\site-packages\\pandas\\core\\indexes\\base.py:2825: RuntimeWarning: invalid value encountered in less_equal\n",
      "  indexer = np.where(op(left_distances, right_distances) |\n"
     ]
    },
    {
     "name": "stdout",
     "output_type": "stream",
     "text": [
      "(1501, 1995)\n"
     ]
    },
    {
     "name": "stderr",
     "output_type": "stream",
     "text": [
      "C:\\Users\\steve\\Anaconda3\\envs\\rasterenv\\lib\\site-packages\\ipykernel_launcher.py:14: UserWarning: Tight layout not applied. The left and right margins cannot be made large enough to accommodate all axes decorations. \n",
      "  \n",
      "C:\\Users\\steve\\Anaconda3\\envs\\rasterenv\\lib\\site-packages\\pandas\\core\\indexes\\base.py:2825: RuntimeWarning: invalid value encountered in less\n",
      "  indexer = np.where(op(left_distances, right_distances) |\n",
      "C:\\Users\\steve\\Anaconda3\\envs\\rasterenv\\lib\\site-packages\\pandas\\core\\indexes\\base.py:2825: RuntimeWarning: invalid value encountered in less_equal\n",
      "  indexer = np.where(op(left_distances, right_distances) |\n"
     ]
    },
    {
     "name": "stdout",
     "output_type": "stream",
     "text": [
      "(1501, 1995)\n"
     ]
    },
    {
     "name": "stderr",
     "output_type": "stream",
     "text": [
      "C:\\Users\\steve\\Anaconda3\\envs\\rasterenv\\lib\\site-packages\\ipykernel_launcher.py:14: UserWarning: Tight layout not applied. The left and right margins cannot be made large enough to accommodate all axes decorations. \n",
      "  \n",
      "C:\\Users\\steve\\Anaconda3\\envs\\rasterenv\\lib\\site-packages\\pandas\\core\\indexes\\base.py:2825: RuntimeWarning: invalid value encountered in less\n",
      "  indexer = np.where(op(left_distances, right_distances) |\n",
      "C:\\Users\\steve\\Anaconda3\\envs\\rasterenv\\lib\\site-packages\\pandas\\core\\indexes\\base.py:2825: RuntimeWarning: invalid value encountered in less_equal\n",
      "  indexer = np.where(op(left_distances, right_distances) |\n"
     ]
    },
    {
     "name": "stdout",
     "output_type": "stream",
     "text": [
      "(1501, 1995)\n"
     ]
    },
    {
     "name": "stderr",
     "output_type": "stream",
     "text": [
      "C:\\Users\\steve\\Anaconda3\\envs\\rasterenv\\lib\\site-packages\\ipykernel_launcher.py:14: UserWarning: Tight layout not applied. The left and right margins cannot be made large enough to accommodate all axes decorations. \n",
      "  \n",
      "C:\\Users\\steve\\Anaconda3\\envs\\rasterenv\\lib\\site-packages\\pandas\\core\\indexes\\base.py:2825: RuntimeWarning: invalid value encountered in less\n",
      "  indexer = np.where(op(left_distances, right_distances) |\n",
      "C:\\Users\\steve\\Anaconda3\\envs\\rasterenv\\lib\\site-packages\\pandas\\core\\indexes\\base.py:2825: RuntimeWarning: invalid value encountered in less_equal\n",
      "  indexer = np.where(op(left_distances, right_distances) |\n"
     ]
    },
    {
     "name": "stdout",
     "output_type": "stream",
     "text": [
      "(1501, 1995)\n"
     ]
    },
    {
     "name": "stderr",
     "output_type": "stream",
     "text": [
      "C:\\Users\\steve\\Anaconda3\\envs\\rasterenv\\lib\\site-packages\\ipykernel_launcher.py:14: UserWarning: Tight layout not applied. The left and right margins cannot be made large enough to accommodate all axes decorations. \n",
      "  \n",
      "C:\\Users\\steve\\Anaconda3\\envs\\rasterenv\\lib\\site-packages\\pandas\\core\\indexes\\base.py:2825: RuntimeWarning: invalid value encountered in less\n",
      "  indexer = np.where(op(left_distances, right_distances) |\n",
      "C:\\Users\\steve\\Anaconda3\\envs\\rasterenv\\lib\\site-packages\\pandas\\core\\indexes\\base.py:2825: RuntimeWarning: invalid value encountered in less_equal\n",
      "  indexer = np.where(op(left_distances, right_distances) |\n"
     ]
    },
    {
     "name": "stdout",
     "output_type": "stream",
     "text": [
      "(1501, 1995)\n"
     ]
    },
    {
     "name": "stderr",
     "output_type": "stream",
     "text": [
      "C:\\Users\\steve\\Anaconda3\\envs\\rasterenv\\lib\\site-packages\\ipykernel_launcher.py:14: UserWarning: Tight layout not applied. The left and right margins cannot be made large enough to accommodate all axes decorations. \n",
      "  \n",
      "C:\\Users\\steve\\Anaconda3\\envs\\rasterenv\\lib\\site-packages\\pandas\\core\\indexes\\base.py:2825: RuntimeWarning: invalid value encountered in less\n",
      "  indexer = np.where(op(left_distances, right_distances) |\n",
      "C:\\Users\\steve\\Anaconda3\\envs\\rasterenv\\lib\\site-packages\\pandas\\core\\indexes\\base.py:2825: RuntimeWarning: invalid value encountered in less_equal\n",
      "  indexer = np.where(op(left_distances, right_distances) |\n"
     ]
    },
    {
     "name": "stdout",
     "output_type": "stream",
     "text": [
      "(1501, 1995)\n"
     ]
    },
    {
     "name": "stderr",
     "output_type": "stream",
     "text": [
      "C:\\Users\\steve\\Anaconda3\\envs\\rasterenv\\lib\\site-packages\\ipykernel_launcher.py:14: UserWarning: Tight layout not applied. The left and right margins cannot be made large enough to accommodate all axes decorations. \n",
      "  \n",
      "C:\\Users\\steve\\Anaconda3\\envs\\rasterenv\\lib\\site-packages\\pandas\\core\\indexes\\base.py:2825: RuntimeWarning: invalid value encountered in less\n",
      "  indexer = np.where(op(left_distances, right_distances) |\n",
      "C:\\Users\\steve\\Anaconda3\\envs\\rasterenv\\lib\\site-packages\\pandas\\core\\indexes\\base.py:2825: RuntimeWarning: invalid value encountered in less_equal\n",
      "  indexer = np.where(op(left_distances, right_distances) |\n"
     ]
    },
    {
     "name": "stdout",
     "output_type": "stream",
     "text": [
      "(1501, 1995)\n"
     ]
    },
    {
     "name": "stderr",
     "output_type": "stream",
     "text": [
      "C:\\Users\\steve\\Anaconda3\\envs\\rasterenv\\lib\\site-packages\\ipykernel_launcher.py:14: UserWarning: Tight layout not applied. The left and right margins cannot be made large enough to accommodate all axes decorations. \n",
      "  \n",
      "C:\\Users\\steve\\Anaconda3\\envs\\rasterenv\\lib\\site-packages\\pandas\\core\\indexes\\base.py:2825: RuntimeWarning: invalid value encountered in less\n",
      "  indexer = np.where(op(left_distances, right_distances) |\n",
      "C:\\Users\\steve\\Anaconda3\\envs\\rasterenv\\lib\\site-packages\\pandas\\core\\indexes\\base.py:2825: RuntimeWarning: invalid value encountered in less_equal\n",
      "  indexer = np.where(op(left_distances, right_distances) |\n"
     ]
    },
    {
     "name": "stdout",
     "output_type": "stream",
     "text": [
      "(1501, 1995)\n"
     ]
    },
    {
     "name": "stderr",
     "output_type": "stream",
     "text": [
      "C:\\Users\\steve\\Anaconda3\\envs\\rasterenv\\lib\\site-packages\\ipykernel_launcher.py:14: UserWarning: Tight layout not applied. The left and right margins cannot be made large enough to accommodate all axes decorations. \n",
      "  \n",
      "C:\\Users\\steve\\Anaconda3\\envs\\rasterenv\\lib\\site-packages\\pandas\\core\\indexes\\base.py:2825: RuntimeWarning: invalid value encountered in less\n",
      "  indexer = np.where(op(left_distances, right_distances) |\n",
      "C:\\Users\\steve\\Anaconda3\\envs\\rasterenv\\lib\\site-packages\\pandas\\core\\indexes\\base.py:2825: RuntimeWarning: invalid value encountered in less_equal\n",
      "  indexer = np.where(op(left_distances, right_distances) |\n"
     ]
    },
    {
     "name": "stdout",
     "output_type": "stream",
     "text": [
      "(1501, 1995)\n"
     ]
    },
    {
     "name": "stderr",
     "output_type": "stream",
     "text": [
      "C:\\Users\\steve\\Anaconda3\\envs\\rasterenv\\lib\\site-packages\\ipykernel_launcher.py:14: UserWarning: Tight layout not applied. The left and right margins cannot be made large enough to accommodate all axes decorations. \n",
      "  \n",
      "C:\\Users\\steve\\Anaconda3\\envs\\rasterenv\\lib\\site-packages\\pandas\\core\\indexes\\base.py:2825: RuntimeWarning: invalid value encountered in less\n",
      "  indexer = np.where(op(left_distances, right_distances) |\n",
      "C:\\Users\\steve\\Anaconda3\\envs\\rasterenv\\lib\\site-packages\\pandas\\core\\indexes\\base.py:2825: RuntimeWarning: invalid value encountered in less_equal\n",
      "  indexer = np.where(op(left_distances, right_distances) |\n"
     ]
    },
    {
     "name": "stdout",
     "output_type": "stream",
     "text": [
      "(1501, 1995)\n"
     ]
    },
    {
     "name": "stderr",
     "output_type": "stream",
     "text": [
      "C:\\Users\\steve\\Anaconda3\\envs\\rasterenv\\lib\\site-packages\\ipykernel_launcher.py:14: UserWarning: Tight layout not applied. The left and right margins cannot be made large enough to accommodate all axes decorations. \n",
      "  \n",
      "C:\\Users\\steve\\Anaconda3\\envs\\rasterenv\\lib\\site-packages\\pandas\\core\\indexes\\base.py:2825: RuntimeWarning: invalid value encountered in less\n",
      "  indexer = np.where(op(left_distances, right_distances) |\n",
      "C:\\Users\\steve\\Anaconda3\\envs\\rasterenv\\lib\\site-packages\\pandas\\core\\indexes\\base.py:2825: RuntimeWarning: invalid value encountered in less_equal\n",
      "  indexer = np.where(op(left_distances, right_distances) |\n"
     ]
    },
    {
     "name": "stdout",
     "output_type": "stream",
     "text": [
      "(1501, 1995)\n"
     ]
    },
    {
     "name": "stderr",
     "output_type": "stream",
     "text": [
      "C:\\Users\\steve\\Anaconda3\\envs\\rasterenv\\lib\\site-packages\\ipykernel_launcher.py:14: UserWarning: Tight layout not applied. The left and right margins cannot be made large enough to accommodate all axes decorations. \n",
      "  \n",
      "C:\\Users\\steve\\Anaconda3\\envs\\rasterenv\\lib\\site-packages\\pandas\\core\\indexes\\base.py:2825: RuntimeWarning: invalid value encountered in less\n",
      "  indexer = np.where(op(left_distances, right_distances) |\n",
      "C:\\Users\\steve\\Anaconda3\\envs\\rasterenv\\lib\\site-packages\\pandas\\core\\indexes\\base.py:2825: RuntimeWarning: invalid value encountered in less_equal\n",
      "  indexer = np.where(op(left_distances, right_distances) |\n"
     ]
    },
    {
     "name": "stdout",
     "output_type": "stream",
     "text": [
      "(1501, 1995)\n"
     ]
    },
    {
     "name": "stderr",
     "output_type": "stream",
     "text": [
      "C:\\Users\\steve\\Anaconda3\\envs\\rasterenv\\lib\\site-packages\\ipykernel_launcher.py:14: UserWarning: Tight layout not applied. The left and right margins cannot be made large enough to accommodate all axes decorations. \n",
      "  \n",
      "C:\\Users\\steve\\Anaconda3\\envs\\rasterenv\\lib\\site-packages\\pandas\\core\\indexes\\base.py:2825: RuntimeWarning: invalid value encountered in less\n",
      "  indexer = np.where(op(left_distances, right_distances) |\n",
      "C:\\Users\\steve\\Anaconda3\\envs\\rasterenv\\lib\\site-packages\\pandas\\core\\indexes\\base.py:2825: RuntimeWarning: invalid value encountered in less_equal\n",
      "  indexer = np.where(op(left_distances, right_distances) |\n"
     ]
    },
    {
     "name": "stdout",
     "output_type": "stream",
     "text": [
      "(1501, 1995)\n"
     ]
    },
    {
     "name": "stderr",
     "output_type": "stream",
     "text": [
      "C:\\Users\\steve\\Anaconda3\\envs\\rasterenv\\lib\\site-packages\\ipykernel_launcher.py:14: UserWarning: Tight layout not applied. The left and right margins cannot be made large enough to accommodate all axes decorations. \n",
      "  \n",
      "C:\\Users\\steve\\Anaconda3\\envs\\rasterenv\\lib\\site-packages\\pandas\\core\\indexes\\base.py:2825: RuntimeWarning: invalid value encountered in less\n",
      "  indexer = np.where(op(left_distances, right_distances) |\n",
      "C:\\Users\\steve\\Anaconda3\\envs\\rasterenv\\lib\\site-packages\\pandas\\core\\indexes\\base.py:2825: RuntimeWarning: invalid value encountered in less_equal\n",
      "  indexer = np.where(op(left_distances, right_distances) |\n"
     ]
    },
    {
     "name": "stdout",
     "output_type": "stream",
     "text": [
      "(1501, 1995)\n"
     ]
    },
    {
     "name": "stderr",
     "output_type": "stream",
     "text": [
      "C:\\Users\\steve\\Anaconda3\\envs\\rasterenv\\lib\\site-packages\\ipykernel_launcher.py:14: UserWarning: Tight layout not applied. The left and right margins cannot be made large enough to accommodate all axes decorations. \n",
      "  \n",
      "C:\\Users\\steve\\Anaconda3\\envs\\rasterenv\\lib\\site-packages\\pandas\\core\\indexes\\base.py:2825: RuntimeWarning: invalid value encountered in less\n",
      "  indexer = np.where(op(left_distances, right_distances) |\n",
      "C:\\Users\\steve\\Anaconda3\\envs\\rasterenv\\lib\\site-packages\\pandas\\core\\indexes\\base.py:2825: RuntimeWarning: invalid value encountered in less_equal\n",
      "  indexer = np.where(op(left_distances, right_distances) |\n"
     ]
    },
    {
     "name": "stdout",
     "output_type": "stream",
     "text": [
      "(1501, 1995)\n"
     ]
    },
    {
     "name": "stderr",
     "output_type": "stream",
     "text": [
      "C:\\Users\\steve\\Anaconda3\\envs\\rasterenv\\lib\\site-packages\\ipykernel_launcher.py:14: UserWarning: Tight layout not applied. The left and right margins cannot be made large enough to accommodate all axes decorations. \n",
      "  \n",
      "C:\\Users\\steve\\Anaconda3\\envs\\rasterenv\\lib\\site-packages\\pandas\\core\\indexes\\base.py:2825: RuntimeWarning: invalid value encountered in less\n",
      "  indexer = np.where(op(left_distances, right_distances) |\n",
      "C:\\Users\\steve\\Anaconda3\\envs\\rasterenv\\lib\\site-packages\\pandas\\core\\indexes\\base.py:2825: RuntimeWarning: invalid value encountered in less_equal\n",
      "  indexer = np.where(op(left_distances, right_distances) |\n"
     ]
    },
    {
     "name": "stdout",
     "output_type": "stream",
     "text": [
      "(1501, 1995)\n"
     ]
    },
    {
     "name": "stderr",
     "output_type": "stream",
     "text": [
      "C:\\Users\\steve\\Anaconda3\\envs\\rasterenv\\lib\\site-packages\\ipykernel_launcher.py:14: UserWarning: Tight layout not applied. The left and right margins cannot be made large enough to accommodate all axes decorations. \n",
      "  \n",
      "C:\\Users\\steve\\Anaconda3\\envs\\rasterenv\\lib\\site-packages\\pandas\\core\\indexes\\base.py:2825: RuntimeWarning: invalid value encountered in less\n",
      "  indexer = np.where(op(left_distances, right_distances) |\n",
      "C:\\Users\\steve\\Anaconda3\\envs\\rasterenv\\lib\\site-packages\\pandas\\core\\indexes\\base.py:2825: RuntimeWarning: invalid value encountered in less_equal\n",
      "  indexer = np.where(op(left_distances, right_distances) |\n"
     ]
    },
    {
     "name": "stdout",
     "output_type": "stream",
     "text": [
      "(1501, 1995)\n"
     ]
    },
    {
     "name": "stderr",
     "output_type": "stream",
     "text": [
      "C:\\Users\\steve\\Anaconda3\\envs\\rasterenv\\lib\\site-packages\\ipykernel_launcher.py:14: UserWarning: Tight layout not applied. The left and right margins cannot be made large enough to accommodate all axes decorations. \n",
      "  \n",
      "C:\\Users\\steve\\Anaconda3\\envs\\rasterenv\\lib\\site-packages\\pandas\\core\\indexes\\base.py:2825: RuntimeWarning: invalid value encountered in less\n",
      "  indexer = np.where(op(left_distances, right_distances) |\n",
      "C:\\Users\\steve\\Anaconda3\\envs\\rasterenv\\lib\\site-packages\\pandas\\core\\indexes\\base.py:2825: RuntimeWarning: invalid value encountered in less_equal\n",
      "  indexer = np.where(op(left_distances, right_distances) |\n"
     ]
    },
    {
     "name": "stdout",
     "output_type": "stream",
     "text": [
      "(1501, 1995)\n"
     ]
    },
    {
     "name": "stderr",
     "output_type": "stream",
     "text": [
      "C:\\Users\\steve\\Anaconda3\\envs\\rasterenv\\lib\\site-packages\\ipykernel_launcher.py:14: UserWarning: Tight layout not applied. The left and right margins cannot be made large enough to accommodate all axes decorations. \n",
      "  \n",
      "C:\\Users\\steve\\Anaconda3\\envs\\rasterenv\\lib\\site-packages\\pandas\\core\\indexes\\base.py:2825: RuntimeWarning: invalid value encountered in less\n",
      "  indexer = np.where(op(left_distances, right_distances) |\n",
      "C:\\Users\\steve\\Anaconda3\\envs\\rasterenv\\lib\\site-packages\\pandas\\core\\indexes\\base.py:2825: RuntimeWarning: invalid value encountered in less_equal\n",
      "  indexer = np.where(op(left_distances, right_distances) |\n"
     ]
    },
    {
     "name": "stdout",
     "output_type": "stream",
     "text": [
      "(1501, 1995)\n"
     ]
    },
    {
     "name": "stderr",
     "output_type": "stream",
     "text": [
      "C:\\Users\\steve\\Anaconda3\\envs\\rasterenv\\lib\\site-packages\\ipykernel_launcher.py:14: UserWarning: Tight layout not applied. The left and right margins cannot be made large enough to accommodate all axes decorations. \n",
      "  \n",
      "C:\\Users\\steve\\Anaconda3\\envs\\rasterenv\\lib\\site-packages\\pandas\\core\\indexes\\base.py:2825: RuntimeWarning: invalid value encountered in less\n",
      "  indexer = np.where(op(left_distances, right_distances) |\n",
      "C:\\Users\\steve\\Anaconda3\\envs\\rasterenv\\lib\\site-packages\\pandas\\core\\indexes\\base.py:2825: RuntimeWarning: invalid value encountered in less_equal\n",
      "  indexer = np.where(op(left_distances, right_distances) |\n"
     ]
    },
    {
     "name": "stdout",
     "output_type": "stream",
     "text": [
      "(1501, 1995)\n"
     ]
    },
    {
     "name": "stderr",
     "output_type": "stream",
     "text": [
      "C:\\Users\\steve\\Anaconda3\\envs\\rasterenv\\lib\\site-packages\\ipykernel_launcher.py:14: UserWarning: Tight layout not applied. The left and right margins cannot be made large enough to accommodate all axes decorations. \n",
      "  \n",
      "C:\\Users\\steve\\Anaconda3\\envs\\rasterenv\\lib\\site-packages\\pandas\\core\\indexes\\base.py:2825: RuntimeWarning: invalid value encountered in less\n",
      "  indexer = np.where(op(left_distances, right_distances) |\n",
      "C:\\Users\\steve\\Anaconda3\\envs\\rasterenv\\lib\\site-packages\\pandas\\core\\indexes\\base.py:2825: RuntimeWarning: invalid value encountered in less_equal\n",
      "  indexer = np.where(op(left_distances, right_distances) |\n"
     ]
    },
    {
     "name": "stdout",
     "output_type": "stream",
     "text": [
      "(1501, 1995)\n"
     ]
    },
    {
     "name": "stderr",
     "output_type": "stream",
     "text": [
      "C:\\Users\\steve\\Anaconda3\\envs\\rasterenv\\lib\\site-packages\\ipykernel_launcher.py:14: UserWarning: Tight layout not applied. The left and right margins cannot be made large enough to accommodate all axes decorations. \n",
      "  \n",
      "C:\\Users\\steve\\Anaconda3\\envs\\rasterenv\\lib\\site-packages\\pandas\\core\\indexes\\base.py:2825: RuntimeWarning: invalid value encountered in less\n",
      "  indexer = np.where(op(left_distances, right_distances) |\n",
      "C:\\Users\\steve\\Anaconda3\\envs\\rasterenv\\lib\\site-packages\\pandas\\core\\indexes\\base.py:2825: RuntimeWarning: invalid value encountered in less_equal\n",
      "  indexer = np.where(op(left_distances, right_distances) |\n"
     ]
    },
    {
     "name": "stdout",
     "output_type": "stream",
     "text": [
      "(1501, 1995)\n"
     ]
    },
    {
     "name": "stderr",
     "output_type": "stream",
     "text": [
      "C:\\Users\\steve\\Anaconda3\\envs\\rasterenv\\lib\\site-packages\\ipykernel_launcher.py:14: UserWarning: Tight layout not applied. The left and right margins cannot be made large enough to accommodate all axes decorations. \n",
      "  \n",
      "C:\\Users\\steve\\Anaconda3\\envs\\rasterenv\\lib\\site-packages\\pandas\\core\\indexes\\base.py:2825: RuntimeWarning: invalid value encountered in less\n",
      "  indexer = np.where(op(left_distances, right_distances) |\n",
      "C:\\Users\\steve\\Anaconda3\\envs\\rasterenv\\lib\\site-packages\\pandas\\core\\indexes\\base.py:2825: RuntimeWarning: invalid value encountered in less_equal\n",
      "  indexer = np.where(op(left_distances, right_distances) |\n"
     ]
    },
    {
     "name": "stdout",
     "output_type": "stream",
     "text": [
      "(1501, 1995)\n"
     ]
    },
    {
     "name": "stderr",
     "output_type": "stream",
     "text": [
      "C:\\Users\\steve\\Anaconda3\\envs\\rasterenv\\lib\\site-packages\\ipykernel_launcher.py:14: UserWarning: Tight layout not applied. The left and right margins cannot be made large enough to accommodate all axes decorations. \n",
      "  \n",
      "C:\\Users\\steve\\Anaconda3\\envs\\rasterenv\\lib\\site-packages\\pandas\\core\\indexes\\base.py:2825: RuntimeWarning: invalid value encountered in less\n",
      "  indexer = np.where(op(left_distances, right_distances) |\n",
      "C:\\Users\\steve\\Anaconda3\\envs\\rasterenv\\lib\\site-packages\\pandas\\core\\indexes\\base.py:2825: RuntimeWarning: invalid value encountered in less_equal\n",
      "  indexer = np.where(op(left_distances, right_distances) |\n"
     ]
    },
    {
     "name": "stdout",
     "output_type": "stream",
     "text": [
      "(1501, 1995)\n"
     ]
    },
    {
     "name": "stderr",
     "output_type": "stream",
     "text": [
      "C:\\Users\\steve\\Anaconda3\\envs\\rasterenv\\lib\\site-packages\\ipykernel_launcher.py:14: UserWarning: Tight layout not applied. The left and right margins cannot be made large enough to accommodate all axes decorations. \n",
      "  \n",
      "C:\\Users\\steve\\Anaconda3\\envs\\rasterenv\\lib\\site-packages\\pandas\\core\\indexes\\base.py:2825: RuntimeWarning: invalid value encountered in less\n",
      "  indexer = np.where(op(left_distances, right_distances) |\n",
      "C:\\Users\\steve\\Anaconda3\\envs\\rasterenv\\lib\\site-packages\\pandas\\core\\indexes\\base.py:2825: RuntimeWarning: invalid value encountered in less_equal\n",
      "  indexer = np.where(op(left_distances, right_distances) |\n"
     ]
    },
    {
     "name": "stdout",
     "output_type": "stream",
     "text": [
      "(1501, 1995)\n"
     ]
    },
    {
     "name": "stderr",
     "output_type": "stream",
     "text": [
      "C:\\Users\\steve\\Anaconda3\\envs\\rasterenv\\lib\\site-packages\\ipykernel_launcher.py:14: UserWarning: Tight layout not applied. The left and right margins cannot be made large enough to accommodate all axes decorations. \n",
      "  \n",
      "C:\\Users\\steve\\Anaconda3\\envs\\rasterenv\\lib\\site-packages\\pandas\\core\\indexes\\base.py:2825: RuntimeWarning: invalid value encountered in less\n",
      "  indexer = np.where(op(left_distances, right_distances) |\n",
      "C:\\Users\\steve\\Anaconda3\\envs\\rasterenv\\lib\\site-packages\\pandas\\core\\indexes\\base.py:2825: RuntimeWarning: invalid value encountered in less_equal\n",
      "  indexer = np.where(op(left_distances, right_distances) |\n"
     ]
    },
    {
     "name": "stdout",
     "output_type": "stream",
     "text": [
      "(1501, 1995)\n"
     ]
    },
    {
     "name": "stderr",
     "output_type": "stream",
     "text": [
      "C:\\Users\\steve\\Anaconda3\\envs\\rasterenv\\lib\\site-packages\\ipykernel_launcher.py:14: UserWarning: Tight layout not applied. The left and right margins cannot be made large enough to accommodate all axes decorations. \n",
      "  \n",
      "C:\\Users\\steve\\Anaconda3\\envs\\rasterenv\\lib\\site-packages\\pandas\\core\\indexes\\base.py:2825: RuntimeWarning: invalid value encountered in less\n",
      "  indexer = np.where(op(left_distances, right_distances) |\n",
      "C:\\Users\\steve\\Anaconda3\\envs\\rasterenv\\lib\\site-packages\\pandas\\core\\indexes\\base.py:2825: RuntimeWarning: invalid value encountered in less_equal\n",
      "  indexer = np.where(op(left_distances, right_distances) |\n"
     ]
    },
    {
     "name": "stdout",
     "output_type": "stream",
     "text": [
      "(1501, 1995)\n"
     ]
    },
    {
     "name": "stderr",
     "output_type": "stream",
     "text": [
      "C:\\Users\\steve\\Anaconda3\\envs\\rasterenv\\lib\\site-packages\\ipykernel_launcher.py:14: UserWarning: Tight layout not applied. The left and right margins cannot be made large enough to accommodate all axes decorations. \n",
      "  \n",
      "C:\\Users\\steve\\Anaconda3\\envs\\rasterenv\\lib\\site-packages\\pandas\\core\\indexes\\base.py:2825: RuntimeWarning: invalid value encountered in less\n",
      "  indexer = np.where(op(left_distances, right_distances) |\n",
      "C:\\Users\\steve\\Anaconda3\\envs\\rasterenv\\lib\\site-packages\\pandas\\core\\indexes\\base.py:2825: RuntimeWarning: invalid value encountered in less_equal\n",
      "  indexer = np.where(op(left_distances, right_distances) |\n"
     ]
    },
    {
     "name": "stdout",
     "output_type": "stream",
     "text": [
      "(1501, 1995)\n"
     ]
    },
    {
     "name": "stderr",
     "output_type": "stream",
     "text": [
      "C:\\Users\\steve\\Anaconda3\\envs\\rasterenv\\lib\\site-packages\\ipykernel_launcher.py:14: UserWarning: Tight layout not applied. The left and right margins cannot be made large enough to accommodate all axes decorations. \n",
      "  \n",
      "C:\\Users\\steve\\Anaconda3\\envs\\rasterenv\\lib\\site-packages\\pandas\\core\\indexes\\base.py:2825: RuntimeWarning: invalid value encountered in less\n",
      "  indexer = np.where(op(left_distances, right_distances) |\n",
      "C:\\Users\\steve\\Anaconda3\\envs\\rasterenv\\lib\\site-packages\\pandas\\core\\indexes\\base.py:2825: RuntimeWarning: invalid value encountered in less_equal\n",
      "  indexer = np.where(op(left_distances, right_distances) |\n"
     ]
    },
    {
     "name": "stdout",
     "output_type": "stream",
     "text": [
      "(1501, 1995)\n"
     ]
    },
    {
     "name": "stderr",
     "output_type": "stream",
     "text": [
      "C:\\Users\\steve\\Anaconda3\\envs\\rasterenv\\lib\\site-packages\\ipykernel_launcher.py:14: UserWarning: Tight layout not applied. The left and right margins cannot be made large enough to accommodate all axes decorations. \n",
      "  \n",
      "C:\\Users\\steve\\Anaconda3\\envs\\rasterenv\\lib\\site-packages\\pandas\\core\\indexes\\base.py:2825: RuntimeWarning: invalid value encountered in less\n",
      "  indexer = np.where(op(left_distances, right_distances) |\n",
      "C:\\Users\\steve\\Anaconda3\\envs\\rasterenv\\lib\\site-packages\\pandas\\core\\indexes\\base.py:2825: RuntimeWarning: invalid value encountered in less_equal\n",
      "  indexer = np.where(op(left_distances, right_distances) |\n"
     ]
    },
    {
     "name": "stdout",
     "output_type": "stream",
     "text": [
      "(1501, 1995)\n"
     ]
    },
    {
     "name": "stderr",
     "output_type": "stream",
     "text": [
      "C:\\Users\\steve\\Anaconda3\\envs\\rasterenv\\lib\\site-packages\\ipykernel_launcher.py:14: UserWarning: Tight layout not applied. The left and right margins cannot be made large enough to accommodate all axes decorations. \n",
      "  \n",
      "C:\\Users\\steve\\Anaconda3\\envs\\rasterenv\\lib\\site-packages\\pandas\\core\\indexes\\base.py:2825: RuntimeWarning: invalid value encountered in less\n",
      "  indexer = np.where(op(left_distances, right_distances) |\n",
      "C:\\Users\\steve\\Anaconda3\\envs\\rasterenv\\lib\\site-packages\\pandas\\core\\indexes\\base.py:2825: RuntimeWarning: invalid value encountered in less_equal\n",
      "  indexer = np.where(op(left_distances, right_distances) |\n"
     ]
    },
    {
     "name": "stdout",
     "output_type": "stream",
     "text": [
      "(1501, 1995)\n"
     ]
    },
    {
     "name": "stderr",
     "output_type": "stream",
     "text": [
      "C:\\Users\\steve\\Anaconda3\\envs\\rasterenv\\lib\\site-packages\\ipykernel_launcher.py:14: UserWarning: Tight layout not applied. The left and right margins cannot be made large enough to accommodate all axes decorations. \n",
      "  \n",
      "C:\\Users\\steve\\Anaconda3\\envs\\rasterenv\\lib\\site-packages\\pandas\\core\\indexes\\base.py:2825: RuntimeWarning: invalid value encountered in less\n",
      "  indexer = np.where(op(left_distances, right_distances) |\n",
      "C:\\Users\\steve\\Anaconda3\\envs\\rasterenv\\lib\\site-packages\\pandas\\core\\indexes\\base.py:2825: RuntimeWarning: invalid value encountered in less_equal\n",
      "  indexer = np.where(op(left_distances, right_distances) |\n"
     ]
    },
    {
     "name": "stdout",
     "output_type": "stream",
     "text": [
      "(1501, 1995)\n"
     ]
    },
    {
     "name": "stderr",
     "output_type": "stream",
     "text": [
      "C:\\Users\\steve\\Anaconda3\\envs\\rasterenv\\lib\\site-packages\\ipykernel_launcher.py:14: UserWarning: Tight layout not applied. The left and right margins cannot be made large enough to accommodate all axes decorations. \n",
      "  \n",
      "C:\\Users\\steve\\Anaconda3\\envs\\rasterenv\\lib\\site-packages\\pandas\\core\\indexes\\base.py:2825: RuntimeWarning: invalid value encountered in less\n",
      "  indexer = np.where(op(left_distances, right_distances) |\n",
      "C:\\Users\\steve\\Anaconda3\\envs\\rasterenv\\lib\\site-packages\\pandas\\core\\indexes\\base.py:2825: RuntimeWarning: invalid value encountered in less_equal\n",
      "  indexer = np.where(op(left_distances, right_distances) |\n"
     ]
    },
    {
     "name": "stdout",
     "output_type": "stream",
     "text": [
      "(1501, 1995)\n"
     ]
    },
    {
     "name": "stderr",
     "output_type": "stream",
     "text": [
      "C:\\Users\\steve\\Anaconda3\\envs\\rasterenv\\lib\\site-packages\\ipykernel_launcher.py:14: UserWarning: Tight layout not applied. The left and right margins cannot be made large enough to accommodate all axes decorations. \n",
      "  \n",
      "C:\\Users\\steve\\Anaconda3\\envs\\rasterenv\\lib\\site-packages\\pandas\\core\\indexes\\base.py:2825: RuntimeWarning: invalid value encountered in less\n",
      "  indexer = np.where(op(left_distances, right_distances) |\n",
      "C:\\Users\\steve\\Anaconda3\\envs\\rasterenv\\lib\\site-packages\\pandas\\core\\indexes\\base.py:2825: RuntimeWarning: invalid value encountered in less_equal\n",
      "  indexer = np.where(op(left_distances, right_distances) |\n"
     ]
    },
    {
     "name": "stdout",
     "output_type": "stream",
     "text": [
      "(1501, 1995)\n"
     ]
    },
    {
     "name": "stderr",
     "output_type": "stream",
     "text": [
      "C:\\Users\\steve\\Anaconda3\\envs\\rasterenv\\lib\\site-packages\\ipykernel_launcher.py:14: UserWarning: Tight layout not applied. The left and right margins cannot be made large enough to accommodate all axes decorations. \n",
      "  \n",
      "C:\\Users\\steve\\Anaconda3\\envs\\rasterenv\\lib\\site-packages\\pandas\\core\\indexes\\base.py:2825: RuntimeWarning: invalid value encountered in less\n",
      "  indexer = np.where(op(left_distances, right_distances) |\n",
      "C:\\Users\\steve\\Anaconda3\\envs\\rasterenv\\lib\\site-packages\\pandas\\core\\indexes\\base.py:2825: RuntimeWarning: invalid value encountered in less_equal\n",
      "  indexer = np.where(op(left_distances, right_distances) |\n"
     ]
    },
    {
     "name": "stdout",
     "output_type": "stream",
     "text": [
      "(1501, 1995)\n"
     ]
    },
    {
     "name": "stderr",
     "output_type": "stream",
     "text": [
      "C:\\Users\\steve\\Anaconda3\\envs\\rasterenv\\lib\\site-packages\\ipykernel_launcher.py:14: UserWarning: Tight layout not applied. The left and right margins cannot be made large enough to accommodate all axes decorations. \n",
      "  \n",
      "C:\\Users\\steve\\Anaconda3\\envs\\rasterenv\\lib\\site-packages\\pandas\\core\\indexes\\base.py:2825: RuntimeWarning: invalid value encountered in less\n",
      "  indexer = np.where(op(left_distances, right_distances) |\n",
      "C:\\Users\\steve\\Anaconda3\\envs\\rasterenv\\lib\\site-packages\\pandas\\core\\indexes\\base.py:2825: RuntimeWarning: invalid value encountered in less_equal\n",
      "  indexer = np.where(op(left_distances, right_distances) |\n"
     ]
    },
    {
     "name": "stdout",
     "output_type": "stream",
     "text": [
      "(1501, 1995)\n"
     ]
    },
    {
     "name": "stderr",
     "output_type": "stream",
     "text": [
      "C:\\Users\\steve\\Anaconda3\\envs\\rasterenv\\lib\\site-packages\\ipykernel_launcher.py:14: UserWarning: Tight layout not applied. The left and right margins cannot be made large enough to accommodate all axes decorations. \n",
      "  \n",
      "C:\\Users\\steve\\Anaconda3\\envs\\rasterenv\\lib\\site-packages\\pandas\\core\\indexes\\base.py:2825: RuntimeWarning: invalid value encountered in less\n",
      "  indexer = np.where(op(left_distances, right_distances) |\n",
      "C:\\Users\\steve\\Anaconda3\\envs\\rasterenv\\lib\\site-packages\\pandas\\core\\indexes\\base.py:2825: RuntimeWarning: invalid value encountered in less_equal\n",
      "  indexer = np.where(op(left_distances, right_distances) |\n"
     ]
    },
    {
     "name": "stdout",
     "output_type": "stream",
     "text": [
      "(1501, 1995)\n"
     ]
    },
    {
     "name": "stderr",
     "output_type": "stream",
     "text": [
      "C:\\Users\\steve\\Anaconda3\\envs\\rasterenv\\lib\\site-packages\\ipykernel_launcher.py:14: UserWarning: Tight layout not applied. The left and right margins cannot be made large enough to accommodate all axes decorations. \n",
      "  \n",
      "C:\\Users\\steve\\Anaconda3\\envs\\rasterenv\\lib\\site-packages\\pandas\\core\\indexes\\base.py:2825: RuntimeWarning: invalid value encountered in less\n",
      "  indexer = np.where(op(left_distances, right_distances) |\n",
      "C:\\Users\\steve\\Anaconda3\\envs\\rasterenv\\lib\\site-packages\\pandas\\core\\indexes\\base.py:2825: RuntimeWarning: invalid value encountered in less_equal\n",
      "  indexer = np.where(op(left_distances, right_distances) |\n"
     ]
    },
    {
     "name": "stdout",
     "output_type": "stream",
     "text": [
      "(1501, 1995)\n"
     ]
    },
    {
     "name": "stderr",
     "output_type": "stream",
     "text": [
      "C:\\Users\\steve\\Anaconda3\\envs\\rasterenv\\lib\\site-packages\\ipykernel_launcher.py:14: UserWarning: Tight layout not applied. The left and right margins cannot be made large enough to accommodate all axes decorations. \n",
      "  \n",
      "C:\\Users\\steve\\Anaconda3\\envs\\rasterenv\\lib\\site-packages\\pandas\\core\\indexes\\base.py:2825: RuntimeWarning: invalid value encountered in less\n",
      "  indexer = np.where(op(left_distances, right_distances) |\n",
      "C:\\Users\\steve\\Anaconda3\\envs\\rasterenv\\lib\\site-packages\\pandas\\core\\indexes\\base.py:2825: RuntimeWarning: invalid value encountered in less_equal\n",
      "  indexer = np.where(op(left_distances, right_distances) |\n"
     ]
    },
    {
     "name": "stdout",
     "output_type": "stream",
     "text": [
      "(1501, 1995)\n"
     ]
    },
    {
     "name": "stderr",
     "output_type": "stream",
     "text": [
      "C:\\Users\\steve\\Anaconda3\\envs\\rasterenv\\lib\\site-packages\\ipykernel_launcher.py:14: UserWarning: Tight layout not applied. The left and right margins cannot be made large enough to accommodate all axes decorations. \n",
      "  \n",
      "C:\\Users\\steve\\Anaconda3\\envs\\rasterenv\\lib\\site-packages\\pandas\\core\\indexes\\base.py:2825: RuntimeWarning: invalid value encountered in less\n",
      "  indexer = np.where(op(left_distances, right_distances) |\n",
      "C:\\Users\\steve\\Anaconda3\\envs\\rasterenv\\lib\\site-packages\\pandas\\core\\indexes\\base.py:2825: RuntimeWarning: invalid value encountered in less_equal\n",
      "  indexer = np.where(op(left_distances, right_distances) |\n"
     ]
    },
    {
     "name": "stdout",
     "output_type": "stream",
     "text": [
      "(1501, 1995)\n"
     ]
    },
    {
     "name": "stderr",
     "output_type": "stream",
     "text": [
      "C:\\Users\\steve\\Anaconda3\\envs\\rasterenv\\lib\\site-packages\\ipykernel_launcher.py:14: UserWarning: Tight layout not applied. The left and right margins cannot be made large enough to accommodate all axes decorations. \n",
      "  \n",
      "C:\\Users\\steve\\Anaconda3\\envs\\rasterenv\\lib\\site-packages\\pandas\\core\\indexes\\base.py:2825: RuntimeWarning: invalid value encountered in less\n",
      "  indexer = np.where(op(left_distances, right_distances) |\n",
      "C:\\Users\\steve\\Anaconda3\\envs\\rasterenv\\lib\\site-packages\\pandas\\core\\indexes\\base.py:2825: RuntimeWarning: invalid value encountered in less_equal\n",
      "  indexer = np.where(op(left_distances, right_distances) |\n"
     ]
    },
    {
     "name": "stdout",
     "output_type": "stream",
     "text": [
      "(1501, 1995)\n"
     ]
    },
    {
     "name": "stderr",
     "output_type": "stream",
     "text": [
      "C:\\Users\\steve\\Anaconda3\\envs\\rasterenv\\lib\\site-packages\\ipykernel_launcher.py:14: UserWarning: Tight layout not applied. The left and right margins cannot be made large enough to accommodate all axes decorations. \n",
      "  \n",
      "C:\\Users\\steve\\Anaconda3\\envs\\rasterenv\\lib\\site-packages\\pandas\\core\\indexes\\base.py:2825: RuntimeWarning: invalid value encountered in less\n",
      "  indexer = np.where(op(left_distances, right_distances) |\n",
      "C:\\Users\\steve\\Anaconda3\\envs\\rasterenv\\lib\\site-packages\\pandas\\core\\indexes\\base.py:2825: RuntimeWarning: invalid value encountered in less_equal\n",
      "  indexer = np.where(op(left_distances, right_distances) |\n"
     ]
    },
    {
     "name": "stdout",
     "output_type": "stream",
     "text": [
      "(1501, 1995)\n"
     ]
    },
    {
     "name": "stderr",
     "output_type": "stream",
     "text": [
      "C:\\Users\\steve\\Anaconda3\\envs\\rasterenv\\lib\\site-packages\\ipykernel_launcher.py:14: UserWarning: Tight layout not applied. The left and right margins cannot be made large enough to accommodate all axes decorations. \n",
      "  \n",
      "C:\\Users\\steve\\Anaconda3\\envs\\rasterenv\\lib\\site-packages\\pandas\\core\\indexes\\base.py:2825: RuntimeWarning: invalid value encountered in less\n",
      "  indexer = np.where(op(left_distances, right_distances) |\n",
      "C:\\Users\\steve\\Anaconda3\\envs\\rasterenv\\lib\\site-packages\\pandas\\core\\indexes\\base.py:2825: RuntimeWarning: invalid value encountered in less_equal\n",
      "  indexer = np.where(op(left_distances, right_distances) |\n"
     ]
    },
    {
     "name": "stdout",
     "output_type": "stream",
     "text": [
      "(1501, 1995)\n"
     ]
    },
    {
     "name": "stderr",
     "output_type": "stream",
     "text": [
      "C:\\Users\\steve\\Anaconda3\\envs\\rasterenv\\lib\\site-packages\\ipykernel_launcher.py:14: UserWarning: Tight layout not applied. The left and right margins cannot be made large enough to accommodate all axes decorations. \n",
      "  \n",
      "C:\\Users\\steve\\Anaconda3\\envs\\rasterenv\\lib\\site-packages\\pandas\\core\\indexes\\base.py:2825: RuntimeWarning: invalid value encountered in less\n",
      "  indexer = np.where(op(left_distances, right_distances) |\n",
      "C:\\Users\\steve\\Anaconda3\\envs\\rasterenv\\lib\\site-packages\\pandas\\core\\indexes\\base.py:2825: RuntimeWarning: invalid value encountered in less_equal\n",
      "  indexer = np.where(op(left_distances, right_distances) |\n"
     ]
    },
    {
     "name": "stdout",
     "output_type": "stream",
     "text": [
      "(1501, 1995)\n"
     ]
    },
    {
     "name": "stderr",
     "output_type": "stream",
     "text": [
      "C:\\Users\\steve\\Anaconda3\\envs\\rasterenv\\lib\\site-packages\\ipykernel_launcher.py:14: UserWarning: Tight layout not applied. The left and right margins cannot be made large enough to accommodate all axes decorations. \n",
      "  \n",
      "C:\\Users\\steve\\Anaconda3\\envs\\rasterenv\\lib\\site-packages\\pandas\\core\\indexes\\base.py:2825: RuntimeWarning: invalid value encountered in less\n",
      "  indexer = np.where(op(left_distances, right_distances) |\n",
      "C:\\Users\\steve\\Anaconda3\\envs\\rasterenv\\lib\\site-packages\\pandas\\core\\indexes\\base.py:2825: RuntimeWarning: invalid value encountered in less_equal\n",
      "  indexer = np.where(op(left_distances, right_distances) |\n"
     ]
    },
    {
     "name": "stdout",
     "output_type": "stream",
     "text": [
      "(1501, 1995)\n"
     ]
    },
    {
     "name": "stderr",
     "output_type": "stream",
     "text": [
      "C:\\Users\\steve\\Anaconda3\\envs\\rasterenv\\lib\\site-packages\\ipykernel_launcher.py:14: UserWarning: Tight layout not applied. The left and right margins cannot be made large enough to accommodate all axes decorations. \n",
      "  \n",
      "C:\\Users\\steve\\Anaconda3\\envs\\rasterenv\\lib\\site-packages\\pandas\\core\\indexes\\base.py:2825: RuntimeWarning: invalid value encountered in less\n",
      "  indexer = np.where(op(left_distances, right_distances) |\n",
      "C:\\Users\\steve\\Anaconda3\\envs\\rasterenv\\lib\\site-packages\\pandas\\core\\indexes\\base.py:2825: RuntimeWarning: invalid value encountered in less_equal\n",
      "  indexer = np.where(op(left_distances, right_distances) |\n"
     ]
    },
    {
     "name": "stdout",
     "output_type": "stream",
     "text": [
      "(1501, 1995)\n"
     ]
    },
    {
     "name": "stderr",
     "output_type": "stream",
     "text": [
      "C:\\Users\\steve\\Anaconda3\\envs\\rasterenv\\lib\\site-packages\\ipykernel_launcher.py:14: UserWarning: Tight layout not applied. The left and right margins cannot be made large enough to accommodate all axes decorations. \n",
      "  \n",
      "C:\\Users\\steve\\Anaconda3\\envs\\rasterenv\\lib\\site-packages\\pandas\\core\\indexes\\base.py:2825: RuntimeWarning: invalid value encountered in less\n",
      "  indexer = np.where(op(left_distances, right_distances) |\n",
      "C:\\Users\\steve\\Anaconda3\\envs\\rasterenv\\lib\\site-packages\\pandas\\core\\indexes\\base.py:2825: RuntimeWarning: invalid value encountered in less_equal\n",
      "  indexer = np.where(op(left_distances, right_distances) |\n"
     ]
    },
    {
     "name": "stdout",
     "output_type": "stream",
     "text": [
      "(1501, 1995)\n"
     ]
    },
    {
     "name": "stderr",
     "output_type": "stream",
     "text": [
      "C:\\Users\\steve\\Anaconda3\\envs\\rasterenv\\lib\\site-packages\\ipykernel_launcher.py:14: UserWarning: Tight layout not applied. The left and right margins cannot be made large enough to accommodate all axes decorations. \n",
      "  \n",
      "C:\\Users\\steve\\Anaconda3\\envs\\rasterenv\\lib\\site-packages\\pandas\\core\\indexes\\base.py:2825: RuntimeWarning: invalid value encountered in less\n",
      "  indexer = np.where(op(left_distances, right_distances) |\n",
      "C:\\Users\\steve\\Anaconda3\\envs\\rasterenv\\lib\\site-packages\\pandas\\core\\indexes\\base.py:2825: RuntimeWarning: invalid value encountered in less_equal\n",
      "  indexer = np.where(op(left_distances, right_distances) |\n"
     ]
    },
    {
     "name": "stdout",
     "output_type": "stream",
     "text": [
      "(1501, 1995)\n"
     ]
    },
    {
     "name": "stderr",
     "output_type": "stream",
     "text": [
      "C:\\Users\\steve\\Anaconda3\\envs\\rasterenv\\lib\\site-packages\\ipykernel_launcher.py:14: UserWarning: Tight layout not applied. The left and right margins cannot be made large enough to accommodate all axes decorations. \n",
      "  \n",
      "C:\\Users\\steve\\Anaconda3\\envs\\rasterenv\\lib\\site-packages\\pandas\\core\\indexes\\base.py:2825: RuntimeWarning: invalid value encountered in less\n",
      "  indexer = np.where(op(left_distances, right_distances) |\n",
      "C:\\Users\\steve\\Anaconda3\\envs\\rasterenv\\lib\\site-packages\\pandas\\core\\indexes\\base.py:2825: RuntimeWarning: invalid value encountered in less_equal\n",
      "  indexer = np.where(op(left_distances, right_distances) |\n"
     ]
    },
    {
     "name": "stdout",
     "output_type": "stream",
     "text": [
      "(1501, 1995)\n"
     ]
    },
    {
     "name": "stderr",
     "output_type": "stream",
     "text": [
      "C:\\Users\\steve\\Anaconda3\\envs\\rasterenv\\lib\\site-packages\\ipykernel_launcher.py:14: UserWarning: Tight layout not applied. The left and right margins cannot be made large enough to accommodate all axes decorations. \n",
      "  \n",
      "C:\\Users\\steve\\Anaconda3\\envs\\rasterenv\\lib\\site-packages\\pandas\\core\\indexes\\base.py:2825: RuntimeWarning: invalid value encountered in less\n",
      "  indexer = np.where(op(left_distances, right_distances) |\n",
      "C:\\Users\\steve\\Anaconda3\\envs\\rasterenv\\lib\\site-packages\\pandas\\core\\indexes\\base.py:2825: RuntimeWarning: invalid value encountered in less_equal\n",
      "  indexer = np.where(op(left_distances, right_distances) |\n"
     ]
    },
    {
     "name": "stdout",
     "output_type": "stream",
     "text": [
      "(1501, 1995)\n"
     ]
    },
    {
     "name": "stderr",
     "output_type": "stream",
     "text": [
      "C:\\Users\\steve\\Anaconda3\\envs\\rasterenv\\lib\\site-packages\\ipykernel_launcher.py:14: UserWarning: Tight layout not applied. The left and right margins cannot be made large enough to accommodate all axes decorations. \n",
      "  \n",
      "C:\\Users\\steve\\Anaconda3\\envs\\rasterenv\\lib\\site-packages\\pandas\\core\\indexes\\base.py:2825: RuntimeWarning: invalid value encountered in less\n",
      "  indexer = np.where(op(left_distances, right_distances) |\n",
      "C:\\Users\\steve\\Anaconda3\\envs\\rasterenv\\lib\\site-packages\\pandas\\core\\indexes\\base.py:2825: RuntimeWarning: invalid value encountered in less_equal\n",
      "  indexer = np.where(op(left_distances, right_distances) |\n"
     ]
    },
    {
     "name": "stdout",
     "output_type": "stream",
     "text": [
      "(1501, 1995)\n"
     ]
    },
    {
     "name": "stderr",
     "output_type": "stream",
     "text": [
      "C:\\Users\\steve\\Anaconda3\\envs\\rasterenv\\lib\\site-packages\\ipykernel_launcher.py:14: UserWarning: Tight layout not applied. The left and right margins cannot be made large enough to accommodate all axes decorations. \n",
      "  \n",
      "C:\\Users\\steve\\Anaconda3\\envs\\rasterenv\\lib\\site-packages\\pandas\\core\\indexes\\base.py:2825: RuntimeWarning: invalid value encountered in less\n",
      "  indexer = np.where(op(left_distances, right_distances) |\n",
      "C:\\Users\\steve\\Anaconda3\\envs\\rasterenv\\lib\\site-packages\\pandas\\core\\indexes\\base.py:2825: RuntimeWarning: invalid value encountered in less_equal\n",
      "  indexer = np.where(op(left_distances, right_distances) |\n"
     ]
    },
    {
     "name": "stdout",
     "output_type": "stream",
     "text": [
      "(1501, 1995)\n"
     ]
    },
    {
     "name": "stderr",
     "output_type": "stream",
     "text": [
      "C:\\Users\\steve\\Anaconda3\\envs\\rasterenv\\lib\\site-packages\\ipykernel_launcher.py:14: UserWarning: Tight layout not applied. The left and right margins cannot be made large enough to accommodate all axes decorations. \n",
      "  \n",
      "C:\\Users\\steve\\Anaconda3\\envs\\rasterenv\\lib\\site-packages\\pandas\\core\\indexes\\base.py:2825: RuntimeWarning: invalid value encountered in less\n",
      "  indexer = np.where(op(left_distances, right_distances) |\n",
      "C:\\Users\\steve\\Anaconda3\\envs\\rasterenv\\lib\\site-packages\\pandas\\core\\indexes\\base.py:2825: RuntimeWarning: invalid value encountered in less_equal\n",
      "  indexer = np.where(op(left_distances, right_distances) |\n"
     ]
    },
    {
     "name": "stdout",
     "output_type": "stream",
     "text": [
      "(1501, 1995)\n"
     ]
    },
    {
     "name": "stderr",
     "output_type": "stream",
     "text": [
      "C:\\Users\\steve\\Anaconda3\\envs\\rasterenv\\lib\\site-packages\\ipykernel_launcher.py:14: UserWarning: Tight layout not applied. The left and right margins cannot be made large enough to accommodate all axes decorations. \n",
      "  \n",
      "C:\\Users\\steve\\Anaconda3\\envs\\rasterenv\\lib\\site-packages\\pandas\\core\\indexes\\base.py:2825: RuntimeWarning: invalid value encountered in less\n",
      "  indexer = np.where(op(left_distances, right_distances) |\n",
      "C:\\Users\\steve\\Anaconda3\\envs\\rasterenv\\lib\\site-packages\\pandas\\core\\indexes\\base.py:2825: RuntimeWarning: invalid value encountered in less_equal\n",
      "  indexer = np.where(op(left_distances, right_distances) |\n"
     ]
    },
    {
     "name": "stdout",
     "output_type": "stream",
     "text": [
      "(1501, 1995)\n"
     ]
    },
    {
     "name": "stderr",
     "output_type": "stream",
     "text": [
      "C:\\Users\\steve\\Anaconda3\\envs\\rasterenv\\lib\\site-packages\\ipykernel_launcher.py:14: UserWarning: Tight layout not applied. The left and right margins cannot be made large enough to accommodate all axes decorations. \n",
      "  \n",
      "C:\\Users\\steve\\Anaconda3\\envs\\rasterenv\\lib\\site-packages\\pandas\\core\\indexes\\base.py:2825: RuntimeWarning: invalid value encountered in less\n",
      "  indexer = np.where(op(left_distances, right_distances) |\n",
      "C:\\Users\\steve\\Anaconda3\\envs\\rasterenv\\lib\\site-packages\\pandas\\core\\indexes\\base.py:2825: RuntimeWarning: invalid value encountered in less_equal\n",
      "  indexer = np.where(op(left_distances, right_distances) |\n"
     ]
    },
    {
     "name": "stdout",
     "output_type": "stream",
     "text": [
      "(1501, 1995)\n"
     ]
    },
    {
     "name": "stderr",
     "output_type": "stream",
     "text": [
      "C:\\Users\\steve\\Anaconda3\\envs\\rasterenv\\lib\\site-packages\\ipykernel_launcher.py:14: UserWarning: Tight layout not applied. The left and right margins cannot be made large enough to accommodate all axes decorations. \n",
      "  \n",
      "C:\\Users\\steve\\Anaconda3\\envs\\rasterenv\\lib\\site-packages\\pandas\\core\\indexes\\base.py:2825: RuntimeWarning: invalid value encountered in less\n",
      "  indexer = np.where(op(left_distances, right_distances) |\n",
      "C:\\Users\\steve\\Anaconda3\\envs\\rasterenv\\lib\\site-packages\\pandas\\core\\indexes\\base.py:2825: RuntimeWarning: invalid value encountered in less_equal\n",
      "  indexer = np.where(op(left_distances, right_distances) |\n"
     ]
    },
    {
     "name": "stdout",
     "output_type": "stream",
     "text": [
      "(1501, 1995)\n"
     ]
    },
    {
     "name": "stderr",
     "output_type": "stream",
     "text": [
      "C:\\Users\\steve\\Anaconda3\\envs\\rasterenv\\lib\\site-packages\\ipykernel_launcher.py:14: UserWarning: Tight layout not applied. The left and right margins cannot be made large enough to accommodate all axes decorations. \n",
      "  \n",
      "C:\\Users\\steve\\Anaconda3\\envs\\rasterenv\\lib\\site-packages\\pandas\\core\\indexes\\base.py:2825: RuntimeWarning: invalid value encountered in less\n",
      "  indexer = np.where(op(left_distances, right_distances) |\n",
      "C:\\Users\\steve\\Anaconda3\\envs\\rasterenv\\lib\\site-packages\\pandas\\core\\indexes\\base.py:2825: RuntimeWarning: invalid value encountered in less_equal\n",
      "  indexer = np.where(op(left_distances, right_distances) |\n"
     ]
    },
    {
     "name": "stdout",
     "output_type": "stream",
     "text": [
      "(1501, 1995)\n"
     ]
    },
    {
     "name": "stderr",
     "output_type": "stream",
     "text": [
      "C:\\Users\\steve\\Anaconda3\\envs\\rasterenv\\lib\\site-packages\\ipykernel_launcher.py:14: UserWarning: Tight layout not applied. The left and right margins cannot be made large enough to accommodate all axes decorations. \n",
      "  \n",
      "C:\\Users\\steve\\Anaconda3\\envs\\rasterenv\\lib\\site-packages\\pandas\\core\\indexes\\base.py:2825: RuntimeWarning: invalid value encountered in less\n",
      "  indexer = np.where(op(left_distances, right_distances) |\n",
      "C:\\Users\\steve\\Anaconda3\\envs\\rasterenv\\lib\\site-packages\\pandas\\core\\indexes\\base.py:2825: RuntimeWarning: invalid value encountered in less_equal\n",
      "  indexer = np.where(op(left_distances, right_distances) |\n"
     ]
    },
    {
     "name": "stdout",
     "output_type": "stream",
     "text": [
      "(1501, 1995)\n"
     ]
    },
    {
     "name": "stderr",
     "output_type": "stream",
     "text": [
      "C:\\Users\\steve\\Anaconda3\\envs\\rasterenv\\lib\\site-packages\\ipykernel_launcher.py:14: UserWarning: Tight layout not applied. The left and right margins cannot be made large enough to accommodate all axes decorations. \n",
      "  \n",
      "C:\\Users\\steve\\Anaconda3\\envs\\rasterenv\\lib\\site-packages\\pandas\\core\\indexes\\base.py:2825: RuntimeWarning: invalid value encountered in less\n",
      "  indexer = np.where(op(left_distances, right_distances) |\n",
      "C:\\Users\\steve\\Anaconda3\\envs\\rasterenv\\lib\\site-packages\\pandas\\core\\indexes\\base.py:2825: RuntimeWarning: invalid value encountered in less_equal\n",
      "  indexer = np.where(op(left_distances, right_distances) |\n"
     ]
    },
    {
     "name": "stdout",
     "output_type": "stream",
     "text": [
      "(1501, 1995)\n"
     ]
    },
    {
     "name": "stderr",
     "output_type": "stream",
     "text": [
      "C:\\Users\\steve\\Anaconda3\\envs\\rasterenv\\lib\\site-packages\\ipykernel_launcher.py:14: UserWarning: Tight layout not applied. The left and right margins cannot be made large enough to accommodate all axes decorations. \n",
      "  \n",
      "C:\\Users\\steve\\Anaconda3\\envs\\rasterenv\\lib\\site-packages\\pandas\\core\\indexes\\base.py:2825: RuntimeWarning: invalid value encountered in less\n",
      "  indexer = np.where(op(left_distances, right_distances) |\n",
      "C:\\Users\\steve\\Anaconda3\\envs\\rasterenv\\lib\\site-packages\\pandas\\core\\indexes\\base.py:2825: RuntimeWarning: invalid value encountered in less_equal\n",
      "  indexer = np.where(op(left_distances, right_distances) |\n"
     ]
    },
    {
     "name": "stdout",
     "output_type": "stream",
     "text": [
      "(1501, 1995)\n"
     ]
    },
    {
     "name": "stderr",
     "output_type": "stream",
     "text": [
      "C:\\Users\\steve\\Anaconda3\\envs\\rasterenv\\lib\\site-packages\\ipykernel_launcher.py:14: UserWarning: Tight layout not applied. The left and right margins cannot be made large enough to accommodate all axes decorations. \n",
      "  \n",
      "C:\\Users\\steve\\Anaconda3\\envs\\rasterenv\\lib\\site-packages\\pandas\\core\\indexes\\base.py:2825: RuntimeWarning: invalid value encountered in less\n",
      "  indexer = np.where(op(left_distances, right_distances) |\n",
      "C:\\Users\\steve\\Anaconda3\\envs\\rasterenv\\lib\\site-packages\\pandas\\core\\indexes\\base.py:2825: RuntimeWarning: invalid value encountered in less_equal\n",
      "  indexer = np.where(op(left_distances, right_distances) |\n"
     ]
    },
    {
     "name": "stdout",
     "output_type": "stream",
     "text": [
      "(1501, 1995)\n"
     ]
    },
    {
     "name": "stderr",
     "output_type": "stream",
     "text": [
      "C:\\Users\\steve\\Anaconda3\\envs\\rasterenv\\lib\\site-packages\\ipykernel_launcher.py:14: UserWarning: Tight layout not applied. The left and right margins cannot be made large enough to accommodate all axes decorations. \n",
      "  \n",
      "C:\\Users\\steve\\Anaconda3\\envs\\rasterenv\\lib\\site-packages\\pandas\\core\\indexes\\base.py:2825: RuntimeWarning: invalid value encountered in less\n",
      "  indexer = np.where(op(left_distances, right_distances) |\n",
      "C:\\Users\\steve\\Anaconda3\\envs\\rasterenv\\lib\\site-packages\\pandas\\core\\indexes\\base.py:2825: RuntimeWarning: invalid value encountered in less_equal\n",
      "  indexer = np.where(op(left_distances, right_distances) |\n"
     ]
    },
    {
     "name": "stdout",
     "output_type": "stream",
     "text": [
      "(1501, 1995)\n"
     ]
    },
    {
     "name": "stderr",
     "output_type": "stream",
     "text": [
      "C:\\Users\\steve\\Anaconda3\\envs\\rasterenv\\lib\\site-packages\\ipykernel_launcher.py:14: UserWarning: Tight layout not applied. The left and right margins cannot be made large enough to accommodate all axes decorations. \n",
      "  \n",
      "C:\\Users\\steve\\Anaconda3\\envs\\rasterenv\\lib\\site-packages\\pandas\\core\\indexes\\base.py:2825: RuntimeWarning: invalid value encountered in less\n",
      "  indexer = np.where(op(left_distances, right_distances) |\n",
      "C:\\Users\\steve\\Anaconda3\\envs\\rasterenv\\lib\\site-packages\\pandas\\core\\indexes\\base.py:2825: RuntimeWarning: invalid value encountered in less_equal\n",
      "  indexer = np.where(op(left_distances, right_distances) |\n"
     ]
    },
    {
     "name": "stdout",
     "output_type": "stream",
     "text": [
      "(1501, 1995)\n"
     ]
    },
    {
     "name": "stderr",
     "output_type": "stream",
     "text": [
      "C:\\Users\\steve\\Anaconda3\\envs\\rasterenv\\lib\\site-packages\\ipykernel_launcher.py:14: UserWarning: Tight layout not applied. The left and right margins cannot be made large enough to accommodate all axes decorations. \n",
      "  \n",
      "C:\\Users\\steve\\Anaconda3\\envs\\rasterenv\\lib\\site-packages\\pandas\\core\\indexes\\base.py:2825: RuntimeWarning: invalid value encountered in less\n",
      "  indexer = np.where(op(left_distances, right_distances) |\n",
      "C:\\Users\\steve\\Anaconda3\\envs\\rasterenv\\lib\\site-packages\\pandas\\core\\indexes\\base.py:2825: RuntimeWarning: invalid value encountered in less_equal\n",
      "  indexer = np.where(op(left_distances, right_distances) |\n"
     ]
    },
    {
     "name": "stdout",
     "output_type": "stream",
     "text": [
      "(1501, 1995)\n"
     ]
    },
    {
     "name": "stderr",
     "output_type": "stream",
     "text": [
      "C:\\Users\\steve\\Anaconda3\\envs\\rasterenv\\lib\\site-packages\\ipykernel_launcher.py:14: UserWarning: Tight layout not applied. The left and right margins cannot be made large enough to accommodate all axes decorations. \n",
      "  \n",
      "C:\\Users\\steve\\Anaconda3\\envs\\rasterenv\\lib\\site-packages\\pandas\\core\\indexes\\base.py:2825: RuntimeWarning: invalid value encountered in less\n",
      "  indexer = np.where(op(left_distances, right_distances) |\n",
      "C:\\Users\\steve\\Anaconda3\\envs\\rasterenv\\lib\\site-packages\\pandas\\core\\indexes\\base.py:2825: RuntimeWarning: invalid value encountered in less_equal\n",
      "  indexer = np.where(op(left_distances, right_distances) |\n"
     ]
    },
    {
     "name": "stdout",
     "output_type": "stream",
     "text": [
      "(1501, 1995)\n"
     ]
    },
    {
     "name": "stderr",
     "output_type": "stream",
     "text": [
      "C:\\Users\\steve\\Anaconda3\\envs\\rasterenv\\lib\\site-packages\\ipykernel_launcher.py:14: UserWarning: Tight layout not applied. The left and right margins cannot be made large enough to accommodate all axes decorations. \n",
      "  \n",
      "C:\\Users\\steve\\Anaconda3\\envs\\rasterenv\\lib\\site-packages\\pandas\\core\\indexes\\base.py:2825: RuntimeWarning: invalid value encountered in less\n",
      "  indexer = np.where(op(left_distances, right_distances) |\n",
      "C:\\Users\\steve\\Anaconda3\\envs\\rasterenv\\lib\\site-packages\\pandas\\core\\indexes\\base.py:2825: RuntimeWarning: invalid value encountered in less_equal\n",
      "  indexer = np.where(op(left_distances, right_distances) |\n"
     ]
    },
    {
     "name": "stdout",
     "output_type": "stream",
     "text": [
      "(1501, 1995)\n"
     ]
    },
    {
     "name": "stderr",
     "output_type": "stream",
     "text": [
      "C:\\Users\\steve\\Anaconda3\\envs\\rasterenv\\lib\\site-packages\\ipykernel_launcher.py:14: UserWarning: Tight layout not applied. The left and right margins cannot be made large enough to accommodate all axes decorations. \n",
      "  \n",
      "C:\\Users\\steve\\Anaconda3\\envs\\rasterenv\\lib\\site-packages\\pandas\\core\\indexes\\base.py:2825: RuntimeWarning: invalid value encountered in less\n",
      "  indexer = np.where(op(left_distances, right_distances) |\n",
      "C:\\Users\\steve\\Anaconda3\\envs\\rasterenv\\lib\\site-packages\\pandas\\core\\indexes\\base.py:2825: RuntimeWarning: invalid value encountered in less_equal\n",
      "  indexer = np.where(op(left_distances, right_distances) |\n"
     ]
    },
    {
     "name": "stdout",
     "output_type": "stream",
     "text": [
      "(1501, 1995)\n"
     ]
    },
    {
     "name": "stderr",
     "output_type": "stream",
     "text": [
      "C:\\Users\\steve\\Anaconda3\\envs\\rasterenv\\lib\\site-packages\\ipykernel_launcher.py:14: UserWarning: Tight layout not applied. The left and right margins cannot be made large enough to accommodate all axes decorations. \n",
      "  \n",
      "C:\\Users\\steve\\Anaconda3\\envs\\rasterenv\\lib\\site-packages\\pandas\\core\\indexes\\base.py:2825: RuntimeWarning: invalid value encountered in less\n",
      "  indexer = np.where(op(left_distances, right_distances) |\n",
      "C:\\Users\\steve\\Anaconda3\\envs\\rasterenv\\lib\\site-packages\\pandas\\core\\indexes\\base.py:2825: RuntimeWarning: invalid value encountered in less_equal\n",
      "  indexer = np.where(op(left_distances, right_distances) |\n"
     ]
    },
    {
     "name": "stdout",
     "output_type": "stream",
     "text": [
      "(1501, 1995)\n"
     ]
    },
    {
     "name": "stderr",
     "output_type": "stream",
     "text": [
      "C:\\Users\\steve\\Anaconda3\\envs\\rasterenv\\lib\\site-packages\\ipykernel_launcher.py:14: UserWarning: Tight layout not applied. The left and right margins cannot be made large enough to accommodate all axes decorations. \n",
      "  \n",
      "C:\\Users\\steve\\Anaconda3\\envs\\rasterenv\\lib\\site-packages\\pandas\\core\\indexes\\base.py:2825: RuntimeWarning: invalid value encountered in less\n",
      "  indexer = np.where(op(left_distances, right_distances) |\n",
      "C:\\Users\\steve\\Anaconda3\\envs\\rasterenv\\lib\\site-packages\\pandas\\core\\indexes\\base.py:2825: RuntimeWarning: invalid value encountered in less_equal\n",
      "  indexer = np.where(op(left_distances, right_distances) |\n"
     ]
    },
    {
     "name": "stdout",
     "output_type": "stream",
     "text": [
      "(1501, 1995)\n"
     ]
    },
    {
     "name": "stderr",
     "output_type": "stream",
     "text": [
      "C:\\Users\\steve\\Anaconda3\\envs\\rasterenv\\lib\\site-packages\\ipykernel_launcher.py:14: UserWarning: Tight layout not applied. The left and right margins cannot be made large enough to accommodate all axes decorations. \n",
      "  \n",
      "C:\\Users\\steve\\Anaconda3\\envs\\rasterenv\\lib\\site-packages\\pandas\\core\\indexes\\base.py:2825: RuntimeWarning: invalid value encountered in less\n",
      "  indexer = np.where(op(left_distances, right_distances) |\n",
      "C:\\Users\\steve\\Anaconda3\\envs\\rasterenv\\lib\\site-packages\\pandas\\core\\indexes\\base.py:2825: RuntimeWarning: invalid value encountered in less_equal\n",
      "  indexer = np.where(op(left_distances, right_distances) |\n"
     ]
    },
    {
     "name": "stdout",
     "output_type": "stream",
     "text": [
      "(1501, 1995)\n"
     ]
    },
    {
     "name": "stderr",
     "output_type": "stream",
     "text": [
      "C:\\Users\\steve\\Anaconda3\\envs\\rasterenv\\lib\\site-packages\\ipykernel_launcher.py:14: UserWarning: Tight layout not applied. The left and right margins cannot be made large enough to accommodate all axes decorations. \n",
      "  \n",
      "C:\\Users\\steve\\Anaconda3\\envs\\rasterenv\\lib\\site-packages\\pandas\\core\\indexes\\base.py:2825: RuntimeWarning: invalid value encountered in less\n",
      "  indexer = np.where(op(left_distances, right_distances) |\n",
      "C:\\Users\\steve\\Anaconda3\\envs\\rasterenv\\lib\\site-packages\\pandas\\core\\indexes\\base.py:2825: RuntimeWarning: invalid value encountered in less_equal\n",
      "  indexer = np.where(op(left_distances, right_distances) |\n"
     ]
    },
    {
     "name": "stdout",
     "output_type": "stream",
     "text": [
      "(1501, 1995)\n"
     ]
    },
    {
     "name": "stderr",
     "output_type": "stream",
     "text": [
      "C:\\Users\\steve\\Anaconda3\\envs\\rasterenv\\lib\\site-packages\\ipykernel_launcher.py:14: UserWarning: Tight layout not applied. The left and right margins cannot be made large enough to accommodate all axes decorations. \n",
      "  \n",
      "C:\\Users\\steve\\Anaconda3\\envs\\rasterenv\\lib\\site-packages\\pandas\\core\\indexes\\base.py:2825: RuntimeWarning: invalid value encountered in less\n",
      "  indexer = np.where(op(left_distances, right_distances) |\n",
      "C:\\Users\\steve\\Anaconda3\\envs\\rasterenv\\lib\\site-packages\\pandas\\core\\indexes\\base.py:2825: RuntimeWarning: invalid value encountered in less_equal\n",
      "  indexer = np.where(op(left_distances, right_distances) |\n"
     ]
    },
    {
     "name": "stdout",
     "output_type": "stream",
     "text": [
      "(1501, 1995)\n"
     ]
    },
    {
     "name": "stderr",
     "output_type": "stream",
     "text": [
      "C:\\Users\\steve\\Anaconda3\\envs\\rasterenv\\lib\\site-packages\\ipykernel_launcher.py:14: UserWarning: Tight layout not applied. The left and right margins cannot be made large enough to accommodate all axes decorations. \n",
      "  \n",
      "C:\\Users\\steve\\Anaconda3\\envs\\rasterenv\\lib\\site-packages\\pandas\\core\\indexes\\base.py:2825: RuntimeWarning: invalid value encountered in less\n",
      "  indexer = np.where(op(left_distances, right_distances) |\n",
      "C:\\Users\\steve\\Anaconda3\\envs\\rasterenv\\lib\\site-packages\\pandas\\core\\indexes\\base.py:2825: RuntimeWarning: invalid value encountered in less_equal\n",
      "  indexer = np.where(op(left_distances, right_distances) |\n"
     ]
    },
    {
     "name": "stdout",
     "output_type": "stream",
     "text": [
      "(1501, 1995)\n"
     ]
    },
    {
     "name": "stderr",
     "output_type": "stream",
     "text": [
      "C:\\Users\\steve\\Anaconda3\\envs\\rasterenv\\lib\\site-packages\\ipykernel_launcher.py:14: UserWarning: Tight layout not applied. The left and right margins cannot be made large enough to accommodate all axes decorations. \n",
      "  \n",
      "C:\\Users\\steve\\Anaconda3\\envs\\rasterenv\\lib\\site-packages\\pandas\\core\\indexes\\base.py:2825: RuntimeWarning: invalid value encountered in less\n",
      "  indexer = np.where(op(left_distances, right_distances) |\n",
      "C:\\Users\\steve\\Anaconda3\\envs\\rasterenv\\lib\\site-packages\\pandas\\core\\indexes\\base.py:2825: RuntimeWarning: invalid value encountered in less_equal\n",
      "  indexer = np.where(op(left_distances, right_distances) |\n"
     ]
    },
    {
     "name": "stdout",
     "output_type": "stream",
     "text": [
      "(1501, 1995)\n"
     ]
    },
    {
     "name": "stderr",
     "output_type": "stream",
     "text": [
      "C:\\Users\\steve\\Anaconda3\\envs\\rasterenv\\lib\\site-packages\\ipykernel_launcher.py:14: UserWarning: Tight layout not applied. The left and right margins cannot be made large enough to accommodate all axes decorations. \n",
      "  \n",
      "C:\\Users\\steve\\Anaconda3\\envs\\rasterenv\\lib\\site-packages\\pandas\\core\\indexes\\base.py:2825: RuntimeWarning: invalid value encountered in less\n",
      "  indexer = np.where(op(left_distances, right_distances) |\n",
      "C:\\Users\\steve\\Anaconda3\\envs\\rasterenv\\lib\\site-packages\\pandas\\core\\indexes\\base.py:2825: RuntimeWarning: invalid value encountered in less_equal\n",
      "  indexer = np.where(op(left_distances, right_distances) |\n"
     ]
    },
    {
     "name": "stdout",
     "output_type": "stream",
     "text": [
      "(1501, 1995)\n"
     ]
    },
    {
     "name": "stderr",
     "output_type": "stream",
     "text": [
      "C:\\Users\\steve\\Anaconda3\\envs\\rasterenv\\lib\\site-packages\\ipykernel_launcher.py:14: UserWarning: Tight layout not applied. The left and right margins cannot be made large enough to accommodate all axes decorations. \n",
      "  \n",
      "C:\\Users\\steve\\Anaconda3\\envs\\rasterenv\\lib\\site-packages\\pandas\\core\\indexes\\base.py:2825: RuntimeWarning: invalid value encountered in less\n",
      "  indexer = np.where(op(left_distances, right_distances) |\n",
      "C:\\Users\\steve\\Anaconda3\\envs\\rasterenv\\lib\\site-packages\\pandas\\core\\indexes\\base.py:2825: RuntimeWarning: invalid value encountered in less_equal\n",
      "  indexer = np.where(op(left_distances, right_distances) |\n"
     ]
    },
    {
     "name": "stdout",
     "output_type": "stream",
     "text": [
      "(1501, 1995)\n"
     ]
    },
    {
     "name": "stderr",
     "output_type": "stream",
     "text": [
      "C:\\Users\\steve\\Anaconda3\\envs\\rasterenv\\lib\\site-packages\\ipykernel_launcher.py:14: UserWarning: Tight layout not applied. The left and right margins cannot be made large enough to accommodate all axes decorations. \n",
      "  \n",
      "C:\\Users\\steve\\Anaconda3\\envs\\rasterenv\\lib\\site-packages\\pandas\\core\\indexes\\base.py:2825: RuntimeWarning: invalid value encountered in less\n",
      "  indexer = np.where(op(left_distances, right_distances) |\n",
      "C:\\Users\\steve\\Anaconda3\\envs\\rasterenv\\lib\\site-packages\\pandas\\core\\indexes\\base.py:2825: RuntimeWarning: invalid value encountered in less_equal\n",
      "  indexer = np.where(op(left_distances, right_distances) |\n"
     ]
    },
    {
     "name": "stdout",
     "output_type": "stream",
     "text": [
      "(1501, 1995)\n"
     ]
    },
    {
     "name": "stderr",
     "output_type": "stream",
     "text": [
      "C:\\Users\\steve\\Anaconda3\\envs\\rasterenv\\lib\\site-packages\\ipykernel_launcher.py:14: UserWarning: Tight layout not applied. The left and right margins cannot be made large enough to accommodate all axes decorations. \n",
      "  \n",
      "C:\\Users\\steve\\Anaconda3\\envs\\rasterenv\\lib\\site-packages\\pandas\\core\\indexes\\base.py:2825: RuntimeWarning: invalid value encountered in less\n",
      "  indexer = np.where(op(left_distances, right_distances) |\n",
      "C:\\Users\\steve\\Anaconda3\\envs\\rasterenv\\lib\\site-packages\\pandas\\core\\indexes\\base.py:2825: RuntimeWarning: invalid value encountered in less_equal\n",
      "  indexer = np.where(op(left_distances, right_distances) |\n"
     ]
    },
    {
     "name": "stdout",
     "output_type": "stream",
     "text": [
      "(1501, 1995)\n"
     ]
    },
    {
     "name": "stderr",
     "output_type": "stream",
     "text": [
      "C:\\Users\\steve\\Anaconda3\\envs\\rasterenv\\lib\\site-packages\\ipykernel_launcher.py:14: UserWarning: Tight layout not applied. The left and right margins cannot be made large enough to accommodate all axes decorations. \n",
      "  \n",
      "C:\\Users\\steve\\Anaconda3\\envs\\rasterenv\\lib\\site-packages\\pandas\\core\\indexes\\base.py:2825: RuntimeWarning: invalid value encountered in less\n",
      "  indexer = np.where(op(left_distances, right_distances) |\n",
      "C:\\Users\\steve\\Anaconda3\\envs\\rasterenv\\lib\\site-packages\\pandas\\core\\indexes\\base.py:2825: RuntimeWarning: invalid value encountered in less_equal\n",
      "  indexer = np.where(op(left_distances, right_distances) |\n"
     ]
    },
    {
     "name": "stdout",
     "output_type": "stream",
     "text": [
      "(1501, 1995)\n"
     ]
    },
    {
     "name": "stderr",
     "output_type": "stream",
     "text": [
      "C:\\Users\\steve\\Anaconda3\\envs\\rasterenv\\lib\\site-packages\\ipykernel_launcher.py:14: UserWarning: Tight layout not applied. The left and right margins cannot be made large enough to accommodate all axes decorations. \n",
      "  \n",
      "C:\\Users\\steve\\Anaconda3\\envs\\rasterenv\\lib\\site-packages\\pandas\\core\\indexes\\base.py:2825: RuntimeWarning: invalid value encountered in less\n",
      "  indexer = np.where(op(left_distances, right_distances) |\n",
      "C:\\Users\\steve\\Anaconda3\\envs\\rasterenv\\lib\\site-packages\\pandas\\core\\indexes\\base.py:2825: RuntimeWarning: invalid value encountered in less_equal\n",
      "  indexer = np.where(op(left_distances, right_distances) |\n"
     ]
    },
    {
     "name": "stdout",
     "output_type": "stream",
     "text": [
      "(1501, 1995)\n"
     ]
    },
    {
     "name": "stderr",
     "output_type": "stream",
     "text": [
      "C:\\Users\\steve\\Anaconda3\\envs\\rasterenv\\lib\\site-packages\\ipykernel_launcher.py:14: UserWarning: Tight layout not applied. The left and right margins cannot be made large enough to accommodate all axes decorations. \n",
      "  \n",
      "C:\\Users\\steve\\Anaconda3\\envs\\rasterenv\\lib\\site-packages\\pandas\\core\\indexes\\base.py:2825: RuntimeWarning: invalid value encountered in less\n",
      "  indexer = np.where(op(left_distances, right_distances) |\n",
      "C:\\Users\\steve\\Anaconda3\\envs\\rasterenv\\lib\\site-packages\\pandas\\core\\indexes\\base.py:2825: RuntimeWarning: invalid value encountered in less_equal\n",
      "  indexer = np.where(op(left_distances, right_distances) |\n"
     ]
    },
    {
     "name": "stdout",
     "output_type": "stream",
     "text": [
      "(1501, 1995)\n"
     ]
    },
    {
     "name": "stderr",
     "output_type": "stream",
     "text": [
      "C:\\Users\\steve\\Anaconda3\\envs\\rasterenv\\lib\\site-packages\\ipykernel_launcher.py:14: UserWarning: Tight layout not applied. The left and right margins cannot be made large enough to accommodate all axes decorations. \n",
      "  \n",
      "C:\\Users\\steve\\Anaconda3\\envs\\rasterenv\\lib\\site-packages\\pandas\\core\\indexes\\base.py:2825: RuntimeWarning: invalid value encountered in less\n",
      "  indexer = np.where(op(left_distances, right_distances) |\n",
      "C:\\Users\\steve\\Anaconda3\\envs\\rasterenv\\lib\\site-packages\\pandas\\core\\indexes\\base.py:2825: RuntimeWarning: invalid value encountered in less_equal\n",
      "  indexer = np.where(op(left_distances, right_distances) |\n"
     ]
    },
    {
     "name": "stdout",
     "output_type": "stream",
     "text": [
      "(1501, 1995)\n"
     ]
    },
    {
     "name": "stderr",
     "output_type": "stream",
     "text": [
      "C:\\Users\\steve\\Anaconda3\\envs\\rasterenv\\lib\\site-packages\\ipykernel_launcher.py:14: UserWarning: Tight layout not applied. The left and right margins cannot be made large enough to accommodate all axes decorations. \n",
      "  \n",
      "C:\\Users\\steve\\Anaconda3\\envs\\rasterenv\\lib\\site-packages\\pandas\\core\\indexes\\base.py:2825: RuntimeWarning: invalid value encountered in less\n",
      "  indexer = np.where(op(left_distances, right_distances) |\n",
      "C:\\Users\\steve\\Anaconda3\\envs\\rasterenv\\lib\\site-packages\\pandas\\core\\indexes\\base.py:2825: RuntimeWarning: invalid value encountered in less_equal\n",
      "  indexer = np.where(op(left_distances, right_distances) |\n"
     ]
    },
    {
     "name": "stdout",
     "output_type": "stream",
     "text": [
      "(1501, 1995)\n"
     ]
    },
    {
     "name": "stderr",
     "output_type": "stream",
     "text": [
      "C:\\Users\\steve\\Anaconda3\\envs\\rasterenv\\lib\\site-packages\\ipykernel_launcher.py:14: UserWarning: Tight layout not applied. The left and right margins cannot be made large enough to accommodate all axes decorations. \n",
      "  \n",
      "C:\\Users\\steve\\Anaconda3\\envs\\rasterenv\\lib\\site-packages\\pandas\\core\\indexes\\base.py:2825: RuntimeWarning: invalid value encountered in less\n",
      "  indexer = np.where(op(left_distances, right_distances) |\n",
      "C:\\Users\\steve\\Anaconda3\\envs\\rasterenv\\lib\\site-packages\\pandas\\core\\indexes\\base.py:2825: RuntimeWarning: invalid value encountered in less_equal\n",
      "  indexer = np.where(op(left_distances, right_distances) |\n"
     ]
    },
    {
     "name": "stdout",
     "output_type": "stream",
     "text": [
      "(1501, 1995)\n"
     ]
    },
    {
     "name": "stderr",
     "output_type": "stream",
     "text": [
      "C:\\Users\\steve\\Anaconda3\\envs\\rasterenv\\lib\\site-packages\\ipykernel_launcher.py:14: UserWarning: Tight layout not applied. The left and right margins cannot be made large enough to accommodate all axes decorations. \n",
      "  \n",
      "C:\\Users\\steve\\Anaconda3\\envs\\rasterenv\\lib\\site-packages\\pandas\\core\\indexes\\base.py:2825: RuntimeWarning: invalid value encountered in less\n",
      "  indexer = np.where(op(left_distances, right_distances) |\n",
      "C:\\Users\\steve\\Anaconda3\\envs\\rasterenv\\lib\\site-packages\\pandas\\core\\indexes\\base.py:2825: RuntimeWarning: invalid value encountered in less_equal\n",
      "  indexer = np.where(op(left_distances, right_distances) |\n"
     ]
    },
    {
     "name": "stdout",
     "output_type": "stream",
     "text": [
      "(1501, 1995)\n"
     ]
    },
    {
     "name": "stderr",
     "output_type": "stream",
     "text": [
      "C:\\Users\\steve\\Anaconda3\\envs\\rasterenv\\lib\\site-packages\\ipykernel_launcher.py:14: UserWarning: Tight layout not applied. The left and right margins cannot be made large enough to accommodate all axes decorations. \n",
      "  \n",
      "C:\\Users\\steve\\Anaconda3\\envs\\rasterenv\\lib\\site-packages\\pandas\\core\\indexes\\base.py:2825: RuntimeWarning: invalid value encountered in less\n",
      "  indexer = np.where(op(left_distances, right_distances) |\n",
      "C:\\Users\\steve\\Anaconda3\\envs\\rasterenv\\lib\\site-packages\\pandas\\core\\indexes\\base.py:2825: RuntimeWarning: invalid value encountered in less_equal\n",
      "  indexer = np.where(op(left_distances, right_distances) |\n"
     ]
    },
    {
     "name": "stdout",
     "output_type": "stream",
     "text": [
      "(1501, 1995)\n"
     ]
    },
    {
     "name": "stderr",
     "output_type": "stream",
     "text": [
      "C:\\Users\\steve\\Anaconda3\\envs\\rasterenv\\lib\\site-packages\\ipykernel_launcher.py:14: UserWarning: Tight layout not applied. The left and right margins cannot be made large enough to accommodate all axes decorations. \n",
      "  \n",
      "C:\\Users\\steve\\Anaconda3\\envs\\rasterenv\\lib\\site-packages\\pandas\\core\\indexes\\base.py:2825: RuntimeWarning: invalid value encountered in less\n",
      "  indexer = np.where(op(left_distances, right_distances) |\n",
      "C:\\Users\\steve\\Anaconda3\\envs\\rasterenv\\lib\\site-packages\\pandas\\core\\indexes\\base.py:2825: RuntimeWarning: invalid value encountered in less_equal\n",
      "  indexer = np.where(op(left_distances, right_distances) |\n"
     ]
    },
    {
     "name": "stdout",
     "output_type": "stream",
     "text": [
      "(1501, 1995)\n"
     ]
    },
    {
     "name": "stderr",
     "output_type": "stream",
     "text": [
      "C:\\Users\\steve\\Anaconda3\\envs\\rasterenv\\lib\\site-packages\\ipykernel_launcher.py:14: UserWarning: Tight layout not applied. The left and right margins cannot be made large enough to accommodate all axes decorations. \n",
      "  \n",
      "C:\\Users\\steve\\Anaconda3\\envs\\rasterenv\\lib\\site-packages\\pandas\\core\\indexes\\base.py:2825: RuntimeWarning: invalid value encountered in less\n",
      "  indexer = np.where(op(left_distances, right_distances) |\n",
      "C:\\Users\\steve\\Anaconda3\\envs\\rasterenv\\lib\\site-packages\\pandas\\core\\indexes\\base.py:2825: RuntimeWarning: invalid value encountered in less_equal\n",
      "  indexer = np.where(op(left_distances, right_distances) |\n"
     ]
    },
    {
     "name": "stdout",
     "output_type": "stream",
     "text": [
      "(1501, 1995)\n"
     ]
    },
    {
     "name": "stderr",
     "output_type": "stream",
     "text": [
      "C:\\Users\\steve\\Anaconda3\\envs\\rasterenv\\lib\\site-packages\\ipykernel_launcher.py:14: UserWarning: Tight layout not applied. The left and right margins cannot be made large enough to accommodate all axes decorations. \n",
      "  \n",
      "C:\\Users\\steve\\Anaconda3\\envs\\rasterenv\\lib\\site-packages\\pandas\\core\\indexes\\base.py:2825: RuntimeWarning: invalid value encountered in less\n",
      "  indexer = np.where(op(left_distances, right_distances) |\n",
      "C:\\Users\\steve\\Anaconda3\\envs\\rasterenv\\lib\\site-packages\\pandas\\core\\indexes\\base.py:2825: RuntimeWarning: invalid value encountered in less_equal\n",
      "  indexer = np.where(op(left_distances, right_distances) |\n"
     ]
    },
    {
     "name": "stdout",
     "output_type": "stream",
     "text": [
      "(1501, 1995)\n"
     ]
    },
    {
     "name": "stderr",
     "output_type": "stream",
     "text": [
      "C:\\Users\\steve\\Anaconda3\\envs\\rasterenv\\lib\\site-packages\\ipykernel_launcher.py:14: UserWarning: Tight layout not applied. The left and right margins cannot be made large enough to accommodate all axes decorations. \n",
      "  \n",
      "C:\\Users\\steve\\Anaconda3\\envs\\rasterenv\\lib\\site-packages\\pandas\\core\\indexes\\base.py:2825: RuntimeWarning: invalid value encountered in less\n",
      "  indexer = np.where(op(left_distances, right_distances) |\n",
      "C:\\Users\\steve\\Anaconda3\\envs\\rasterenv\\lib\\site-packages\\pandas\\core\\indexes\\base.py:2825: RuntimeWarning: invalid value encountered in less_equal\n",
      "  indexer = np.where(op(left_distances, right_distances) |\n"
     ]
    },
    {
     "name": "stdout",
     "output_type": "stream",
     "text": [
      "(1501, 1995)\n"
     ]
    },
    {
     "name": "stderr",
     "output_type": "stream",
     "text": [
      "C:\\Users\\steve\\Anaconda3\\envs\\rasterenv\\lib\\site-packages\\ipykernel_launcher.py:14: UserWarning: Tight layout not applied. The left and right margins cannot be made large enough to accommodate all axes decorations. \n",
      "  \n",
      "C:\\Users\\steve\\Anaconda3\\envs\\rasterenv\\lib\\site-packages\\pandas\\core\\indexes\\base.py:2825: RuntimeWarning: invalid value encountered in less\n",
      "  indexer = np.where(op(left_distances, right_distances) |\n",
      "C:\\Users\\steve\\Anaconda3\\envs\\rasterenv\\lib\\site-packages\\pandas\\core\\indexes\\base.py:2825: RuntimeWarning: invalid value encountered in less_equal\n",
      "  indexer = np.where(op(left_distances, right_distances) |\n"
     ]
    },
    {
     "name": "stdout",
     "output_type": "stream",
     "text": [
      "(1501, 1995)\n"
     ]
    },
    {
     "name": "stderr",
     "output_type": "stream",
     "text": [
      "C:\\Users\\steve\\Anaconda3\\envs\\rasterenv\\lib\\site-packages\\ipykernel_launcher.py:14: UserWarning: Tight layout not applied. The left and right margins cannot be made large enough to accommodate all axes decorations. \n",
      "  \n",
      "C:\\Users\\steve\\Anaconda3\\envs\\rasterenv\\lib\\site-packages\\pandas\\core\\indexes\\base.py:2825: RuntimeWarning: invalid value encountered in less\n",
      "  indexer = np.where(op(left_distances, right_distances) |\n",
      "C:\\Users\\steve\\Anaconda3\\envs\\rasterenv\\lib\\site-packages\\pandas\\core\\indexes\\base.py:2825: RuntimeWarning: invalid value encountered in less_equal\n",
      "  indexer = np.where(op(left_distances, right_distances) |\n"
     ]
    },
    {
     "name": "stdout",
     "output_type": "stream",
     "text": [
      "(1501, 1995)\n"
     ]
    },
    {
     "name": "stderr",
     "output_type": "stream",
     "text": [
      "C:\\Users\\steve\\Anaconda3\\envs\\rasterenv\\lib\\site-packages\\ipykernel_launcher.py:14: UserWarning: Tight layout not applied. The left and right margins cannot be made large enough to accommodate all axes decorations. \n",
      "  \n",
      "C:\\Users\\steve\\Anaconda3\\envs\\rasterenv\\lib\\site-packages\\pandas\\core\\indexes\\base.py:2825: RuntimeWarning: invalid value encountered in less\n",
      "  indexer = np.where(op(left_distances, right_distances) |\n",
      "C:\\Users\\steve\\Anaconda3\\envs\\rasterenv\\lib\\site-packages\\pandas\\core\\indexes\\base.py:2825: RuntimeWarning: invalid value encountered in less_equal\n",
      "  indexer = np.where(op(left_distances, right_distances) |\n"
     ]
    },
    {
     "name": "stdout",
     "output_type": "stream",
     "text": [
      "(1501, 1995)\n"
     ]
    },
    {
     "name": "stderr",
     "output_type": "stream",
     "text": [
      "C:\\Users\\steve\\Anaconda3\\envs\\rasterenv\\lib\\site-packages\\ipykernel_launcher.py:14: UserWarning: Tight layout not applied. The left and right margins cannot be made large enough to accommodate all axes decorations. \n",
      "  \n",
      "C:\\Users\\steve\\Anaconda3\\envs\\rasterenv\\lib\\site-packages\\pandas\\core\\indexes\\base.py:2825: RuntimeWarning: invalid value encountered in less\n",
      "  indexer = np.where(op(left_distances, right_distances) |\n",
      "C:\\Users\\steve\\Anaconda3\\envs\\rasterenv\\lib\\site-packages\\pandas\\core\\indexes\\base.py:2825: RuntimeWarning: invalid value encountered in less_equal\n",
      "  indexer = np.where(op(left_distances, right_distances) |\n"
     ]
    },
    {
     "name": "stdout",
     "output_type": "stream",
     "text": [
      "(1501, 1995)\n"
     ]
    },
    {
     "name": "stderr",
     "output_type": "stream",
     "text": [
      "C:\\Users\\steve\\Anaconda3\\envs\\rasterenv\\lib\\site-packages\\ipykernel_launcher.py:14: UserWarning: Tight layout not applied. The left and right margins cannot be made large enough to accommodate all axes decorations. \n",
      "  \n",
      "C:\\Users\\steve\\Anaconda3\\envs\\rasterenv\\lib\\site-packages\\pandas\\core\\indexes\\base.py:2825: RuntimeWarning: invalid value encountered in less\n",
      "  indexer = np.where(op(left_distances, right_distances) |\n",
      "C:\\Users\\steve\\Anaconda3\\envs\\rasterenv\\lib\\site-packages\\pandas\\core\\indexes\\base.py:2825: RuntimeWarning: invalid value encountered in less_equal\n",
      "  indexer = np.where(op(left_distances, right_distances) |\n"
     ]
    },
    {
     "name": "stdout",
     "output_type": "stream",
     "text": [
      "(1501, 1995)\n"
     ]
    },
    {
     "name": "stderr",
     "output_type": "stream",
     "text": [
      "C:\\Users\\steve\\Anaconda3\\envs\\rasterenv\\lib\\site-packages\\ipykernel_launcher.py:14: UserWarning: Tight layout not applied. The left and right margins cannot be made large enough to accommodate all axes decorations. \n",
      "  \n",
      "C:\\Users\\steve\\Anaconda3\\envs\\rasterenv\\lib\\site-packages\\pandas\\core\\indexes\\base.py:2825: RuntimeWarning: invalid value encountered in less\n",
      "  indexer = np.where(op(left_distances, right_distances) |\n",
      "C:\\Users\\steve\\Anaconda3\\envs\\rasterenv\\lib\\site-packages\\pandas\\core\\indexes\\base.py:2825: RuntimeWarning: invalid value encountered in less_equal\n",
      "  indexer = np.where(op(left_distances, right_distances) |\n"
     ]
    },
    {
     "name": "stdout",
     "output_type": "stream",
     "text": [
      "(1501, 1995)\n"
     ]
    },
    {
     "name": "stderr",
     "output_type": "stream",
     "text": [
      "C:\\Users\\steve\\Anaconda3\\envs\\rasterenv\\lib\\site-packages\\ipykernel_launcher.py:14: UserWarning: Tight layout not applied. The left and right margins cannot be made large enough to accommodate all axes decorations. \n",
      "  \n",
      "C:\\Users\\steve\\Anaconda3\\envs\\rasterenv\\lib\\site-packages\\pandas\\core\\indexes\\base.py:2825: RuntimeWarning: invalid value encountered in less\n",
      "  indexer = np.where(op(left_distances, right_distances) |\n",
      "C:\\Users\\steve\\Anaconda3\\envs\\rasterenv\\lib\\site-packages\\pandas\\core\\indexes\\base.py:2825: RuntimeWarning: invalid value encountered in less_equal\n",
      "  indexer = np.where(op(left_distances, right_distances) |\n"
     ]
    },
    {
     "name": "stdout",
     "output_type": "stream",
     "text": [
      "(1501, 1995)\n"
     ]
    },
    {
     "name": "stderr",
     "output_type": "stream",
     "text": [
      "C:\\Users\\steve\\Anaconda3\\envs\\rasterenv\\lib\\site-packages\\ipykernel_launcher.py:14: UserWarning: Tight layout not applied. The left and right margins cannot be made large enough to accommodate all axes decorations. \n",
      "  \n"
     ]
    },
    {
     "ename": "KeyboardInterrupt",
     "evalue": "",
     "output_type": "error",
     "traceback": [
      "\u001b[1;31m---------------------------------------------------------------------------\u001b[0m",
      "\u001b[1;31mKeyboardInterrupt\u001b[0m                         Traceback (most recent call last)",
      "\u001b[1;32m<ipython-input-152-60b25cbb69ba>\u001b[0m in \u001b[0;36m<module>\u001b[1;34m\u001b[0m\n\u001b[0;32m     13\u001b[0m         \u001b[0mplt\u001b[0m\u001b[1;33m.\u001b[0m\u001b[0mtitle\u001b[0m\u001b[1;33m(\u001b[0m\u001b[0mfilename\u001b[0m\u001b[1;33m)\u001b[0m\u001b[1;33m\u001b[0m\u001b[1;33m\u001b[0m\u001b[0m\n\u001b[0;32m     14\u001b[0m         \u001b[0mplt\u001b[0m\u001b[1;33m.\u001b[0m\u001b[0mtight_layout\u001b[0m\u001b[1;33m(\u001b[0m\u001b[1;33m)\u001b[0m\u001b[1;33m\u001b[0m\u001b[1;33m\u001b[0m\u001b[0m\n\u001b[1;32m---> 15\u001b[1;33m         \u001b[0mplt\u001b[0m\u001b[1;33m.\u001b[0m\u001b[0msavefig\u001b[0m\u001b[1;33m(\u001b[0m\u001b[0mfilename\u001b[0m\u001b[1;33m+\u001b[0m\u001b[1;34m'_orthorectified.jpg'\u001b[0m\u001b[1;33m)\u001b[0m\u001b[1;33m\u001b[0m\u001b[1;33m\u001b[0m\u001b[0m\n\u001b[0m\u001b[0;32m     16\u001b[0m         \u001b[0mplt\u001b[0m\u001b[1;33m.\u001b[0m\u001b[0mclose\u001b[0m\u001b[1;33m(\u001b[0m\u001b[1;33m)\u001b[0m\u001b[1;33m\u001b[0m\u001b[1;33m\u001b[0m\u001b[0m\n",
      "\u001b[1;32m~\\Anaconda3\\envs\\rasterenv\\lib\\site-packages\\matplotlib\\pyplot.py\u001b[0m in \u001b[0;36msavefig\u001b[1;34m(*args, **kwargs)\u001b[0m\n\u001b[0;32m    714\u001b[0m \u001b[1;32mdef\u001b[0m \u001b[0msavefig\u001b[0m\u001b[1;33m(\u001b[0m\u001b[1;33m*\u001b[0m\u001b[0margs\u001b[0m\u001b[1;33m,\u001b[0m \u001b[1;33m**\u001b[0m\u001b[0mkwargs\u001b[0m\u001b[1;33m)\u001b[0m\u001b[1;33m:\u001b[0m\u001b[1;33m\u001b[0m\u001b[1;33m\u001b[0m\u001b[0m\n\u001b[0;32m    715\u001b[0m     \u001b[0mfig\u001b[0m \u001b[1;33m=\u001b[0m \u001b[0mgcf\u001b[0m\u001b[1;33m(\u001b[0m\u001b[1;33m)\u001b[0m\u001b[1;33m\u001b[0m\u001b[1;33m\u001b[0m\u001b[0m\n\u001b[1;32m--> 716\u001b[1;33m     \u001b[0mres\u001b[0m \u001b[1;33m=\u001b[0m \u001b[0mfig\u001b[0m\u001b[1;33m.\u001b[0m\u001b[0msavefig\u001b[0m\u001b[1;33m(\u001b[0m\u001b[1;33m*\u001b[0m\u001b[0margs\u001b[0m\u001b[1;33m,\u001b[0m \u001b[1;33m**\u001b[0m\u001b[0mkwargs\u001b[0m\u001b[1;33m)\u001b[0m\u001b[1;33m\u001b[0m\u001b[1;33m\u001b[0m\u001b[0m\n\u001b[0m\u001b[0;32m    717\u001b[0m     \u001b[0mfig\u001b[0m\u001b[1;33m.\u001b[0m\u001b[0mcanvas\u001b[0m\u001b[1;33m.\u001b[0m\u001b[0mdraw_idle\u001b[0m\u001b[1;33m(\u001b[0m\u001b[1;33m)\u001b[0m   \u001b[1;31m# need this if 'transparent=True' to reset colors\u001b[0m\u001b[1;33m\u001b[0m\u001b[1;33m\u001b[0m\u001b[0m\n\u001b[0;32m    718\u001b[0m     \u001b[1;32mreturn\u001b[0m \u001b[0mres\u001b[0m\u001b[1;33m\u001b[0m\u001b[1;33m\u001b[0m\u001b[0m\n",
      "\u001b[1;32m~\\Anaconda3\\envs\\rasterenv\\lib\\site-packages\\matplotlib\\figure.py\u001b[0m in \u001b[0;36msavefig\u001b[1;34m(self, fname, transparent, **kwargs)\u001b[0m\n\u001b[0;32m   2178\u001b[0m             \u001b[0mself\u001b[0m\u001b[1;33m.\u001b[0m\u001b[0mpatch\u001b[0m\u001b[1;33m.\u001b[0m\u001b[0mset_visible\u001b[0m\u001b[1;33m(\u001b[0m\u001b[0mframeon\u001b[0m\u001b[1;33m)\u001b[0m\u001b[1;33m\u001b[0m\u001b[1;33m\u001b[0m\u001b[0m\n\u001b[0;32m   2179\u001b[0m \u001b[1;33m\u001b[0m\u001b[0m\n\u001b[1;32m-> 2180\u001b[1;33m         \u001b[0mself\u001b[0m\u001b[1;33m.\u001b[0m\u001b[0mcanvas\u001b[0m\u001b[1;33m.\u001b[0m\u001b[0mprint_figure\u001b[0m\u001b[1;33m(\u001b[0m\u001b[0mfname\u001b[0m\u001b[1;33m,\u001b[0m \u001b[1;33m**\u001b[0m\u001b[0mkwargs\u001b[0m\u001b[1;33m)\u001b[0m\u001b[1;33m\u001b[0m\u001b[1;33m\u001b[0m\u001b[0m\n\u001b[0m\u001b[0;32m   2181\u001b[0m \u001b[1;33m\u001b[0m\u001b[0m\n\u001b[0;32m   2182\u001b[0m         \u001b[1;32mif\u001b[0m \u001b[0mframeon\u001b[0m\u001b[1;33m:\u001b[0m\u001b[1;33m\u001b[0m\u001b[1;33m\u001b[0m\u001b[0m\n",
      "\u001b[1;32m~\\Anaconda3\\envs\\rasterenv\\lib\\site-packages\\matplotlib\\backend_bases.py\u001b[0m in \u001b[0;36mprint_figure\u001b[1;34m(self, filename, dpi, facecolor, edgecolor, orientation, format, bbox_inches, **kwargs)\u001b[0m\n\u001b[0;32m   2080\u001b[0m                     \u001b[0morientation\u001b[0m\u001b[1;33m=\u001b[0m\u001b[0morientation\u001b[0m\u001b[1;33m,\u001b[0m\u001b[1;33m\u001b[0m\u001b[1;33m\u001b[0m\u001b[0m\n\u001b[0;32m   2081\u001b[0m                     \u001b[0mbbox_inches_restore\u001b[0m\u001b[1;33m=\u001b[0m\u001b[0m_bbox_inches_restore\u001b[0m\u001b[1;33m,\u001b[0m\u001b[1;33m\u001b[0m\u001b[1;33m\u001b[0m\u001b[0m\n\u001b[1;32m-> 2082\u001b[1;33m                     **kwargs)\n\u001b[0m\u001b[0;32m   2083\u001b[0m             \u001b[1;32mfinally\u001b[0m\u001b[1;33m:\u001b[0m\u001b[1;33m\u001b[0m\u001b[1;33m\u001b[0m\u001b[0m\n\u001b[0;32m   2084\u001b[0m                 \u001b[1;32mif\u001b[0m \u001b[0mbbox_inches\u001b[0m \u001b[1;32mand\u001b[0m \u001b[0mrestore_bbox\u001b[0m\u001b[1;33m:\u001b[0m\u001b[1;33m\u001b[0m\u001b[1;33m\u001b[0m\u001b[0m\n",
      "\u001b[1;32m~\\Anaconda3\\envs\\rasterenv\\lib\\site-packages\\matplotlib\\backends\\backend_agg.py\u001b[0m in \u001b[0;36mprint_jpg\u001b[1;34m(self, filename_or_obj, dryrun, pil_kwargs, *args, **kwargs)\u001b[0m\n\u001b[0;32m    595\u001b[0m             \u001b[0mpil_kwargs\u001b[0m\u001b[1;33m.\u001b[0m\u001b[0msetdefault\u001b[0m\u001b[1;33m(\u001b[0m\u001b[1;34m\"dpi\"\u001b[0m\u001b[1;33m,\u001b[0m \u001b[1;33m(\u001b[0m\u001b[0mself\u001b[0m\u001b[1;33m.\u001b[0m\u001b[0mfigure\u001b[0m\u001b[1;33m.\u001b[0m\u001b[0mdpi\u001b[0m\u001b[1;33m,\u001b[0m \u001b[0mself\u001b[0m\u001b[1;33m.\u001b[0m\u001b[0mfigure\u001b[0m\u001b[1;33m.\u001b[0m\u001b[0mdpi\u001b[0m\u001b[1;33m)\u001b[0m\u001b[1;33m)\u001b[0m\u001b[1;33m\u001b[0m\u001b[1;33m\u001b[0m\u001b[0m\n\u001b[0;32m    596\u001b[0m             return background.save(\n\u001b[1;32m--> 597\u001b[1;33m                 filename_or_obj, format='jpeg', **pil_kwargs)\n\u001b[0m\u001b[0;32m    598\u001b[0m \u001b[1;33m\u001b[0m\u001b[0m\n\u001b[0;32m    599\u001b[0m         \u001b[0mprint_jpeg\u001b[0m \u001b[1;33m=\u001b[0m \u001b[0mprint_jpg\u001b[0m\u001b[1;33m\u001b[0m\u001b[1;33m\u001b[0m\u001b[0m\n",
      "\u001b[1;32m~\\Anaconda3\\envs\\rasterenv\\lib\\site-packages\\PIL\\Image.py\u001b[0m in \u001b[0;36msave\u001b[1;34m(self, fp, format, **params)\u001b[0m\n\u001b[0;32m   2002\u001b[0m                 \u001b[1;31m# Open also for reading (\"+\"), because TIFF save_all\u001b[0m\u001b[1;33m\u001b[0m\u001b[1;33m\u001b[0m\u001b[1;33m\u001b[0m\u001b[0m\n\u001b[0;32m   2003\u001b[0m                 \u001b[1;31m# writer needs to go back and edit the written data.\u001b[0m\u001b[1;33m\u001b[0m\u001b[1;33m\u001b[0m\u001b[1;33m\u001b[0m\u001b[0m\n\u001b[1;32m-> 2004\u001b[1;33m                 \u001b[0mfp\u001b[0m \u001b[1;33m=\u001b[0m \u001b[0mbuiltins\u001b[0m\u001b[1;33m.\u001b[0m\u001b[0mopen\u001b[0m\u001b[1;33m(\u001b[0m\u001b[0mfilename\u001b[0m\u001b[1;33m,\u001b[0m \u001b[1;34m\"w+b\"\u001b[0m\u001b[1;33m)\u001b[0m\u001b[1;33m\u001b[0m\u001b[1;33m\u001b[0m\u001b[0m\n\u001b[0m\u001b[0;32m   2005\u001b[0m \u001b[1;33m\u001b[0m\u001b[0m\n\u001b[0;32m   2006\u001b[0m         \u001b[1;32mtry\u001b[0m\u001b[1;33m:\u001b[0m\u001b[1;33m\u001b[0m\u001b[1;33m\u001b[0m\u001b[0m\n",
      "\u001b[1;31mKeyboardInterrupt\u001b[0m: "
     ]
    },
    {
     "data": {
      "image/png": "[encoded data removed]",
      "text/plain": [
       "<Figure size 432x288 with 2 Axes>"
      ]
     },
     "metadata": {
      "needs_background": "light"
     },
     "output_type": "display_data"
    }
   ],
   "source": [
    "# For each file, orthorectify and output a GeoTiff\n",
    "print('For each file, orthorectify and output a thumbnail image')\n",
    "\n",
    "for filename in file_list:\n",
    "    with xr.open_dataset(filename) as f:\n",
    "        # this finds the nearest x and y in the GOES ABI image for each DEM grid cell and returns the Rad values\n",
    "        # in the same shape and size as the original DEM\n",
    "        s = f.sel(x=tuol_test.dem_px_angle_x, y=tuol_test.dem_px_angle_y, method='nearest').Rad.values\n",
    "        print(s.shape)\n",
    "        # make an elevation versus radiance plot\n",
    "        make_elev_rad_plot(filename,s)\n",
    "        # make a thumbnail image\n",
    "        plt.imshow(s, cmap='Greys_r')\n",
    "        plt.colorbar()\n",
    "        plt.title(filename)\n",
    "        plt.tight_layout()\n",
    "        plt.savefig(filename+'_orthorectified.jpg')\n",
    "        plt.close()"
   ]
  },
  {
   "cell_type": "code",
   "execution_count": null,
   "metadata": {},
   "outputs": [],
   "source": []
  },
  {
   "cell_type": "code",
   "execution_count": null,
   "metadata": {},
   "outputs": [],
   "source": []
  },
  {
   "cell_type": "markdown",
   "metadata": {},
   "source": [
    "Try with xarray multifile dataset"
   ]
  },
  {
   "cell_type": "code",
   "execution_count": 38,
   "metadata": {},
   "outputs": [
    {
     "name": "stdout",
     "output_type": "stream",
     "text": [
      "Open as multi-file dataset\n",
      "For each file, orthorectify and output a GeoTiff\n",
      "<xarray.Dataset>\n",
      "Dimensions:                                 (band: 1, num_star_looks: 24, number_of_image_bounds: 2, number_of_time_bounds: 2, t: 2, x: 2500, y: 1500)\n",
      "Coordinates:\n",
      "  * y                                       (y) float32 0.126532 ... 0.042588003\n",
      "  * x                                       (x) float32 -0.075012 ... 0.064932\n",
      "    y_image                                 float32 0.08456\n",
      "    x_image                                 float32 -0.00504\n",
      "    band_id                                 (band) int8 14\n",
      "    band_wavelength                         (band) float32 11.2\n",
      "    t_star_look                             (num_star_looks) datetime64[ns] 2000-01-01T11:43:21 ... 2000-01-01T11:43:21\n",
      "    band_wavelength_star_look               (num_star_looks) float32 -999.0 ... -999.0\n",
      "  * t                                       (t) datetime64[ns] 2017-04-21T17:02:42.609913920 2017-04-21T17:07:42.611765056\n",
      "Dimensions without coordinates: band, num_star_looks, number_of_image_bounds, number_of_time_bounds\n",
      "Data variables:\n",
      "    Rad                                     (t, y, x) float32 dask.array<shape=(2, 1500, 2500), chunksize=(1, 1500, 2500)>\n",
      "    DQF                                     (t, y, x) float32 dask.array<shape=(2, 1500, 2500), chunksize=(1, 1500, 2500)>\n",
      "    time_bounds                             (t, number_of_time_bounds) datetime64[ns] dask.array<shape=(2, 2), chunksize=(1, 2)>\n",
      "    goes_imager_projection                  (t) int32 -2147483647 -2147483647\n",
      "    y_image_bounds                          (t, number_of_image_bounds) float32 dask.array<shape=(2, 2), chunksize=(1, 2)>\n",
      "    x_image_bounds                          (t, number_of_image_bounds) float32 dask.array<shape=(2, 2), chunksize=(1, 2)>\n",
      "    nominal_satellite_subpoint_lat          (t) float64 0.0 0.0\n",
      "    nominal_satellite_subpoint_lon          (t) float64 -89.5 -89.5\n",
      "    nominal_satellite_height                (t) float64 3.579e+04 3.579e+04\n",
      "    geospatial_lat_lon_extent               (t) float32 9.96921e+36 9.96921e+36\n",
      "    yaw_flip_flag                           (t) float64 0.0 0.0\n",
      "    esun                                    (t) float64 nan nan\n",
      "    kappa0                                  (t) float64 nan nan\n",
      "    planck_fk1                              (t) float64 8.483e+03 8.483e+03\n",
      "    planck_fk2                              (t) float64 1.285e+03 1.285e+03\n",
      "    planck_bc1                              (t) float64 0.2536 0.2536\n",
      "    planck_bc2                              (t) float64 0.9991 0.9991\n",
      "    valid_pixel_count                       (t) float64 2.295e+06 2.295e+06\n",
      "    missing_pixel_count                     (t) float64 0.0 0.0\n",
      "    saturated_pixel_count                   (t) float64 0.0 0.0\n",
      "    undersaturated_pixel_count              (t) float64 0.0 0.0\n",
      "    min_radiance_value_of_valid_pixels      (t) float64 13.0 12.0\n",
      "    max_radiance_value_of_valid_pixels      (t) float64 129.0 129.0\n",
      "    mean_radiance_value_of_valid_pixels     (t) float64 83.92 83.9\n",
      "    std_dev_radiance_value_of_valid_pixels  (t) float64 22.5 22.54\n",
      "    percent_uncorrectable_L0_errors         (t) float64 0.0 0.0\n",
      "    earth_sun_distance_anomaly_in_AU        (t) float64 1.005 1.005\n",
      "    algorithm_dynamic_input_data_container  (t) int32 -2147483647 -2147483647\n",
      "    processing_parm_version_container       (t) int32 -2147483647 -2147483647\n",
      "    algorithm_product_version_container     (t) int32 -2147483647 -2147483647\n",
      "    star_id                                 (t, num_star_looks) float32 dask.array<shape=(2, 24), chunksize=(1, 24)>\n",
      "Attributes:\n",
      "    naming_authority:          gov.nesdis.noaa\n",
      "    Conventions:               CF-1.7\n",
      "    Metadata_Conventions:      Unidata Dataset Discovery v1.0\n",
      "    standard_name_vocabulary:  CF Standard Name Table (v25, 05 July 2013)\n",
      "    institution:               DOC/NOAA/NESDIS > U.S. Department of Commerce,...\n",
      "    project:                   GOES\n",
      "    production_site:           WCDAS\n",
      "    production_environment:    OE\n",
      "    spatial_resolution:        2km at nadir\n",
      "    orbital_slot:              GOES-Test\n",
      "    platform_ID:               G16\n",
      "    instrument_type:           GOES R Series Advanced Baseline Imager\n",
      "    scene_id:                  CONUS\n",
      "    instrument_ID:             FM1\n",
      "    title:                     ABI L1b Radiances\n",
      "    summary:                   Single emissive band ABI L1b Radiance Products...\n",
      "    keywords:                  SPECTRAL/ENGINEERING > INFRARED WAVELENGTHS > ...\n",
      "    keywords_vocabulary:       NASA Global Change Master Directory (GCMD) Ear...\n",
      "    iso_series_metadata_id:    a70be540-c38b-11e0-962b-0800200c9a66\n",
      "    license:                   Unclassified data.  Access is restricted to ap...\n",
      "    processing_level:          L1b\n",
      "    cdm_data_type:             Image\n",
      "    dataset_name:              OR_ABI-L1b-RadC-M4C14_G16_s20171111700224_e201...\n",
      "    production_data_source:    Realtime\n",
      "    timeline_id:               ABI Mode 4\n",
      "    date_created:              2017-04-21T17:05:06.1Z\n",
      "    time_coverage_start:       2017-04-21T17:00:22.4Z\n",
      "    time_coverage_end:         2017-04-21T17:05:02.7Z\n",
      "    id:                        74158b10-2695-4d22-aef3-ae82aa18718a\n"
     ]
    },
    {
     "name": "stderr",
     "output_type": "stream",
     "text": [
      "C:\\Users\\steve\\Anaconda3\\envs\\rasterenv\\lib\\site-packages\\pandas\\core\\indexes\\base.py:2825: RuntimeWarning: invalid value encountered in less\n",
      "  indexer = np.where(op(left_distances, right_distances) |\n",
      "C:\\Users\\steve\\Anaconda3\\envs\\rasterenv\\lib\\site-packages\\pandas\\core\\indexes\\base.py:2825: RuntimeWarning: invalid value encountered in less_equal\n",
      "  indexer = np.where(op(left_distances, right_distances) |\n"
     ]
    },
    {
     "ename": "KeyboardInterrupt",
     "evalue": "",
     "output_type": "error",
     "traceback": [
      "\u001b[1;31m---------------------------------------------------------------------------\u001b[0m",
      "\u001b[1;31mAttributeError\u001b[0m                            Traceback (most recent call last)",
      "\u001b[1;32m~\\Anaconda3\\envs\\rasterenv\\lib\\site-packages\\numpy\\core\\fromnumeric.py\u001b[0m in \u001b[0;36m_wrapfunc\u001b[1;34m(obj, method, *args, **kwds)\u001b[0m\n\u001b[0;32m     55\u001b[0m     \u001b[1;32mtry\u001b[0m\u001b[1;33m:\u001b[0m\u001b[1;33m\u001b[0m\u001b[1;33m\u001b[0m\u001b[0m\n\u001b[1;32m---> 56\u001b[1;33m         \u001b[1;32mreturn\u001b[0m \u001b[0mgetattr\u001b[0m\u001b[1;33m(\u001b[0m\u001b[0mobj\u001b[0m\u001b[1;33m,\u001b[0m \u001b[0mmethod\u001b[0m\u001b[1;33m)\u001b[0m\u001b[1;33m(\u001b[0m\u001b[1;33m*\u001b[0m\u001b[0margs\u001b[0m\u001b[1;33m,\u001b[0m \u001b[1;33m**\u001b[0m\u001b[0mkwds\u001b[0m\u001b[1;33m)\u001b[0m\u001b[1;33m\u001b[0m\u001b[1;33m\u001b[0m\u001b[0m\n\u001b[0m\u001b[0;32m     57\u001b[0m \u001b[1;33m\u001b[0m\u001b[0m\n",
      "\u001b[1;31mAttributeError\u001b[0m: 'list' object has no attribute 'searchsorted'",
      "\nDuring handling of the above exception, another exception occurred:\n",
      "\u001b[1;31mKeyboardInterrupt\u001b[0m                         Traceback (most recent call last)",
      "\u001b[1;32m<ipython-input-38-2aec9933c800>\u001b[0m in \u001b[0;36m<module>\u001b[1;34m\u001b[0m\n\u001b[0;32m      8\u001b[0m     \u001b[1;31m# in the same shape and size as the original DEM\u001b[0m\u001b[1;33m\u001b[0m\u001b[1;33m\u001b[0m\u001b[1;33m\u001b[0m\u001b[0m\n\u001b[0;32m      9\u001b[0m     \u001b[0mprint\u001b[0m\u001b[1;33m(\u001b[0m\u001b[0mg\u001b[0m\u001b[1;33m)\u001b[0m\u001b[1;33m\u001b[0m\u001b[1;33m\u001b[0m\u001b[0m\n\u001b[1;32m---> 10\u001b[1;33m     \u001b[0ms\u001b[0m \u001b[1;33m=\u001b[0m \u001b[0mg\u001b[0m\u001b[1;33m.\u001b[0m\u001b[0msel\u001b[0m\u001b[1;33m(\u001b[0m\u001b[0mx\u001b[0m\u001b[1;33m=\u001b[0m\u001b[0mtuol_test\u001b[0m\u001b[1;33m.\u001b[0m\u001b[0mdem_px_angle_x\u001b[0m\u001b[1;33m,\u001b[0m \u001b[0my\u001b[0m\u001b[1;33m=\u001b[0m\u001b[0mtuol_test\u001b[0m\u001b[1;33m.\u001b[0m\u001b[0mdem_px_angle_y\u001b[0m\u001b[1;33m,\u001b[0m \u001b[0mt\u001b[0m\u001b[1;33m=\u001b[0m\u001b[0mg\u001b[0m\u001b[1;33m.\u001b[0m\u001b[0mt\u001b[0m\u001b[1;33m[\u001b[0m\u001b[1;36m0\u001b[0m\u001b[1;33m]\u001b[0m\u001b[1;33m,\u001b[0m \u001b[0mmethod\u001b[0m\u001b[1;33m=\u001b[0m\u001b[1;34m'nearest'\u001b[0m\u001b[1;33m)\u001b[0m\u001b[1;33m.\u001b[0m\u001b[0mRad\u001b[0m\u001b[1;33m.\u001b[0m\u001b[0mvalues\u001b[0m\u001b[1;33m\u001b[0m\u001b[1;33m\u001b[0m\u001b[0m\n\u001b[0m\u001b[0;32m     11\u001b[0m     \u001b[0mprint\u001b[0m\u001b[1;33m(\u001b[0m\u001b[0ms\u001b[0m\u001b[1;33m.\u001b[0m\u001b[0mshape\u001b[0m\u001b[1;33m)\u001b[0m\u001b[1;33m\u001b[0m\u001b[1;33m\u001b[0m\u001b[0m\n\u001b[0;32m     12\u001b[0m     \u001b[1;31m#plt.imshow(s, cmap='Greys_r')\u001b[0m\u001b[1;33m\u001b[0m\u001b[1;33m\u001b[0m\u001b[1;33m\u001b[0m\u001b[0m\n",
      "\u001b[1;32m~\\Anaconda3\\envs\\rasterenv\\lib\\site-packages\\xarray\\core\\dataset.py\u001b[0m in \u001b[0;36msel\u001b[1;34m(self, indexers, method, tolerance, drop, **indexers_kwargs)\u001b[0m\n\u001b[0;32m   1730\u001b[0m         pos_indexers, new_indexes = remap_label_indexers(\n\u001b[0;32m   1731\u001b[0m             self, indexers=indexers, method=method, tolerance=tolerance)\n\u001b[1;32m-> 1732\u001b[1;33m         \u001b[0mresult\u001b[0m \u001b[1;33m=\u001b[0m \u001b[0mself\u001b[0m\u001b[1;33m.\u001b[0m\u001b[0misel\u001b[0m\u001b[1;33m(\u001b[0m\u001b[0mindexers\u001b[0m\u001b[1;33m=\u001b[0m\u001b[0mpos_indexers\u001b[0m\u001b[1;33m,\u001b[0m \u001b[0mdrop\u001b[0m\u001b[1;33m=\u001b[0m\u001b[0mdrop\u001b[0m\u001b[1;33m)\u001b[0m\u001b[1;33m\u001b[0m\u001b[1;33m\u001b[0m\u001b[0m\n\u001b[0m\u001b[0;32m   1733\u001b[0m         \u001b[1;32mreturn\u001b[0m \u001b[0mresult\u001b[0m\u001b[1;33m.\u001b[0m\u001b[0m_overwrite_indexes\u001b[0m\u001b[1;33m(\u001b[0m\u001b[0mnew_indexes\u001b[0m\u001b[1;33m)\u001b[0m\u001b[1;33m\u001b[0m\u001b[1;33m\u001b[0m\u001b[0m\n\u001b[0;32m   1734\u001b[0m \u001b[1;33m\u001b[0m\u001b[0m\n",
      "\u001b[1;32m~\\Anaconda3\\envs\\rasterenv\\lib\\site-packages\\xarray\\core\\dataset.py\u001b[0m in \u001b[0;36misel\u001b[1;34m(self, indexers, drop, **indexers_kwargs)\u001b[0m\n\u001b[0;32m   1644\u001b[0m                     \u001b[0mindexes\u001b[0m\u001b[1;33m[\u001b[0m\u001b[0mname\u001b[0m\u001b[1;33m]\u001b[0m \u001b[1;33m=\u001b[0m \u001b[0mnew_index\u001b[0m\u001b[1;33m\u001b[0m\u001b[1;33m\u001b[0m\u001b[0m\n\u001b[0;32m   1645\u001b[0m             \u001b[1;32melse\u001b[0m\u001b[1;33m:\u001b[0m\u001b[1;33m\u001b[0m\u001b[1;33m\u001b[0m\u001b[0m\n\u001b[1;32m-> 1646\u001b[1;33m                 \u001b[0mnew_var\u001b[0m \u001b[1;33m=\u001b[0m \u001b[0mvar\u001b[0m\u001b[1;33m.\u001b[0m\u001b[0misel\u001b[0m\u001b[1;33m(\u001b[0m\u001b[0mindexers\u001b[0m\u001b[1;33m=\u001b[0m\u001b[0mvar_indexers\u001b[0m\u001b[1;33m)\u001b[0m\u001b[1;33m\u001b[0m\u001b[1;33m\u001b[0m\u001b[0m\n\u001b[0m\u001b[0;32m   1647\u001b[0m \u001b[1;33m\u001b[0m\u001b[0m\n\u001b[0;32m   1648\u001b[0m             \u001b[0mvariables\u001b[0m\u001b[1;33m[\u001b[0m\u001b[0mname\u001b[0m\u001b[1;33m]\u001b[0m \u001b[1;33m=\u001b[0m \u001b[0mnew_var\u001b[0m\u001b[1;33m\u001b[0m\u001b[1;33m\u001b[0m\u001b[0m\n",
      "\u001b[1;32m~\\Anaconda3\\envs\\rasterenv\\lib\\site-packages\\xarray\\core\\variable.py\u001b[0m in \u001b[0;36misel\u001b[1;34m(self, indexers, drop, **indexers_kwargs)\u001b[0m\n\u001b[0;32m    925\u001b[0m             \u001b[1;32mif\u001b[0m \u001b[0mdim\u001b[0m \u001b[1;32min\u001b[0m \u001b[0mindexers\u001b[0m\u001b[1;33m:\u001b[0m\u001b[1;33m\u001b[0m\u001b[1;33m\u001b[0m\u001b[0m\n\u001b[0;32m    926\u001b[0m                 \u001b[0mkey\u001b[0m\u001b[1;33m[\u001b[0m\u001b[0mi\u001b[0m\u001b[1;33m]\u001b[0m \u001b[1;33m=\u001b[0m \u001b[0mindexers\u001b[0m\u001b[1;33m[\u001b[0m\u001b[0mdim\u001b[0m\u001b[1;33m]\u001b[0m\u001b[1;33m\u001b[0m\u001b[1;33m\u001b[0m\u001b[0m\n\u001b[1;32m--> 927\u001b[1;33m         \u001b[1;32mreturn\u001b[0m \u001b[0mself\u001b[0m\u001b[1;33m[\u001b[0m\u001b[0mtuple\u001b[0m\u001b[1;33m(\u001b[0m\u001b[0mkey\u001b[0m\u001b[1;33m)\u001b[0m\u001b[1;33m]\u001b[0m\u001b[1;33m\u001b[0m\u001b[1;33m\u001b[0m\u001b[0m\n\u001b[0m\u001b[0;32m    928\u001b[0m \u001b[1;33m\u001b[0m\u001b[0m\n\u001b[0;32m    929\u001b[0m     \u001b[1;32mdef\u001b[0m \u001b[0msqueeze\u001b[0m\u001b[1;33m(\u001b[0m\u001b[0mself\u001b[0m\u001b[1;33m,\u001b[0m \u001b[0mdim\u001b[0m\u001b[1;33m=\u001b[0m\u001b[1;32mNone\u001b[0m\u001b[1;33m)\u001b[0m\u001b[1;33m:\u001b[0m\u001b[1;33m\u001b[0m\u001b[1;33m\u001b[0m\u001b[0m\n",
      "\u001b[1;32m~\\Anaconda3\\envs\\rasterenv\\lib\\site-packages\\xarray\\core\\variable.py\u001b[0m in \u001b[0;36m__getitem__\u001b[1;34m(self, key)\u001b[0m\n\u001b[0;32m    634\u001b[0m         \"\"\"\n\u001b[0;32m    635\u001b[0m         \u001b[0mdims\u001b[0m\u001b[1;33m,\u001b[0m \u001b[0mindexer\u001b[0m\u001b[1;33m,\u001b[0m \u001b[0mnew_order\u001b[0m \u001b[1;33m=\u001b[0m \u001b[0mself\u001b[0m\u001b[1;33m.\u001b[0m\u001b[0m_broadcast_indexes\u001b[0m\u001b[1;33m(\u001b[0m\u001b[0mkey\u001b[0m\u001b[1;33m)\u001b[0m\u001b[1;33m\u001b[0m\u001b[1;33m\u001b[0m\u001b[0m\n\u001b[1;32m--> 636\u001b[1;33m         \u001b[0mdata\u001b[0m \u001b[1;33m=\u001b[0m \u001b[0mas_indexable\u001b[0m\u001b[1;33m(\u001b[0m\u001b[0mself\u001b[0m\u001b[1;33m.\u001b[0m\u001b[0m_data\u001b[0m\u001b[1;33m)\u001b[0m\u001b[1;33m[\u001b[0m\u001b[0mindexer\u001b[0m\u001b[1;33m]\u001b[0m\u001b[1;33m\u001b[0m\u001b[1;33m\u001b[0m\u001b[0m\n\u001b[0m\u001b[0;32m    637\u001b[0m         \u001b[1;32mif\u001b[0m \u001b[0mnew_order\u001b[0m\u001b[1;33m:\u001b[0m\u001b[1;33m\u001b[0m\u001b[1;33m\u001b[0m\u001b[0m\n\u001b[0;32m    638\u001b[0m             \u001b[0mdata\u001b[0m \u001b[1;33m=\u001b[0m \u001b[0mnp\u001b[0m\u001b[1;33m.\u001b[0m\u001b[0mmoveaxis\u001b[0m\u001b[1;33m(\u001b[0m\u001b[0mdata\u001b[0m\u001b[1;33m,\u001b[0m \u001b[0mrange\u001b[0m\u001b[1;33m(\u001b[0m\u001b[0mlen\u001b[0m\u001b[1;33m(\u001b[0m\u001b[0mnew_order\u001b[0m\u001b[1;33m)\u001b[0m\u001b[1;33m)\u001b[0m\u001b[1;33m,\u001b[0m \u001b[0mnew_order\u001b[0m\u001b[1;33m)\u001b[0m\u001b[1;33m\u001b[0m\u001b[1;33m\u001b[0m\u001b[0m\n",
      "\u001b[1;32m~\\Anaconda3\\envs\\rasterenv\\lib\\site-packages\\xarray\\core\\indexing.py\u001b[0m in \u001b[0;36m__getitem__\u001b[1;34m(self, key)\u001b[0m\n\u001b[0;32m   1188\u001b[0m             \u001b[1;32mreturn\u001b[0m \u001b[0mself\u001b[0m\u001b[1;33m.\u001b[0m\u001b[0marray\u001b[0m\u001b[1;33m[\u001b[0m\u001b[0mkey\u001b[0m\u001b[1;33m.\u001b[0m\u001b[0mtuple\u001b[0m\u001b[1;33m]\u001b[0m\u001b[1;33m\u001b[0m\u001b[1;33m\u001b[0m\u001b[0m\n\u001b[0;32m   1189\u001b[0m         \u001b[1;32melif\u001b[0m \u001b[0misinstance\u001b[0m\u001b[1;33m(\u001b[0m\u001b[0mkey\u001b[0m\u001b[1;33m,\u001b[0m \u001b[0mVectorizedIndexer\u001b[0m\u001b[1;33m)\u001b[0m\u001b[1;33m:\u001b[0m\u001b[1;33m\u001b[0m\u001b[1;33m\u001b[0m\u001b[0m\n\u001b[1;32m-> 1190\u001b[1;33m             \u001b[1;32mreturn\u001b[0m \u001b[0mself\u001b[0m\u001b[1;33m.\u001b[0m\u001b[0marray\u001b[0m\u001b[1;33m.\u001b[0m\u001b[0mvindex\u001b[0m\u001b[1;33m[\u001b[0m\u001b[0mkey\u001b[0m\u001b[1;33m.\u001b[0m\u001b[0mtuple\u001b[0m\u001b[1;33m]\u001b[0m\u001b[1;33m\u001b[0m\u001b[1;33m\u001b[0m\u001b[0m\n\u001b[0m\u001b[0;32m   1191\u001b[0m         \u001b[1;32melse\u001b[0m\u001b[1;33m:\u001b[0m\u001b[1;33m\u001b[0m\u001b[1;33m\u001b[0m\u001b[0m\n\u001b[0;32m   1192\u001b[0m             \u001b[1;32massert\u001b[0m \u001b[0misinstance\u001b[0m\u001b[1;33m(\u001b[0m\u001b[0mkey\u001b[0m\u001b[1;33m,\u001b[0m \u001b[0mOuterIndexer\u001b[0m\u001b[1;33m)\u001b[0m\u001b[1;33m\u001b[0m\u001b[1;33m\u001b[0m\u001b[0m\n",
      "\u001b[1;32m~\\Anaconda3\\envs\\rasterenv\\lib\\site-packages\\dask\\utils.py\u001b[0m in \u001b[0;36m__getitem__\u001b[1;34m(self, key)\u001b[0m\n\u001b[0;32m    181\u001b[0m \u001b[1;33m\u001b[0m\u001b[0m\n\u001b[0;32m    182\u001b[0m     \u001b[1;32mdef\u001b[0m \u001b[0m__getitem__\u001b[0m\u001b[1;33m(\u001b[0m\u001b[0mself\u001b[0m\u001b[1;33m,\u001b[0m \u001b[0mkey\u001b[0m\u001b[1;33m)\u001b[0m\u001b[1;33m:\u001b[0m\u001b[1;33m\u001b[0m\u001b[1;33m\u001b[0m\u001b[0m\n\u001b[1;32m--> 183\u001b[1;33m         \u001b[1;32mreturn\u001b[0m \u001b[0mself\u001b[0m\u001b[1;33m.\u001b[0m\u001b[0mfn\u001b[0m\u001b[1;33m(\u001b[0m\u001b[0mkey\u001b[0m\u001b[1;33m)\u001b[0m\u001b[1;33m\u001b[0m\u001b[1;33m\u001b[0m\u001b[0m\n\u001b[0m\u001b[0;32m    184\u001b[0m \u001b[1;33m\u001b[0m\u001b[0m\n\u001b[0;32m    185\u001b[0m \u001b[1;33m\u001b[0m\u001b[0m\n",
      "\u001b[1;32m~\\Anaconda3\\envs\\rasterenv\\lib\\site-packages\\dask\\array\\core.py\u001b[0m in \u001b[0;36m_vindex\u001b[1;34m(self, key)\u001b[0m\n\u001b[0;32m   1223\u001b[0m                 \u001b[1;34m\"Use normal slicing instead when only using slices. Got: {}\"\u001b[0m\u001b[1;33m\u001b[0m\u001b[1;33m\u001b[0m\u001b[0m\n\u001b[0;32m   1224\u001b[0m                 .format(key))\n\u001b[1;32m-> 1225\u001b[1;33m         \u001b[1;32mreturn\u001b[0m \u001b[0m_vindex\u001b[0m\u001b[1;33m(\u001b[0m\u001b[0mself\u001b[0m\u001b[1;33m,\u001b[0m \u001b[1;33m*\u001b[0m\u001b[0mkey\u001b[0m\u001b[1;33m)\u001b[0m\u001b[1;33m\u001b[0m\u001b[1;33m\u001b[0m\u001b[0m\n\u001b[0m\u001b[0;32m   1226\u001b[0m \u001b[1;33m\u001b[0m\u001b[0m\n\u001b[0;32m   1227\u001b[0m     \u001b[1;33m@\u001b[0m\u001b[0mproperty\u001b[0m\u001b[1;33m\u001b[0m\u001b[1;33m\u001b[0m\u001b[0m\n",
      "\u001b[1;32m~\\Anaconda3\\envs\\rasterenv\\lib\\site-packages\\dask\\array\\core.py\u001b[0m in \u001b[0;36m_vindex\u001b[1;34m(x, *indexes)\u001b[0m\n\u001b[0;32m   3765\u001b[0m \u001b[1;33m\u001b[0m\u001b[0m\n\u001b[0;32m   3766\u001b[0m     \u001b[1;32mif\u001b[0m \u001b[0marray_indexes\u001b[0m\u001b[1;33m:\u001b[0m\u001b[1;33m\u001b[0m\u001b[1;33m\u001b[0m\u001b[0m\n\u001b[1;32m-> 3767\u001b[1;33m         \u001b[0mx\u001b[0m \u001b[1;33m=\u001b[0m \u001b[0m_vindex_array\u001b[0m\u001b[1;33m(\u001b[0m\u001b[0mx\u001b[0m\u001b[1;33m,\u001b[0m \u001b[0marray_indexes\u001b[0m\u001b[1;33m)\u001b[0m\u001b[1;33m\u001b[0m\u001b[1;33m\u001b[0m\u001b[0m\n\u001b[0m\u001b[0;32m   3768\u001b[0m \u001b[1;33m\u001b[0m\u001b[0m\n\u001b[0;32m   3769\u001b[0m     \u001b[1;32mreturn\u001b[0m \u001b[0mx\u001b[0m\u001b[1;33m\u001b[0m\u001b[1;33m\u001b[0m\u001b[0m\n",
      "\u001b[1;32m~\\Anaconda3\\envs\\rasterenv\\lib\\site-packages\\dask\\array\\core.py\u001b[0m in \u001b[0;36m_vindex_array\u001b[1;34m(x, dict_indexes)\u001b[0m\n\u001b[0;32m   3801\u001b[0m     \u001b[1;32mfor\u001b[0m \u001b[0mi\u001b[0m\u001b[1;33m,\u001b[0m \u001b[0midx\u001b[0m \u001b[1;32min\u001b[0m \u001b[0menumerate\u001b[0m\u001b[1;33m(\u001b[0m\u001b[0mzip\u001b[0m\u001b[1;33m(\u001b[0m\u001b[1;33m*\u001b[0m\u001b[1;33m[\u001b[0m\u001b[0mi\u001b[0m \u001b[1;32mfor\u001b[0m \u001b[0mi\u001b[0m \u001b[1;32min\u001b[0m \u001b[0mflat_indexes\u001b[0m \u001b[1;32mif\u001b[0m \u001b[0mi\u001b[0m \u001b[1;32mis\u001b[0m \u001b[1;32mnot\u001b[0m \u001b[1;32mNone\u001b[0m\u001b[1;33m]\u001b[0m\u001b[1;33m)\u001b[0m\u001b[1;33m)\u001b[0m\u001b[1;33m:\u001b[0m\u001b[1;33m\u001b[0m\u001b[1;33m\u001b[0m\u001b[0m\n\u001b[0;32m   3802\u001b[0m         block_idx = [np.searchsorted(b, ind, 'right') - 1\n\u001b[1;32m-> 3803\u001b[1;33m                      for b, ind in zip(bounds2, idx)]\n\u001b[0m\u001b[0;32m   3804\u001b[0m         inblock_idx = [ind - bounds2[k][j]\n\u001b[0;32m   3805\u001b[0m                        for k, (ind, j) in enumerate(zip(idx, block_idx))]\n",
      "\u001b[1;32m~\\Anaconda3\\envs\\rasterenv\\lib\\site-packages\\dask\\array\\core.py\u001b[0m in \u001b[0;36m<listcomp>\u001b[1;34m(.0)\u001b[0m\n\u001b[0;32m   3801\u001b[0m     \u001b[1;32mfor\u001b[0m \u001b[0mi\u001b[0m\u001b[1;33m,\u001b[0m \u001b[0midx\u001b[0m \u001b[1;32min\u001b[0m \u001b[0menumerate\u001b[0m\u001b[1;33m(\u001b[0m\u001b[0mzip\u001b[0m\u001b[1;33m(\u001b[0m\u001b[1;33m*\u001b[0m\u001b[1;33m[\u001b[0m\u001b[0mi\u001b[0m \u001b[1;32mfor\u001b[0m \u001b[0mi\u001b[0m \u001b[1;32min\u001b[0m \u001b[0mflat_indexes\u001b[0m \u001b[1;32mif\u001b[0m \u001b[0mi\u001b[0m \u001b[1;32mis\u001b[0m \u001b[1;32mnot\u001b[0m \u001b[1;32mNone\u001b[0m\u001b[1;33m]\u001b[0m\u001b[1;33m)\u001b[0m\u001b[1;33m)\u001b[0m\u001b[1;33m:\u001b[0m\u001b[1;33m\u001b[0m\u001b[1;33m\u001b[0m\u001b[0m\n\u001b[0;32m   3802\u001b[0m         block_idx = [np.searchsorted(b, ind, 'right') - 1\n\u001b[1;32m-> 3803\u001b[1;33m                      for b, ind in zip(bounds2, idx)]\n\u001b[0m\u001b[0;32m   3804\u001b[0m         inblock_idx = [ind - bounds2[k][j]\n\u001b[0;32m   3805\u001b[0m                        for k, (ind, j) in enumerate(zip(idx, block_idx))]\n",
      "\u001b[1;32m~\\Anaconda3\\envs\\rasterenv\\lib\\site-packages\\numpy\\core\\fromnumeric.py\u001b[0m in \u001b[0;36msearchsorted\u001b[1;34m(a, v, side, sorter)\u001b[0m\n\u001b[0;32m   1244\u001b[0m \u001b[1;33m\u001b[0m\u001b[0m\n\u001b[0;32m   1245\u001b[0m     \"\"\"\n\u001b[1;32m-> 1246\u001b[1;33m     \u001b[1;32mreturn\u001b[0m \u001b[0m_wrapfunc\u001b[0m\u001b[1;33m(\u001b[0m\u001b[0ma\u001b[0m\u001b[1;33m,\u001b[0m \u001b[1;34m'searchsorted'\u001b[0m\u001b[1;33m,\u001b[0m \u001b[0mv\u001b[0m\u001b[1;33m,\u001b[0m \u001b[0mside\u001b[0m\u001b[1;33m=\u001b[0m\u001b[0mside\u001b[0m\u001b[1;33m,\u001b[0m \u001b[0msorter\u001b[0m\u001b[1;33m=\u001b[0m\u001b[0msorter\u001b[0m\u001b[1;33m)\u001b[0m\u001b[1;33m\u001b[0m\u001b[1;33m\u001b[0m\u001b[0m\n\u001b[0m\u001b[0;32m   1247\u001b[0m \u001b[1;33m\u001b[0m\u001b[0m\n\u001b[0;32m   1248\u001b[0m \u001b[1;33m\u001b[0m\u001b[0m\n",
      "\u001b[1;32m~\\Anaconda3\\envs\\rasterenv\\lib\\site-packages\\numpy\\core\\fromnumeric.py\u001b[0m in \u001b[0;36m_wrapfunc\u001b[1;34m(obj, method, *args, **kwds)\u001b[0m\n\u001b[0;32m     64\u001b[0m     \u001b[1;31m# a downstream library like 'pandas'.\u001b[0m\u001b[1;33m\u001b[0m\u001b[1;33m\u001b[0m\u001b[1;33m\u001b[0m\u001b[0m\n\u001b[0;32m     65\u001b[0m     \u001b[1;32mexcept\u001b[0m \u001b[1;33m(\u001b[0m\u001b[0mAttributeError\u001b[0m\u001b[1;33m,\u001b[0m \u001b[0mTypeError\u001b[0m\u001b[1;33m)\u001b[0m\u001b[1;33m:\u001b[0m\u001b[1;33m\u001b[0m\u001b[1;33m\u001b[0m\u001b[0m\n\u001b[1;32m---> 66\u001b[1;33m         \u001b[1;32mreturn\u001b[0m \u001b[0m_wrapit\u001b[0m\u001b[1;33m(\u001b[0m\u001b[0mobj\u001b[0m\u001b[1;33m,\u001b[0m \u001b[0mmethod\u001b[0m\u001b[1;33m,\u001b[0m \u001b[1;33m*\u001b[0m\u001b[0margs\u001b[0m\u001b[1;33m,\u001b[0m \u001b[1;33m**\u001b[0m\u001b[0mkwds\u001b[0m\u001b[1;33m)\u001b[0m\u001b[1;33m\u001b[0m\u001b[1;33m\u001b[0m\u001b[0m\n\u001b[0m\u001b[0;32m     67\u001b[0m \u001b[1;33m\u001b[0m\u001b[0m\n\u001b[0;32m     68\u001b[0m \u001b[1;33m\u001b[0m\u001b[0m\n",
      "\u001b[1;32m~\\Anaconda3\\envs\\rasterenv\\lib\\site-packages\\numpy\\core\\fromnumeric.py\u001b[0m in \u001b[0;36m_wrapit\u001b[1;34m(obj, method, *args, **kwds)\u001b[0m\n\u001b[0;32m     44\u001b[0m     \u001b[1;32mexcept\u001b[0m \u001b[0mAttributeError\u001b[0m\u001b[1;33m:\u001b[0m\u001b[1;33m\u001b[0m\u001b[1;33m\u001b[0m\u001b[0m\n\u001b[0;32m     45\u001b[0m         \u001b[0mwrap\u001b[0m \u001b[1;33m=\u001b[0m \u001b[1;32mNone\u001b[0m\u001b[1;33m\u001b[0m\u001b[1;33m\u001b[0m\u001b[0m\n\u001b[1;32m---> 46\u001b[1;33m     \u001b[0mresult\u001b[0m \u001b[1;33m=\u001b[0m \u001b[0mgetattr\u001b[0m\u001b[1;33m(\u001b[0m\u001b[0masarray\u001b[0m\u001b[1;33m(\u001b[0m\u001b[0mobj\u001b[0m\u001b[1;33m)\u001b[0m\u001b[1;33m,\u001b[0m \u001b[0mmethod\u001b[0m\u001b[1;33m)\u001b[0m\u001b[1;33m(\u001b[0m\u001b[1;33m*\u001b[0m\u001b[0margs\u001b[0m\u001b[1;33m,\u001b[0m \u001b[1;33m**\u001b[0m\u001b[0mkwds\u001b[0m\u001b[1;33m)\u001b[0m\u001b[1;33m\u001b[0m\u001b[1;33m\u001b[0m\u001b[0m\n\u001b[0m\u001b[0;32m     47\u001b[0m     \u001b[1;32mif\u001b[0m \u001b[0mwrap\u001b[0m\u001b[1;33m:\u001b[0m\u001b[1;33m\u001b[0m\u001b[1;33m\u001b[0m\u001b[0m\n\u001b[0;32m     48\u001b[0m         \u001b[1;32mif\u001b[0m \u001b[1;32mnot\u001b[0m \u001b[0misinstance\u001b[0m\u001b[1;33m(\u001b[0m\u001b[0mresult\u001b[0m\u001b[1;33m,\u001b[0m \u001b[0mmu\u001b[0m\u001b[1;33m.\u001b[0m\u001b[0mndarray\u001b[0m\u001b[1;33m)\u001b[0m\u001b[1;33m:\u001b[0m\u001b[1;33m\u001b[0m\u001b[1;33m\u001b[0m\u001b[0m\n",
      "\u001b[1;31mKeyboardInterrupt\u001b[0m: "
     ]
    }
   ],
   "source": [
    "# open this entire dataset as a \"multi-file dataset\"\n",
    "# For each file, orthorectify and output a GeoTiff\n",
    "print('Open as multi-file dataset')\n",
    "print('For each file, orthorectify and output a GeoTiff')\n",
    "\n",
    "with xr.open_mfdataset(file_list[0], concat_dim=['t']) as g:\n",
    "    # this finds the nearest x and y in the GOES ABI image for each DEM grid cell and returns the Rad values\n",
    "    # in the same shape and size as the original DEM\n",
    "    print(g)\n",
    "    s = g.sel(x=tuol_test.dem_px_angle_x, y=tuol_test.dem_px_angle_y, t=g.t[0], method='nearest').Rad.values\n",
    "    print(s.shape)\n",
    "    #plt.imshow(s, cmap='Greys_r')\n",
    "    #plt.colorbar()\n",
    "    #plt.title(filename)\n",
    "    #plt.tight_layout()\n",
    "    #plt.savefig(filename+'.jpg')\n",
    "    #plt.close()"
   ]
  },
  {
   "cell_type": "code",
   "execution_count": null,
   "metadata": {},
   "outputs": [],
   "source": []
  },
  {
   "cell_type": "code",
   "execution_count": null,
   "metadata": {},
   "outputs": [],
   "source": []
  }
 ],
 "metadata": {
  "kernelspec": {
   "display_name": "Python 3",
   "language": "python",
   "name": "python3"
  },
  "language_info": {
   "codemirror_mode": {
    "name": "ipython",
    "version": 3
   },
   "file_extension": ".py",
   "mimetype": "text/x-python",
   "name": "python",
   "nbconvert_exporter": "python",
   "pygments_lexer": "ipython3",
   "version": "3.6.7"
  }
 },
 "nbformat": 4,
 "nbformat_minor": 2
}
